{
  "cells": [
    {
      "cell_type": "markdown",
      "metadata": {
        "id": "dDYnD_yh-skJ"
      },
      "source": [
        "# Data Analyst au sein de la FAO"
      ]
    },
    {
      "cell_type": "markdown",
      "metadata": {
        "id": "Bhgi21K2-nFa"
      },
      "source": [
        "lien du brief : https://simplonline.co/briefs/688fc302-e4d4-4324-8904-f22316c31713\n",
        "\n"
      ]
    },
    {
      "cell_type": "markdown",
      "metadata": {
        "id": "31doXc7fFxKl"
      },
      "source": [
        "lien du dossier git : https://github.com/data-IA-2023/Groupe-3\n"
      ]
    },
    {
      "cell_type": "markdown",
      "metadata": {
        "id": "8mrHC_I5-ykk"
      },
      "source": [
        "Vous venez d'intégrer la FAO (Food and Agriculture Organization of the United Nations). BRAVO !!!!!!\n",
        "Vous allez mener votre première mission en analysant les données mondiales de production agricole, d'alimentation et de nutrition."
      ]
    },
    {
      "cell_type": "markdown",
      "metadata": {
        "id": "FUVcknHlAIC_"
      },
      "source": [
        "**Livrables**\n",
        "\n",
        "* Un dépôt Github\n",
        "* Un notebook **fonctionnel, documenté et commenté**\n",
        "* Une présentation écrite et orale résumant vos travaux, votre analyse et vos recommandations"
      ]
    },
    {
      "cell_type": "markdown",
      "metadata": {
        "id": "fcBxpeFXAkMg"
      },
      "source": [
        "**Contexte du projet**\n",
        "\n",
        "* Au sein du service Data Analytics and Prospective de la FAO, vous êtes en charge d'analyser les données produites par les Nations Unies.\n",
        "\n",
        "* Ces analyses conduisent à des rapports de synthèse à destination des décideurs.\n",
        "\n",
        "* Pour êtes également en charge de la partie Prospective, c'est à dire donner des tendances et des évolutions probables quant à la production agricole, à l'alimentation et la nutrition mondiales.\n"
      ]
    },
    {
      "cell_type": "markdown",
      "metadata": {
        "id": "wICIZAqLAonV"
      },
      "source": [
        "**Ressource(s)**\n",
        "\n",
        "FAO - Wikipedia : https://fr.wikipedia.org/wiki/Organisation_des_Nations_unies_pour_l'alimentation_et_l'agriculture\n",
        "\n",
        "FAOSTAT : https://www.fao.org/faostat/fr/#home\n",
        "\n",
        "Les données FAO 2013 : https://github.com/remijul/dataset/tree/master/fao_2013"
      ]
    },
    {
      "cell_type": "markdown",
      "metadata": {
        "id": "Bk2Uuk0nBbJ6"
      },
      "source": [
        "## Partie extraction des données"
      ]
    },
    {
      "cell_type": "code",
      "execution_count": 129,
      "metadata": {},
      "outputs": [],
      "source": [
        "\"\"\"\n",
        "0 : importation\n",
        "\"\"\"\n",
        "import pandas as pd\n",
        "import numpy as np\n",
        "import seaborn as sns"
      ]
    },
    {
      "cell_type": "code",
      "execution_count": 130,
      "metadata": {},
      "outputs": [],
      "source": [
        "\"\"\"\n",
        "1.7 : creation du fichier \"Données de la sécurité alimentaire 2020\"\n",
        "\"\"\"\n",
        "\n",
        "chemein_fichier = \"https://raw.githubusercontent.com/data-IA-2023/Groupe-3/main/fao_2020/FAOSTAT_2020_Donn%C3%A9es%20de%20la%20s%C3%A9curit%C3%A9%20alimentaire.csv\"\n",
        "\n",
        "df_securite_alimentaire_2020 = pd.read_csv(chemein_fichier, sep=',', on_bad_lines='skip', encoding='utf-8')\n",
        "#df_securite_alimentaire_2020"
      ]
    },
    {
      "cell_type": "code",
      "execution_count": 131,
      "metadata": {},
      "outputs": [],
      "source": [
        "\"\"\"\n",
        "1.8 : creation du fichier \"Population 2020\"\n",
        "\"\"\"\n",
        "\n",
        "chemein_fichier = \"https://raw.githubusercontent.com/data-IA-2023/Groupe-3/main/fao_2020/FAOSTAT_2020_Population.csv\"\n",
        "\n",
        "df_population_2020 = pd.read_csv(chemein_fichier, sep=',', on_bad_lines='skip', encoding='utf-8')\n",
        "#df_population_2020"
      ]
    },
    {
      "cell_type": "markdown",
      "metadata": {
        "id": "wP4Y2HP5BjEn"
      },
      "source": [
        "## Partie netoyage des données"
      ]
    },
    {
      "cell_type": "code",
      "execution_count": 132,
      "metadata": {
        "id": "Pq_LrpqdByVc"
      },
      "outputs": [
        {
          "name": "stdout",
          "output_type": "stream",
          "text": [
            "<class 'pandas.core.frame.DataFrame'>\n",
            "RangeIndex: 12638 entries, 0 to 12637\n",
            "Data columns (total 15 columns):\n",
            " #   Column                  Non-Null Count  Dtype \n",
            "---  ------                  --------------  ----- \n",
            " 0   Code Domaine            12638 non-null  object\n",
            " 1   Domaine                 12638 non-null  object\n",
            " 2   Code zone (M49)         12638 non-null  int64 \n",
            " 3   Zone                    12638 non-null  object\n",
            " 4   Code Élément            12638 non-null  int64 \n",
            " 5   Élément                 12638 non-null  object\n",
            " 6   Code Produit            12638 non-null  object\n",
            " 7   Produit                 12638 non-null  object\n",
            " 8   Code année              12638 non-null  int64 \n",
            " 9   Année                   12638 non-null  object\n",
            " 10  Unité                   12638 non-null  object\n",
            " 11  Valeur                  7902 non-null   object\n",
            " 12  Symbole                 12439 non-null  object\n",
            " 13  Description du Symbole  12439 non-null  object\n",
            " 14  Note                    648 non-null    object\n",
            "dtypes: int64(3), object(12)\n",
            "memory usage: 1.4+ MB\n"
          ]
        }
      ],
      "source": [
        "\"\"\"\n",
        "2.7 : info sur le fichier \"Données de la sécurité alimentaire 2020\"\n",
        "\"\"\"\n",
        "df_securite_alimentaire_2020.info()"
      ]
    },
    {
      "cell_type": "code",
      "execution_count": 133,
      "metadata": {
        "id": "Ls8QWkncAwzo"
      },
      "outputs": [
        {
          "name": "stdout",
          "output_type": "stream",
          "text": [
            "<class 'pandas.core.frame.DataFrame'>\n",
            "RangeIndex: 12638 entries, 0 to 12637\n",
            "Data columns (total 15 columns):\n",
            " #   Column                  Non-Null Count  Dtype \n",
            "---  ------                  --------------  ----- \n",
            " 0   Code Domaine            12638 non-null  object\n",
            " 1   Domaine                 12638 non-null  object\n",
            " 2   Code zone (M49)         12638 non-null  int64 \n",
            " 3   Zone                    12638 non-null  object\n",
            " 4   Code Élément            12638 non-null  int64 \n",
            " 5   Élément                 12638 non-null  object\n",
            " 6   Code Produit            12638 non-null  object\n",
            " 7   Produit                 12638 non-null  object\n",
            " 8   Code année              12638 non-null  int64 \n",
            " 9   Année                   12638 non-null  object\n",
            " 10  Unité                   12638 non-null  object\n",
            " 11  Valeur                  7902 non-null   object\n",
            " 12  Symbole                 12439 non-null  object\n",
            " 13  Description du Symbole  12439 non-null  object\n",
            " 14  Note                    648 non-null    object\n",
            "dtypes: int64(3), object(12)\n",
            "memory usage: 1.4+ MB\n"
          ]
        }
      ],
      "source": [
        "\"\"\"\n",
        "3.7 : suprime doublon\n",
        "\"\"\"\n",
        "df_securite_alimentaire_2020.drop_duplicates(ignore_index=True)\n",
        "df_securite_alimentaire_2020.info()"
      ]
    },
    {
      "cell_type": "code",
      "execution_count": 134,
      "metadata": {},
      "outputs": [
        {
          "data": {
            "text/plain": [
              "Code Domaine                 1\n",
              "Domaine                      1\n",
              "Code zone (M49)            204\n",
              "Zone                       204\n",
              "Code Élément                12\n",
              "Élément                      3\n",
              "Code Produit                44\n",
              "Produit                     43\n",
              "Code année                   2\n",
              "Année                        2\n",
              "Unité                        8\n",
              "Valeur                    1820\n",
              "Symbole                      4\n",
              "Description du Symbole       4\n",
              "Note                         2\n",
              "dtype: int64"
            ]
          },
          "execution_count": 134,
          "metadata": {},
          "output_type": "execute_result"
        }
      ],
      "source": [
        "\"\"\"\n",
        "4.7 : exploration des données et supprétion des données redondantes\n",
        "\"\"\"\n",
        "n = df_securite_alimentaire_2020.nunique(axis=0)\n",
        "n"
      ]
    },
    {
      "cell_type": "code",
      "execution_count": 135,
      "metadata": {},
      "outputs": [
        {
          "data": {
            "text/plain": [
              "\"\\non remarque que Code Domaine et Domaine n'ont que 1 valeur, elles sont peut-être redondande.\\nCode année et Année ont 2 valeurs, elles sont peut-être redondande. A voir, si oui, suprimé Code année\\nCode zone (M49) et Zone ont 204 valeurs, elles sont peut-être redondande. A voir, si oui, suprimé Code zone\\nSymbole et Description du Symbole ont 4 valeurs, elles sont peut-être redondande. A voir, si oui, \\nsuprimé Symbole et renommé Description du Symbole en Symbole\\n\""
            ]
          },
          "execution_count": 135,
          "metadata": {},
          "output_type": "execute_result"
        }
      ],
      "source": [
        "\"\"\"\n",
        "on remarque que Code Domaine et Domaine n'ont que 1 valeur, elles sont peut-être redondande.\n",
        "Code année et Année ont 2 valeurs, elles sont peut-être redondande. A voir, si oui, suprimé Code année\n",
        "Code zone (M49) et Zone ont 204 valeurs, elles sont peut-être redondande. A voir, si oui, suprimé Code zone\n",
        "Symbole et Description du Symbole ont 4 valeurs, elles sont peut-être redondande. A voir, si oui, \n",
        "suprimé Symbole et renommé Description du Symbole en Symbole\n",
        "\"\"\""
      ]
    },
    {
      "cell_type": "code",
      "execution_count": 136,
      "metadata": {},
      "outputs": [
        {
          "name": "stdout",
          "output_type": "stream",
          "text": [
            "Code Domaine\n",
            "FS    12638\n",
            "Name: count, dtype: int64 \n",
            " Domaine\n",
            "Données de la sécurité alimentaire    12638\n",
            "Name: count, dtype: int64\n"
          ]
        }
      ],
      "source": [
        "Code_Domaine_info = df_securite_alimentaire_2020['Code Domaine'].value_counts()\n",
        "Domaine_info = df_securite_alimentaire_2020['Domaine'].value_counts()\n",
        "print (Code_Domaine_info, \"\\n\", Domaine_info)"
      ]
    },
    {
      "cell_type": "code",
      "execution_count": 137,
      "metadata": {},
      "outputs": [
        {
          "name": "stdout",
          "output_type": "stream",
          "text": [
            "{'FS': 'Données de la sécurité alimentaire'}\n"
          ]
        },
        {
          "data": {
            "text/plain": [
              "Code Domaine                 1\n",
              "Code zone (M49)            204\n",
              "Zone                       204\n",
              "Code Élément                12\n",
              "Élément                      3\n",
              "Code Produit                44\n",
              "Produit                     43\n",
              "Code année                   2\n",
              "Année                        2\n",
              "Unité                        8\n",
              "Valeur                    1820\n",
              "Symbole                      4\n",
              "Description du Symbole       4\n",
              "Note                         2\n",
              "dtype: int64"
            ]
          },
          "execution_count": 137,
          "metadata": {},
          "output_type": "execute_result"
        }
      ],
      "source": [
        "\"\"\"\n",
        "Les lignes sont bien redondande, on crée une table de coresponcence, suprime la colone \"Domaine\"\n",
        "\"\"\"\n",
        "Code_Domaine_count = df_securite_alimentaire_2020['Code Domaine'].nunique()\n",
        "Domaine_count = df_securite_alimentaire_2020['Domaine'].nunique()\n",
        "\n",
        "if Code_Domaine_count == Domaine_count :\n",
        "    liste_value_Code_Domaine = df_securite_alimentaire_2020['Code Domaine'].unique()\n",
        "    liste_value_Domaine = df_securite_alimentaire_2020['Domaine'].unique()\n",
        "    dic_Code_Domaine_Domaine = dict(zip(liste_value_Code_Domaine, liste_value_Domaine))\n",
        "    print (dic_Code_Domaine_Domaine)\n",
        "    df_securite_alimentaire_2020.drop(\"Domaine\", inplace=True, axis=1)\n",
        "\n",
        "n = df_securite_alimentaire_2020.nunique(axis=0)\n",
        "n"
      ]
    },
    {
      "cell_type": "code",
      "execution_count": 138,
      "metadata": {},
      "outputs": [
        {
          "name": "stdout",
          "output_type": "stream",
          "text": [
            "Code année\n",
            "20192021    9588\n",
            "2020        3050\n",
            "Name: count, dtype: int64 \n",
            " Année\n",
            "2019-2021    9588\n",
            "2020         3050\n",
            "Name: count, dtype: int64\n"
          ]
        }
      ],
      "source": [
        "Code_annee_info = df_securite_alimentaire_2020['Code année'].value_counts()\n",
        "annee_info = df_securite_alimentaire_2020['Année'].value_counts()\n",
        "print (Code_annee_info, \"\\n\", annee_info)"
      ]
    },
    {
      "cell_type": "code",
      "execution_count": 139,
      "metadata": {},
      "outputs": [
        {
          "name": "stdout",
          "output_type": "stream",
          "text": [
            "{20192021: '2019-2021', 2020: '2020'}\n"
          ]
        },
        {
          "data": {
            "text/plain": [
              "Code Domaine                 1\n",
              "Code zone (M49)            204\n",
              "Zone                       204\n",
              "Code Élément                12\n",
              "Élément                      3\n",
              "Code Produit                44\n",
              "Produit                     43\n",
              "Code année                   2\n",
              "Unité                        8\n",
              "Valeur                    1820\n",
              "Symbole                      4\n",
              "Description du Symbole       4\n",
              "Note                         2\n",
              "dtype: int64"
            ]
          },
          "execution_count": 139,
          "metadata": {},
          "output_type": "execute_result"
        }
      ],
      "source": [
        "\"\"\"\n",
        "'Code année' et 'Année' sont bien redondant, on va supprimer 'Année'\n",
        "\"\"\"\n",
        "\n",
        "Code_Annee_count = df_securite_alimentaire_2020[\"Code année\"].nunique()\n",
        "Annee_count = df_securite_alimentaire_2020[\"Année\"].nunique()\n",
        "\n",
        "if Code_Annee_count == Annee_count :\n",
        "    liste_value_Code_Annee = df_securite_alimentaire_2020[\"Code année\"].unique()\n",
        "    liste_value_Annee = df_securite_alimentaire_2020[\"Année\"].unique()\n",
        "    dic_Code_Annee_Annee = dict(zip(liste_value_Code_Annee, liste_value_Annee))\n",
        "    print (dic_Code_Annee_Annee)\n",
        "    df_securite_alimentaire_2020.drop(\"Année\", inplace=True, axis=1)\n",
        "\n",
        "n = df_securite_alimentaire_2020.nunique(axis=0)\n",
        "n"
      ]
    },
    {
      "cell_type": "code",
      "execution_count": 140,
      "metadata": {},
      "outputs": [
        {
          "name": "stdout",
          "output_type": "stream",
          "text": [
            "Symbole\n",
            "E    5629\n",
            "O    4537\n",
            "X    1625\n",
            "A     648\n",
            "Name: count, dtype: int64 \n",
            " Description du Symbole\n",
            "Valeur estimée                       5629\n",
            "Valeur manquante                     4537\n",
            "Ciffre de sources internationales    1625\n",
            "Chiffre officiel                      648\n",
            "Name: count, dtype: int64\n"
          ]
        }
      ],
      "source": [
        "Symbole_info = df_securite_alimentaire_2020['Symbole'].value_counts()\n",
        "Description_Symbole_info = df_securite_alimentaire_2020['Description du Symbole'].value_counts()\n",
        "print (Symbole_info, \"\\n\", Description_Symbole_info)"
      ]
    },
    {
      "cell_type": "code",
      "execution_count": 141,
      "metadata": {},
      "outputs": [
        {
          "name": "stdout",
          "output_type": "stream",
          "text": [
            "{'E': 'Valeur estimée', 'O': 'Valeur manquante', 'X': 'Ciffre de sources internationales', 'A': 'Chiffre officiel', nan: nan}\n"
          ]
        },
        {
          "data": {
            "text/plain": [
              "Code Domaine          1\n",
              "Code zone (M49)     204\n",
              "Zone                204\n",
              "Code Élément         12\n",
              "Élément               3\n",
              "Code Produit         44\n",
              "Produit              43\n",
              "Code année            2\n",
              "Unité                 8\n",
              "Valeur             1820\n",
              "Symbole               4\n",
              "Note                  2\n",
              "dtype: int64"
            ]
          },
          "execution_count": 141,
          "metadata": {},
          "output_type": "execute_result"
        }
      ],
      "source": [
        "Symbole_count = df_securite_alimentaire_2020[\"Symbole\"].nunique()\n",
        "Description_Symbole_count = df_securite_alimentaire_2020[\"Description du Symbole\"].nunique()\n",
        "\n",
        "if Symbole_count == Description_Symbole_count :\n",
        "    liste_value_Symbole = df_securite_alimentaire_2020[\"Symbole\"].unique()\n",
        "    liste_value_Description_Symbole = df_securite_alimentaire_2020[\"Description du Symbole\"].unique()\n",
        "    dic_Symbole_Description_Symbole = dict(zip(liste_value_Symbole, liste_value_Description_Symbole))\n",
        "    print (dic_Symbole_Description_Symbole)\n",
        "    df_securite_alimentaire_2020.drop(\"Description du Symbole\", inplace=True, axis=1)\n",
        "\n",
        "n = df_securite_alimentaire_2020.nunique(axis=0)\n",
        "n"
      ]
    },
    {
      "cell_type": "code",
      "execution_count": 142,
      "metadata": {},
      "outputs": [
        {
          "name": "stdout",
          "output_type": "stream",
          "text": [
            "Code zone (M49)\n",
            "566    66\n",
            "270    66\n",
            "275    66\n",
            "646    65\n",
            "496    64\n",
            "       ..\n",
            "308    56\n",
            "583    56\n",
            "44     56\n",
            "212    56\n",
            "158    55\n",
            "Name: count, Length: 204, dtype: int64 \n",
            " Zone\n",
            "Nigéria                          66\n",
            "Gambie                           66\n",
            "Palestine                        66\n",
            "Rwanda                           65\n",
            "Mongolie                         64\n",
            "                                 ..\n",
            "Grenade                          56\n",
            "Micronésie (États fédérés de)    56\n",
            "Bahamas                          56\n",
            "Dominique                        56\n",
            "Chine, Taiwan Province de        55\n",
            "Name: count, Length: 204, dtype: int64\n"
          ]
        }
      ],
      "source": [
        "Code_zone_info = df_securite_alimentaire_2020['Code zone (M49)'].value_counts()\n",
        "zone_info = df_securite_alimentaire_2020['Zone'].value_counts()\n",
        "print (Code_zone_info, \"\\n\", zone_info)"
      ]
    },
    {
      "cell_type": "code",
      "execution_count": 143,
      "metadata": {},
      "outputs": [
        {
          "name": "stdout",
          "output_type": "stream",
          "text": [
            "{4: 'Afghanistan', 710: 'Afrique du Sud', 8: 'Albanie', 12: 'Algérie', 276: 'Allemagne', 20: 'Andorre', 24: 'Angola', 28: 'Antigua-et-Barbuda', 682: 'Arabie saoudite', 32: 'Argentine', 51: 'Arménie', 36: 'Australie', 40: 'Autriche', 31: 'Azerbaïdjan', 44: 'Bahamas', 48: 'Bahreïn', 50: 'Bangladesh', 52: 'Barbade', 112: 'Bélarus', 56: 'Belgique', 84: 'Belize', 204: 'Bénin', 60: 'Bermudes', 64: 'Bhoutan', 68: 'Bolivie (État plurinational de)', 70: 'Bosnie-Herzégovine', 72: 'Botswana', 76: 'Brésil', 96: 'Brunéi Darussalam', 100: 'Bulgarie', 854: 'Burkina Faso', 108: 'Burundi', 132: 'Cabo Verde', 116: 'Cambodge', 120: 'Cameroun', 124: 'Canada', 152: 'Chili', 159: 'Chine', 344: 'Chine - RAS de Hong-Kong', 446: 'Chine - RAS de Macao', 156: 'Chine, continentale', 158: 'Chine, Taiwan Province de', 196: 'Chypre', 170: 'Colombie', 174: 'Comores', 178: 'Congo', 188: 'Costa Rica', 384: \"Côte d'Ivoire\", 191: 'Croatie', 192: 'Cuba', 208: 'Danemark', 262: 'Djibouti', 212: 'Dominique', 818: 'Égypte', 222: 'El Salvador', 784: 'Émirats arabes unis', 218: 'Équateur', 232: 'Érythrée', 724: 'Espagne', 233: 'Estonie', 748: 'Eswatini', 840: \"États-Unis d'Amérique\", 231: 'Éthiopie', 643: 'Fédération de Russie', 242: 'Fidji', 246: 'Finlande', 250: 'France', 266: 'Gabon', 270: 'Gambie', 268: 'Géorgie', 288: 'Ghana', 300: 'Grèce', 308: 'Grenade', 304: 'Groenland', 320: 'Guatemala', 324: 'Guinée', 226: 'Guinée équatoriale', 624: 'Guinée-Bissau', 328: 'Guyana', 332: 'Haïti', 340: 'Honduras', 348: 'Hongrie', 184: 'Îles Cook', 584: 'Îles Marshall', 90: 'Îles Salomon', 356: 'Inde', 360: 'Indonésie', 364: \"Iran (République islamique d')\", 368: 'Iraq', 372: 'Irlande', 352: 'Islande', 376: 'Israël', 380: 'Italie', 388: 'Jamaïque', 392: 'Japon', 400: 'Jordanie', 398: 'Kazakhstan', 404: 'Kenya', 417: 'Kirghizistan', 296: 'Kiribati', 414: 'Koweït', 426: 'Lesotho', 428: 'Lettonie', 422: 'Liban', 430: 'Libéria', 434: 'Libye', 440: 'Lituanie', 442: 'Luxembourg', 807: 'Macédoine du Nord', 450: 'Madagascar', 458: 'Malaisie', 454: 'Malawi', 462: 'Maldives', 466: 'Mali', 470: 'Malte', 504: 'Maroc', 480: 'Maurice', 478: 'Mauritanie', 484: 'Mexique', 583: 'Micronésie (États fédérés de)', 496: 'Mongolie', 499: 'Monténégro', 508: 'Mozambique', 104: 'Myanmar', 516: 'Namibie', 520: 'Nauru', 524: 'Népal', 558: 'Nicaragua', 562: 'Niger', 566: 'Nigéria', 570: 'Nioué', 578: 'Norvège', 540: 'Nouvelle-Calédonie', 554: 'Nouvelle-Zélande', 512: 'Oman', 800: 'Ouganda', 860: 'Ouzbékistan', 586: 'Pakistan', 585: 'Palaos', 275: 'Palestine', 591: 'Panama', 598: 'Papouasie-Nouvelle-Guinée', 600: 'Paraguay', 528: 'Pays-Bas', 604: 'Pérou', 608: 'Philippines', 616: 'Pologne', 258: 'Polynésie française', 630: 'Porto Rico', 620: 'Portugal', 634: 'Qatar', 760: 'République arabe syrienne', 140: 'République centrafricaine', 410: 'République de Corée', 498: 'République de Moldova', 180: 'République démocratique du Congo', 418: 'République démocratique populaire lao', 214: 'République dominicaine', 408: 'République populaire démocratique de Corée', 834: 'République-Unie de Tanzanie', 642: 'Roumanie', 826: \"Royaume-Uni de Grande-Bretagne et d'Irlande du Nord\", 646: 'Rwanda', 662: 'Sainte-Lucie', 659: 'Saint-Kitts-et-Nevis', 670: 'Saint-Vincent-et-les Grenadines', 882: 'Samoa', 16: 'Samoa américaines', 678: 'Sao Tomé-et-Principe', 686: 'Sénégal', 688: 'Serbie', 690: 'Seychelles', 694: 'Sierra Leone', 702: 'Singapour', 703: 'Slovaquie', 705: 'Slovénie', 706: 'Somalie', 729: 'Soudan', 728: 'Soudan du Sud', 144: 'Sri Lanka', 752: 'Suède', 756: 'Suisse', 740: 'Suriname', 762: 'Tadjikistan', 148: 'Tchad', 203: 'Tchéquie', 764: 'Thaïlande', 626: 'Timor-Leste', 768: 'Togo', 772: 'Tokélaou', 776: 'Tonga', 780: 'Trinité-et-Tobago', 788: 'Tunisie', 795: 'Turkménistan', 792: 'Turquie', 798: 'Tuvalu', 804: 'Ukraine', 858: 'Uruguay', 548: 'Vanuatu', 862: 'Venezuela (République bolivarienne du)', 704: 'Viet Nam', 887: 'Yémen', 894: 'Zambie', 716: 'Zimbabwe'}\n"
          ]
        },
        {
          "data": {
            "text/plain": [
              "Code Domaine          1\n",
              "Code zone (M49)     204\n",
              "Code Élément         12\n",
              "Élément               3\n",
              "Code Produit         44\n",
              "Produit              43\n",
              "Code année            2\n",
              "Unité                 8\n",
              "Valeur             1820\n",
              "Symbole               4\n",
              "Note                  2\n",
              "dtype: int64"
            ]
          },
          "execution_count": 143,
          "metadata": {},
          "output_type": "execute_result"
        }
      ],
      "source": [
        "\"\"\"\n",
        "'Code zone (M49)' et 'Zone' sont bien redondant, on va supprimer 'Zone'\n",
        "\"\"\"\n",
        "Code_Zone_count = df_securite_alimentaire_2020[\"Code zone (M49)\"].nunique()\n",
        "Zone_count = df_securite_alimentaire_2020[\"Zone\"].nunique()\n",
        "\n",
        "if Code_Zone_count == Zone_count :\n",
        "    liste_value_Code_Zone = df_securite_alimentaire_2020[\"Code zone (M49)\"].unique()\n",
        "    liste_value_Zone = df_securite_alimentaire_2020[\"Zone\"].unique()\n",
        "    dic_Code_Zone_Zone = dict(zip(liste_value_Code_Zone, liste_value_Zone))\n",
        "    print (dic_Code_Zone_Zone)\n",
        "    df_securite_alimentaire_2020.drop(\"Zone\", inplace=True, axis=1)\n",
        "\n",
        "n = df_securite_alimentaire_2020.nunique(axis=0)\n",
        "n"
      ]
    },
    {
      "cell_type": "code",
      "execution_count": 144,
      "metadata": {},
      "outputs": [
        {
          "name": "stdout",
          "output_type": "stream",
          "text": [
            "Code Produit\n",
            "210091     612\n",
            "210091F    612\n",
            "210081F    612\n",
            "210081M    612\n",
            "210081     612\n",
            "210071F    612\n",
            "210071M    612\n",
            "210401     612\n",
            "210401M    612\n",
            "210401F    612\n",
            "210071     612\n",
            "210091M    612\n",
            "21031      204\n",
            "21010      204\n",
            "22000      204\n",
            "21044      204\n",
            "21056      204\n",
            "21057      204\n",
            "21058      204\n",
            "21059      204\n",
            "21061      204\n",
            "21030      204\n",
            "21033      204\n",
            "210011     204\n",
            "21034      204\n",
            "21035      204\n",
            "21012      204\n",
            "21013      204\n",
            "21014      204\n",
            "210041     204\n",
            "21032      199\n",
            "21047      188\n",
            "22013      186\n",
            "21048      183\n",
            "21041      155\n",
            "210410     155\n",
            "210250     155\n",
            "21025      155\n",
            "21045      120\n",
            "21046      116\n",
            "21026        4\n",
            "210260       4\n",
            "210040       1\n",
            "210010       1\n",
            "Name: count, dtype: int64\n"
          ]
        }
      ],
      "source": [
        "Code_Produit_info = df_securite_alimentaire_2020['Code Produit'].value_counts()\n",
        "Produit_info = df_securite_alimentaire_2020['Produit'].value_counts()\n",
        "print (Code_Produit_info)"
      ]
    },
    {
      "cell_type": "code",
      "execution_count": 145,
      "metadata": {},
      "outputs": [
        {
          "name": "stdout",
          "output_type": "stream",
          "text": [
            "Produit\n",
            "Nombre de personnes en situation d’insécurité alimentaire grave (millions) (moyenne sur 3 ans)                                                         1224\n",
            "Prévalence de l’insécurité alimentaire grave – femmes adultes (%) (moyenne sur 3 ans)                                                                   612\n",
            "Prévalence de l’insécurité alimentaire modérée ou grave – hommes adultes (%) (moyenne sur 3 ans)                                                        612\n",
            "Nombre de femmes adultes en situation d’insécurité alimentaire modérée ou grave (millions) (moyenne sur 3 ans)                                          612\n",
            "Nombre d’hommes adultes en situation d’insécurité alimentaire modérée ou grave (millions) (moyenne sur 3 ans)                                           612\n",
            "Nombre de personnes en situation d’insécurité alimentaire modérée ou grave (millions) (moyenne sur 3 ans)                                               612\n",
            "Nombre de femmes adultes en situation d’insécurité alimentaire grave (millions) (moyenne sur 3 ans)                                                     612\n",
            "Prévalence de l’insécurité alimentaire grave – population totale (%) (moyenne sur 3 ans)                                                                612\n",
            "Prévalence de l’insécurité alimentaire grave – hommes adultes (%) (moyenne sur 3 ans)                                                                   612\n",
            "Prévalence de l’insécurité alimentaire modérée ou grave – femmes adultes (%) (moyenne sur 3 ans)                                                        612\n",
            "Prévalence de l’insécurité alimentaire modérée ou grave – population totale (%) (moyenne sur 3 ans)                                                     612\n",
            "Variabilité des disponibilités alimentaires par habitant (Kcal/personne/jour)                                                                           204\n",
            "Suffisance des apports énergétiques alimentaires moyens (%) (moyenne sur 3 ans)                                                                         204\n",
            "Disponibilité alimentaire par habitant utilisée dans l'estimation de la prévalence de la sous-alimentation (kcal/personne/jour) (moyenne sur 3 ans)     204\n",
            "Prévalence de l'allaitement exclusif au sein du nourrisson de 0 à 5 mois                                                                                204\n",
            "Besoins énergétiques alimentaires minimaux (kcal/personne/jour)                                                                                         204\n",
            "Besoins énergétiques alimentaires moyens (kcal/personne/jour)                                                                                           204\n",
            "Coefficient de variation de la distribution de la consommation calorique habituelle (vraie valeur)                                                      204\n",
            "Incidence des pertes caloriques au niveau de la vente au détail (%)                                                                                     204\n",
            "Disponibilités moyennes de matière grasse (g/personne/jour) (moyenne sur 3 ans)                                                                         204\n",
            "Variabilité de la production alimentaire par habitant ($I par personne constant 2014-16)                                                                204\n",
            "Valeur des importations alimentaires par rapport aux exportations totales de marchandises (%) (moyenne sur 3 ans)                                       204\n",
            "Nombre de personnes sous-alimentées (millions) (moyenne sur 3 ans)                                                                                      204\n",
            "Pourcentage des terres arables aménagées pour l'irrigation (%) (moyenne sur 3 ans)                                                                      204\n",
            "Taux de dépendance à l'égard des importations céréalières (%) (moyenne sur 3 ans)                                                                       204\n",
            "Part des céréales, des racines et des tubercules dans les apports énergétiques alimentaires (%) (moyenne sur 3 ans)                                     204\n",
            "Disponibilités protéiques moyennes (g/personne/jour) (moyenne sur 3 ans)                                                                                204\n",
            "Disponibilités protéines moyennes d’origine animale (g/personne/jour) (moyenne sur 3 ans)                                                               204\n",
            "Prévalence de la sous-alimentation (%) (moyenne sur 3 ans)                                                                                              204\n",
            "Stabilité politique et absence de violence/terrorisme (indice)                                                                                          199\n",
            "Pourcentage de la population utilisant au moins les services d'eau de base                                                                              188\n",
            "PIB par habitant, ($ PPA internationaux constants de 2017)                                                                                              186\n",
            "Pourcentage de la population utilisant au moins les services d'assainissement de base                                                                   183\n",
            "Prévalence de l'excès pondéral chez l’enfant de moins de 5 ans (estimation modélisée) (%)                                                               155\n",
            "Nombre d'enfants de moins de 5 ans présentant un excès pondéral (estimation modélisée) (millions)                                                       155\n",
            "Nombre d'enfants de moins de 5 ans présentant un retard de croissance (estimation modélisée) (millions)                                                 155\n",
            "Pourcentage des enfants de moins de 5 ans présentant un retard de croissance (estimation modélisée) (%)                                                 155\n",
            "Pourcentage de la population ayant accès à des services d'eau potable gérés en toute sécurité                                                           120\n",
            "Pourcentage de la population ayant accès à des services d'assainissement gérés en toute sécurité                                                        116\n",
            "Pourcentage des enfants de moins de 5 ans émaciés (%)                                                                                                     4\n",
            "Nombre d'enfants de moins de 5 ans émaciés (millions)                                                                                                     4\n",
            "Prévalence de la sous-alimentation (%) (valeur annuelle)                                                                                                  1\n",
            "Nombre de personnes sous-alimentées (millions) (valeur annuelle)                                                                                          1\n",
            "Name: count, dtype: int64\n"
          ]
        }
      ],
      "source": [
        "print (Produit_info)"
      ]
    },
    {
      "cell_type": "code",
      "execution_count": 146,
      "metadata": {},
      "outputs": [
        {
          "data": {
            "text/plain": [
              "Code Domaine          1\n",
              "Code zone (M49)     204\n",
              "Code Élément         12\n",
              "Élément               3\n",
              "Code Produit         44\n",
              "Produit              43\n",
              "Code année            2\n",
              "Unité                 8\n",
              "Valeur             1820\n",
              "Symbole               4\n",
              "Note                  2\n",
              "dtype: int64"
            ]
          },
          "execution_count": 146,
          "metadata": {},
          "output_type": "execute_result"
        }
      ],
      "source": [
        "\"\"\"\n",
        "si 'Code Produit' et 'Produit' sont bien redondant, on va supprimer 'Produit'\n",
        "\"\"\"\n",
        "Code_Produit_count = df_securite_alimentaire_2020[\"Code Produit\"].nunique()\n",
        "Produit_count = df_securite_alimentaire_2020[\"Produit\"].nunique()\n",
        "\n",
        "if Code_Produit_count == Produit_count :\n",
        "    liste_value_Code_Produit = df_securite_alimentaire_2020[\"Code Produit\"].unique()\n",
        "    liste_value_Produit = df_securite_alimentaire_2020[\"Produit\"].unique()\n",
        "    dic_Code_Produit_Produit = dict(zip(liste_value_Code_Produit, liste_value_Produit))\n",
        "    print (dic_Code_Produit_Produit)\n",
        "    df_securite_alimentaire_2020.drop(\"Produit\", inplace=True, axis=1)\n",
        "\n",
        "n = df_securite_alimentaire_2020.nunique(axis=0)\n",
        "n"
      ]
    },
    {
      "cell_type": "code",
      "execution_count": 147,
      "metadata": {},
      "outputs": [
        {
          "name": "stdout",
          "output_type": "stream",
          "text": [
            "<class 'pandas.core.frame.DataFrame'>\n",
            "RangeIndex: 1173 entries, 0 to 1172\n",
            "Data columns (total 15 columns):\n",
            " #   Column                  Non-Null Count  Dtype  \n",
            "---  ------                  --------------  -----  \n",
            " 0   Code Domaine            1173 non-null   object \n",
            " 1   Domaine                 1173 non-null   object \n",
            " 2   Code zone (M49)         1173 non-null   int64  \n",
            " 3   Zone                    1173 non-null   object \n",
            " 4   Code Élément            1173 non-null   int64  \n",
            " 5   Élément                 1173 non-null   object \n",
            " 6   Code Produit            1173 non-null   int64  \n",
            " 7   Produit                 1173 non-null   object \n",
            " 8   Code année              1173 non-null   int64  \n",
            " 9   Année                   1173 non-null   int64  \n",
            " 10  Unité                   1173 non-null   object \n",
            " 11  Valeur                  1173 non-null   float64\n",
            " 12  Symbole                 1173 non-null   object \n",
            " 13  Description du Symbole  1173 non-null   object \n",
            " 14  Note                    0 non-null      float64\n",
            "dtypes: float64(2), int64(5), object(8)\n",
            "memory usage: 137.6+ KB\n"
          ]
        }
      ],
      "source": [
        "\"\"\"\n",
        "2.8 : info sur le fichier \"Population 2020\"\n",
        "\"\"\"\n",
        "df_population_2020.info()"
      ]
    },
    {
      "cell_type": "code",
      "execution_count": 148,
      "metadata": {},
      "outputs": [
        {
          "name": "stdout",
          "output_type": "stream",
          "text": [
            "<class 'pandas.core.frame.DataFrame'>\n",
            "RangeIndex: 1173 entries, 0 to 1172\n",
            "Data columns (total 14 columns):\n",
            " #   Column                  Non-Null Count  Dtype  \n",
            "---  ------                  --------------  -----  \n",
            " 0   Code Domaine            1173 non-null   object \n",
            " 1   Domaine                 1173 non-null   object \n",
            " 2   Code zone (M49)         1173 non-null   int64  \n",
            " 3   Zone                    1173 non-null   object \n",
            " 4   Code Élément            1173 non-null   int64  \n",
            " 5   Élément                 1173 non-null   object \n",
            " 6   Code Produit            1173 non-null   int64  \n",
            " 7   Produit                 1173 non-null   object \n",
            " 8   Code année              1173 non-null   int64  \n",
            " 9   Année                   1173 non-null   int64  \n",
            " 10  Unité                   1173 non-null   object \n",
            " 11  Valeur                  1173 non-null   float64\n",
            " 12  Symbole                 1173 non-null   object \n",
            " 13  Description du Symbole  1173 non-null   object \n",
            "dtypes: float64(1), int64(5), object(8)\n",
            "memory usage: 128.4+ KB\n"
          ]
        }
      ],
      "source": [
        "\"\"\"\n",
        "3.8 : suprime doublon et la colonne 14 car toujour vide\n",
        "\"\"\"\n",
        "df_population_2020.drop_duplicates(ignore_index=True)\n",
        "df_population_2020.drop(\"Note\", inplace=True, axis=1)\n",
        "df_population_2020.info()"
      ]
    },
    {
      "cell_type": "code",
      "execution_count": 150,
      "metadata": {},
      "outputs": [
        {
          "data": {
            "text/plain": [
              "Code Domaine                 1\n",
              "Domaine                      1\n",
              "Code zone (M49)            236\n",
              "Zone                       236\n",
              "Code Élément                 5\n",
              "Élément                      5\n",
              "Code Produit                 1\n",
              "Produit                      1\n",
              "Code année                   1\n",
              "Année                        1\n",
              "Unité                        1\n",
              "Valeur                    1160\n",
              "Symbole                      1\n",
              "Description du Symbole       1\n",
              "dtype: int64"
            ]
          },
          "execution_count": 150,
          "metadata": {},
          "output_type": "execute_result"
        }
      ],
      "source": [
        "\"\"\"\n",
        "4.8 : exploration des données et supprétion des données redondantes\n",
        "\"\"\"\n",
        "n = df_population_2020.nunique(axis=0)\n",
        "n"
      ]
    },
    {
      "cell_type": "code",
      "execution_count": null,
      "metadata": {},
      "outputs": [],
      "source": [
        "\"\"\"\n",
        "on remarque que Code Domaine et Domaine n'ont que 1 valeur, elles sont peut-être redondande.\n",
        "Code zone (M49) et Zone ont 204 valeurs, elles sont peut-être redondande. \n",
        "Code Élément et Élément  ont 5 valeurs, elles sont peut-être redondande.\n",
        "Code Produit et Produit n'ont que 1 valeur, elles sont peut-être redondande. \n",
        "Code année et Année ont 1 valeur, elles sont peut-être redondande.\n",
        "Symbole et Description du Symbole ont 1 valeur, elles sont peut-être redondande.\n",
        "\"\"\""
      ]
    },
    {
      "cell_type": "code",
      "execution_count": 152,
      "metadata": {},
      "outputs": [
        {
          "name": "stdout",
          "output_type": "stream",
          "text": [
            "Code Domaine\n",
            "OA    1173\n",
            "Name: count, dtype: int64 \n",
            " Domaine\n",
            "Séries temporelles annuelles    1173\n",
            "Name: count, dtype: int64\n"
          ]
        }
      ],
      "source": [
        "Code_Domaine_info = df_population_2020['Code Domaine'].value_counts()\n",
        "Domaine_info = df_population_2020['Domaine'].value_counts()\n",
        "print (Code_Domaine_info, \"\\n\", Domaine_info)"
      ]
    },
    {
      "cell_type": "code",
      "execution_count": 153,
      "metadata": {},
      "outputs": [
        {
          "name": "stdout",
          "output_type": "stream",
          "text": [
            "{'OA': 'Séries temporelles annuelles'}\n"
          ]
        },
        {
          "data": {
            "text/plain": [
              "Code Domaine                 1\n",
              "Code zone (M49)            236\n",
              "Zone                       236\n",
              "Code Élément                 5\n",
              "Élément                      5\n",
              "Code Produit                 1\n",
              "Produit                      1\n",
              "Code année                   1\n",
              "Année                        1\n",
              "Unité                        1\n",
              "Valeur                    1160\n",
              "Symbole                      1\n",
              "Description du Symbole       1\n",
              "dtype: int64"
            ]
          },
          "execution_count": 153,
          "metadata": {},
          "output_type": "execute_result"
        }
      ],
      "source": [
        "\"\"\"\n",
        "Les lignes sont bien redondande, on crée une table de coresponcence, suprime la colone \"Domaine\"\n",
        "\"\"\"\n",
        "Code_Domaine_count = df_population_2020['Code Domaine'].nunique()\n",
        "Domaine_count = df_population_2020['Domaine'].nunique()\n",
        "\n",
        "if Code_Domaine_count == Domaine_count :\n",
        "    liste_value_Code_Domaine = df_population_2020['Code Domaine'].unique()\n",
        "    liste_value_Domaine = df_population_2020['Domaine'].unique()\n",
        "    dic_Code_Domaine_Domaine = dict(zip(liste_value_Code_Domaine, liste_value_Domaine))\n",
        "    print (dic_Code_Domaine_Domaine)\n",
        "    df_population_2020.drop(\"Domaine\", inplace=True, axis=1)\n",
        "\n",
        "n = df_population_2020.nunique(axis=0)\n",
        "n"
      ]
    },
    {
      "cell_type": "code",
      "execution_count": 154,
      "metadata": {},
      "outputs": [
        {
          "name": "stdout",
          "output_type": "stream",
          "text": [
            "Code zone (M49)\n",
            "4      5\n",
            "586    5\n",
            "520    5\n",
            "524    5\n",
            "558    5\n",
            "      ..\n",
            "226    5\n",
            "716    5\n",
            "663    3\n",
            "652    3\n",
            "830    2\n",
            "Name: count, Length: 236, dtype: int64 \n",
            " Zone\n",
            "Afghanistan                        5\n",
            "Pakistan                           5\n",
            "Nauru                              5\n",
            "Népal                              5\n",
            "Nicaragua                          5\n",
            "                                  ..\n",
            "Guinée équatoriale                 5\n",
            "Zimbabwe                           5\n",
            "Saint-Martin (partie française)    3\n",
            "Saint-Barthélemy                   3\n",
            "Îles Anglo-Normandes               2\n",
            "Name: count, Length: 236, dtype: int64\n"
          ]
        }
      ],
      "source": [
        "Code_zone_info = df_population_2020['Code zone (M49)'].value_counts()\n",
        "zone_info = df_population_2020['Zone'].value_counts()\n",
        "print (Code_zone_info, \"\\n\", zone_info)"
      ]
    },
    {
      "cell_type": "code",
      "execution_count": 156,
      "metadata": {},
      "outputs": [
        {
          "name": "stdout",
          "output_type": "stream",
          "text": [
            "{4: 'Afghanistan', 710: 'Afrique du Sud', 8: 'Albanie', 12: 'Algérie', 276: 'Allemagne', 20: 'Andorre', 24: 'Angola', 660: 'Anguilla', 28: 'Antigua-et-Barbuda', 682: 'Arabie saoudite', 32: 'Argentine', 51: 'Arménie', 533: 'Aruba', 36: 'Australie', 40: 'Autriche', 31: 'Azerbaïdjan', 44: 'Bahamas', 48: 'Bahreïn', 50: 'Bangladesh', 52: 'Barbade', 112: 'Bélarus', 56: 'Belgique', 84: 'Belize', 204: 'Bénin', 60: 'Bermudes', 64: 'Bhoutan', 68: 'Bolivie (État plurinational de)', 535: 'Bonaire, Saint-Eustache et Saba', 70: 'Bosnie-Herzégovine', 72: 'Botswana', 76: 'Brésil', 96: 'Brunéi Darussalam', 100: 'Bulgarie', 854: 'Burkina Faso', 108: 'Burundi', 132: 'Cabo Verde', 116: 'Cambodge', 120: 'Cameroun', 124: 'Canada', 152: 'Chili', 159: 'Chine', 344: 'Chine - RAS de Hong-Kong', 446: 'Chine - RAS de Macao', 156: 'Chine, continentale', 158: 'Chine, Taiwan Province de', 196: 'Chypre', 170: 'Colombie', 174: 'Comores', 178: 'Congo', 188: 'Costa Rica', 384: \"Côte d'Ivoire\", 191: 'Croatie', 192: 'Cuba', 531: 'Curaçao', 208: 'Danemark', 262: 'Djibouti', 212: 'Dominique', 818: 'Égypte', 222: 'El Salvador', 784: 'Émirats arabes unis', 218: 'Équateur', 232: 'Érythrée', 724: 'Espagne', 233: 'Estonie', 748: 'Eswatini', 840: \"États-Unis d'Amérique\", 231: 'Éthiopie', 643: 'Fédération de Russie', 242: 'Fidji', 246: 'Finlande', 250: 'France', 266: 'Gabon', 270: 'Gambie', 268: 'Géorgie', 288: 'Ghana', 292: 'Gibraltar', 300: 'Grèce', 308: 'Grenade', 304: 'Groenland', 312: 'Guadeloupe', 316: 'Guam', 320: 'Guatemala', 324: 'Guinée', 226: 'Guinée équatoriale', 624: 'Guinée-Bissau', 328: 'Guyana', 254: 'Guyane française', 332: 'Haïti', 340: 'Honduras', 348: 'Hongrie', 833: 'Île de Man', 830: 'Îles Anglo-Normandes', 136: 'Îles Caïmanes', 184: 'Îles Cook', 238: 'Îles Falkland (Malvinas)', 234: 'Îles Féroé', 580: 'Îles Mariannes du Nord', 584: 'Îles Marshall', 90: 'Îles Salomon', 796: 'Îles Turques-et-Caïques', 850: 'Îles Vierges américaines', 92: 'Îles Vierges britanniques', 876: 'Îles Wallis-et-Futuna', 356: 'Inde', 360: 'Indonésie', 364: \"Iran (République islamique d')\", 368: 'Iraq', 372: 'Irlande', 352: 'Islande', 376: 'Israël', 380: 'Italie', 388: 'Jamaïque', 392: 'Japon', 400: 'Jordanie', 398: 'Kazakhstan', 404: 'Kenya', 417: 'Kirghizistan', 296: 'Kiribati', 414: 'Koweït', 426: 'Lesotho', 428: 'Lettonie', 422: 'Liban', 430: 'Libéria', 434: 'Libye', 438: 'Liechtenstein', 440: 'Lituanie', 442: 'Luxembourg', 807: 'Macédoine du Nord', 450: 'Madagascar', 458: 'Malaisie', 454: 'Malawi', 462: 'Maldives', 466: 'Mali', 470: 'Malte', 504: 'Maroc', 474: 'Martinique', 480: 'Maurice', 478: 'Mauritanie', 175: 'Mayotte', 484: 'Mexique', 583: 'Micronésie (États fédérés de)', 492: 'Monaco', 496: 'Mongolie', 499: 'Monténégro', 500: 'Montserrat', 508: 'Mozambique', 104: 'Myanmar', 516: 'Namibie', 520: 'Nauru', 524: 'Népal', 558: 'Nicaragua', 562: 'Niger', 566: 'Nigéria', 570: 'Nioué', 578: 'Norvège', 540: 'Nouvelle-Calédonie', 554: 'Nouvelle-Zélande', 512: 'Oman', 800: 'Ouganda', 860: 'Ouzbékistan', 586: 'Pakistan', 585: 'Palaos', 275: 'Palestine', 591: 'Panama', 598: 'Papouasie-Nouvelle-Guinée', 600: 'Paraguay', 528: 'Pays-Bas', 604: 'Pérou', 608: 'Philippines', 616: 'Pologne', 258: 'Polynésie française', 630: 'Porto Rico', 620: 'Portugal', 634: 'Qatar', 760: 'République arabe syrienne', 140: 'République centrafricaine', 410: 'République de Corée', 498: 'République de Moldova', 180: 'République démocratique du Congo', 418: 'République démocratique populaire lao', 214: 'République dominicaine', 408: 'République populaire démocratique de Corée', 834: 'République-Unie de Tanzanie', 638: 'Réunion', 642: 'Roumanie', 826: \"Royaume-Uni de Grande-Bretagne et d'Irlande du Nord\", 646: 'Rwanda', 732: 'Sahara occidental', 652: 'Saint-Barthélemy', 654: 'Sainte-Hélène, Ascension et Tristan da Cunha', 662: 'Sainte-Lucie', 659: 'Saint-Kitts-et-Nevis', 674: 'Saint-Marin', 663: 'Saint-Martin (partie française)', 666: 'Saint-Pierre-et-Miquelon', 336: 'Saint-Siège', 670: 'Saint-Vincent-et-les Grenadines', 882: 'Samoa', 16: 'Samoa américaines', 678: 'Sao Tomé-et-Principe', 686: 'Sénégal', 688: 'Serbie', 690: 'Seychelles', 694: 'Sierra Leone', 702: 'Singapour', 534: 'Sint Maarten (partie néerlandaise)', 703: 'Slovaquie', 705: 'Slovénie', 706: 'Somalie', 729: 'Soudan', 728: 'Soudan du Sud', 144: 'Sri Lanka', 752: 'Suède', 756: 'Suisse', 740: 'Suriname', 762: 'Tadjikistan', 148: 'Tchad', 203: 'Tchéquie', 764: 'Thaïlande', 626: 'Timor-Leste', 768: 'Togo', 772: 'Tokélaou', 776: 'Tonga', 780: 'Trinité-et-Tobago', 788: 'Tunisie', 795: 'Turkménistan', 792: 'Turquie', 798: 'Tuvalu', 804: 'Ukraine', 858: 'Uruguay', 548: 'Vanuatu', 862: 'Venezuela (République bolivarienne du)', 704: 'Viet Nam', 887: 'Yémen', 894: 'Zambie', 716: 'Zimbabwe'}\n"
          ]
        },
        {
          "data": {
            "text/plain": [
              "Code Domaine                 1\n",
              "Code zone (M49)            236\n",
              "Code Élément                 5\n",
              "Élément                      5\n",
              "Code Produit                 1\n",
              "Produit                      1\n",
              "Code année                   1\n",
              "Année                        1\n",
              "Unité                        1\n",
              "Valeur                    1160\n",
              "Symbole                      1\n",
              "Description du Symbole       1\n",
              "dtype: int64"
            ]
          },
          "execution_count": 156,
          "metadata": {},
          "output_type": "execute_result"
        }
      ],
      "source": [
        "\"\"\"\n",
        "'Code zone (M49)' et 'Zone' sont bien redondant, on va supprimer 'Zone'\n",
        "\"\"\"\n",
        "Code_Zone_count = df_population_2020[\"Code zone (M49)\"].nunique()\n",
        "Zone_count = df_population_2020[\"Zone\"].nunique()\n",
        "\n",
        "if Code_Zone_count == Zone_count :\n",
        "    liste_value_Code_Zone = df_population_2020[\"Code zone (M49)\"].unique()\n",
        "    liste_value_Zone = df_population_2020[\"Zone\"].unique()\n",
        "    dic_Code_Zone_Zone = dict(zip(liste_value_Code_Zone, liste_value_Zone))\n",
        "    print (dic_Code_Zone_Zone)\n",
        "    df_population_2020.drop(\"Zone\", inplace=True, axis=1)\n",
        "\n",
        "n = df_population_2020.nunique(axis=0)\n",
        "n"
      ]
    },
    {
      "cell_type": "code",
      "execution_count": 157,
      "metadata": {},
      "outputs": [
        {
          "name": "stdout",
          "output_type": "stream",
          "text": [
            "Code zone (M49)\n",
            "4      5\n",
            "586    5\n",
            "520    5\n",
            "524    5\n",
            "558    5\n",
            "      ..\n",
            "226    5\n",
            "716    5\n",
            "663    3\n",
            "652    3\n",
            "830    2\n",
            "Name: count, Length: 236, dtype: int64 \n",
            " Zone\n",
            "Afghanistan                        5\n",
            "Pakistan                           5\n",
            "Nauru                              5\n",
            "Népal                              5\n",
            "Nicaragua                          5\n",
            "                                  ..\n",
            "Guinée équatoriale                 5\n",
            "Zimbabwe                           5\n",
            "Saint-Martin (partie française)    3\n",
            "Saint-Barthélemy                   3\n",
            "Îles Anglo-Normandes               2\n",
            "Name: count, Length: 236, dtype: int64\n"
          ]
        }
      ],
      "source": [
        "Code_Element_info = df_population_2020['Code Élément'].value_counts()\n",
        "Element_info = df_population_2020['Élément'].value_counts()\n",
        "print (Code_zone_info, \"\\n\", zone_info)"
      ]
    },
    {
      "cell_type": "code",
      "execution_count": 158,
      "metadata": {},
      "outputs": [
        {
          "name": "stdout",
          "output_type": "stream",
          "text": [
            "{511: 'Population totale', 512: 'Hommes', 513: 'Femmes', 551: 'Population rurale', 561: 'Population urbaine'}\n"
          ]
        },
        {
          "data": {
            "text/plain": [
              "Code Domaine                 1\n",
              "Code zone (M49)            236\n",
              "Code Élément                 5\n",
              "Code Produit                 1\n",
              "Produit                      1\n",
              "Code année                   1\n",
              "Année                        1\n",
              "Unité                        1\n",
              "Valeur                    1160\n",
              "Symbole                      1\n",
              "Description du Symbole       1\n",
              "dtype: int64"
            ]
          },
          "execution_count": 158,
          "metadata": {},
          "output_type": "execute_result"
        }
      ],
      "source": [
        "\"\"\"\n",
        "'Code Élément' et 'Élément' sont bien redondant, on va supprimer 'Élément'\n",
        "\"\"\"\n",
        "Code_Element_count = df_population_2020[\"Code Élément\"].nunique()\n",
        "Element_count = df_population_2020[\"Élément\"].nunique()\n",
        "\n",
        "if Code_Element_count == Element_count :\n",
        "    liste_value_Code_Element = df_population_2020[\"Code Élément\"].unique()\n",
        "    liste_value_Element = df_population_2020[\"Élément\"].unique()\n",
        "    dic_Code_Element_Element = dict(zip(liste_value_Code_Element, liste_value_Element))\n",
        "    print (dic_Code_Element_Element)\n",
        "    df_population_2020.drop(\"Élément\", inplace=True, axis=1)\n",
        "\n",
        "n = df_population_2020.nunique(axis=0)\n",
        "n"
      ]
    },
    {
      "cell_type": "code",
      "execution_count": 160,
      "metadata": {},
      "outputs": [
        {
          "name": "stdout",
          "output_type": "stream",
          "text": [
            "Code Produit\n",
            "3010    1173\n",
            "Name: count, dtype: int64 \n",
            " Produit\n",
            "Population-Estimations    1173\n",
            "Name: count, dtype: int64\n"
          ]
        }
      ],
      "source": [
        "Code_Produit_info = df_population_2020['Code Produit'].value_counts()\n",
        "Produit_info = df_population_2020['Produit'].value_counts()\n",
        "print (Code_Produit_info, \"\\n\", Produit_info)"
      ]
    },
    {
      "cell_type": "code",
      "execution_count": 162,
      "metadata": {},
      "outputs": [
        {
          "name": "stdout",
          "output_type": "stream",
          "text": [
            "{3010: 'Population-Estimations'}\n"
          ]
        },
        {
          "data": {
            "text/plain": [
              "Code Domaine                 1\n",
              "Code zone (M49)            236\n",
              "Code Élément                 5\n",
              "Code Produit                 1\n",
              "Code année                   1\n",
              "Année                        1\n",
              "Unité                        1\n",
              "Valeur                    1160\n",
              "Symbole                      1\n",
              "Description du Symbole       1\n",
              "dtype: int64"
            ]
          },
          "execution_count": 162,
          "metadata": {},
          "output_type": "execute_result"
        }
      ],
      "source": [
        "\"\"\"\n",
        "si 'Code Produit' et 'Produit' sont bien redondant, on va supprimer 'Produit'\n",
        "\"\"\"\n",
        "Code_Produit_count = df_population_2020[\"Code Produit\"].nunique()\n",
        "Produit_count = df_population_2020[\"Produit\"].nunique()\n",
        "\n",
        "if Code_Produit_count == Produit_count :\n",
        "    liste_value_Code_Produit = df_population_2020[\"Code Produit\"].unique()\n",
        "    liste_value_Produit = df_population_2020[\"Produit\"].unique()\n",
        "    dic_Code_Produit_Produit = dict(zip(liste_value_Code_Produit, liste_value_Produit))\n",
        "    print (dic_Code_Produit_Produit)\n",
        "    df_population_2020.drop(\"Produit\", inplace=True, axis=1)\n",
        "\n",
        "n = df_population_2020.nunique(axis=0)\n",
        "n"
      ]
    },
    {
      "cell_type": "code",
      "execution_count": 164,
      "metadata": {},
      "outputs": [
        {
          "name": "stdout",
          "output_type": "stream",
          "text": [
            "Code année\n",
            "2020    1173\n",
            "Name: count, dtype: int64 \n",
            " Année\n",
            "2020    1173\n",
            "Name: count, dtype: int64\n"
          ]
        }
      ],
      "source": [
        "Code_annee_info = df_population_2020['Code année'].value_counts()\n",
        "annee_info = df_population_2020['Année'].value_counts()\n",
        "print (Code_annee_info, \"\\n\", annee_info)"
      ]
    },
    {
      "cell_type": "code",
      "execution_count": 166,
      "metadata": {},
      "outputs": [
        {
          "name": "stdout",
          "output_type": "stream",
          "text": [
            "{2020: 2020}\n"
          ]
        },
        {
          "data": {
            "text/plain": [
              "Code Domaine                 1\n",
              "Code zone (M49)            236\n",
              "Code Élément                 5\n",
              "Code Produit                 1\n",
              "Code année                   1\n",
              "Unité                        1\n",
              "Valeur                    1160\n",
              "Symbole                      1\n",
              "Description du Symbole       1\n",
              "dtype: int64"
            ]
          },
          "execution_count": 166,
          "metadata": {},
          "output_type": "execute_result"
        }
      ],
      "source": [
        "\"\"\"\n",
        "'Code année' et 'Année' sont bien redondant, on va supprimer 'Année'\n",
        "\"\"\"\n",
        "\n",
        "Code_Annee_count = df_population_2020[\"Code année\"].nunique()\n",
        "Annee_count = df_population_2020[\"Année\"].nunique()\n",
        "\n",
        "if Code_Annee_count == Annee_count :\n",
        "    liste_value_Code_Annee = df_population_2020[\"Code année\"].unique()\n",
        "    liste_value_Annee = df_population_2020[\"Année\"].unique()\n",
        "    dic_Code_Annee_Annee = dict(zip(liste_value_Code_Annee, liste_value_Annee))\n",
        "    print (dic_Code_Annee_Annee)\n",
        "    df_population_2020.drop(\"Année\", inplace=True, axis=1)\n",
        "\n",
        "n = df_population_2020.nunique(axis=0)\n",
        "n"
      ]
    },
    {
      "cell_type": "code",
      "execution_count": 167,
      "metadata": {},
      "outputs": [
        {
          "name": "stdout",
          "output_type": "stream",
          "text": [
            "Symbole\n",
            "X    1173\n",
            "Name: count, dtype: int64 \n",
            " Description du Symbole\n",
            "Ciffre de sources internationales    1173\n",
            "Name: count, dtype: int64\n"
          ]
        }
      ],
      "source": [
        "Symbole_info = df_population_2020['Symbole'].value_counts()\n",
        "Description_Symbole_info = df_population_2020['Description du Symbole'].value_counts()\n",
        "print (Symbole_info, \"\\n\", Description_Symbole_info)"
      ]
    },
    {
      "cell_type": "code",
      "execution_count": 169,
      "metadata": {},
      "outputs": [
        {
          "name": "stdout",
          "output_type": "stream",
          "text": [
            "{'X': 'Ciffre de sources internationales'}\n"
          ]
        },
        {
          "data": {
            "text/plain": [
              "Code Domaine          1\n",
              "Code zone (M49)     236\n",
              "Code Élément          5\n",
              "Code Produit          1\n",
              "Code année            1\n",
              "Unité                 1\n",
              "Valeur             1160\n",
              "Symbole               1\n",
              "dtype: int64"
            ]
          },
          "execution_count": 169,
          "metadata": {},
          "output_type": "execute_result"
        }
      ],
      "source": [
        "Symbole_count = df_population_2020[\"Symbole\"].nunique()\n",
        "Description_Symbole_count = df_population_2020[\"Description du Symbole\"].nunique()\n",
        "\n",
        "if Symbole_count == Description_Symbole_count :\n",
        "    liste_value_Symbole = df_population_2020[\"Symbole\"].unique()\n",
        "    liste_value_Description_Symbole = df_population_2020[\"Description du Symbole\"].unique()\n",
        "    dic_Symbole_Description_Symbole = dict(zip(liste_value_Symbole, liste_value_Description_Symbole))\n",
        "    print (dic_Symbole_Description_Symbole)\n",
        "    df_population_2020.drop(\"Description du Symbole\", inplace=True, axis=1)\n",
        "\n",
        "n = df_population_2020.nunique(axis=0)\n",
        "n"
      ]
    },
    {
      "cell_type": "markdown",
      "metadata": {
        "id": "WXU-1nrKBtDC"
      },
      "source": [
        "## Partie traitement des données"
      ]
    },
    {
      "cell_type": "markdown",
      "metadata": {
        "id": "1Lf3QTuICiKd"
      },
      "source": [
        "### 1 - Analyses descriptives et exploratoire des données"
      ]
    },
    {
      "cell_type": "markdown",
      "metadata": {
        "id": "5BJWz1boDY5t"
      },
      "source": [
        "Il s’agit ici de réaliser des analyses descriptives statistiques et graphiques sur les différentes variables des jeux de données :\n",
        "\n",
        "    • Analyses univariées\n",
        "    • Analyses bi-variées\n",
        "    • Analyses multi-variées\n",
        "\n",
        "Réaliser également des analyses exploratoires sur les différentes variables"
      ]
    },
    {
      "cell_type": "markdown",
      "metadata": {
        "id": "oela_0itDYJH"
      },
      "source": [
        "Il s’agit ici de réaliser des analyses descriptives statistiques et graphiques sur les différentes variables des jeux de données :\n",
        "    • Analyses univariées\n",
        "    • Analyses bi-variées\n",
        "    • Analyses multi-variées\n",
        "Réaliser également des analyses exploratoires sur les différentes variables"
      ]
    },
    {
      "cell_type": "code",
      "execution_count": 149,
      "metadata": {
        "id": "NniaH68-Zn3w"
      },
      "outputs": [
        {
          "data": {
            "text/plain": [
              "'\\n1 : ouverture du fichier \"Données de la sécurité alimentaire 2020\"\\n'"
            ]
          },
          "execution_count": 149,
          "metadata": {},
          "output_type": "execute_result"
        }
      ],
      "source": [
        "\"\"\"\n",
        "7 : fichier \"Données de la sécurité alimentaire 2020\"\n",
        "\"\"\"\n",
        "\n"
      ]
    },
    {
      "cell_type": "code",
      "execution_count": null,
      "metadata": {},
      "outputs": [],
      "source": [
        "\"\"\"\n",
        "8 : fichier \"Population 2020\"\n",
        "\"\"\""
      ]
    },
    {
      "cell_type": "markdown",
      "metadata": {
        "id": "1nt2-WIKCb1J"
      },
      "source": [
        "### 2 - Etude guidée n°1"
      ]
    },
    {
      "cell_type": "markdown",
      "metadata": {
        "id": "aaX0yzLvD6n9"
      },
      "source": [
        "Il s’agit ici de répondre à toutes les questions ci-dessous."
      ]
    },
    {
      "cell_type": "markdown",
      "metadata": {
        "id": "otDngoRdZ-OO"
      },
      "source": [
        "#### Question 1 : Nombre d'humains sur la planète\n",
        "Calculez le nombre total d’humains sur la planète.\n",
        "Critiquez votre résultat. En cas d’anomalie, analysez et effectuer les corrections nécessaires.\n",
        "Donnez le résultat de votre calcul pour l'année 2013."
      ]
    },
    {
      "cell_type": "code",
      "execution_count": null,
      "metadata": {
        "id": "F7mUOOxHZ_9_"
      },
      "outputs": [],
      "source": []
    },
    {
      "cell_type": "markdown",
      "metadata": {
        "id": "_hAXW1I3aA2G"
      },
      "source": [
        "#### Question 2 : Redondances\n",
        "Identifiez ces redondances, en donnant votre réponse sous forme de formule mathématique (pas besoin de coder ici).\n",
        "C'est une équation à 3 termes de type (a_1 + a2 + [...] = b_1 + b_2 + [...] = c_1 + c_2 + [...]) ) faisant intervenir chacune des 11 quantités données ci dessus.\n",
        "Illustrez cette équation avec l'exemple du blé en France."
      ]
    },
    {
      "cell_type": "code",
      "execution_count": null,
      "metadata": {
        "id": "Ey3iQvJ1aDRG"
      },
      "outputs": [],
      "source": []
    },
    {
      "cell_type": "markdown",
      "metadata": {
        "id": "5HCFKjr7aDxk"
      },
      "source": [
        "#### Question 3 : Disponibilité alimentaire (calories, protéines)\n",
        "Calculez (pour chaque pays et chaque produit) la disponibilité alimentaire en kcal puis en kg de protéines. Vous ferez cela à partir de ces informations :\n",
        "- Population de chaque pays\n",
        "- Disponibilité alimentaire donnée pour chaque produit et pour chaque pays en kcal/personne/jour, -\n",
        "- Disponibilité alimentaire en protéines donnée pour chaque produit et pour chaque pays en g/personne/jour.\n",
        "Pour cette étape vous avez besoin de constituer une seule et même table à partir des tables animaux et végétaux."
      ]
    },
    {
      "cell_type": "code",
      "execution_count": null,
      "metadata": {
        "id": "B4jG5kWJaKj5"
      },
      "outputs": [],
      "source": []
    },
    {
      "cell_type": "markdown",
      "metadata": {
        "id": "zu-LYhy7aLR9"
      },
      "source": [
        "#### Question 4 : Ratio énergie/poids\n",
        "A partir de ces dernières informations, et à partir du poids de la disponibilité alimentaire (pour chaque pays et chaque produit), calculez pour chaque produit le ratio \"énergie/poids\", que vous donnerez en kcal/kg. Vous pouvez vérifier la cohérence de votre calcul en comparant ce ratio aux données disponibles sur internet, par exemple en cherchant la valeur calorique d'un oeuf."
      ]
    },
    {
      "cell_type": "code",
      "execution_count": null,
      "metadata": {
        "id": "3akvxo_iaYrw"
      },
      "outputs": [],
      "source": []
    },
    {
      "cell_type": "markdown",
      "metadata": {
        "id": "sPhgBCDhaZC1"
      },
      "source": [
        "#### Question 5 : Aliments les plus caloriques et protéiques\n",
        "En considérant les aliments végétaux et animaux, citez 5 aliments parmi les 20 aliments les plus caloriques, en utilisant le ratio énergie/poids. Citez 5 aliments parmi les 20 aliments les plus riches en protéines."
      ]
    },
    {
      "cell_type": "code",
      "execution_count": null,
      "metadata": {
        "id": "0V9zjYedabKw"
      },
      "outputs": [],
      "source": []
    },
    {
      "cell_type": "markdown",
      "metadata": {
        "id": "H1lMRHTYabeR"
      },
      "source": [
        "#### Question 6 : Dispo. intérieure mondiale des végétaux\n",
        "Calculez, pour les produits végétaux uniquement, la disponibilité intérieure mondiale exprimée en kcal."
      ]
    },
    {
      "cell_type": "code",
      "execution_count": null,
      "metadata": {
        "id": "Wzif22s4aeuj"
      },
      "outputs": [],
      "source": []
    },
    {
      "cell_type": "markdown",
      "metadata": {
        "id": "ApEOgLexafF0"
      },
      "source": [
        "#### Question 7 : Potentiel alimentaire des végétaux\n",
        "Combien d'humains pourraient être nourris si toute la disponibilité intérieure mondiale de produits végétaux était utilisée pour de la nourriture ? Donnez les résultats en termes de calories, puis de protéines, et exprimez ensuite ces 2 résultats en pourcentage de la population mondiale."
      ]
    },
    {
      "cell_type": "code",
      "execution_count": null,
      "metadata": {
        "id": "ZtwIMbFuahrI"
      },
      "outputs": [],
      "source": []
    },
    {
      "cell_type": "markdown",
      "metadata": {
        "id": "GBWwrg-OaiB2"
      },
      "source": [
        "#### Question 8 : Potentiel alimentaire des végétaux (destinés aux animaux pertes)\n",
        "Combien d'humains pourraient être nourris si toute la disponibilité alimentaire en produits végétaux la nourriture végétale destinée aux animaux et les pertes de produits végétaux étaient utilisés pour de la nourriture ? Donnez les résultats en termes de calories, puis de protéines, et exprimez ensuite ces 2 résultats en pourcentage de la population mondiale."
      ]
    },
    {
      "cell_type": "code",
      "execution_count": null,
      "metadata": {
        "id": "iF5Im1vEaky4"
      },
      "outputs": [],
      "source": []
    },
    {
      "cell_type": "markdown",
      "metadata": {
        "id": "kL0p9FpIalN0"
      },
      "source": [
        "#### Question 9 : Potentiel alimentaire de la dispo. Mondiale\n",
        "Combien d'humains pourraient être nourris avec la disponibilité alimentaire mondiale ? Donnez les résultats en termes de calories, puis de protéines, et exprimez ensuite ces 2 résultats en pourcentage de la population mondiale."
      ]
    },
    {
      "cell_type": "code",
      "execution_count": null,
      "metadata": {
        "id": "TIibNjMbaoNO"
      },
      "outputs": [],
      "source": []
    },
    {
      "cell_type": "markdown",
      "metadata": {
        "id": "P8yMAZWqaolA"
      },
      "source": [
        "#### Question 10 : Proportion de la sous-nutrition mondiale\n",
        "A partir des données téléchargées qui concernent la sous-nutrition, répondez à cette question : Quelle proportion de la population mondiale est considérée comme étant en sous-nutrition ?"
      ]
    },
    {
      "cell_type": "code",
      "execution_count": null,
      "metadata": {
        "id": "BUHyqcKOarGi"
      },
      "outputs": [],
      "source": []
    },
    {
      "cell_type": "markdown",
      "metadata": {
        "id": "JOB7I9fDarj7"
      },
      "source": [
        "#### Question 11 : Céréales\n",
        "Établissez la liste des produits (ainsi que leur code) considéré comme des céréales selon la FAO. En ne prenant en compte que les céréales destinées à l'alimentation (humaine et animale), quelle proportion (en termes de poids) est destinée à l'alimentation animale ?"
      ]
    },
    {
      "cell_type": "code",
      "execution_count": null,
      "metadata": {
        "id": "OkJK7gp_au3k"
      },
      "outputs": [],
      "source": []
    },
    {
      "cell_type": "markdown",
      "metadata": {
        "id": "1s2qNH1savTW"
      },
      "source": [
        "#### Question 12 : Sous-nutrition\n",
        "Sélectionnez parmi les données des bilans alimentaires les informations relatives aux pays dans lesquels la FAO recense des personnes en sous-nutrition.\n",
        "Repérez les 15 produits les plus exportés par ce groupe de pays.\n",
        "Parmi les données des bilans alimentaires au niveau mondial, sélectionnez les 200 plus grandes importations de ces produits (1 importation = une quantité d'un produit donné importée par un pays donné).\n",
        "Groupez ces importations par produit, afin d'avoir une table contenant 1 ligne pour chacun des 15 produits. Ensuite, calculez pour chaque produit les 2 quantités suivantes :\n",
        "\n",
        "    • le ratio entre la quantité destinés aux \"Autres utilisations\" (Other uses) et la disponibilité intérieure.\n",
        "    • le ratio entre la quantité destinée à la nourriture animale et la quantité destinée à la nourriture (animale + humaine)\n",
        "    \n",
        "Donnez les 3 produits qui ont la plus grande valeur pour chacun des 2 ratios (vous aurez donc 6 produits à citer)"
      ]
    },
    {
      "cell_type": "code",
      "execution_count": null,
      "metadata": {
        "id": "cBVydeGyay3c"
      },
      "outputs": [],
      "source": []
    },
    {
      "cell_type": "markdown",
      "metadata": {
        "id": "Yl6GPYa4a6ON"
      },
      "source": [
        "#### Question 13 : USA\n",
        "Combien de tonnes de céréales pourraient être libérées si les USA diminuaient leur production de produits animaux de 10% ?"
      ]
    },
    {
      "cell_type": "code",
      "execution_count": null,
      "metadata": {
        "id": "S6Ywb72ha66u"
      },
      "outputs": [],
      "source": []
    },
    {
      "cell_type": "markdown",
      "metadata": {
        "id": "A8lVRTZcZtwL"
      },
      "source": [
        "#### Question 14 : Thaïlande\n",
        "En Thaïlande, quelle proportion de manioc est exportée ? Quelle est la proportion de personnes en sous-nutrition?"
      ]
    },
    {
      "cell_type": "code",
      "execution_count": null,
      "metadata": {
        "id": "W5ueGBdEZmHg"
      },
      "outputs": [],
      "source": []
    },
    {
      "cell_type": "markdown",
      "metadata": {
        "id": "FUW1pFjca11r"
      },
      "source": []
    },
    {
      "cell_type": "markdown",
      "metadata": {
        "id": "b3RaTavFDqOY"
      },
      "source": [
        "### 3 - Etude guidée n°2"
      ]
    },
    {
      "cell_type": "markdown",
      "metadata": {
        "id": "qlW56DtHD1lk"
      },
      "source": [
        "Il s’agit ici d’intégrer toutes les données dans une base de données relationnelle puis de répondre à toutes les questions ci-dessous.\n",
        "La base de données contiendra 4 tables : population, dispo_alim, equilibre_prod, sous_nutrition."
      ]
    },
    {
      "cell_type": "markdown",
      "metadata": {
        "id": "RHq8CB_CZHI5"
      },
      "source": [
        "#### Question 15 : Table population\n",
        "Définir une clé primaire pertinente pour la table population. Intégrer la table dans la base de données relationnelle."
      ]
    },
    {
      "cell_type": "code",
      "execution_count": null,
      "metadata": {
        "id": "1BJd-AIqZlZM"
      },
      "outputs": [],
      "source": []
    },
    {
      "cell_type": "markdown",
      "metadata": {
        "id": "gZFqs9R3ZgOu"
      },
      "source": [
        "#### Question 16 : Table dispo_alim\n",
        "La table appelée dispo_alim contient pour chaque pays, pour chaque produit, sur l'année 2013, les informations suivantes:\n",
        "- la nature du produit (deux valeurs possibles“animal” ou “végétal”)\n",
        "- disponibilité alimentaire en tonnes\n",
        "- disponibilité alimentaire en Kcal/personne/jour\n",
        "- disponibilité alimentaire de protéines en g/personne/jour\n",
        "- disponibilité alimentaire de matières grasses en g/personne/jour\n",
        "La table contient ces colonnes : pays, code_pays, année, produit, code_produit, origin, dispo_alim_tonnes, dispo_alim_kcal_p_j, dispo_prot, dispo_mat_gr .\n",
        "Définir une clé primaire pertinente pour la table dispo_alim. Intégrer la table dans la base de données relationnelle."
      ]
    },
    {
      "cell_type": "code",
      "execution_count": null,
      "metadata": {
        "id": "zaQT09kIZk2y"
      },
      "outputs": [],
      "source": []
    },
    {
      "cell_type": "markdown",
      "metadata": {
        "id": "v6zLu0GVZbxU"
      },
      "source": [
        "#### Question 17 : Table equilibre_prod\n",
        "La table appelée equilibre_prod contient pour chaque pays, pour chaque produit, et pour l'année disponible 2013, les quantités suivantes :\n",
        "- disponibilité intérieure\n",
        "- aliments pour animaux\n",
        "- semences\n",
        "- pertes\n",
        "- transformés\n",
        "- nourriture\n",
        "- autres utilisations\n",
        "Elle contient ces colonnes : pays, code_pays, année, produit, code_produit, dispo_int, alim_ani, semences, pertes, transfo, nourriture, autres_utilisations.\n",
        "Définir une clé primaire pertinente pour la table equilibre_prod. Intégrer la table dans la base de données relationnelle."
      ]
    },
    {
      "cell_type": "code",
      "execution_count": null,
      "metadata": {
        "id": "ugM0Q_l7ZjxR"
      },
      "outputs": [],
      "source": []
    },
    {
      "cell_type": "markdown",
      "metadata": {
        "id": "SKindtOJZYXY"
      },
      "source": [
        "#### Question 18 : Table sous_nutrition\n",
        "La table appelée sous_nutrition, contient le nombre de personnes en sous-alimentation pour chaque pays et pour chaque année. Elle contient 4 colonnes : pays, code_pays, année, nb_personnes.\n",
        "Définir une clé primaire pertinente pour la table sous_nutrition. Intégrer la table dans la base de données relationnelle."
      ]
    },
    {
      "cell_type": "code",
      "execution_count": null,
      "metadata": {
        "id": "HUcuhgklZVbX"
      },
      "outputs": [],
      "source": []
    },
    {
      "cell_type": "markdown",
      "metadata": {
        "id": "_lHWO4wTZWHY"
      },
      "source": [
        "#### Question 19 : Requêtes SQL\n",
        "Formuler les requêtes SQL pour répondre aux questions suivantes :\n",
        "    • Quels sont les 10 pays ayant le plus haut ratio disponibilité alimentaire/habitant en termes de protéines (en kg) par habitant, puis en termes de kcal par habitant ?\n",
        "    • Quels sont les 10 pays ayant le plus faible ratio disponibilité alimentaire/habitant en termes de protéines (en kg) par habitant ?\n",
        "    • Quelle est la quantité totale (en kg) de produits perdus par pays?\n",
        "    • Quels sont les 10 pays pour lesquels la proportion de personnes sous-alimentées est la plus forte ?\n",
        "    • Quels sont les 10 produits pour lesquels le ratio Autres utilisations/Disponibilité intérieure est le plus élevé ?"
      ]
    },
    {
      "cell_type": "code",
      "execution_count": null,
      "metadata": {
        "id": "61BOSvDUZips"
      },
      "outputs": [],
      "source": []
    },
    {
      "cell_type": "markdown",
      "metadata": {
        "id": "sYtYZ_uvZK9r"
      },
      "source": [
        "#### Question 20 : Autres utilisations des produits\n",
        "Pour quelques-uns des produits identifiés dans cette dernière requête SQL, supposez quelles sont ces \"autres utilisations\" possibles (recherchez sur internet !)."
      ]
    },
    {
      "cell_type": "code",
      "execution_count": null,
      "metadata": {
        "id": "LCJ3PxDhZjG-"
      },
      "outputs": [],
      "source": []
    },
    {
      "cell_type": "markdown",
      "metadata": {
        "id": "4oVN2zheD-A_"
      },
      "source": [
        "### 4 - Analyses complémentaire"
      ]
    },
    {
      "cell_type": "markdown",
      "metadata": {
        "id": "igoMHlNrEBYZ"
      },
      "source": [
        "Fort de votre expérience de Data Analyst, il s’agit maintenant de réaliser vos propres analyses et exploration."
      ]
    }
  ],
  "metadata": {
    "colab": {
      "provenance": [],
      "toc_visible": true
    },
    "kernelspec": {
      "display_name": "Python 3",
      "name": "python3"
    },
    "language_info": {
      "codemirror_mode": {
        "name": "ipython",
        "version": 3
      },
      "file_extension": ".py",
      "mimetype": "text/x-python",
      "name": "python",
      "nbconvert_exporter": "python",
      "pygments_lexer": "ipython3",
      "version": "3.11.5"
    }
  },
  "nbformat": 4,
  "nbformat_minor": 0
}
