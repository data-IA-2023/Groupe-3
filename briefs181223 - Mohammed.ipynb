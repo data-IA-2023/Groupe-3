{
  "cells": [
    {
      "cell_type": "markdown",
      "metadata": {
        "id": "dDYnD_yh-skJ"
      },
      "source": [
        "# Data Analyst au sein de la FAO"
      ]
    },
    {
      "cell_type": "markdown",
      "metadata": {
        "id": "Bhgi21K2-nFa"
      },
      "source": [
        "lien du brief : https://simplonline.co/briefs/688fc302-e4d4-4324-8904-f22316c31713\n",
        "\n"
      ]
    },
    {
      "cell_type": "markdown",
      "metadata": {
        "id": "31doXc7fFxKl"
      },
      "source": [
        "lien du dossier git : https://github.com/data-IA-2023/Groupe-3\n"
      ]
    },
    {
      "cell_type": "markdown",
      "metadata": {
        "id": "8mrHC_I5-ykk"
      },
      "source": [
        "Vous venez d'intégrer la FAO (Food and Agriculture Organization of the United Nations). BRAVO !!!!!!\n",
        "Vous allez mener votre première mission en analysant les données mondiales de production agricole, d'alimentation et de nutrition."
      ]
    },
    {
      "cell_type": "markdown",
      "metadata": {
        "id": "FUVcknHlAIC_"
      },
      "source": [
        "**Livrables**\n",
        "\n",
        "* Un dépôt Github\n",
        "* Un notebook **fonctionnel, documenté et commenté**\n",
        "* Une présentation écrite et orale résumant vos travaux, votre analyse et vos recommandations"
      ]
    },
    {
      "cell_type": "markdown",
      "metadata": {
        "id": "fcBxpeFXAkMg"
      },
      "source": [
        "**Contexte du projet**\n",
        "\n",
        "* Au sein du service Data Analytics and Prospective de la FAO, vous êtes en charge d'analyser les données produites par les Nations Unies.\n",
        "\n",
        "* Ces analyses conduisent à des rapports de synthèse à destination des décideurs.\n",
        "\n",
        "* Pour êtes également en charge de la partie Prospective, c'est à dire donner des tendances et des évolutions probables quant à la production agricole, à l'alimentation et la nutrition mondiales.\n"
      ]
    },
    {
      "cell_type": "markdown",
      "metadata": {
        "id": "wICIZAqLAonV"
      },
      "source": [
        "**Ressource(s)**\n",
        "\n",
        "FAO - Wikipedia : https://fr.wikipedia.org/wiki/Organisation_des_Nations_unies_pour_l'alimentation_et_l'agriculture\n",
        "\n",
        "FAOSTAT : https://www.fao.org/faostat/fr/#home\n",
        "\n",
        "Les données FAO 2013 : https://github.com/remijul/dataset/tree/master/fao_2013"
      ]
    },
    {
      "cell_type": "markdown",
      "metadata": {
        "id": "Bk2Uuk0nBbJ6"
      },
      "source": [
        "## Partie extraction des données"
      ]
    },
    {
      "cell_type": "code",
      "execution_count": 1,
      "metadata": {},
      "outputs": [
        {
          "data": {
            "text/html": [
              "<div>\n",
              "<style scoped>\n",
              "    .dataframe tbody tr th:only-of-type {\n",
              "        vertical-align: middle;\n",
              "    }\n",
              "\n",
              "    .dataframe tbody tr th {\n",
              "        vertical-align: top;\n",
              "    }\n",
              "\n",
              "    .dataframe thead th {\n",
              "        text-align: right;\n",
              "    }\n",
              "</style>\n",
              "<table border=\"1\" class=\"dataframe\">\n",
              "  <thead>\n",
              "    <tr style=\"text-align: right;\">\n",
              "      <th></th>\n",
              "      <th>Code Domaine</th>\n",
              "      <th>Domaine</th>\n",
              "      <th>Pays</th>\n",
              "      <th>Code Élément</th>\n",
              "      <th>Élément</th>\n",
              "      <th>Code Produit</th>\n",
              "      <th>Produit</th>\n",
              "      <th>Code Année</th>\n",
              "      <th>Année</th>\n",
              "      <th>Unité</th>\n",
              "      <th>Valeur</th>\n",
              "      <th>Symbole</th>\n",
              "      <th>Description du Symbole</th>\n",
              "    </tr>\n",
              "    <tr>\n",
              "      <th>Code Pays</th>\n",
              "      <th></th>\n",
              "      <th></th>\n",
              "      <th></th>\n",
              "      <th></th>\n",
              "      <th></th>\n",
              "      <th></th>\n",
              "      <th></th>\n",
              "      <th></th>\n",
              "      <th></th>\n",
              "      <th></th>\n",
              "      <th></th>\n",
              "      <th></th>\n",
              "      <th></th>\n",
              "    </tr>\n",
              "  </thead>\n",
              "  <tbody>\n",
              "    <tr>\n",
              "      <th>2</th>\n",
              "      <td>FBS</td>\n",
              "      <td>Bilans Alimentaires</td>\n",
              "      <td>Afghanistan</td>\n",
              "      <td>5511</td>\n",
              "      <td>Production</td>\n",
              "      <td>2511</td>\n",
              "      <td>Blé</td>\n",
              "      <td>2013</td>\n",
              "      <td>2013</td>\n",
              "      <td>Milliers de tonnes</td>\n",
              "      <td>5169.00</td>\n",
              "      <td>S</td>\n",
              "      <td>Données standardisées</td>\n",
              "    </tr>\n",
              "    <tr>\n",
              "      <th>2</th>\n",
              "      <td>FBS</td>\n",
              "      <td>Bilans Alimentaires</td>\n",
              "      <td>Afghanistan</td>\n",
              "      <td>5611</td>\n",
              "      <td>Importations - Quantité</td>\n",
              "      <td>2511</td>\n",
              "      <td>Blé</td>\n",
              "      <td>2013</td>\n",
              "      <td>2013</td>\n",
              "      <td>Milliers de tonnes</td>\n",
              "      <td>1173.00</td>\n",
              "      <td>S</td>\n",
              "      <td>Données standardisées</td>\n",
              "    </tr>\n",
              "    <tr>\n",
              "      <th>2</th>\n",
              "      <td>FBS</td>\n",
              "      <td>Bilans Alimentaires</td>\n",
              "      <td>Afghanistan</td>\n",
              "      <td>5072</td>\n",
              "      <td>Variation de stock</td>\n",
              "      <td>2511</td>\n",
              "      <td>Blé</td>\n",
              "      <td>2013</td>\n",
              "      <td>2013</td>\n",
              "      <td>Milliers de tonnes</td>\n",
              "      <td>-350.00</td>\n",
              "      <td>S</td>\n",
              "      <td>Données standardisées</td>\n",
              "    </tr>\n",
              "    <tr>\n",
              "      <th>2</th>\n",
              "      <td>FBS</td>\n",
              "      <td>Bilans Alimentaires</td>\n",
              "      <td>Afghanistan</td>\n",
              "      <td>5301</td>\n",
              "      <td>Disponibilité intérieure</td>\n",
              "      <td>2511</td>\n",
              "      <td>Blé</td>\n",
              "      <td>2013</td>\n",
              "      <td>2013</td>\n",
              "      <td>Milliers de tonnes</td>\n",
              "      <td>5992.00</td>\n",
              "      <td>S</td>\n",
              "      <td>Données standardisées</td>\n",
              "    </tr>\n",
              "    <tr>\n",
              "      <th>2</th>\n",
              "      <td>FBS</td>\n",
              "      <td>Bilans Alimentaires</td>\n",
              "      <td>Afghanistan</td>\n",
              "      <td>5527</td>\n",
              "      <td>Semences</td>\n",
              "      <td>2511</td>\n",
              "      <td>Blé</td>\n",
              "      <td>2013</td>\n",
              "      <td>2013</td>\n",
              "      <td>Milliers de tonnes</td>\n",
              "      <td>322.00</td>\n",
              "      <td>S</td>\n",
              "      <td>Données standardisées</td>\n",
              "    </tr>\n",
              "    <tr>\n",
              "      <th>...</th>\n",
              "      <td>...</td>\n",
              "      <td>...</td>\n",
              "      <td>...</td>\n",
              "      <td>...</td>\n",
              "      <td>...</td>\n",
              "      <td>...</td>\n",
              "      <td>...</td>\n",
              "      <td>...</td>\n",
              "      <td>...</td>\n",
              "      <td>...</td>\n",
              "      <td>...</td>\n",
              "      <td>...</td>\n",
              "      <td>...</td>\n",
              "    </tr>\n",
              "    <tr>\n",
              "      <th>351</th>\n",
              "      <td>FBS</td>\n",
              "      <td>Bilans Alimentaires</td>\n",
              "      <td>Chine</td>\n",
              "      <td>674</td>\n",
              "      <td>Disponibilité de protéines en quantité (g/pers...</td>\n",
              "      <td>2680</td>\n",
              "      <td>Aliments pour enfants</td>\n",
              "      <td>2013</td>\n",
              "      <td>2013</td>\n",
              "      <td>g/personne/jour</td>\n",
              "      <td>0.04</td>\n",
              "      <td>Fc</td>\n",
              "      <td>Donnée calculée</td>\n",
              "    </tr>\n",
              "    <tr>\n",
              "      <th>351</th>\n",
              "      <td>FBS</td>\n",
              "      <td>Bilans Alimentaires</td>\n",
              "      <td>Chine</td>\n",
              "      <td>684</td>\n",
              "      <td>Disponibilité de matière grasse en quantité (g...</td>\n",
              "      <td>2680</td>\n",
              "      <td>Aliments pour enfants</td>\n",
              "      <td>2013</td>\n",
              "      <td>2013</td>\n",
              "      <td>g/personne/jour</td>\n",
              "      <td>0.01</td>\n",
              "      <td>Fc</td>\n",
              "      <td>Donnée calculée</td>\n",
              "    </tr>\n",
              "    <tr>\n",
              "      <th>351</th>\n",
              "      <td>FBS</td>\n",
              "      <td>Bilans Alimentaires</td>\n",
              "      <td>Chine</td>\n",
              "      <td>664</td>\n",
              "      <td>Disponibilité alimentaire (Kcal/personne/jour)</td>\n",
              "      <td>2899</td>\n",
              "      <td>Miscellanees</td>\n",
              "      <td>2013</td>\n",
              "      <td>2013</td>\n",
              "      <td>Kcal/personne/jour</td>\n",
              "      <td>0.00</td>\n",
              "      <td>Fc</td>\n",
              "      <td>Donnée calculée</td>\n",
              "    </tr>\n",
              "    <tr>\n",
              "      <th>351</th>\n",
              "      <td>FBS</td>\n",
              "      <td>Bilans Alimentaires</td>\n",
              "      <td>Chine</td>\n",
              "      <td>674</td>\n",
              "      <td>Disponibilité de protéines en quantité (g/pers...</td>\n",
              "      <td>2899</td>\n",
              "      <td>Miscellanees</td>\n",
              "      <td>2013</td>\n",
              "      <td>2013</td>\n",
              "      <td>g/personne/jour</td>\n",
              "      <td>0.01</td>\n",
              "      <td>Fc</td>\n",
              "      <td>Donnée calculée</td>\n",
              "    </tr>\n",
              "    <tr>\n",
              "      <th>351</th>\n",
              "      <td>FBS</td>\n",
              "      <td>Bilans Alimentaires</td>\n",
              "      <td>Chine</td>\n",
              "      <td>684</td>\n",
              "      <td>Disponibilité de matière grasse en quantité (g...</td>\n",
              "      <td>2899</td>\n",
              "      <td>Miscellanees</td>\n",
              "      <td>2013</td>\n",
              "      <td>2013</td>\n",
              "      <td>g/personne/jour</td>\n",
              "      <td>0.00</td>\n",
              "      <td>Fc</td>\n",
              "      <td>Donnée calculée</td>\n",
              "    </tr>\n",
              "  </tbody>\n",
              "</table>\n",
              "<p>104871 rows × 13 columns</p>\n",
              "</div>"
            ],
            "text/plain": [
              "          Code Domaine              Domaine         Pays Code Élément  \\\n",
              "Code Pays                                                               \n",
              "2                  FBS  Bilans Alimentaires  Afghanistan         5511   \n",
              "2                  FBS  Bilans Alimentaires  Afghanistan         5611   \n",
              "2                  FBS  Bilans Alimentaires  Afghanistan         5072   \n",
              "2                  FBS  Bilans Alimentaires  Afghanistan         5301   \n",
              "2                  FBS  Bilans Alimentaires  Afghanistan         5527   \n",
              "...                ...                  ...          ...          ...   \n",
              "351                FBS  Bilans Alimentaires        Chine          674   \n",
              "351                FBS  Bilans Alimentaires        Chine          684   \n",
              "351                FBS  Bilans Alimentaires        Chine          664   \n",
              "351                FBS  Bilans Alimentaires        Chine          674   \n",
              "351                FBS  Bilans Alimentaires        Chine          684   \n",
              "\n",
              "                                                     Élément Code Produit  \\\n",
              "Code Pays                                                                   \n",
              "2                                                 Production         2511   \n",
              "2                                    Importations - Quantité         2511   \n",
              "2                                         Variation de stock         2511   \n",
              "2                                   Disponibilité intérieure         2511   \n",
              "2                                                   Semences         2511   \n",
              "...                                                      ...          ...   \n",
              "351        Disponibilité de protéines en quantité (g/pers...         2680   \n",
              "351        Disponibilité de matière grasse en quantité (g...         2680   \n",
              "351           Disponibilité alimentaire (Kcal/personne/jour)         2899   \n",
              "351        Disponibilité de protéines en quantité (g/pers...         2899   \n",
              "351        Disponibilité de matière grasse en quantité (g...         2899   \n",
              "\n",
              "                         Produit Code Année  Année               Unité  \\\n",
              "Code Pays                                                                \n",
              "2                            Blé       2013   2013  Milliers de tonnes   \n",
              "2                            Blé       2013   2013  Milliers de tonnes   \n",
              "2                            Blé       2013   2013  Milliers de tonnes   \n",
              "2                            Blé       2013   2013  Milliers de tonnes   \n",
              "2                            Blé       2013   2013  Milliers de tonnes   \n",
              "...                          ...        ...    ...                 ...   \n",
              "351        Aliments pour enfants       2013   2013     g/personne/jour   \n",
              "351        Aliments pour enfants       2013   2013     g/personne/jour   \n",
              "351                 Miscellanees       2013   2013  Kcal/personne/jour   \n",
              "351                 Miscellanees       2013   2013     g/personne/jour   \n",
              "351                 Miscellanees       2013   2013     g/personne/jour   \n",
              "\n",
              "            Valeur Symbole Description du Symbole  \n",
              "Code Pays                                          \n",
              "2          5169.00       S  Données standardisées  \n",
              "2          1173.00       S  Données standardisées  \n",
              "2          -350.00       S  Données standardisées  \n",
              "2          5992.00       S  Données standardisées  \n",
              "2           322.00       S  Données standardisées  \n",
              "...            ...     ...                    ...  \n",
              "351           0.04      Fc        Donnée calculée  \n",
              "351           0.01      Fc        Donnée calculée  \n",
              "351           0.00      Fc        Donnée calculée  \n",
              "351           0.01      Fc        Donnée calculée  \n",
              "351           0.00      Fc        Donnée calculée  \n",
              "\n",
              "[104871 rows x 13 columns]"
            ]
          },
          "execution_count": 1,
          "metadata": {},
          "output_type": "execute_result"
        }
      ],
      "source": [
        "import pandas as pd\n",
        "import numpy as np\n",
        "#Chargement des données avec définition de l'index et changement des types des  dimensions\n",
        "chemein_BD_vegetal = \"fao_2013/FAOSTAT_2013_vegetal.csv\"\n",
        "FAOSTAT_2013_vegetal = pd.read_csv(chemein_BD_vegetal, sep=',',on_bad_lines='skip', index_col='Code Pays',dtype={'Code Élément': str,'Code Produit':str, 'Code Année':str})\n",
        "\n",
        "FAOSTAT_2013_vegetal"
      ]
    },
    {
      "cell_type": "code",
      "execution_count": 2,
      "metadata": {
        "colab": {
          "base_uri": "https://localhost:8080/",
          "height": 843
        },
        "id": "RuUCQCiXVblU",
        "outputId": "07eea495-765b-41e2-a624-47a9a1ba01cb"
      },
      "outputs": [
        {
          "data": {
            "text/html": [
              "<div>\n",
              "<style scoped>\n",
              "    .dataframe tbody tr th:only-of-type {\n",
              "        vertical-align: middle;\n",
              "    }\n",
              "\n",
              "    .dataframe tbody tr th {\n",
              "        vertical-align: top;\n",
              "    }\n",
              "\n",
              "    .dataframe thead th {\n",
              "        text-align: right;\n",
              "    }\n",
              "</style>\n",
              "<table border=\"1\" class=\"dataframe\">\n",
              "  <thead>\n",
              "    <tr style=\"text-align: right;\">\n",
              "      <th></th>\n",
              "      <th>Code Domaine</th>\n",
              "      <th>Domaine</th>\n",
              "      <th>Zone</th>\n",
              "      <th>Code Élément</th>\n",
              "      <th>Élément</th>\n",
              "      <th>Code Produit (CPC)</th>\n",
              "      <th>Produit</th>\n",
              "      <th>Code année</th>\n",
              "      <th>Année</th>\n",
              "      <th>Unité</th>\n",
              "      <th>Valeur</th>\n",
              "      <th>Symbole</th>\n",
              "      <th>Description du Symbole</th>\n",
              "    </tr>\n",
              "    <tr>\n",
              "      <th>Code zone (M49)</th>\n",
              "      <th></th>\n",
              "      <th></th>\n",
              "      <th></th>\n",
              "      <th></th>\n",
              "      <th></th>\n",
              "      <th></th>\n",
              "      <th></th>\n",
              "      <th></th>\n",
              "      <th></th>\n",
              "      <th></th>\n",
              "      <th></th>\n",
              "      <th></th>\n",
              "      <th></th>\n",
              "    </tr>\n",
              "  </thead>\n",
              "  <tbody>\n",
              "    <tr>\n",
              "      <th>4</th>\n",
              "      <td>QCL</td>\n",
              "      <td>Cultures et produits animaux</td>\n",
              "      <td>Afghanistan</td>\n",
              "      <td>5510</td>\n",
              "      <td>Production</td>\n",
              "      <td>21159.02</td>\n",
              "      <td>Abats comestibles de chameaux et autres caméli...</td>\n",
              "      <td>2020</td>\n",
              "      <td>2020</td>\n",
              "      <td>tonnes</td>\n",
              "      <td>549.0</td>\n",
              "      <td>I</td>\n",
              "      <td>Valeur imputée</td>\n",
              "    </tr>\n",
              "    <tr>\n",
              "      <th>4</th>\n",
              "      <td>QCL</td>\n",
              "      <td>Cultures et produits animaux</td>\n",
              "      <td>Afghanistan</td>\n",
              "      <td>5320</td>\n",
              "      <td>Animaux Producteurs/Abattus</td>\n",
              "      <td>21159.02</td>\n",
              "      <td>Abats comestibles de chameaux et autres caméli...</td>\n",
              "      <td>2020</td>\n",
              "      <td>2020</td>\n",
              "      <td>Tête</td>\n",
              "      <td>20323.0</td>\n",
              "      <td>I</td>\n",
              "      <td>Valeur imputée</td>\n",
              "    </tr>\n",
              "    <tr>\n",
              "      <th>4</th>\n",
              "      <td>QCL</td>\n",
              "      <td>Cultures et produits animaux</td>\n",
              "      <td>Afghanistan</td>\n",
              "      <td>5510</td>\n",
              "      <td>Production</td>\n",
              "      <td>21151</td>\n",
              "      <td>Abats, comestibles, bovins, frais, réfrigérés ...</td>\n",
              "      <td>2020</td>\n",
              "      <td>2020</td>\n",
              "      <td>tonnes</td>\n",
              "      <td>20356.0</td>\n",
              "      <td>I</td>\n",
              "      <td>Valeur imputée</td>\n",
              "    </tr>\n",
              "    <tr>\n",
              "      <th>4</th>\n",
              "      <td>QCL</td>\n",
              "      <td>Cultures et produits animaux</td>\n",
              "      <td>Afghanistan</td>\n",
              "      <td>5320</td>\n",
              "      <td>Animaux Producteurs/Abattus</td>\n",
              "      <td>21151</td>\n",
              "      <td>Abats, comestibles, bovins, frais, réfrigérés ...</td>\n",
              "      <td>2020</td>\n",
              "      <td>2020</td>\n",
              "      <td>Tête</td>\n",
              "      <td>644498.0</td>\n",
              "      <td>E</td>\n",
              "      <td>Valeur estimée</td>\n",
              "    </tr>\n",
              "    <tr>\n",
              "      <th>4</th>\n",
              "      <td>QCL</td>\n",
              "      <td>Cultures et produits animaux</td>\n",
              "      <td>Afghanistan</td>\n",
              "      <td>5510</td>\n",
              "      <td>Production</td>\n",
              "      <td>21156</td>\n",
              "      <td>Abats, comestibles, caprins, frais, réfrigérés...</td>\n",
              "      <td>2020</td>\n",
              "      <td>2020</td>\n",
              "      <td>tonnes</td>\n",
              "      <td>9024.0</td>\n",
              "      <td>I</td>\n",
              "      <td>Valeur imputée</td>\n",
              "    </tr>\n",
              "    <tr>\n",
              "      <th>...</th>\n",
              "      <td>...</td>\n",
              "      <td>...</td>\n",
              "      <td>...</td>\n",
              "      <td>...</td>\n",
              "      <td>...</td>\n",
              "      <td>...</td>\n",
              "      <td>...</td>\n",
              "      <td>...</td>\n",
              "      <td>...</td>\n",
              "      <td>...</td>\n",
              "      <td>...</td>\n",
              "      <td>...</td>\n",
              "      <td>...</td>\n",
              "    </tr>\n",
              "    <tr>\n",
              "      <th>716</th>\n",
              "      <td>QCL</td>\n",
              "      <td>Cultures et produits animaux</td>\n",
              "      <td>Zimbabwe</td>\n",
              "      <td>5510</td>\n",
              "      <td>Production</td>\n",
              "      <td>21121</td>\n",
              "      <td>Viande, poulet, fraîche ou réfrigérée</td>\n",
              "      <td>2020</td>\n",
              "      <td>2020</td>\n",
              "      <td>tonnes</td>\n",
              "      <td>67211.0</td>\n",
              "      <td>E</td>\n",
              "      <td>Valeur estimée</td>\n",
              "    </tr>\n",
              "    <tr>\n",
              "      <th>716</th>\n",
              "      <td>QCL</td>\n",
              "      <td>Cultures et produits animaux</td>\n",
              "      <td>Zimbabwe</td>\n",
              "      <td>5321</td>\n",
              "      <td>Animaux Producteurs/Abattus</td>\n",
              "      <td>21121</td>\n",
              "      <td>Viande, poulet, fraîche ou réfrigérée</td>\n",
              "      <td>2020</td>\n",
              "      <td>2020</td>\n",
              "      <td>1000 têtes</td>\n",
              "      <td>58444.0</td>\n",
              "      <td>E</td>\n",
              "      <td>Valeur estimée</td>\n",
              "    </tr>\n",
              "    <tr>\n",
              "      <th>716</th>\n",
              "      <td>QCL</td>\n",
              "      <td>Cultures et produits animaux</td>\n",
              "      <td>Zimbabwe</td>\n",
              "      <td>5417</td>\n",
              "      <td>Rendement/Poids Carcasse</td>\n",
              "      <td>21113.01</td>\n",
              "      <td>Viande, suidés, fraîche ou réfrigérée</td>\n",
              "      <td>2020</td>\n",
              "      <td>2020</td>\n",
              "      <td>hg/An</td>\n",
              "      <td>550.0</td>\n",
              "      <td>E</td>\n",
              "      <td>Valeur estimée</td>\n",
              "    </tr>\n",
              "    <tr>\n",
              "      <th>716</th>\n",
              "      <td>QCL</td>\n",
              "      <td>Cultures et produits animaux</td>\n",
              "      <td>Zimbabwe</td>\n",
              "      <td>5510</td>\n",
              "      <td>Production</td>\n",
              "      <td>21113.01</td>\n",
              "      <td>Viande, suidés, fraîche ou réfrigérée</td>\n",
              "      <td>2020</td>\n",
              "      <td>2020</td>\n",
              "      <td>tonnes</td>\n",
              "      <td>10107.0</td>\n",
              "      <td>I</td>\n",
              "      <td>Valeur imputée</td>\n",
              "    </tr>\n",
              "    <tr>\n",
              "      <th>716</th>\n",
              "      <td>QCL</td>\n",
              "      <td>Cultures et produits animaux</td>\n",
              "      <td>Zimbabwe</td>\n",
              "      <td>5320</td>\n",
              "      <td>Animaux Producteurs/Abattus</td>\n",
              "      <td>21113.01</td>\n",
              "      <td>Viande, suidés, fraîche ou réfrigérée</td>\n",
              "      <td>2020</td>\n",
              "      <td>2020</td>\n",
              "      <td>Tête</td>\n",
              "      <td>183923.0</td>\n",
              "      <td>A</td>\n",
              "      <td>Chiffre officiel</td>\n",
              "    </tr>\n",
              "  </tbody>\n",
              "</table>\n",
              "<p>41752 rows × 13 columns</p>\n",
              "</div>"
            ],
            "text/plain": [
              "                Code Domaine                       Domaine         Zone  \\\n",
              "Code zone (M49)                                                           \n",
              "4                        QCL  Cultures et produits animaux  Afghanistan   \n",
              "4                        QCL  Cultures et produits animaux  Afghanistan   \n",
              "4                        QCL  Cultures et produits animaux  Afghanistan   \n",
              "4                        QCL  Cultures et produits animaux  Afghanistan   \n",
              "4                        QCL  Cultures et produits animaux  Afghanistan   \n",
              "...                      ...                           ...          ...   \n",
              "716                      QCL  Cultures et produits animaux     Zimbabwe   \n",
              "716                      QCL  Cultures et produits animaux     Zimbabwe   \n",
              "716                      QCL  Cultures et produits animaux     Zimbabwe   \n",
              "716                      QCL  Cultures et produits animaux     Zimbabwe   \n",
              "716                      QCL  Cultures et produits animaux     Zimbabwe   \n",
              "\n",
              "                Code Élément                      Élément Code Produit (CPC)  \\\n",
              "Code zone (M49)                                                                \n",
              "4                       5510                   Production           21159.02   \n",
              "4                       5320  Animaux Producteurs/Abattus           21159.02   \n",
              "4                       5510                   Production              21151   \n",
              "4                       5320  Animaux Producteurs/Abattus              21151   \n",
              "4                       5510                   Production              21156   \n",
              "...                      ...                          ...                ...   \n",
              "716                     5510                   Production              21121   \n",
              "716                     5321  Animaux Producteurs/Abattus              21121   \n",
              "716                     5417     Rendement/Poids Carcasse           21113.01   \n",
              "716                     5510                   Production           21113.01   \n",
              "716                     5320  Animaux Producteurs/Abattus           21113.01   \n",
              "\n",
              "                                                           Produit Code année  \\\n",
              "Code zone (M49)                                                                 \n",
              "4                Abats comestibles de chameaux et autres caméli...       2020   \n",
              "4                Abats comestibles de chameaux et autres caméli...       2020   \n",
              "4                Abats, comestibles, bovins, frais, réfrigérés ...       2020   \n",
              "4                Abats, comestibles, bovins, frais, réfrigérés ...       2020   \n",
              "4                Abats, comestibles, caprins, frais, réfrigérés...       2020   \n",
              "...                                                            ...        ...   \n",
              "716                          Viande, poulet, fraîche ou réfrigérée       2020   \n",
              "716                          Viande, poulet, fraîche ou réfrigérée       2020   \n",
              "716                          Viande, suidés, fraîche ou réfrigérée       2020   \n",
              "716                          Viande, suidés, fraîche ou réfrigérée       2020   \n",
              "716                          Viande, suidés, fraîche ou réfrigérée       2020   \n",
              "\n",
              "                 Année       Unité    Valeur Symbole Description du Symbole  \n",
              "Code zone (M49)                                                              \n",
              "4                 2020      tonnes     549.0       I         Valeur imputée  \n",
              "4                 2020        Tête   20323.0       I         Valeur imputée  \n",
              "4                 2020      tonnes   20356.0       I         Valeur imputée  \n",
              "4                 2020        Tête  644498.0       E         Valeur estimée  \n",
              "4                 2020      tonnes    9024.0       I         Valeur imputée  \n",
              "...                ...         ...       ...     ...                    ...  \n",
              "716               2020      tonnes   67211.0       E         Valeur estimée  \n",
              "716               2020  1000 têtes   58444.0       E         Valeur estimée  \n",
              "716               2020       hg/An     550.0       E         Valeur estimée  \n",
              "716               2020      tonnes   10107.0       I         Valeur imputée  \n",
              "716               2020        Tête  183923.0       A       Chiffre officiel  \n",
              "\n",
              "[41752 rows x 13 columns]"
            ]
          },
          "execution_count": 2,
          "metadata": {},
          "output_type": "execute_result"
        }
      ],
      "source": [
        "\n",
        "#Chargement des données avec définition de l'index et changement des types des  dimensions\n",
        "chemein_BD_culture = \"fao_2020/FAOSTAT_2020_Cultures et produits animaux.csv\"\n",
        "FAOSTAT_2020_Cultures_produits_animaux = pd.read_csv(chemein_BD_culture, sep=',',on_bad_lines='skip', index_col='Code zone (M49)',dtype={'Code Élément': str,'Code Produit (CPC)':str, 'Code année':str})\n",
        "\n",
        "FAOSTAT_2020_Cultures_produits_animaux\n",
        "\n"
      ]
    },
    {
      "cell_type": "markdown",
      "metadata": {
        "id": "wP4Y2HP5BjEn"
      },
      "source": [
        "## Partie netoyage des données"
      ]
    },
    {
      "cell_type": "code",
      "execution_count": 24,
      "metadata": {
        "id": "Pq_LrpqdByVc"
      },
      "outputs": [
        {
          "data": {
            "text/plain": [
              "Code Domaine               object\n",
              "Domaine                    object\n",
              "Pays                       object\n",
              "Code Élément               object\n",
              "Élément                    object\n",
              "Code Produit               object\n",
              "Produit                    object\n",
              "Code Année                 object\n",
              "Année                       int64\n",
              "Unité                      object\n",
              "Valeur                    float64\n",
              "Symbole                    object\n",
              "Description du Symbole     object\n",
              "dtype: object"
            ]
          },
          "execution_count": 24,
          "metadata": {},
          "output_type": "execute_result"
        }
      ],
      "source": [
        "#Vérification des types\n",
        "FAOSTAT_2013_vegetal.dtypes"
      ]
    },
    {
      "cell_type": "code",
      "execution_count": 22,
      "metadata": {
        "id": "Ls8QWkncAwzo"
      },
      "outputs": [
        {
          "data": {
            "text/plain": [
              "Code Domaine               object\n",
              "Domaine                    object\n",
              "Zone                       object\n",
              "Code Élément               object\n",
              "Élément                    object\n",
              "Code Produit (CPC)         object\n",
              "Produit                    object\n",
              "Code année                 object\n",
              "Année                       int64\n",
              "Unité                      object\n",
              "Valeur                    float64\n",
              "Symbole                    object\n",
              "Description du Symbole     object\n",
              "dtype: object"
            ]
          },
          "execution_count": 22,
          "metadata": {},
          "output_type": "execute_result"
        }
      ],
      "source": [
        "#Vérification des types\n",
        "FAOSTAT_2020_Cultures_produits_animaux.dtypes"
      ]
    },
    {
      "cell_type": "code",
      "execution_count": 3,
      "metadata": {},
      "outputs": [
        {
          "data": {
            "text/html": [
              "<div>\n",
              "<style scoped>\n",
              "    .dataframe tbody tr th:only-of-type {\n",
              "        vertical-align: middle;\n",
              "    }\n",
              "\n",
              "    .dataframe tbody tr th {\n",
              "        vertical-align: top;\n",
              "    }\n",
              "\n",
              "    .dataframe thead th {\n",
              "        text-align: right;\n",
              "    }\n",
              "</style>\n",
              "<table border=\"1\" class=\"dataframe\">\n",
              "  <thead>\n",
              "    <tr style=\"text-align: right;\">\n",
              "      <th></th>\n",
              "      <th>Code Élément</th>\n",
              "      <th>Code Produit</th>\n",
              "      <th>Unité</th>\n",
              "      <th>Valeur</th>\n",
              "      <th>Symbole</th>\n",
              "    </tr>\n",
              "    <tr>\n",
              "      <th>Code Pays</th>\n",
              "      <th></th>\n",
              "      <th></th>\n",
              "      <th></th>\n",
              "      <th></th>\n",
              "      <th></th>\n",
              "    </tr>\n",
              "  </thead>\n",
              "  <tbody>\n",
              "    <tr>\n",
              "      <th>2</th>\n",
              "      <td>5511</td>\n",
              "      <td>2511</td>\n",
              "      <td>Milliers de tonnes</td>\n",
              "      <td>5169.00</td>\n",
              "      <td>S</td>\n",
              "    </tr>\n",
              "    <tr>\n",
              "      <th>2</th>\n",
              "      <td>5611</td>\n",
              "      <td>2511</td>\n",
              "      <td>Milliers de tonnes</td>\n",
              "      <td>1173.00</td>\n",
              "      <td>S</td>\n",
              "    </tr>\n",
              "    <tr>\n",
              "      <th>2</th>\n",
              "      <td>5072</td>\n",
              "      <td>2511</td>\n",
              "      <td>Milliers de tonnes</td>\n",
              "      <td>-350.00</td>\n",
              "      <td>S</td>\n",
              "    </tr>\n",
              "    <tr>\n",
              "      <th>2</th>\n",
              "      <td>5301</td>\n",
              "      <td>2511</td>\n",
              "      <td>Milliers de tonnes</td>\n",
              "      <td>5992.00</td>\n",
              "      <td>S</td>\n",
              "    </tr>\n",
              "    <tr>\n",
              "      <th>2</th>\n",
              "      <td>5527</td>\n",
              "      <td>2511</td>\n",
              "      <td>Milliers de tonnes</td>\n",
              "      <td>322.00</td>\n",
              "      <td>S</td>\n",
              "    </tr>\n",
              "    <tr>\n",
              "      <th>...</th>\n",
              "      <td>...</td>\n",
              "      <td>...</td>\n",
              "      <td>...</td>\n",
              "      <td>...</td>\n",
              "      <td>...</td>\n",
              "    </tr>\n",
              "    <tr>\n",
              "      <th>351</th>\n",
              "      <td>674</td>\n",
              "      <td>2680</td>\n",
              "      <td>g/personne/jour</td>\n",
              "      <td>0.04</td>\n",
              "      <td>Fc</td>\n",
              "    </tr>\n",
              "    <tr>\n",
              "      <th>351</th>\n",
              "      <td>684</td>\n",
              "      <td>2680</td>\n",
              "      <td>g/personne/jour</td>\n",
              "      <td>0.01</td>\n",
              "      <td>Fc</td>\n",
              "    </tr>\n",
              "    <tr>\n",
              "      <th>351</th>\n",
              "      <td>664</td>\n",
              "      <td>2899</td>\n",
              "      <td>Kcal/personne/jour</td>\n",
              "      <td>0.00</td>\n",
              "      <td>Fc</td>\n",
              "    </tr>\n",
              "    <tr>\n",
              "      <th>351</th>\n",
              "      <td>674</td>\n",
              "      <td>2899</td>\n",
              "      <td>g/personne/jour</td>\n",
              "      <td>0.01</td>\n",
              "      <td>Fc</td>\n",
              "    </tr>\n",
              "    <tr>\n",
              "      <th>351</th>\n",
              "      <td>684</td>\n",
              "      <td>2899</td>\n",
              "      <td>g/personne/jour</td>\n",
              "      <td>0.00</td>\n",
              "      <td>Fc</td>\n",
              "    </tr>\n",
              "  </tbody>\n",
              "</table>\n",
              "<p>104871 rows × 5 columns</p>\n",
              "</div>"
            ],
            "text/plain": [
              "          Code Élément Code Produit               Unité   Valeur Symbole\n",
              "Code Pays                                                               \n",
              "2                 5511         2511  Milliers de tonnes  5169.00       S\n",
              "2                 5611         2511  Milliers de tonnes  1173.00       S\n",
              "2                 5072         2511  Milliers de tonnes  -350.00       S\n",
              "2                 5301         2511  Milliers de tonnes  5992.00       S\n",
              "2                 5527         2511  Milliers de tonnes   322.00       S\n",
              "...                ...          ...                 ...      ...     ...\n",
              "351                674         2680     g/personne/jour     0.04      Fc\n",
              "351                684         2680     g/personne/jour     0.01      Fc\n",
              "351                664         2899  Kcal/personne/jour     0.00      Fc\n",
              "351                674         2899     g/personne/jour     0.01      Fc\n",
              "351                684         2899     g/personne/jour     0.00      Fc\n",
              "\n",
              "[104871 rows x 5 columns]"
            ]
          },
          "execution_count": 3,
          "metadata": {},
          "output_type": "execute_result"
        }
      ],
      "source": [
        "#FAO2013V Contient que les dimensions intersectées\n",
        "FAO2013V=FAOSTAT_2013_vegetal\n",
        "FAO2013V=FAO2013V[['Code Élément', 'Code Produit', 'Unité', 'Valeur','Symbole']]\n",
        "FAO2013V"
      ]
    },
    {
      "cell_type": "code",
      "execution_count": 4,
      "metadata": {},
      "outputs": [
        {
          "data": {
            "text/html": [
              "<div>\n",
              "<style scoped>\n",
              "    .dataframe tbody tr th:only-of-type {\n",
              "        vertical-align: middle;\n",
              "    }\n",
              "\n",
              "    .dataframe tbody tr th {\n",
              "        vertical-align: top;\n",
              "    }\n",
              "\n",
              "    .dataframe thead th {\n",
              "        text-align: right;\n",
              "    }\n",
              "</style>\n",
              "<table border=\"1\" class=\"dataframe\">\n",
              "  <thead>\n",
              "    <tr style=\"text-align: right;\">\n",
              "      <th></th>\n",
              "      <th>Code Domaine</th>\n",
              "      <th>Code Élément</th>\n",
              "      <th>Code Produit (CPC)</th>\n",
              "      <th>Unité</th>\n",
              "      <th>Valeur</th>\n",
              "      <th>Symbole</th>\n",
              "    </tr>\n",
              "    <tr>\n",
              "      <th>Code zone (M49)</th>\n",
              "      <th></th>\n",
              "      <th></th>\n",
              "      <th></th>\n",
              "      <th></th>\n",
              "      <th></th>\n",
              "      <th></th>\n",
              "    </tr>\n",
              "  </thead>\n",
              "  <tbody>\n",
              "    <tr>\n",
              "      <th>4</th>\n",
              "      <td>QCL</td>\n",
              "      <td>5510</td>\n",
              "      <td>21159.02</td>\n",
              "      <td>tonnes</td>\n",
              "      <td>549.0</td>\n",
              "      <td>I</td>\n",
              "    </tr>\n",
              "    <tr>\n",
              "      <th>4</th>\n",
              "      <td>QCL</td>\n",
              "      <td>5320</td>\n",
              "      <td>21159.02</td>\n",
              "      <td>Tête</td>\n",
              "      <td>20323.0</td>\n",
              "      <td>I</td>\n",
              "    </tr>\n",
              "    <tr>\n",
              "      <th>4</th>\n",
              "      <td>QCL</td>\n",
              "      <td>5510</td>\n",
              "      <td>21151</td>\n",
              "      <td>tonnes</td>\n",
              "      <td>20356.0</td>\n",
              "      <td>I</td>\n",
              "    </tr>\n",
              "    <tr>\n",
              "      <th>4</th>\n",
              "      <td>QCL</td>\n",
              "      <td>5320</td>\n",
              "      <td>21151</td>\n",
              "      <td>Tête</td>\n",
              "      <td>644498.0</td>\n",
              "      <td>E</td>\n",
              "    </tr>\n",
              "    <tr>\n",
              "      <th>4</th>\n",
              "      <td>QCL</td>\n",
              "      <td>5510</td>\n",
              "      <td>21156</td>\n",
              "      <td>tonnes</td>\n",
              "      <td>9024.0</td>\n",
              "      <td>I</td>\n",
              "    </tr>\n",
              "    <tr>\n",
              "      <th>...</th>\n",
              "      <td>...</td>\n",
              "      <td>...</td>\n",
              "      <td>...</td>\n",
              "      <td>...</td>\n",
              "      <td>...</td>\n",
              "      <td>...</td>\n",
              "    </tr>\n",
              "    <tr>\n",
              "      <th>716</th>\n",
              "      <td>QCL</td>\n",
              "      <td>5510</td>\n",
              "      <td>21121</td>\n",
              "      <td>tonnes</td>\n",
              "      <td>67211.0</td>\n",
              "      <td>E</td>\n",
              "    </tr>\n",
              "    <tr>\n",
              "      <th>716</th>\n",
              "      <td>QCL</td>\n",
              "      <td>5321</td>\n",
              "      <td>21121</td>\n",
              "      <td>1000 têtes</td>\n",
              "      <td>58444.0</td>\n",
              "      <td>E</td>\n",
              "    </tr>\n",
              "    <tr>\n",
              "      <th>716</th>\n",
              "      <td>QCL</td>\n",
              "      <td>5417</td>\n",
              "      <td>21113.01</td>\n",
              "      <td>hg/An</td>\n",
              "      <td>550.0</td>\n",
              "      <td>E</td>\n",
              "    </tr>\n",
              "    <tr>\n",
              "      <th>716</th>\n",
              "      <td>QCL</td>\n",
              "      <td>5510</td>\n",
              "      <td>21113.01</td>\n",
              "      <td>tonnes</td>\n",
              "      <td>10107.0</td>\n",
              "      <td>I</td>\n",
              "    </tr>\n",
              "    <tr>\n",
              "      <th>716</th>\n",
              "      <td>QCL</td>\n",
              "      <td>5320</td>\n",
              "      <td>21113.01</td>\n",
              "      <td>Tête</td>\n",
              "      <td>183923.0</td>\n",
              "      <td>A</td>\n",
              "    </tr>\n",
              "  </tbody>\n",
              "</table>\n",
              "<p>41752 rows × 6 columns</p>\n",
              "</div>"
            ],
            "text/plain": [
              "                Code Domaine Code Élément Code Produit (CPC)       Unité  \\\n",
              "Code zone (M49)                                                            \n",
              "4                        QCL         5510           21159.02      tonnes   \n",
              "4                        QCL         5320           21159.02        Tête   \n",
              "4                        QCL         5510              21151      tonnes   \n",
              "4                        QCL         5320              21151        Tête   \n",
              "4                        QCL         5510              21156      tonnes   \n",
              "...                      ...          ...                ...         ...   \n",
              "716                      QCL         5510              21121      tonnes   \n",
              "716                      QCL         5321              21121  1000 têtes   \n",
              "716                      QCL         5417           21113.01       hg/An   \n",
              "716                      QCL         5510           21113.01      tonnes   \n",
              "716                      QCL         5320           21113.01        Tête   \n",
              "\n",
              "                   Valeur Symbole  \n",
              "Code zone (M49)                    \n",
              "4                   549.0       I  \n",
              "4                 20323.0       I  \n",
              "4                 20356.0       I  \n",
              "4                644498.0       E  \n",
              "4                  9024.0       I  \n",
              "...                   ...     ...  \n",
              "716               67211.0       E  \n",
              "716               58444.0       E  \n",
              "716                 550.0       E  \n",
              "716               10107.0       I  \n",
              "716              183923.0       A  \n",
              "\n",
              "[41752 rows x 6 columns]"
            ]
          },
          "execution_count": 4,
          "metadata": {},
          "output_type": "execute_result"
        }
      ],
      "source": [
        "#FAO2020CPA Contient que les dimensions intersectées\n",
        "FAO2020CPA=FAOSTAT_2020_Cultures_produits_animaux\n",
        "FAO2020CPA=FAO2020CPA[['Code Domaine', 'Code Élément', 'Code Produit (CPC)', 'Unité','Valeur', 'Symbole']]\n",
        "FAO2020CPA"
      ]
    },
    {
      "cell_type": "code",
      "execution_count": 120,
      "metadata": {},
      "outputs": [
        {
          "data": {
            "text/html": [
              "<div>\n",
              "<style scoped>\n",
              "    .dataframe tbody tr th:only-of-type {\n",
              "        vertical-align: middle;\n",
              "    }\n",
              "\n",
              "    .dataframe tbody tr th {\n",
              "        vertical-align: top;\n",
              "    }\n",
              "\n",
              "    .dataframe thead th {\n",
              "        text-align: right;\n",
              "    }\n",
              "</style>\n",
              "<table border=\"1\" class=\"dataframe\">\n",
              "  <thead>\n",
              "    <tr style=\"text-align: right;\">\n",
              "      <th></th>\n",
              "      <th>Code Élément</th>\n",
              "      <th>Code Produit</th>\n",
              "      <th>Unité</th>\n",
              "      <th>Valeur</th>\n",
              "      <th>Symbole</th>\n",
              "    </tr>\n",
              "    <tr>\n",
              "      <th>Code Pays</th>\n",
              "      <th></th>\n",
              "      <th></th>\n",
              "      <th></th>\n",
              "      <th></th>\n",
              "      <th></th>\n",
              "    </tr>\n",
              "  </thead>\n",
              "  <tbody>\n",
              "  </tbody>\n",
              "</table>\n",
              "</div>"
            ],
            "text/plain": [
              "Empty DataFrame\n",
              "Columns: [Code Élément, Code Produit, Unité, Valeur, Symbole]\n",
              "Index: []"
            ]
          },
          "execution_count": 120,
          "metadata": {},
          "output_type": "execute_result"
        }
      ],
      "source": [
        "#Supprime les lignes ou il y n'a pas de valeurs\n",
        "FAO2013V=FAO2013V.dropna()\n",
        "FAO2020CPA=FAO2020CPA.dropna()\n",
        "\n",
        "#Supprime les lignes 'variation de stock'\n",
        "FAO2013V = FAO2013V.drop(FAO2013V[FAO2013V['Code Élément'] == '5072'].index)\n",
        "FAO2013V"
      ]
    },
    {
      "cell_type": "code",
      "execution_count": 72,
      "metadata": {},
      "outputs": [
        {
          "data": {
            "text/html": [
              "<div>\n",
              "<style scoped>\n",
              "    .dataframe tbody tr th:only-of-type {\n",
              "        vertical-align: middle;\n",
              "    }\n",
              "\n",
              "    .dataframe tbody tr th {\n",
              "        vertical-align: top;\n",
              "    }\n",
              "\n",
              "    .dataframe thead th {\n",
              "        text-align: right;\n",
              "    }\n",
              "</style>\n",
              "<table border=\"1\" class=\"dataframe\">\n",
              "  <thead>\n",
              "    <tr style=\"text-align: right;\">\n",
              "      <th></th>\n",
              "      <th>Symbole</th>\n",
              "      <th>Description du Symbole</th>\n",
              "    </tr>\n",
              "    <tr>\n",
              "      <th>Code Pays</th>\n",
              "      <th></th>\n",
              "      <th></th>\n",
              "    </tr>\n",
              "  </thead>\n",
              "  <tbody>\n",
              "    <tr>\n",
              "      <th>2</th>\n",
              "      <td>S</td>\n",
              "      <td>Données standardisées</td>\n",
              "    </tr>\n",
              "    <tr>\n",
              "      <th>2</th>\n",
              "      <td>Fc</td>\n",
              "      <td>Donnée calculée</td>\n",
              "    </tr>\n",
              "    <tr>\n",
              "      <th>351</th>\n",
              "      <td>A</td>\n",
              "      <td>Agrégat, peut inclure des données officielles,...</td>\n",
              "    </tr>\n",
              "  </tbody>\n",
              "</table>\n",
              "</div>"
            ],
            "text/plain": [
              "          Symbole                             Description du Symbole\n",
              "Code Pays                                                           \n",
              "2               S                              Données standardisées\n",
              "2              Fc                                    Donnée calculée\n",
              "351             A  Agrégat, peut inclure des données officielles,..."
            ]
          },
          "execution_count": 72,
          "metadata": {},
          "output_type": "execute_result"
        }
      ],
      "source": [
        "#Les tables de correspondance\n",
        "FAO2013V_Domaine=FAOSTAT_2013_vegetal[['Code Domaine', 'Domaine']].drop_duplicates()\n",
        "FAO2013V_Pays=FAOSTAT_2013_vegetal[['Pays']].drop_duplicates()\n",
        "FAO2013V_Élément=FAOSTAT_2013_vegetal[['Code Élément', 'Élément']].drop_duplicates()\n",
        "FAO2013V_Produit=FAOSTAT_2013_vegetal[['Code Produit', 'Produit']].drop_duplicates()\n",
        "FAO2013V_Symbole=FAOSTAT_2013_vegetal[['Symbole', 'Description du Symbole']].drop_duplicates()\n",
        "FAO2013V_Symbole"
      ]
    },
    {
      "cell_type": "code",
      "execution_count": 81,
      "metadata": {},
      "outputs": [
        {
          "data": {
            "text/html": [
              "<div>\n",
              "<style scoped>\n",
              "    .dataframe tbody tr th:only-of-type {\n",
              "        vertical-align: middle;\n",
              "    }\n",
              "\n",
              "    .dataframe tbody tr th {\n",
              "        vertical-align: top;\n",
              "    }\n",
              "\n",
              "    .dataframe thead th {\n",
              "        text-align: right;\n",
              "    }\n",
              "</style>\n",
              "<table border=\"1\" class=\"dataframe\">\n",
              "  <thead>\n",
              "    <tr style=\"text-align: right;\">\n",
              "      <th></th>\n",
              "      <th>Symbole</th>\n",
              "      <th>Description du Symbole</th>\n",
              "    </tr>\n",
              "    <tr>\n",
              "      <th>Code zone (M49)</th>\n",
              "      <th></th>\n",
              "      <th></th>\n",
              "    </tr>\n",
              "  </thead>\n",
              "  <tbody>\n",
              "    <tr>\n",
              "      <th>4</th>\n",
              "      <td>I</td>\n",
              "      <td>Valeur imputée</td>\n",
              "    </tr>\n",
              "    <tr>\n",
              "      <th>4</th>\n",
              "      <td>E</td>\n",
              "      <td>Valeur estimée</td>\n",
              "    </tr>\n",
              "    <tr>\n",
              "      <th>4</th>\n",
              "      <td>A</td>\n",
              "      <td>Chiffre officiel</td>\n",
              "    </tr>\n",
              "    <tr>\n",
              "      <th>710</th>\n",
              "      <td>T</td>\n",
              "      <td>Chiffre non officiel</td>\n",
              "    </tr>\n",
              "    <tr>\n",
              "      <th>710</th>\n",
              "      <td>M</td>\n",
              "      <td>Valeur manquante (les données ne peuvent exist...</td>\n",
              "    </tr>\n",
              "  </tbody>\n",
              "</table>\n",
              "</div>"
            ],
            "text/plain": [
              "                Symbole                             Description du Symbole\n",
              "Code zone (M49)                                                           \n",
              "4                     I                                     Valeur imputée\n",
              "4                     E                                     Valeur estimée\n",
              "4                     A                                   Chiffre officiel\n",
              "710                   T                               Chiffre non officiel\n",
              "710                   M  Valeur manquante (les données ne peuvent exist..."
            ]
          },
          "execution_count": 81,
          "metadata": {},
          "output_type": "execute_result"
        }
      ],
      "source": [
        "#Les tables de correspondance\n",
        "FAO2020CPA_Domaine=FAOSTAT_2020_Cultures_produits_animaux[['Code Domaine','Domaine']].drop_duplicates()\n",
        "FAO2020CPA_Zone=FAOSTAT_2020_Cultures_produits_animaux[['Zone']].drop_duplicates()\n",
        "FAO2020CPA_Élément=FAOSTAT_2020_Cultures_produits_animaux[['Code Élément','Élément']].drop_duplicates()\n",
        "FAO2020CPA_Produit=FAOSTAT_2020_Cultures_produits_animaux[['Code Produit (CPC)','Produit']].drop_duplicates()\n",
        "FAO2020CPA_Symbole=FAOSTAT_2020_Cultures_produits_animaux[['Symbole','Description du Symbole']].drop_duplicates()\n",
        "FAO2020CPA_Symbole"
      ]
    },
    {
      "cell_type": "markdown",
      "metadata": {
        "id": "WXU-1nrKBtDC"
      },
      "source": [
        "## Partie traitement des données"
      ]
    },
    {
      "cell_type": "markdown",
      "metadata": {
        "id": "5BJWz1boDY5t"
      },
      "source": [
        "Il s’agit ici de réaliser des analyses descriptives statistiques et graphiques sur les différentes variables des jeux de données :\n",
        "\n",
        "    • Analyses univariées\n",
        "    • Analyses bi-variées\n",
        "    • Analyses multi-variées\n",
        "\n",
        "Réaliser également des analyses exploratoires sur les différentes variables"
      ]
    },
    {
      "cell_type": "markdown",
      "metadata": {
        "id": "1Lf3QTuICiKd"
      },
      "source": [
        "### 1 - Analyses descriptives et exploratoire des données"
      ]
    },
    {
      "cell_type": "markdown",
      "metadata": {
        "id": "oela_0itDYJH"
      },
      "source": [
        "Il s’agit ici de réaliser des analyses descriptives statistiques et graphiques sur les différentes variables des jeux de données :\n",
        "    • Analyses univariées\n",
        "    • Analyses bi-variées\n",
        "    • Analyses multi-variées\n",
        "Réaliser également des analyses exploratoires sur les différentes variables"
      ]
    },
    {
      "cell_type": "code",
      "execution_count": 109,
      "metadata": {
        "id": "NniaH68-Zn3w"
      },
      "outputs": [
        {
          "data": {
            "text/html": [
              "<div>\n",
              "<style scoped>\n",
              "    .dataframe tbody tr th:only-of-type {\n",
              "        vertical-align: middle;\n",
              "    }\n",
              "\n",
              "    .dataframe tbody tr th {\n",
              "        vertical-align: top;\n",
              "    }\n",
              "\n",
              "    .dataframe thead th {\n",
              "        text-align: right;\n",
              "    }\n",
              "</style>\n",
              "<table border=\"1\" class=\"dataframe\">\n",
              "  <thead>\n",
              "    <tr style=\"text-align: right;\">\n",
              "      <th></th>\n",
              "      <th>Valeur</th>\n",
              "    </tr>\n",
              "  </thead>\n",
              "  <tbody>\n",
              "    <tr>\n",
              "      <th>count</th>\n",
              "      <td>67783.000000</td>\n",
              "    </tr>\n",
              "    <tr>\n",
              "      <th>mean</th>\n",
              "      <td>489.595695</td>\n",
              "    </tr>\n",
              "    <tr>\n",
              "      <th>std</th>\n",
              "      <td>7949.286495</td>\n",
              "    </tr>\n",
              "    <tr>\n",
              "      <th>min</th>\n",
              "      <td>-39863.000000</td>\n",
              "    </tr>\n",
              "    <tr>\n",
              "      <th>25%</th>\n",
              "      <td>0.000000</td>\n",
              "    </tr>\n",
              "    <tr>\n",
              "      <th>50%</th>\n",
              "      <td>3.000000</td>\n",
              "    </tr>\n",
              "    <tr>\n",
              "      <th>75%</th>\n",
              "      <td>37.000000</td>\n",
              "    </tr>\n",
              "    <tr>\n",
              "      <th>max</th>\n",
              "      <td>739267.000000</td>\n",
              "    </tr>\n",
              "  </tbody>\n",
              "</table>\n",
              "</div>"
            ],
            "text/plain": [
              "              Valeur\n",
              "count   67783.000000\n",
              "mean      489.595695\n",
              "std      7949.286495\n",
              "min    -39863.000000\n",
              "25%         0.000000\n",
              "50%         3.000000\n",
              "75%        37.000000\n",
              "max    739267.000000"
            ]
          },
          "execution_count": 109,
          "metadata": {},
          "output_type": "execute_result"
        }
      ],
      "source": [
        "#Analyses univariées\n",
        "FAO2013V[FAO2013V['Unité']=='Milliers de tonnes'].describe()"
      ]
    },
    {
      "cell_type": "code",
      "execution_count": 100,
      "metadata": {},
      "outputs": [
        {
          "data": {
            "text/html": [
              "<div>\n",
              "<style scoped>\n",
              "    .dataframe tbody tr th:only-of-type {\n",
              "        vertical-align: middle;\n",
              "    }\n",
              "\n",
              "    .dataframe tbody tr th {\n",
              "        vertical-align: top;\n",
              "    }\n",
              "\n",
              "    .dataframe thead th {\n",
              "        text-align: right;\n",
              "    }\n",
              "</style>\n",
              "<table border=\"1\" class=\"dataframe\">\n",
              "  <thead>\n",
              "    <tr style=\"text-align: right;\">\n",
              "      <th></th>\n",
              "      <th>Valeur</th>\n",
              "    </tr>\n",
              "  </thead>\n",
              "  <tbody>\n",
              "    <tr>\n",
              "      <th>count</th>\n",
              "      <td>4.067900e+04</td>\n",
              "    </tr>\n",
              "    <tr>\n",
              "      <th>mean</th>\n",
              "      <td>9.725984e+05</td>\n",
              "    </tr>\n",
              "    <tr>\n",
              "      <th>std</th>\n",
              "      <td>1.283739e+07</td>\n",
              "    </tr>\n",
              "    <tr>\n",
              "      <th>min</th>\n",
              "      <td>0.000000e+00</td>\n",
              "    </tr>\n",
              "    <tr>\n",
              "      <th>25%</th>\n",
              "      <td>1.314500e+03</td>\n",
              "    </tr>\n",
              "    <tr>\n",
              "      <th>50%</th>\n",
              "      <td>1.625000e+04</td>\n",
              "    </tr>\n",
              "    <tr>\n",
              "      <th>75%</th>\n",
              "      <td>1.149180e+05</td>\n",
              "    </tr>\n",
              "    <tr>\n",
              "      <th>max</th>\n",
              "      <td>7.571169e+08</td>\n",
              "    </tr>\n",
              "  </tbody>\n",
              "</table>\n",
              "</div>"
            ],
            "text/plain": [
              "             Valeur\n",
              "count  4.067900e+04\n",
              "mean   9.725984e+05\n",
              "std    1.283739e+07\n",
              "min    0.000000e+00\n",
              "25%    1.314500e+03\n",
              "50%    1.625000e+04\n",
              "75%    1.149180e+05\n",
              "max    7.571169e+08"
            ]
          },
          "execution_count": 100,
          "metadata": {},
          "output_type": "execute_result"
        }
      ],
      "source": [
        "#Analyses univariées\n",
        "FAO2020CPA.describe()"
      ]
    },
    {
      "cell_type": "code",
      "execution_count": null,
      "metadata": {},
      "outputs": [],
      "source": []
    },
    {
      "cell_type": "markdown",
      "metadata": {
        "id": "1nt2-WIKCb1J"
      },
      "source": [
        "### 2 - Etude guidée n°1"
      ]
    },
    {
      "cell_type": "markdown",
      "metadata": {
        "id": "aaX0yzLvD6n9"
      },
      "source": [
        "Il s’agit ici de répondre à toutes les questions ci-dessous."
      ]
    },
    {
      "cell_type": "markdown",
      "metadata": {
        "id": "otDngoRdZ-OO"
      },
      "source": [
        "#### Question 1 : Nombre d'humains sur la planète\n",
        "Calculez le nombre total d’humains sur la planète.\n",
        "Critiquez votre résultat. En cas d’anomalie, analysez et effectuer les corrections nécessaires.\n",
        "Donnez le résultat de votre calcul pour l'année 2013."
      ]
    },
    {
      "cell_type": "code",
      "execution_count": null,
      "metadata": {
        "id": "F7mUOOxHZ_9_"
      },
      "outputs": [],
      "source": []
    },
    {
      "cell_type": "markdown",
      "metadata": {
        "id": "_hAXW1I3aA2G"
      },
      "source": [
        "#### Question 2 : Redondances\n",
        "Identifiez ces redondances, en donnant votre réponse sous forme de formule mathématique (pas besoin de coder ici).\n",
        "C'est une équation à 3 termes de type (a_1 + a2 + [...] = b_1 + b_2 + [...] = c_1 + c_2 + [...]) ) faisant intervenir chacune des 11 quantités données ci dessus.\n",
        "Illustrez cette équation avec l'exemple du blé en France."
      ]
    },
    {
      "cell_type": "code",
      "execution_count": null,
      "metadata": {
        "id": "Ey3iQvJ1aDRG"
      },
      "outputs": [],
      "source": []
    },
    {
      "cell_type": "markdown",
      "metadata": {
        "id": "5HCFKjr7aDxk"
      },
      "source": [
        "#### Question 3 : Disponibilité alimentaire (calories, protéines)\n",
        "Calculez (pour chaque pays et chaque produit) la disponibilité alimentaire en kcal puis en kg de protéines. Vous ferez cela à partir de ces informations :\n",
        "- Population de chaque pays\n",
        "- Disponibilité alimentaire donnée pour chaque produit et pour chaque pays en kcal/personne/jour, -\n",
        "- Disponibilité alimentaire en protéines donnée pour chaque produit et pour chaque pays en g/personne/jour.\n",
        "Pour cette étape vous avez besoin de constituer une seule et même table à partir des tables animaux et végétaux."
      ]
    },
    {
      "cell_type": "code",
      "execution_count": null,
      "metadata": {
        "id": "B4jG5kWJaKj5"
      },
      "outputs": [],
      "source": []
    },
    {
      "cell_type": "markdown",
      "metadata": {
        "id": "zu-LYhy7aLR9"
      },
      "source": [
        "#### Question 4 : Ratio énergie/poids\n",
        "A partir de ces dernières informations, et à partir du poids de la disponibilité alimentaire (pour chaque pays et chaque produit), calculez pour chaque produit le ratio \"énergie/poids\", que vous donnerez en kcal/kg. Vous pouvez vérifier la cohérence de votre calcul en comparant ce ratio aux données disponibles sur internet, par exemple en cherchant la valeur calorique d'un oeuf."
      ]
    },
    {
      "cell_type": "code",
      "execution_count": null,
      "metadata": {
        "id": "3akvxo_iaYrw"
      },
      "outputs": [],
      "source": []
    },
    {
      "cell_type": "markdown",
      "metadata": {
        "id": "sPhgBCDhaZC1"
      },
      "source": [
        "#### Question 5 : Aliments les plus caloriques et protéiques\n",
        "En considérant les aliments végétaux et animaux, citez 5 aliments parmi les 20 aliments les plus caloriques, en utilisant le ratio énergie/poids. Citez 5 aliments parmi les 20 aliments les plus riches en protéines."
      ]
    },
    {
      "cell_type": "code",
      "execution_count": null,
      "metadata": {
        "id": "0V9zjYedabKw"
      },
      "outputs": [],
      "source": []
    },
    {
      "cell_type": "markdown",
      "metadata": {
        "id": "H1lMRHTYabeR"
      },
      "source": [
        "#### Question 6 : Dispo. intérieure mondiale des végétaux\n",
        "Calculez, pour les produits végétaux uniquement, la disponibilité intérieure mondiale exprimée en kcal."
      ]
    },
    {
      "cell_type": "code",
      "execution_count": null,
      "metadata": {
        "id": "Wzif22s4aeuj"
      },
      "outputs": [],
      "source": []
    },
    {
      "cell_type": "markdown",
      "metadata": {
        "id": "ApEOgLexafF0"
      },
      "source": [
        "#### Question 7 : Potentiel alimentaire des végétaux\n",
        "Combien d'humains pourraient être nourris si toute la disponibilité intérieure mondiale de produits végétaux était utilisée pour de la nourriture ? Donnez les résultats en termes de calories, puis de protéines, et exprimez ensuite ces 2 résultats en pourcentage de la population mondiale."
      ]
    },
    {
      "cell_type": "code",
      "execution_count": null,
      "metadata": {
        "id": "ZtwIMbFuahrI"
      },
      "outputs": [],
      "source": []
    },
    {
      "cell_type": "markdown",
      "metadata": {
        "id": "GBWwrg-OaiB2"
      },
      "source": [
        "#### Question 8 : Potentiel alimentaire des végétaux (destinés aux animaux pertes)\n",
        "Combien d'humains pourraient être nourris si toute la disponibilité alimentaire en produits végétaux la nourriture végétale destinée aux animaux et les pertes de produits végétaux étaient utilisés pour de la nourriture ? Donnez les résultats en termes de calories, puis de protéines, et exprimez ensuite ces 2 résultats en pourcentage de la population mondiale."
      ]
    },
    {
      "cell_type": "code",
      "execution_count": null,
      "metadata": {
        "id": "iF5Im1vEaky4"
      },
      "outputs": [],
      "source": []
    },
    {
      "cell_type": "markdown",
      "metadata": {
        "id": "kL0p9FpIalN0"
      },
      "source": [
        "#### Question 9 : Potentiel alimentaire de la dispo. Mondiale\n",
        "Combien d'humains pourraient être nourris avec la disponibilité alimentaire mondiale ? Donnez les résultats en termes de calories, puis de protéines, et exprimez ensuite ces 2 résultats en pourcentage de la population mondiale."
      ]
    },
    {
      "cell_type": "code",
      "execution_count": null,
      "metadata": {
        "id": "TIibNjMbaoNO"
      },
      "outputs": [],
      "source": []
    },
    {
      "cell_type": "markdown",
      "metadata": {
        "id": "P8yMAZWqaolA"
      },
      "source": [
        "#### Question 10 : Proportion de la sous-nutrition mondiale\n",
        "A partir des données téléchargées qui concernent la sous-nutrition, répondez à cette question : Quelle proportion de la population mondiale est considérée comme étant en sous-nutrition ?"
      ]
    },
    {
      "cell_type": "code",
      "execution_count": null,
      "metadata": {
        "id": "BUHyqcKOarGi"
      },
      "outputs": [],
      "source": []
    },
    {
      "cell_type": "markdown",
      "metadata": {
        "id": "JOB7I9fDarj7"
      },
      "source": [
        "#### Question 11 : Céréales\n",
        "Établissez la liste des produits (ainsi que leur code) considéré comme des céréales selon la FAO. En ne prenant en compte que les céréales destinées à l'alimentation (humaine et animale), quelle proportion (en termes de poids) est destinée à l'alimentation animale ?"
      ]
    },
    {
      "cell_type": "code",
      "execution_count": null,
      "metadata": {
        "id": "OkJK7gp_au3k"
      },
      "outputs": [],
      "source": []
    },
    {
      "cell_type": "markdown",
      "metadata": {
        "id": "1s2qNH1savTW"
      },
      "source": [
        "#### Question 12 : Sous-nutrition\n",
        "Sélectionnez parmi les données des bilans alimentaires les informations relatives aux pays dans lesquels la FAO recense des personnes en sous-nutrition.\n",
        "Repérez les 15 produits les plus exportés par ce groupe de pays.\n",
        "Parmi les données des bilans alimentaires au niveau mondial, sélectionnez les 200 plus grandes importations de ces produits (1 importation = une quantité d'un produit donné importée par un pays donné).\n",
        "Groupez ces importations par produit, afin d'avoir une table contenant 1 ligne pour chacun des 15 produits. Ensuite, calculez pour chaque produit les 2 quantités suivantes :\n",
        "\n",
        "    • le ratio entre la quantité destinés aux \"Autres utilisations\" (Other uses) et la disponibilité intérieure.\n",
        "    • le ratio entre la quantité destinée à la nourriture animale et la quantité destinée à la nourriture (animale + humaine)\n",
        "    \n",
        "Donnez les 3 produits qui ont la plus grande valeur pour chacun des 2 ratios (vous aurez donc 6 produits à citer)"
      ]
    },
    {
      "cell_type": "code",
      "execution_count": null,
      "metadata": {
        "id": "cBVydeGyay3c"
      },
      "outputs": [],
      "source": []
    },
    {
      "cell_type": "markdown",
      "metadata": {
        "id": "Yl6GPYa4a6ON"
      },
      "source": [
        "#### Question 13 : USA\n",
        "Combien de tonnes de céréales pourraient être libérées si les USA diminuaient leur production de produits animaux de 10% ?"
      ]
    },
    {
      "cell_type": "code",
      "execution_count": null,
      "metadata": {
        "id": "S6Ywb72ha66u"
      },
      "outputs": [],
      "source": []
    },
    {
      "cell_type": "markdown",
      "metadata": {
        "id": "A8lVRTZcZtwL"
      },
      "source": [
        "#### Question 14 : Thaïlande\n",
        "En Thaïlande, quelle proportion de manioc est exportée ? Quelle est la proportion de personnes en sous-nutrition?"
      ]
    },
    {
      "cell_type": "code",
      "execution_count": null,
      "metadata": {
        "id": "W5ueGBdEZmHg"
      },
      "outputs": [],
      "source": []
    },
    {
      "cell_type": "markdown",
      "metadata": {
        "id": "FUW1pFjca11r"
      },
      "source": []
    },
    {
      "cell_type": "markdown",
      "metadata": {
        "id": "b3RaTavFDqOY"
      },
      "source": [
        "### 3 - Etude guidée n°2"
      ]
    },
    {
      "cell_type": "markdown",
      "metadata": {
        "id": "qlW56DtHD1lk"
      },
      "source": [
        "Il s’agit ici d’intégrer toutes les données dans une base de données relationnelle puis de répondre à toutes les questions ci-dessous.\n",
        "La base de données contiendra 4 tables : population, dispo_alim, equilibre_prod, sous_nutrition."
      ]
    },
    {
      "cell_type": "markdown",
      "metadata": {
        "id": "RHq8CB_CZHI5"
      },
      "source": [
        "#### Question 15 : Table population\n",
        "Définir une clé primaire pertinente pour la table population. Intégrer la table dans la base de données relationnelle."
      ]
    },
    {
      "cell_type": "code",
      "execution_count": null,
      "metadata": {
        "id": "1BJd-AIqZlZM"
      },
      "outputs": [],
      "source": []
    },
    {
      "cell_type": "markdown",
      "metadata": {
        "id": "gZFqs9R3ZgOu"
      },
      "source": [
        "#### Question 16 : Table dispo_alim\n",
        "La table appelée dispo_alim contient pour chaque pays, pour chaque produit, sur l'année 2013, les informations suivantes:\n",
        "- la nature du produit (deux valeurs possibles“animal” ou “végétal”)\n",
        "- disponibilité alimentaire en tonnes\n",
        "- disponibilité alimentaire en Kcal/personne/jour\n",
        "- disponibilité alimentaire de protéines en g/personne/jour\n",
        "- disponibilité alimentaire de matières grasses en g/personne/jour\n",
        "La table contient ces colonnes : pays, code_pays, année, produit, code_produit, origin, dispo_alim_tonnes, dispo_alim_kcal_p_j, dispo_prot, dispo_mat_gr .\n",
        "Définir une clé primaire pertinente pour la table dispo_alim. Intégrer la table dans la base de données relationnelle."
      ]
    },
    {
      "cell_type": "code",
      "execution_count": null,
      "metadata": {
        "id": "zaQT09kIZk2y"
      },
      "outputs": [],
      "source": []
    },
    {
      "cell_type": "markdown",
      "metadata": {
        "id": "v6zLu0GVZbxU"
      },
      "source": [
        "#### Question 17 : Table equilibre_prod\n",
        "La table appelée equilibre_prod contient pour chaque pays, pour chaque produit, et pour l'année disponible 2013, les quantités suivantes :\n",
        "- disponibilité intérieure\n",
        "- aliments pour animaux\n",
        "- semences\n",
        "- pertes\n",
        "- transformés\n",
        "- nourriture\n",
        "- autres utilisations\n",
        "Elle contient ces colonnes : pays, code_pays, année, produit, code_produit, dispo_int, alim_ani, semences, pertes, transfo, nourriture, autres_utilisations.\n",
        "Définir une clé primaire pertinente pour la table equilibre_prod. Intégrer la table dans la base de données relationnelle."
      ]
    },
    {
      "cell_type": "code",
      "execution_count": null,
      "metadata": {
        "id": "ugM0Q_l7ZjxR"
      },
      "outputs": [],
      "source": []
    },
    {
      "cell_type": "markdown",
      "metadata": {
        "id": "SKindtOJZYXY"
      },
      "source": [
        "#### Question 18 : Table sous_nutrition\n",
        "La table appelée sous_nutrition, contient le nombre de personnes en sous-alimentation pour chaque pays et pour chaque année. Elle contient 4 colonnes : pays, code_pays, année, nb_personnes.\n",
        "Définir une clé primaire pertinente pour la table sous_nutrition. Intégrer la table dans la base de données relationnelle."
      ]
    },
    {
      "cell_type": "code",
      "execution_count": null,
      "metadata": {
        "id": "HUcuhgklZVbX"
      },
      "outputs": [],
      "source": []
    },
    {
      "cell_type": "markdown",
      "metadata": {
        "id": "_lHWO4wTZWHY"
      },
      "source": [
        "#### Question 19 : Requêtes SQL\n",
        "Formuler les requêtes SQL pour répondre aux questions suivantes :\n",
        "    • Quels sont les 10 pays ayant le plus haut ratio disponibilité alimentaire/habitant en termes de protéines (en kg) par habitant, puis en termes de kcal par habitant ?\n",
        "    • Quels sont les 10 pays ayant le plus faible ratio disponibilité alimentaire/habitant en termes de protéines (en kg) par habitant ?\n",
        "    • Quelle est la quantité totale (en kg) de produits perdus par pays?\n",
        "    • Quels sont les 10 pays pour lesquels la proportion de personnes sous-alimentées est la plus forte ?\n",
        "    • Quels sont les 10 produits pour lesquels le ratio Autres utilisations/Disponibilité intérieure est le plus élevé ?"
      ]
    },
    {
      "cell_type": "code",
      "execution_count": null,
      "metadata": {
        "id": "61BOSvDUZips"
      },
      "outputs": [],
      "source": []
    },
    {
      "cell_type": "markdown",
      "metadata": {
        "id": "sYtYZ_uvZK9r"
      },
      "source": [
        "#### Question 20 : Autres utilisations des produits\n",
        "Pour quelques-uns des produits identifiés dans cette dernière requête SQL, supposez quelles sont ces \"autres utilisations\" possibles (recherchez sur internet !)."
      ]
    },
    {
      "cell_type": "code",
      "execution_count": null,
      "metadata": {
        "id": "LCJ3PxDhZjG-"
      },
      "outputs": [],
      "source": []
    },
    {
      "cell_type": "markdown",
      "metadata": {
        "id": "4oVN2zheD-A_"
      },
      "source": [
        "### 4 - Analyses complémentaire"
      ]
    },
    {
      "cell_type": "markdown",
      "metadata": {
        "id": "igoMHlNrEBYZ"
      },
      "source": [
        "Fort de votre expérience de Data Analyst, il s’agit maintenant de réaliser vos propres analyses et exploration."
      ]
    }
  ],
  "metadata": {
    "colab": {
      "provenance": [],
      "toc_visible": true
    },
    "kernelspec": {
      "display_name": "Python 3",
      "name": "python3"
    },
    "language_info": {
      "codemirror_mode": {
        "name": "ipython",
        "version": 3
      },
      "file_extension": ".py",
      "mimetype": "text/x-python",
      "name": "python",
      "nbconvert_exporter": "python",
      "pygments_lexer": "ipython3",
      "version": "3.11.5"
    }
  },
  "nbformat": 4,
  "nbformat_minor": 0
}
