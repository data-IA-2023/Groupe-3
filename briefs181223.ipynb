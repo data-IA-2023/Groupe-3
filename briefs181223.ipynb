{
  "cells": [
    {
      "cell_type": "markdown",
      "metadata": {
        "id": "dDYnD_yh-skJ"
      },
      "source": [
        "# Data Analyst au sein de la FAO"
      ]
    },
    {
      "cell_type": "markdown",
      "metadata": {
        "id": "Bhgi21K2-nFa"
      },
      "source": [
        "lien du brief : https://simplonline.co/briefs/688fc302-e4d4-4324-8904-f22316c31713\n",
        "\n"
      ]
    },
    {
      "cell_type": "markdown",
      "metadata": {
        "id": "31doXc7fFxKl"
      },
      "source": [
        "lien du dossier git : https://github.com/data-IA-2023/Groupe-3\n"
      ]
    },
    {
      "cell_type": "markdown",
      "metadata": {
        "id": "8mrHC_I5-ykk"
      },
      "source": [
        "Vous venez d'intégrer la FAO (Food and Agriculture Organization of the United Nations). BRAVO !!!!!!\n",
        "Vous allez mener votre première mission en analysant les données mondiales de production agricole, d'alimentation et de nutrition."
      ]
    },
    {
      "cell_type": "markdown",
      "metadata": {
        "id": "FUVcknHlAIC_"
      },
      "source": [
        "**Livrables**\n",
        "\n",
        "* Un dépôt Github\n",
        "* Un notebook **fonctionnel, documenté et commenté**\n",
        "* Une présentation écrite et orale résumant vos travaux, votre analyse et vos recommandations"
      ]
    },
    {
      "cell_type": "markdown",
      "metadata": {
        "id": "fcBxpeFXAkMg"
      },
      "source": [
        "**Contexte du projet**\n",
        "\n",
        "* Au sein du service Data Analytics and Prospective de la FAO, vous êtes en charge d'analyser les données produites par les Nations Unies.\n",
        "\n",
        "* Ces analyses conduisent à des rapports de synthèse à destination des décideurs.\n",
        "\n",
        "* Pour êtes également en charge de la partie Prospective, c'est à dire donner des tendances et des évolutions probables quant à la production agricole, à l'alimentation et la nutrition mondiales.\n"
      ]
    },
    {
      "cell_type": "markdown",
      "metadata": {
        "id": "wICIZAqLAonV"
      },
      "source": [
        "**Ressource(s)**\n",
        "\n",
        "FAO - Wikipedia : https://fr.wikipedia.org/wiki/Organisation_des_Nations_unies_pour_l'alimentation_et_l'agriculture\n",
        "\n",
        "FAOSTAT : https://www.fao.org/faostat/fr/#home\n",
        "\n",
        "Les données FAO 2013 : https://github.com/remijul/dataset/tree/master/fao_2013"
      ]
    },
    {
      "cell_type": "markdown",
      "metadata": {
        "id": "WXU-1nrKBtDC"
      },
      "source": [
        "## Partie traitement des données"
      ]
    },
    {
      "cell_type": "code",
      "execution_count": 112,
      "metadata": {},
      "outputs": [],
      "source": [
        "import pandas as pd\n",
        "import numpy as np\n",
        "import matplotlib.pyplot as plt\n",
        "import seaborn as sns\n",
        "import plotly.express as px\n",
        "\n",
        "#Chargement des données avec définition de l'index et changement des types des  dimensions\n",
        "url_bd=\"https://github.com/remijul/dataset/raw/4156ed0c38c1f5e81b3bf8e6458a245c5fa6c35a/\"\n",
        "url_bd=\"\"\n",
        "\n",
        "chemein_BD_vegetal = url_bd+\"fao_2013/FAOSTAT_2013_vegetal.csv\"\n",
        "FAOSTAT_2013_vegetal = pd.read_csv(chemein_BD_vegetal, sep=',',on_bad_lines='skip',dtype={'Code Pays': str,'Code Élément': str,'Code Produit':str, 'Année':str, 'Code Année':str})\n",
        "\n",
        "chemein_BD = url_bd+\"fao_2013\\FAOSTAT_2013_animal.csv\"\n",
        "FAOSTAT_2013_animal = pd.read_csv(chemein_BD, sep=',',on_bad_lines='skip',dtype={'Code Pays': str,'Code Élément': str,'Code Produit':str, 'Code année':str, 'Année':str})\n",
        "\n",
        "chemein_BD = url_bd+\"fao_2013\\FAOSTAT_2013_cereal.csv\"\n",
        "FAOSTAT_2013_cereal = pd.read_csv(chemein_BD, sep=',',on_bad_lines='skip',dtype={'Code Pays': str,'Code Élément': str,'Code Produit': str,'Code Année': str,'Année': str})\n",
        "\n",
        "chemein_BD = url_bd+\"fao_2013\\FAOSTAT_2013_population.csv\"\n",
        "FAOSTAT_2013_population = pd.read_csv(chemein_BD, sep=',',on_bad_lines='skip',dtype={'Country Code': str,'Element Code': str,'Item Code': str,'Year Code': str,'Year': str})\n",
        "\n",
        "chemein_BD = url_bd+\"fao_2013\\FAOSTAT_2013_sous_alimentation.csv\"\n",
        "FAOSTAT_2013_sous_alimentation = pd.read_csv(chemein_BD, sep=',',on_bad_lines='skip',dtype={'Code zone': str,'Code Élément': str,'Code Produit': str,'Code année': str,'Année': str})\n",
        "\n"
      ]
    },
    {
      "cell_type": "markdown",
      "metadata": {
        "id": "1nt2-WIKCb1J"
      },
      "source": [
        "### 1 - Etude guidée n°1"
      ]
    },
    {
      "cell_type": "markdown",
      "metadata": {
        "id": "aaX0yzLvD6n9"
      },
      "source": [
        "Il s’agit ici de répondre à toutes les questions ci-dessous."
      ]
    },
    {
      "cell_type": "markdown",
      "metadata": {
        "id": "otDngoRdZ-OO"
      },
      "source": [
        "#### Question 1 : Nombre d'humains sur la planète\n",
        "Calculez le nombre total d’humains sur la planète.\n",
        "Critiquez votre résultat. En cas d’anomalie, analysez et effectuer les corrections nécessaires.\n",
        "Donnez le résultat de votre calcul pour l'année 2013."
      ]
    },
    {
      "cell_type": "code",
      "execution_count": 113,
      "metadata": {
        "id": "F7mUOOxHZ_9_"
      },
      "outputs": [
        {
          "name": "stdout",
          "output_type": "stream",
          "text": [
            "Le nombre d'humains sur la planète est: 8413993000\n"
          ]
        }
      ],
      "source": [
        "\n",
        "Totalpopulation=FAOSTAT_2013_population['Value'].sum()*1000\n",
        "print(f\"Le nombre d'humains sur la planète est: {Totalpopulation}\")"
      ]
    },
    {
      "cell_type": "code",
      "execution_count": 114,
      "metadata": {},
      "outputs": [
        {
          "name": "stdout",
          "output_type": "stream",
          "text": [
            "Le nombre d'humains sur la planète est: 6997326000\n"
          ]
        }
      ],
      "source": [
        "FAOSTAT_2013_population.drop(FAOSTAT_2013_population[FAOSTAT_2013_population['Flag']=='A'].index, inplace=True)\n",
        "Totalpopulation=FAOSTAT_2013_population['Value'].sum()*1000\n",
        "print(f\"Le nombre d'humains sur la planète est: {Totalpopulation}\")"
      ]
    },
    {
      "cell_type": "code",
      "execution_count": 115,
      "metadata": {},
      "outputs": [],
      "source": [
        "#Supprimer les agrégats\n",
        "\n",
        "FAOSTAT_2013_animal.drop(FAOSTAT_2013_animal[FAOSTAT_2013_animal['Symbole']=='A'].index, inplace=True)\n",
        "FAOSTAT_2013_cereal.drop(FAOSTAT_2013_cereal[FAOSTAT_2013_cereal['Symbole']=='A'].index, inplace=True)\n",
        "FAOSTAT_2013_population.drop(FAOSTAT_2013_population[FAOSTAT_2013_population['Flag']=='A'].index, inplace=True)\n",
        "FAOSTAT_2013_vegetal.drop(FAOSTAT_2013_vegetal[FAOSTAT_2013_vegetal['Symbole']=='A'].index, inplace=True)\n",
        "\n",
        "#Pour sous population il n'y a pas de symbole alors en utilise Zone\n",
        "FAOSTAT_2013_sous_alimentation.drop(FAOSTAT_2013_sous_alimentation[FAOSTAT_2013_sous_alimentation['Zone']=='Chine'].index, inplace=True)"
      ]
    },
    {
      "cell_type": "markdown",
      "metadata": {
        "id": "_hAXW1I3aA2G"
      },
      "source": [
        "#### Question 2 : Redondances\n",
        "Identifiez ces redondances, en donnant votre réponse sous forme de formule mathématique (pas besoin de coder ici).\n",
        "C'est une équation à 3 termes de type (a_1 + a2 + [...] = b_1 + b_2 + [...] = c_1 + c_2 + [...]) ) faisant intervenir chacune des 11 quantités données ci dessus.\n",
        "Illustrez cette équation avec l'exemple du blé en France."
      ]
    },
    {
      "cell_type": "markdown",
      "metadata": {},
      "source": [
        "-Pour Les Data Animal, Cereal, Vegetal :\n",
        "\n",
        "    Production + 'Importations - Quantité' + Variation de stock = 'Aliments pour animaux' + 'Autres Utilisations' + Nourriture + Pertes + Semences + Traitement + 'Exportations - Quantité'\n",
        "\n",
        "    'Aliments pour animaux' + 'Autres Utilisations' + Nourriture + Pertes + Semences + Traitement = 'Disponibilité intérieure'\n",
        "\n",
        "    'Disponibilité intérieure' + 'Exportations - Quantité' = Production + 'Importations - Quantité' + Variation de stock\n",
        "    Production + Importations - Exportations + Variation de stock= Disponibilité intérieure"
      ]
    },
    {
      "cell_type": "code",
      "execution_count": 116,
      "metadata": {
        "id": "Ey3iQvJ1aDRG"
      },
      "outputs": [
        {
          "name": "stdout",
          "output_type": "stream",
          "text": [
            "la somme de Production + Importations - Quantité' + Variation de stock est 41800.0\n",
            "la somme de 'Aliments pour animaux' + 'Autres Utilisations' + Nourriture + Pertes + Semences + Traitement + 'Exportations - Quantité' est 41800.0\n",
            "Production + Importations - Exportations + Variation de stock= 20298.0\n",
            "Disponibilité = 20298.0\n"
          ]
        }
      ],
      "source": [
        "df_france=FAOSTAT_2013_cereal[FAOSTAT_2013_cereal['Pays']=='France']\n",
        "df_france=df_france[df_france['Symbole']=='S']\n",
        "df_france=df_france[df_france['Produit']=='Blé']\n",
        "\n",
        "\n",
        "Production=df_france[df_france['Élément']=='Production']['Valeur'].sum()\n",
        "Importations=df_france[df_france['Élément']=='Importations - Quantité']['Valeur'].sum()\n",
        "Variation=df_france[df_france['Élément']=='Variation de stock']['Valeur'].sum()\n",
        "\n",
        "\n",
        "Aliments_animaux=df_france[df_france['Élément']=='Aliments pour animaux']['Valeur'].sum()\n",
        "Autres_Utilisations=df_france[df_france['Élément']=='Autres Utilisations']['Valeur'].sum()\n",
        "Nourriture=df_france[df_france['Élément']=='Nourriture']['Valeur'].sum()\n",
        "Pertes=df_france[df_france['Élément']=='Pertes']['Valeur'].sum()\n",
        "Semences=df_france[df_france['Élément']=='Semences']['Valeur'].sum()\n",
        "Traitement=df_france[df_france['Élément']=='Traitement']['Valeur'].sum()\n",
        "Exportations=df_france[df_france['Élément']=='Exportations - Quantité']['Valeur'].sum()\n",
        "Disponibilité=df_france[df_france['Élément']=='Disponibilité intérieure']['Valeur'].sum()\n",
        "\n",
        "print(f\"la somme de Production + Importations - Quantité' + Variation de stock est {Production+Importations+Variation}\")\n",
        "print(f\"la somme de 'Aliments pour animaux' + 'Autres Utilisations' + Nourriture + Pertes + Semences + Traitement + 'Exportations - Quantité' est {Aliments_animaux+Autres_Utilisations+Nourriture+Pertes+Semences+Traitement+Exportations}\")\n",
        "\n",
        "print(f\"Production + Importations - Exportations + Variation de stock= {Production+Importations-Exportations+Variation }\")\n",
        "print(f\"Disponibilité = {Disponibilité}\")"
      ]
    },
    {
      "cell_type": "markdown",
      "metadata": {
        "id": "5HCFKjr7aDxk"
      },
      "source": [
        "#### Question 3 : Disponibilité alimentaire (calories, protéines)\n",
        "Calculez (pour chaque pays et chaque produit) la disponibilité alimentaire en kcal puis en kg de protéines. Vous ferez cela à partir de ces informations :\n",
        "- Population de chaque pays\n",
        "- Disponibilité alimentaire donnée pour chaque produit et pour chaque pays en kcal/personne/jour, -\n",
        "- Disponibilité alimentaire en protéines donnée pour chaque produit et pour chaque pays en g/personne/jour.\n",
        "Pour cette étape vous avez besoin de constituer une seule et même table à partir des tables animaux et végétaux."
      ]
    },
    {
      "cell_type": "code",
      "execution_count": null,
      "metadata": {
        "id": "B4jG5kWJaKj5"
      },
      "outputs": [],
      "source": []
    },
    {
      "cell_type": "markdown",
      "metadata": {
        "id": "zu-LYhy7aLR9"
      },
      "source": [
        "#### Question 4 : Ratio énergie/poids\n",
        "A partir de ces dernières informations, et à partir du poids de la disponibilité alimentaire (pour chaque pays et chaque produit), calculez pour chaque produit le ratio \"énergie/poids\", que vous donnerez en kcal/kg. Vous pouvez vérifier la cohérence de votre calcul en comparant ce ratio aux données disponibles sur internet, par exemple en cherchant la valeur calorique d'un oeuf."
      ]
    },
    {
      "cell_type": "code",
      "execution_count": null,
      "metadata": {
        "id": "3akvxo_iaYrw"
      },
      "outputs": [],
      "source": []
    },
    {
      "cell_type": "markdown",
      "metadata": {
        "id": "sPhgBCDhaZC1"
      },
      "source": [
        "#### Question 5 : Aliments les plus caloriques et protéiques\n",
        "En considérant les aliments végétaux et animaux, citez 5 aliments parmi les 20 aliments les plus caloriques, en utilisant le ratio énergie/poids. Citez 5 aliments parmi les 20 aliments les plus riches en protéines."
      ]
    },
    {
      "cell_type": "code",
      "execution_count": null,
      "metadata": {
        "id": "0V9zjYedabKw"
      },
      "outputs": [],
      "source": []
    },
    {
      "cell_type": "markdown",
      "metadata": {
        "id": "H1lMRHTYabeR"
      },
      "source": [
        "#### Question 6 : Dispo. intérieure mondiale des végétaux\n",
        "Calculez, pour les produits végétaux uniquement, la disponibilité intérieure mondiale exprimée en kcal."
      ]
    },
    {
      "cell_type": "code",
      "execution_count": null,
      "metadata": {
        "id": "Wzif22s4aeuj"
      },
      "outputs": [],
      "source": []
    },
    {
      "cell_type": "markdown",
      "metadata": {
        "id": "ApEOgLexafF0"
      },
      "source": [
        "#### Question 7 : Potentiel alimentaire des végétaux\n",
        "Combien d'humains pourraient être nourris si toute la disponibilité intérieure mondiale de produits végétaux était utilisée pour de la nourriture ? Donnez les résultats en termes de calories, puis de protéines, et exprimez ensuite ces 2 résultats en pourcentage de la population mondiale."
      ]
    },
    {
      "cell_type": "code",
      "execution_count": null,
      "metadata": {
        "id": "ZtwIMbFuahrI"
      },
      "outputs": [],
      "source": []
    },
    {
      "cell_type": "markdown",
      "metadata": {
        "id": "GBWwrg-OaiB2"
      },
      "source": [
        "#### Question 8 : Potentiel alimentaire des végétaux (destinés aux animaux pertes)\n",
        "Combien d'humains pourraient être nourris si toute la disponibilité alimentaire en produits végétaux la nourriture végétale destinée aux animaux et les pertes de produits végétaux étaient utilisés pour de la nourriture ? Donnez les résultats en termes de calories, puis de protéines, et exprimez ensuite ces 2 résultats en pourcentage de la population mondiale."
      ]
    },
    {
      "cell_type": "code",
      "execution_count": null,
      "metadata": {
        "id": "iF5Im1vEaky4"
      },
      "outputs": [],
      "source": []
    },
    {
      "cell_type": "markdown",
      "metadata": {
        "id": "kL0p9FpIalN0"
      },
      "source": [
        "#### Question 9 : Potentiel alimentaire de la dispo. Mondiale\n",
        "Combien d'humains pourraient être nourris avec la disponibilité alimentaire mondiale ? Donnez les résultats en termes de calories, puis de protéines, et exprimez ensuite ces 2 résultats en pourcentage de la population mondiale."
      ]
    },
    {
      "cell_type": "code",
      "execution_count": null,
      "metadata": {
        "id": "TIibNjMbaoNO"
      },
      "outputs": [],
      "source": []
    },
    {
      "cell_type": "markdown",
      "metadata": {
        "id": "P8yMAZWqaolA"
      },
      "source": [
        "#### Question 10 : Proportion de la sous-nutrition mondiale\n",
        "A partir des données téléchargées qui concernent la sous-nutrition, répondez à cette question : Quelle proportion de la population mondiale est considérée comme étant en sous-nutrition ?"
      ]
    },
    {
      "cell_type": "code",
      "execution_count": 117,
      "metadata": {},
      "outputs": [
        {
          "name": "stdout",
          "output_type": "stream",
          "text": [
            "6997326000\n",
            "la proportion de la population mondiale considérée comme en sous-nutrition est 10.57%\n"
          ]
        },
        {
          "data": {
            "text/html": [
              "<div>\n",
              "<style scoped>\n",
              "    .dataframe tbody tr th:only-of-type {\n",
              "        vertical-align: middle;\n",
              "    }\n",
              "\n",
              "    .dataframe tbody tr th {\n",
              "        vertical-align: top;\n",
              "    }\n",
              "\n",
              "    .dataframe thead th {\n",
              "        text-align: right;\n",
              "    }\n",
              "</style>\n",
              "<table border=\"1\" class=\"dataframe\">\n",
              "  <thead>\n",
              "    <tr style=\"text-align: right;\">\n",
              "      <th></th>\n",
              "      <th>Code zone</th>\n",
              "      <th>Zone</th>\n",
              "      <th>Valeur</th>\n",
              "      <th>Symbole</th>\n",
              "      <th>Description du Symbole</th>\n",
              "      <th>Population</th>\n",
              "      <th>proportion</th>\n",
              "    </tr>\n",
              "  </thead>\n",
              "  <tbody>\n",
              "    <tr>\n",
              "      <th>0</th>\n",
              "      <td>2</td>\n",
              "      <td>Afghanistan</td>\n",
              "      <td>8.1</td>\n",
              "      <td>F</td>\n",
              "      <td>Estimation FAO</td>\n",
              "      <td>30552000</td>\n",
              "      <td>0.001158</td>\n",
              "    </tr>\n",
              "    <tr>\n",
              "      <th>1</th>\n",
              "      <td>202</td>\n",
              "      <td>Afrique du Sud</td>\n",
              "      <td>2.6</td>\n",
              "      <td>F</td>\n",
              "      <td>Estimation FAO</td>\n",
              "      <td>52776000</td>\n",
              "      <td>0.000372</td>\n",
              "    </tr>\n",
              "    <tr>\n",
              "      <th>2</th>\n",
              "      <td>3</td>\n",
              "      <td>Albanie</td>\n",
              "      <td>0.2</td>\n",
              "      <td>F</td>\n",
              "      <td>Estimation FAO</td>\n",
              "      <td>3173000</td>\n",
              "      <td>0.000029</td>\n",
              "    </tr>\n",
              "    <tr>\n",
              "      <th>3</th>\n",
              "      <td>4</td>\n",
              "      <td>Algérie</td>\n",
              "      <td>1.8</td>\n",
              "      <td>F</td>\n",
              "      <td>Estimation FAO</td>\n",
              "      <td>39208000</td>\n",
              "      <td>0.000257</td>\n",
              "    </tr>\n",
              "    <tr>\n",
              "      <th>4</th>\n",
              "      <td>79</td>\n",
              "      <td>Allemagne</td>\n",
              "      <td>0.0</td>\n",
              "      <td>&lt;2</td>\n",
              "      <td>Moins de 2 millions de personnes sont sous-ali...</td>\n",
              "      <td>82727000</td>\n",
              "      <td>0.000000</td>\n",
              "    </tr>\n",
              "    <tr>\n",
              "      <th>...</th>\n",
              "      <td>...</td>\n",
              "      <td>...</td>\n",
              "      <td>...</td>\n",
              "      <td>...</td>\n",
              "      <td>...</td>\n",
              "      <td>...</td>\n",
              "      <td>...</td>\n",
              "    </tr>\n",
              "    <tr>\n",
              "      <th>161</th>\n",
              "      <td>236</td>\n",
              "      <td>Venezuela (République bolivarienne du)</td>\n",
              "      <td>1.8</td>\n",
              "      <td>F</td>\n",
              "      <td>Estimation FAO</td>\n",
              "      <td>30405000</td>\n",
              "      <td>0.000257</td>\n",
              "    </tr>\n",
              "    <tr>\n",
              "      <th>162</th>\n",
              "      <td>237</td>\n",
              "      <td>Viet Nam</td>\n",
              "      <td>11.1</td>\n",
              "      <td>F</td>\n",
              "      <td>Estimation FAO</td>\n",
              "      <td>91680000</td>\n",
              "      <td>0.001586</td>\n",
              "    </tr>\n",
              "    <tr>\n",
              "      <th>163</th>\n",
              "      <td>249</td>\n",
              "      <td>Yémen</td>\n",
              "      <td>7.1</td>\n",
              "      <td>F</td>\n",
              "      <td>Estimation FAO</td>\n",
              "      <td>24407000</td>\n",
              "      <td>0.001015</td>\n",
              "    </tr>\n",
              "    <tr>\n",
              "      <th>164</th>\n",
              "      <td>251</td>\n",
              "      <td>Zambie</td>\n",
              "      <td>7.0</td>\n",
              "      <td>F</td>\n",
              "      <td>Estimation FAO</td>\n",
              "      <td>14539000</td>\n",
              "      <td>0.001000</td>\n",
              "    </tr>\n",
              "    <tr>\n",
              "      <th>165</th>\n",
              "      <td>181</td>\n",
              "      <td>Zimbabwe</td>\n",
              "      <td>6.7</td>\n",
              "      <td>F</td>\n",
              "      <td>Estimation FAO</td>\n",
              "      <td>14150000</td>\n",
              "      <td>0.000958</td>\n",
              "    </tr>\n",
              "  </tbody>\n",
              "</table>\n",
              "<p>166 rows × 7 columns</p>\n",
              "</div>"
            ],
            "text/plain": [
              "    Code zone                                    Zone  Valeur Symbole  \\\n",
              "0           2                             Afghanistan     8.1       F   \n",
              "1         202                          Afrique du Sud     2.6       F   \n",
              "2           3                                 Albanie     0.2       F   \n",
              "3           4                                 Algérie     1.8       F   \n",
              "4          79                               Allemagne     0.0      <2   \n",
              "..        ...                                     ...     ...     ...   \n",
              "161       236  Venezuela (République bolivarienne du)     1.8       F   \n",
              "162       237                                Viet Nam    11.1       F   \n",
              "163       249                                   Yémen     7.1       F   \n",
              "164       251                                  Zambie     7.0       F   \n",
              "165       181                                Zimbabwe     6.7       F   \n",
              "\n",
              "                                Description du Symbole  Population  proportion  \n",
              "0                                       Estimation FAO    30552000    0.001158  \n",
              "1                                       Estimation FAO    52776000    0.000372  \n",
              "2                                       Estimation FAO     3173000    0.000029  \n",
              "3                                       Estimation FAO    39208000    0.000257  \n",
              "4    Moins de 2 millions de personnes sont sous-ali...    82727000    0.000000  \n",
              "..                                                 ...         ...         ...  \n",
              "161                                     Estimation FAO    30405000    0.000257  \n",
              "162                                     Estimation FAO    91680000    0.001586  \n",
              "163                                     Estimation FAO    24407000    0.001015  \n",
              "164                                     Estimation FAO    14539000    0.001000  \n",
              "165                                     Estimation FAO    14150000    0.000958  \n",
              "\n",
              "[166 rows x 7 columns]"
            ]
          },
          "execution_count": 117,
          "metadata": {},
          "output_type": "execute_result"
        }
      ],
      "source": [
        "# Cleaning sous_alimentation\n",
        "FAOSTAT_2013_sous_alimentation = FAOSTAT_2013_sous_alimentation.query(\"Symbole != 'NV'\")\n",
        "df=FAOSTAT_2013_sous_alimentation\n",
        "\n",
        "dPopulation=FAOSTAT_2013_population\n",
        "dPopulation=dPopulation[['Country Code', 'Country', 'Value']]\n",
        "dPopulation.loc[:,'Value']=FAOSTAT_2013_population['Value']*1000\n",
        "\n",
        "\n",
        "\n",
        "\n",
        "df = FAOSTAT_2013_sous_alimentation.merge(dPopulation, left_on='Code zone', right_on='Country Code')\n",
        "\n",
        "df['Valeur'].fillna(0, inplace=True)\n",
        "\n",
        "df.rename(columns={'Value': 'Population'}, inplace=True)\n",
        "df=df[['Code zone', 'Zone', 'Valeur', 'Symbole', 'Description du Symbole', 'Population']]\n",
        "\n",
        "      \n",
        "df=df.assign(proportion=df['Valeur']*1e6/Totalpopulation)\n",
        "proportion_mondiale=(df['Valeur'].sum()*1e6/Totalpopulation)*100\n",
        "print(Totalpopulation)\n",
        "print(f'la proportion de la population mondiale considérée comme en sous-nutrition est {proportion_mondiale.round(2)}%')\n",
        "Sous_alimentation=df\n",
        "Sous_alimentation\n"
      ]
    },
    {
      "cell_type": "code",
      "execution_count": 118,
      "metadata": {},
      "outputs": [
        {
          "data": {
            "image/png": "[encoded data removed]",
            "text/plain": [
              "<Figure size 640x480 with 1 Axes>"
            ]
          },
          "metadata": {},
          "output_type": "display_data"
        }
      ],
      "source": [
        "# Vos données\n",
        "proportion_mondiale=(df['Valeur'].sum()*1e6/df['Population'].sum())*100\n",
        "\n",
        "\n",
        "\n",
        "population_sous_nutri = df['Valeur'].sum() * 1e6\n",
        "population_total =Totalpopulation\n",
        "\n",
        "# Création des labels et des valeurs\n",
        "labels = ['Population sous-nutri', 'Population total']\n",
        "sizes = [population_sous_nutri, population_total-population_sous_nutri]\n",
        "\n",
        "# Création du graphique\n",
        "fig1, ax1 = plt.subplots()\n",
        "ax1.pie(sizes, labels=labels, autopct='%1.1f%%', startangle=90)\n",
        "\n",
        "# Assure que le graphique est dessiné en cercle.\n",
        "ax1.axis('equal')\n",
        "\n",
        "plt.show()"
      ]
    },
    {
      "cell_type": "code",
      "execution_count": 122,
      "metadata": {
        "id": "BUHyqcKOarGi"
      },
      "outputs": [
        {
          "name": "stdout",
          "output_type": "stream",
          "text": [
            "Le nombre d'humains sur la planète est: 6997326000\n",
            "la proportion de la population mondiale considérée comme en sous-nutrition est 10.59%\n"
          ]
        },
        {
          "data": {
            "text/html": [
              "<div>\n",
              "<style scoped>\n",
              "    .dataframe tbody tr th:only-of-type {\n",
              "        vertical-align: middle;\n",
              "    }\n",
              "\n",
              "    .dataframe tbody tr th {\n",
              "        vertical-align: top;\n",
              "    }\n",
              "\n",
              "    .dataframe thead th {\n",
              "        text-align: right;\n",
              "    }\n",
              "</style>\n",
              "<table border=\"1\" class=\"dataframe\">\n",
              "  <thead>\n",
              "    <tr style=\"text-align: right;\">\n",
              "      <th></th>\n",
              "      <th>Code zone</th>\n",
              "      <th>Zone</th>\n",
              "      <th>Valeur</th>\n",
              "      <th>Symbole</th>\n",
              "      <th>Description du Symbole</th>\n",
              "      <th>Population</th>\n",
              "      <th>proportion</th>\n",
              "    </tr>\n",
              "  </thead>\n",
              "  <tbody>\n",
              "    <tr>\n",
              "      <th>0</th>\n",
              "      <td>2</td>\n",
              "      <td>Afghanistan</td>\n",
              "      <td>8.1</td>\n",
              "      <td>F</td>\n",
              "      <td>Estimation FAO</td>\n",
              "      <td>30552000</td>\n",
              "      <td>26.512176</td>\n",
              "    </tr>\n",
              "    <tr>\n",
              "      <th>1</th>\n",
              "      <td>202</td>\n",
              "      <td>Afrique du Sud</td>\n",
              "      <td>2.6</td>\n",
              "      <td>F</td>\n",
              "      <td>Estimation FAO</td>\n",
              "      <td>52776000</td>\n",
              "      <td>4.926482</td>\n",
              "    </tr>\n",
              "    <tr>\n",
              "      <th>2</th>\n",
              "      <td>3</td>\n",
              "      <td>Albanie</td>\n",
              "      <td>0.2</td>\n",
              "      <td>F</td>\n",
              "      <td>Estimation FAO</td>\n",
              "      <td>3173000</td>\n",
              "      <td>6.303183</td>\n",
              "    </tr>\n",
              "    <tr>\n",
              "      <th>3</th>\n",
              "      <td>4</td>\n",
              "      <td>Algérie</td>\n",
              "      <td>1.8</td>\n",
              "      <td>F</td>\n",
              "      <td>Estimation FAO</td>\n",
              "      <td>39208000</td>\n",
              "      <td>4.590900</td>\n",
              "    </tr>\n",
              "    <tr>\n",
              "      <th>4</th>\n",
              "      <td>79</td>\n",
              "      <td>Allemagne</td>\n",
              "      <td>NaN</td>\n",
              "      <td>&lt;2</td>\n",
              "      <td>Moins de 2 millions de personnes sont sous-ali...</td>\n",
              "      <td>82727000</td>\n",
              "      <td>NaN</td>\n",
              "    </tr>\n",
              "    <tr>\n",
              "      <th>...</th>\n",
              "      <td>...</td>\n",
              "      <td>...</td>\n",
              "      <td>...</td>\n",
              "      <td>...</td>\n",
              "      <td>...</td>\n",
              "      <td>...</td>\n",
              "      <td>...</td>\n",
              "    </tr>\n",
              "    <tr>\n",
              "      <th>161</th>\n",
              "      <td>236</td>\n",
              "      <td>Venezuela (République bolivarienne du)</td>\n",
              "      <td>1.8</td>\n",
              "      <td>F</td>\n",
              "      <td>Estimation FAO</td>\n",
              "      <td>30405000</td>\n",
              "      <td>5.920079</td>\n",
              "    </tr>\n",
              "    <tr>\n",
              "      <th>162</th>\n",
              "      <td>237</td>\n",
              "      <td>Viet Nam</td>\n",
              "      <td>11.1</td>\n",
              "      <td>F</td>\n",
              "      <td>Estimation FAO</td>\n",
              "      <td>91680000</td>\n",
              "      <td>12.107330</td>\n",
              "    </tr>\n",
              "    <tr>\n",
              "      <th>163</th>\n",
              "      <td>249</td>\n",
              "      <td>Yémen</td>\n",
              "      <td>7.1</td>\n",
              "      <td>F</td>\n",
              "      <td>Estimation FAO</td>\n",
              "      <td>24407000</td>\n",
              "      <td>29.090015</td>\n",
              "    </tr>\n",
              "    <tr>\n",
              "      <th>164</th>\n",
              "      <td>251</td>\n",
              "      <td>Zambie</td>\n",
              "      <td>7.0</td>\n",
              "      <td>F</td>\n",
              "      <td>Estimation FAO</td>\n",
              "      <td>14539000</td>\n",
              "      <td>48.146365</td>\n",
              "    </tr>\n",
              "    <tr>\n",
              "      <th>165</th>\n",
              "      <td>181</td>\n",
              "      <td>Zimbabwe</td>\n",
              "      <td>6.7</td>\n",
              "      <td>F</td>\n",
              "      <td>Estimation FAO</td>\n",
              "      <td>14150000</td>\n",
              "      <td>47.349823</td>\n",
              "    </tr>\n",
              "  </tbody>\n",
              "</table>\n",
              "<p>166 rows × 7 columns</p>\n",
              "</div>"
            ],
            "text/plain": [
              "    Code zone                                    Zone  Valeur Symbole  \\\n",
              "0           2                             Afghanistan     8.1       F   \n",
              "1         202                          Afrique du Sud     2.6       F   \n",
              "2           3                                 Albanie     0.2       F   \n",
              "3           4                                 Algérie     1.8       F   \n",
              "4          79                               Allemagne     NaN      <2   \n",
              "..        ...                                     ...     ...     ...   \n",
              "161       236  Venezuela (République bolivarienne du)     1.8       F   \n",
              "162       237                                Viet Nam    11.1       F   \n",
              "163       249                                   Yémen     7.1       F   \n",
              "164       251                                  Zambie     7.0       F   \n",
              "165       181                                Zimbabwe     6.7       F   \n",
              "\n",
              "                                Description du Symbole  Population  proportion  \n",
              "0                                       Estimation FAO    30552000   26.512176  \n",
              "1                                       Estimation FAO    52776000    4.926482  \n",
              "2                                       Estimation FAO     3173000    6.303183  \n",
              "3                                       Estimation FAO    39208000    4.590900  \n",
              "4    Moins de 2 millions de personnes sont sous-ali...    82727000         NaN  \n",
              "..                                                 ...         ...         ...  \n",
              "161                                     Estimation FAO    30405000    5.920079  \n",
              "162                                     Estimation FAO    91680000   12.107330  \n",
              "163                                     Estimation FAO    24407000   29.090015  \n",
              "164                                     Estimation FAO    14539000   48.146365  \n",
              "165                                     Estimation FAO    14150000   47.349823  \n",
              "\n",
              "[166 rows x 7 columns]"
            ]
          },
          "execution_count": 122,
          "metadata": {},
          "output_type": "execute_result"
        }
      ],
      "source": [
        "# Cleaning sous_alimentation\n",
        "FAOSTAT_2013_sous_alimentation = FAOSTAT_2013_sous_alimentation.query(\"Symbole != 'NV'\")\n",
        "df=FAOSTAT_2013_sous_alimentation.copy()\n",
        "mask = df['Symbole'].str.contains('<')\n",
        "df.loc[mask, 'Valeur'] = df.loc[mask, 'Symbole'].str.replace('<', '').astype(float)\n",
        "\n",
        "Totalpopulation=FAOSTAT_2013_population['Value'].sum()*1000\n",
        "print(f\"Le nombre d'humains sur la planète est: {Totalpopulation}\")\n",
        "\n",
        "dPopulation=FAOSTAT_2013_population\n",
        "dPopulation=dPopulation[['Country Code', 'Country', 'Value']]\n",
        "dPopulation.loc[:,'Value']=FAOSTAT_2013_population['Value']*1000\n",
        "\n",
        "\n",
        "df = FAOSTAT_2013_sous_alimentation.merge(dPopulation, left_on='Code zone', right_on='Country Code')\n",
        "#df=df.dropna()\n",
        "df.rename(columns={'Value': 'Population'}, inplace=True)\n",
        "df=df[['Code zone', 'Zone', 'Valeur', 'Symbole', 'Description du Symbole', 'Population']]\n",
        "\n",
        "      \n",
        "df=df.assign(proportion=df['Valeur']*1e6/df['Population']*100)\n",
        "proportion_mondiale=(df['Valeur'].sum()*1e6/df['Population'].sum())*100\n",
        "\n",
        "print(f'la proportion de la population mondiale considérée comme en sous-nutrition est {proportion_mondiale.round(2)}%')\n",
        "Sous_alimentation=df\n",
        "Sous_alimentation"
      ]
    },
    {
      "cell_type": "code",
      "execution_count": 120,
      "metadata": {},
      "outputs": [
        {
          "data": {
            "image/png": "[encoded data removed]",
            "text/plain": [
              "<Figure size 640x480 with 1 Axes>"
            ]
          },
          "metadata": {},
          "output_type": "display_data"
        }
      ],
      "source": [
        "# Vos données\n",
        "proportion_mondiale=(df['Valeur'].sum()*1e6/df['Population'].sum())*100\n",
        "\n",
        "\n",
        "population_sous_nutri = df['Valeur'].sum() * 1e6\n",
        "population_total =df['Population'].sum()\n",
        "\n",
        "# Création des labels et des valeurs\n",
        "labels = ['Population sous-nutri', 'Population total']\n",
        "sizes = [population_sous_nutri, population_total-population_sous_nutri]\n",
        "\n",
        "# Création du graphique\n",
        "fig1, ax1 = plt.subplots()\n",
        "ax1.pie(sizes, labels=labels, autopct='%1.1f%%', startangle=90)\n",
        "\n",
        "# Assure que le graphique est dessiné en cercle.\n",
        "ax1.axis('equal')\n",
        "\n",
        "plt.show()"
      ]
    },
    {
      "cell_type": "markdown",
      "metadata": {
        "id": "JOB7I9fDarj7"
      },
      "source": [
        "#### Question 11 : Céréales\n",
        "Établissez la liste des produits (ainsi que leur code) considéré comme des céréales selon la FAO. En ne prenant en compte que les céréales destinées à l'alimentation (humaine et animale), quelle proportion (en termes de poids) est destinée à l'alimentation animale ?"
      ]
    },
    {
      "cell_type": "code",
      "execution_count": 149,
      "metadata": {
        "id": "OkJK7gp_au3k"
      },
      "outputs": [
        {
          "data": {
            "text/html": [
              "<div>\n",
              "<style scoped>\n",
              "    .dataframe tbody tr th:only-of-type {\n",
              "        vertical-align: middle;\n",
              "    }\n",
              "\n",
              "    .dataframe tbody tr th {\n",
              "        vertical-align: top;\n",
              "    }\n",
              "\n",
              "    .dataframe thead th {\n",
              "        text-align: right;\n",
              "    }\n",
              "</style>\n",
              "<table border=\"1\" class=\"dataframe\">\n",
              "  <thead>\n",
              "    <tr style=\"text-align: right;\">\n",
              "      <th>Élément</th>\n",
              "      <th>Code Produit</th>\n",
              "      <th>Produit</th>\n",
              "      <th>Aliments pour animaux</th>\n",
              "      <th>Nourriture</th>\n",
              "      <th>proportion_animale</th>\n",
              "    </tr>\n",
              "  </thead>\n",
              "  <tbody>\n",
              "    <tr>\n",
              "      <th>0</th>\n",
              "      <td>2511</td>\n",
              "      <td>Blé</td>\n",
              "      <td>129668.0</td>\n",
              "      <td>457824.0</td>\n",
              "      <td>22.071449</td>\n",
              "    </tr>\n",
              "    <tr>\n",
              "      <th>1</th>\n",
              "      <td>2513</td>\n",
              "      <td>Orge</td>\n",
              "      <td>92658.0</td>\n",
              "      <td>6794.0</td>\n",
              "      <td>93.168564</td>\n",
              "    </tr>\n",
              "    <tr>\n",
              "      <th>2</th>\n",
              "      <td>2514</td>\n",
              "      <td>Maïs</td>\n",
              "      <td>546116.0</td>\n",
              "      <td>125184.0</td>\n",
              "      <td>81.352004</td>\n",
              "    </tr>\n",
              "    <tr>\n",
              "      <th>3</th>\n",
              "      <td>2515</td>\n",
              "      <td>Seigle</td>\n",
              "      <td>8099.0</td>\n",
              "      <td>5502.0</td>\n",
              "      <td>59.547092</td>\n",
              "    </tr>\n",
              "    <tr>\n",
              "      <th>4</th>\n",
              "      <td>2516</td>\n",
              "      <td>Avoine</td>\n",
              "      <td>16251.0</td>\n",
              "      <td>3903.0</td>\n",
              "      <td>80.634117</td>\n",
              "    </tr>\n",
              "    <tr>\n",
              "      <th>5</th>\n",
              "      <td>2517</td>\n",
              "      <td>Millet</td>\n",
              "      <td>3306.0</td>\n",
              "      <td>23040.0</td>\n",
              "      <td>12.548394</td>\n",
              "    </tr>\n",
              "    <tr>\n",
              "      <th>6</th>\n",
              "      <td>2518</td>\n",
              "      <td>Sorgho</td>\n",
              "      <td>24808.0</td>\n",
              "      <td>24153.0</td>\n",
              "      <td>50.668900</td>\n",
              "    </tr>\n",
              "    <tr>\n",
              "      <th>7</th>\n",
              "      <td>2520</td>\n",
              "      <td>Céréales, Autres</td>\n",
              "      <td>19035.0</td>\n",
              "      <td>5324.0</td>\n",
              "      <td>78.143602</td>\n",
              "    </tr>\n",
              "    <tr>\n",
              "      <th>8</th>\n",
              "      <td>2805</td>\n",
              "      <td>Riz (Eq Blanchi)</td>\n",
              "      <td>33594.0</td>\n",
              "      <td>377286.0</td>\n",
              "      <td>8.176110</td>\n",
              "    </tr>\n",
              "  </tbody>\n",
              "</table>\n",
              "</div>"
            ],
            "text/plain": [
              "Élément Code Produit           Produit  Aliments pour animaux  Nourriture  \\\n",
              "0               2511               Blé               129668.0    457824.0   \n",
              "1               2513              Orge                92658.0      6794.0   \n",
              "2               2514              Maïs               546116.0    125184.0   \n",
              "3               2515            Seigle                 8099.0      5502.0   \n",
              "4               2516            Avoine                16251.0      3903.0   \n",
              "5               2517            Millet                 3306.0     23040.0   \n",
              "6               2518            Sorgho                24808.0     24153.0   \n",
              "7               2520  Céréales, Autres                19035.0      5324.0   \n",
              "8               2805  Riz (Eq Blanchi)                33594.0    377286.0   \n",
              "\n",
              "Élément  proportion_animale  \n",
              "0                 22.071449  \n",
              "1                 93.168564  \n",
              "2                 81.352004  \n",
              "3                 59.547092  \n",
              "4                 80.634117  \n",
              "5                 12.548394  \n",
              "6                 50.668900  \n",
              "7                 78.143602  \n",
              "8                  8.176110  "
            ]
          },
          "execution_count": 149,
          "metadata": {},
          "output_type": "execute_result"
        }
      ],
      "source": [
        "cereal=FAOSTAT_2013_cereal\n",
        " \n",
        "cereal=cereal.loc[(cereal['Élément']=='Aliments pour animaux') | (cereal['Élément']=='Nourriture')]\n",
        "cereal=cereal[['Code Produit', 'Produit', 'Élément','Valeur']]\n",
        "groupe_cereal=cereal.groupby(['Code Produit','Produit', 'Élément'],as_index=False).sum()\n",
        "\n",
        "g_cereal = groupe_cereal.pivot(index=['Code Produit', 'Produit'], columns='Élément', values='Valeur').reset_index()\n",
        "g_cereal=g_cereal.assign(proportion_animale=g_cereal['Aliments pour animaux']/(g_cereal['Aliments pour animaux']+g_cereal['Nourriture'])*100)\n",
        "g_cereal\n",
        "\n",
        "\n"
      ]
    },
    {
      "cell_type": "code",
      "execution_count": 150,
      "metadata": {},
      "outputs": [
        {
          "name": "stdout",
          "output_type": "stream",
          "text": [
            "la proportion est : 45.91%\n"
          ]
        }
      ],
      "source": [
        "proportion_animale=g_cereal['Aliments pour animaux'].sum()/(g_cereal['Aliments pour animaux'].sum()+g_cereal['Nourriture'].sum())*100\n",
        "print(f\"la proportion est : {proportion_animale.round(2)}%\")"
      ]
    },
    {
      "cell_type": "code",
      "execution_count": 143,
      "metadata": {},
      "outputs": [
        {
          "data": {
            "application/vnd.plotly.v1+json": {
              "config": {
                "plotlyServerURL": "https://plot.ly"
              },
              "data": [
                {
                  "alignmentgroup": "True",
                  "hovertemplate": "x=%{x}<br>y=%{y}<extra></extra>",
                  "legendgroup": "",
                  "marker": {
                    "color": "#636efa",
                    "pattern": {
                      "shape": ""
                    }
                  },
                  "name": "",
                  "offsetgroup": "",
                  "orientation": "v",
                  "showlegend": false,
                  "textposition": "auto",
                  "type": "bar",
                  "x": [
                    "Orge",
                    "Maïs",
                    "Avoine",
                    "Céréales, Autres",
                    "Seigle",
                    "Sorgho",
                    "Blé",
                    "Millet",
                    "Riz (Eq Blanchi)"
                  ],
                  "xaxis": "x",
                  "y": [
                    93.16856372923621,
                    81.3520035751527,
                    80.63411729681454,
                    78.1436019541032,
                    59.547092125579006,
                    50.668899736524985,
                    22.071449483567434,
                    12.54839444317923,
                    8.176109813084112
                  ],
                  "yaxis": "y"
                }
              ],
              "layout": {
                "barmode": "relative",
                "height": 1000,
                "legend": {
                  "tracegroupgap": 0
                },
                "margin": {
                  "t": 60
                },
                "template": {
                  "data": {
                    "bar": [
                      {
                        "error_x": {
                          "color": "#2a3f5f"
                        },
                        "error_y": {
                          "color": "#2a3f5f"
                        },
                        "marker": {
                          "line": {
                            "color": "#E5ECF6",
                            "width": 0.5
                          },
                          "pattern": {
                            "fillmode": "overlay",
                            "size": 10,
                            "solidity": 0.2
                          }
                        },
                        "type": "bar"
                      }
                    ],
                    "barpolar": [
                      {
                        "marker": {
                          "line": {
                            "color": "#E5ECF6",
                            "width": 0.5
                          },
                          "pattern": {
                            "fillmode": "overlay",
                            "size": 10,
                            "solidity": 0.2
                          }
                        },
                        "type": "barpolar"
                      }
                    ],
                    "carpet": [
                      {
                        "aaxis": {
                          "endlinecolor": "#2a3f5f",
                          "gridcolor": "white",
                          "linecolor": "white",
                          "minorgridcolor": "white",
                          "startlinecolor": "#2a3f5f"
                        },
                        "baxis": {
                          "endlinecolor": "#2a3f5f",
                          "gridcolor": "white",
                          "linecolor": "white",
                          "minorgridcolor": "white",
                          "startlinecolor": "#2a3f5f"
                        },
                        "type": "carpet"
                      }
                    ],
                    "choropleth": [
                      {
                        "colorbar": {
                          "outlinewidth": 0,
                          "ticks": ""
                        },
                        "type": "choropleth"
                      }
                    ],
                    "contour": [
                      {
                        "colorbar": {
                          "outlinewidth": 0,
                          "ticks": ""
                        },
                        "colorscale": [
                          [
                            0,
                            "#0d0887"
                          ],
                          [
                            0.1111111111111111,
                            "#46039f"
                          ],
                          [
                            0.2222222222222222,
                            "#7201a8"
                          ],
                          [
                            0.3333333333333333,
                            "#9c179e"
                          ],
                          [
                            0.4444444444444444,
                            "#bd3786"
                          ],
                          [
                            0.5555555555555556,
                            "#d8576b"
                          ],
                          [
                            0.6666666666666666,
                            "#ed7953"
                          ],
                          [
                            0.7777777777777778,
                            "#fb9f3a"
                          ],
                          [
                            0.8888888888888888,
                            "#fdca26"
                          ],
                          [
                            1,
                            "#f0f921"
                          ]
                        ],
                        "type": "contour"
                      }
                    ],
                    "contourcarpet": [
                      {
                        "colorbar": {
                          "outlinewidth": 0,
                          "ticks": ""
                        },
                        "type": "contourcarpet"
                      }
                    ],
                    "heatmap": [
                      {
                        "colorbar": {
                          "outlinewidth": 0,
                          "ticks": ""
                        },
                        "colorscale": [
                          [
                            0,
                            "#0d0887"
                          ],
                          [
                            0.1111111111111111,
                            "#46039f"
                          ],
                          [
                            0.2222222222222222,
                            "#7201a8"
                          ],
                          [
                            0.3333333333333333,
                            "#9c179e"
                          ],
                          [
                            0.4444444444444444,
                            "#bd3786"
                          ],
                          [
                            0.5555555555555556,
                            "#d8576b"
                          ],
                          [
                            0.6666666666666666,
                            "#ed7953"
                          ],
                          [
                            0.7777777777777778,
                            "#fb9f3a"
                          ],
                          [
                            0.8888888888888888,
                            "#fdca26"
                          ],
                          [
                            1,
                            "#f0f921"
                          ]
                        ],
                        "type": "heatmap"
                      }
                    ],
                    "heatmapgl": [
                      {
                        "colorbar": {
                          "outlinewidth": 0,
                          "ticks": ""
                        },
                        "colorscale": [
                          [
                            0,
                            "#0d0887"
                          ],
                          [
                            0.1111111111111111,
                            "#46039f"
                          ],
                          [
                            0.2222222222222222,
                            "#7201a8"
                          ],
                          [
                            0.3333333333333333,
                            "#9c179e"
                          ],
                          [
                            0.4444444444444444,
                            "#bd3786"
                          ],
                          [
                            0.5555555555555556,
                            "#d8576b"
                          ],
                          [
                            0.6666666666666666,
                            "#ed7953"
                          ],
                          [
                            0.7777777777777778,
                            "#fb9f3a"
                          ],
                          [
                            0.8888888888888888,
                            "#fdca26"
                          ],
                          [
                            1,
                            "#f0f921"
                          ]
                        ],
                        "type": "heatmapgl"
                      }
                    ],
                    "histogram": [
                      {
                        "marker": {
                          "pattern": {
                            "fillmode": "overlay",
                            "size": 10,
                            "solidity": 0.2
                          }
                        },
                        "type": "histogram"
                      }
                    ],
                    "histogram2d": [
                      {
                        "colorbar": {
                          "outlinewidth": 0,
                          "ticks": ""
                        },
                        "colorscale": [
                          [
                            0,
                            "#0d0887"
                          ],
                          [
                            0.1111111111111111,
                            "#46039f"
                          ],
                          [
                            0.2222222222222222,
                            "#7201a8"
                          ],
                          [
                            0.3333333333333333,
                            "#9c179e"
                          ],
                          [
                            0.4444444444444444,
                            "#bd3786"
                          ],
                          [
                            0.5555555555555556,
                            "#d8576b"
                          ],
                          [
                            0.6666666666666666,
                            "#ed7953"
                          ],
                          [
                            0.7777777777777778,
                            "#fb9f3a"
                          ],
                          [
                            0.8888888888888888,
                            "#fdca26"
                          ],
                          [
                            1,
                            "#f0f921"
                          ]
                        ],
                        "type": "histogram2d"
                      }
                    ],
                    "histogram2dcontour": [
                      {
                        "colorbar": {
                          "outlinewidth": 0,
                          "ticks": ""
                        },
                        "colorscale": [
                          [
                            0,
                            "#0d0887"
                          ],
                          [
                            0.1111111111111111,
                            "#46039f"
                          ],
                          [
                            0.2222222222222222,
                            "#7201a8"
                          ],
                          [
                            0.3333333333333333,
                            "#9c179e"
                          ],
                          [
                            0.4444444444444444,
                            "#bd3786"
                          ],
                          [
                            0.5555555555555556,
                            "#d8576b"
                          ],
                          [
                            0.6666666666666666,
                            "#ed7953"
                          ],
                          [
                            0.7777777777777778,
                            "#fb9f3a"
                          ],
                          [
                            0.8888888888888888,
                            "#fdca26"
                          ],
                          [
                            1,
                            "#f0f921"
                          ]
                        ],
                        "type": "histogram2dcontour"
                      }
                    ],
                    "mesh3d": [
                      {
                        "colorbar": {
                          "outlinewidth": 0,
                          "ticks": ""
                        },
                        "type": "mesh3d"
                      }
                    ],
                    "parcoords": [
                      {
                        "line": {
                          "colorbar": {
                            "outlinewidth": 0,
                            "ticks": ""
                          }
                        },
                        "type": "parcoords"
                      }
                    ],
                    "pie": [
                      {
                        "automargin": true,
                        "type": "pie"
                      }
                    ],
                    "scatter": [
                      {
                        "fillpattern": {
                          "fillmode": "overlay",
                          "size": 10,
                          "solidity": 0.2
                        },
                        "type": "scatter"
                      }
                    ],
                    "scatter3d": [
                      {
                        "line": {
                          "colorbar": {
                            "outlinewidth": 0,
                            "ticks": ""
                          }
                        },
                        "marker": {
                          "colorbar": {
                            "outlinewidth": 0,
                            "ticks": ""
                          }
                        },
                        "type": "scatter3d"
                      }
                    ],
                    "scattercarpet": [
                      {
                        "marker": {
                          "colorbar": {
                            "outlinewidth": 0,
                            "ticks": ""
                          }
                        },
                        "type": "scattercarpet"
                      }
                    ],
                    "scattergeo": [
                      {
                        "marker": {
                          "colorbar": {
                            "outlinewidth": 0,
                            "ticks": ""
                          }
                        },
                        "type": "scattergeo"
                      }
                    ],
                    "scattergl": [
                      {
                        "marker": {
                          "colorbar": {
                            "outlinewidth": 0,
                            "ticks": ""
                          }
                        },
                        "type": "scattergl"
                      }
                    ],
                    "scattermapbox": [
                      {
                        "marker": {
                          "colorbar": {
                            "outlinewidth": 0,
                            "ticks": ""
                          }
                        },
                        "type": "scattermapbox"
                      }
                    ],
                    "scatterpolar": [
                      {
                        "marker": {
                          "colorbar": {
                            "outlinewidth": 0,
                            "ticks": ""
                          }
                        },
                        "type": "scatterpolar"
                      }
                    ],
                    "scatterpolargl": [
                      {
                        "marker": {
                          "colorbar": {
                            "outlinewidth": 0,
                            "ticks": ""
                          }
                        },
                        "type": "scatterpolargl"
                      }
                    ],
                    "scatterternary": [
                      {
                        "marker": {
                          "colorbar": {
                            "outlinewidth": 0,
                            "ticks": ""
                          }
                        },
                        "type": "scatterternary"
                      }
                    ],
                    "surface": [
                      {
                        "colorbar": {
                          "outlinewidth": 0,
                          "ticks": ""
                        },
                        "colorscale": [
                          [
                            0,
                            "#0d0887"
                          ],
                          [
                            0.1111111111111111,
                            "#46039f"
                          ],
                          [
                            0.2222222222222222,
                            "#7201a8"
                          ],
                          [
                            0.3333333333333333,
                            "#9c179e"
                          ],
                          [
                            0.4444444444444444,
                            "#bd3786"
                          ],
                          [
                            0.5555555555555556,
                            "#d8576b"
                          ],
                          [
                            0.6666666666666666,
                            "#ed7953"
                          ],
                          [
                            0.7777777777777778,
                            "#fb9f3a"
                          ],
                          [
                            0.8888888888888888,
                            "#fdca26"
                          ],
                          [
                            1,
                            "#f0f921"
                          ]
                        ],
                        "type": "surface"
                      }
                    ],
                    "table": [
                      {
                        "cells": {
                          "fill": {
                            "color": "#EBF0F8"
                          },
                          "line": {
                            "color": "white"
                          }
                        },
                        "header": {
                          "fill": {
                            "color": "#C8D4E3"
                          },
                          "line": {
                            "color": "white"
                          }
                        },
                        "type": "table"
                      }
                    ]
                  },
                  "layout": {
                    "annotationdefaults": {
                      "arrowcolor": "#2a3f5f",
                      "arrowhead": 0,
                      "arrowwidth": 1
                    },
                    "autotypenumbers": "strict",
                    "coloraxis": {
                      "colorbar": {
                        "outlinewidth": 0,
                        "ticks": ""
                      }
                    },
                    "colorscale": {
                      "diverging": [
                        [
                          0,
                          "#8e0152"
                        ],
                        [
                          0.1,
                          "#c51b7d"
                        ],
                        [
                          0.2,
                          "#de77ae"
                        ],
                        [
                          0.3,
                          "#f1b6da"
                        ],
                        [
                          0.4,
                          "#fde0ef"
                        ],
                        [
                          0.5,
                          "#f7f7f7"
                        ],
                        [
                          0.6,
                          "#e6f5d0"
                        ],
                        [
                          0.7,
                          "#b8e186"
                        ],
                        [
                          0.8,
                          "#7fbc41"
                        ],
                        [
                          0.9,
                          "#4d9221"
                        ],
                        [
                          1,
                          "#276419"
                        ]
                      ],
                      "sequential": [
                        [
                          0,
                          "#0d0887"
                        ],
                        [
                          0.1111111111111111,
                          "#46039f"
                        ],
                        [
                          0.2222222222222222,
                          "#7201a8"
                        ],
                        [
                          0.3333333333333333,
                          "#9c179e"
                        ],
                        [
                          0.4444444444444444,
                          "#bd3786"
                        ],
                        [
                          0.5555555555555556,
                          "#d8576b"
                        ],
                        [
                          0.6666666666666666,
                          "#ed7953"
                        ],
                        [
                          0.7777777777777778,
                          "#fb9f3a"
                        ],
                        [
                          0.8888888888888888,
                          "#fdca26"
                        ],
                        [
                          1,
                          "#f0f921"
                        ]
                      ],
                      "sequentialminus": [
                        [
                          0,
                          "#0d0887"
                        ],
                        [
                          0.1111111111111111,
                          "#46039f"
                        ],
                        [
                          0.2222222222222222,
                          "#7201a8"
                        ],
                        [
                          0.3333333333333333,
                          "#9c179e"
                        ],
                        [
                          0.4444444444444444,
                          "#bd3786"
                        ],
                        [
                          0.5555555555555556,
                          "#d8576b"
                        ],
                        [
                          0.6666666666666666,
                          "#ed7953"
                        ],
                        [
                          0.7777777777777778,
                          "#fb9f3a"
                        ],
                        [
                          0.8888888888888888,
                          "#fdca26"
                        ],
                        [
                          1,
                          "#f0f921"
                        ]
                      ]
                    },
                    "colorway": [
                      "#636efa",
                      "#EF553B",
                      "#00cc96",
                      "#ab63fa",
                      "#FFA15A",
                      "#19d3f3",
                      "#FF6692",
                      "#B6E880",
                      "#FF97FF",
                      "#FECB52"
                    ],
                    "font": {
                      "color": "#2a3f5f"
                    },
                    "geo": {
                      "bgcolor": "white",
                      "lakecolor": "white",
                      "landcolor": "#E5ECF6",
                      "showlakes": true,
                      "showland": true,
                      "subunitcolor": "white"
                    },
                    "hoverlabel": {
                      "align": "left"
                    },
                    "hovermode": "closest",
                    "mapbox": {
                      "style": "light"
                    },
                    "paper_bgcolor": "white",
                    "plot_bgcolor": "#E5ECF6",
                    "polar": {
                      "angularaxis": {
                        "gridcolor": "white",
                        "linecolor": "white",
                        "ticks": ""
                      },
                      "bgcolor": "#E5ECF6",
                      "radialaxis": {
                        "gridcolor": "white",
                        "linecolor": "white",
                        "ticks": ""
                      }
                    },
                    "scene": {
                      "xaxis": {
                        "backgroundcolor": "#E5ECF6",
                        "gridcolor": "white",
                        "gridwidth": 2,
                        "linecolor": "white",
                        "showbackground": true,
                        "ticks": "",
                        "zerolinecolor": "white"
                      },
                      "yaxis": {
                        "backgroundcolor": "#E5ECF6",
                        "gridcolor": "white",
                        "gridwidth": 2,
                        "linecolor": "white",
                        "showbackground": true,
                        "ticks": "",
                        "zerolinecolor": "white"
                      },
                      "zaxis": {
                        "backgroundcolor": "#E5ECF6",
                        "gridcolor": "white",
                        "gridwidth": 2,
                        "linecolor": "white",
                        "showbackground": true,
                        "ticks": "",
                        "zerolinecolor": "white"
                      }
                    },
                    "shapedefaults": {
                      "line": {
                        "color": "#2a3f5f"
                      }
                    },
                    "ternary": {
                      "aaxis": {
                        "gridcolor": "white",
                        "linecolor": "white",
                        "ticks": ""
                      },
                      "baxis": {
                        "gridcolor": "white",
                        "linecolor": "white",
                        "ticks": ""
                      },
                      "bgcolor": "#E5ECF6",
                      "caxis": {
                        "gridcolor": "white",
                        "linecolor": "white",
                        "ticks": ""
                      }
                    },
                    "title": {
                      "x": 0.05
                    },
                    "xaxis": {
                      "automargin": true,
                      "gridcolor": "white",
                      "linecolor": "white",
                      "ticks": "",
                      "title": {
                        "standoff": 15
                      },
                      "zerolinecolor": "white",
                      "zerolinewidth": 2
                    },
                    "yaxis": {
                      "automargin": true,
                      "gridcolor": "white",
                      "linecolor": "white",
                      "ticks": "",
                      "title": {
                        "standoff": 15
                      },
                      "zerolinecolor": "white",
                      "zerolinewidth": 2
                    }
                  }
                },
                "xaxis": {
                  "anchor": "y",
                  "domain": [
                    0,
                    1
                  ],
                  "title": {
                    "text": "x"
                  }
                },
                "yaxis": {
                  "anchor": "x",
                  "domain": [
                    0,
                    1
                  ],
                  "title": {
                    "text": "y"
                  }
                }
              }
            }
          },
          "metadata": {},
          "output_type": "display_data"
        }
      ],
      "source": [
        "g_cereal.sort_values(by='proportion_animale', ascending=False, inplace=True )\n",
        "fig = px.bar(x=g_cereal.Produit, y=g_cereal.proportion_animale, height=1000)\n",
        "fig.show()"
      ]
    },
    {
      "cell_type": "markdown",
      "metadata": {
        "id": "1s2qNH1savTW"
      },
      "source": [
        "#### Question 12 : Sous-nutrition\n",
        "Sélectionnez parmi les données des bilans alimentaires les informations relatives aux pays dans lesquels la FAO recense des personnes en sous-nutrition.\n",
        "Repérez les 15 produits les plus exportés par ce groupe de pays.\n",
        "Parmi les données des bilans alimentaires au niveau mondial, sélectionnez les 200 plus grandes importations de ces produits (1 importation = une quantité d'un produit donné importée par un pays donné).\n",
        "Groupez ces importations par produit, afin d'avoir une table contenant 1 ligne pour chacun des 15 produits. Ensuite, calculez pour chaque produit les 2 quantités suivantes :\n",
        "\n",
        "    • le ratio entre la quantité destinés aux \"Autres utilisations\" (Other uses) et la disponibilité intérieure.\n",
        "    • le ratio entre la quantité destinée à la nourriture animale et la quantité destinée à la nourriture (animale + humaine)\n",
        "    \n",
        "Donnez les 3 produits qui ont la plus grande valeur pour chacun des 2 ratios (vous aurez donc 6 produits à citer)"
      ]
    },
    {
      "cell_type": "code",
      "execution_count": null,
      "metadata": {
        "id": "cBVydeGyay3c"
      },
      "outputs": [],
      "source": []
    },
    {
      "cell_type": "markdown",
      "metadata": {
        "id": "Yl6GPYa4a6ON"
      },
      "source": [
        "#### Question 13 : USA\n",
        "Combien de tonnes de céréales pourraient être libérées si les USA diminuaient leur production de produits animaux de 10% ?"
      ]
    },
    {
      "cell_type": "code",
      "execution_count": 151,
      "metadata": {
        "id": "S6Ywb72ha66u"
      },
      "outputs": [
        {
          "name": "stdout",
          "output_type": "stream",
          "text": [
            "10% de la production de produits animaux est: 14009600.0 Tonnes\n"
          ]
        },
        {
          "data": {
            "text/html": [
              "<div>\n",
              "<style scoped>\n",
              "    .dataframe tbody tr th:only-of-type {\n",
              "        vertical-align: middle;\n",
              "    }\n",
              "\n",
              "    .dataframe tbody tr th {\n",
              "        vertical-align: top;\n",
              "    }\n",
              "\n",
              "    .dataframe thead th {\n",
              "        text-align: right;\n",
              "    }\n",
              "</style>\n",
              "<table border=\"1\" class=\"dataframe\">\n",
              "  <thead>\n",
              "    <tr style=\"text-align: right;\">\n",
              "      <th></th>\n",
              "      <th>Code Produit</th>\n",
              "      <th>Produit</th>\n",
              "      <th>Unité</th>\n",
              "      <th>Valeur</th>\n",
              "      <th>Valeur_10_tonne</th>\n",
              "    </tr>\n",
              "  </thead>\n",
              "  <tbody>\n",
              "    <tr>\n",
              "      <th>4902</th>\n",
              "      <td>2511</td>\n",
              "      <td>Blé</td>\n",
              "      <td>Milliers de tonnes</td>\n",
              "      <td>6196.0</td>\n",
              "      <td>619600.0</td>\n",
              "    </tr>\n",
              "    <tr>\n",
              "      <th>4930</th>\n",
              "      <td>2513</td>\n",
              "      <td>Orge</td>\n",
              "      <td>Milliers de tonnes</td>\n",
              "      <td>1440.0</td>\n",
              "      <td>144000.0</td>\n",
              "    </tr>\n",
              "    <tr>\n",
              "      <th>4944</th>\n",
              "      <td>2514</td>\n",
              "      <td>Maïs</td>\n",
              "      <td>Milliers de tonnes</td>\n",
              "      <td>128024.0</td>\n",
              "      <td>12802400.0</td>\n",
              "    </tr>\n",
              "    <tr>\n",
              "      <th>4958</th>\n",
              "      <td>2515</td>\n",
              "      <td>Seigle</td>\n",
              "      <td>Milliers de tonnes</td>\n",
              "      <td>184.0</td>\n",
              "      <td>18400.0</td>\n",
              "    </tr>\n",
              "    <tr>\n",
              "      <th>4971</th>\n",
              "      <td>2516</td>\n",
              "      <td>Avoine</td>\n",
              "      <td>Milliers de tonnes</td>\n",
              "      <td>1430.0</td>\n",
              "      <td>143000.0</td>\n",
              "    </tr>\n",
              "    <tr>\n",
              "      <th>4982</th>\n",
              "      <td>2517</td>\n",
              "      <td>Millet</td>\n",
              "      <td>Milliers de tonnes</td>\n",
              "      <td>394.0</td>\n",
              "      <td>39400.0</td>\n",
              "    </tr>\n",
              "    <tr>\n",
              "      <th>4989</th>\n",
              "      <td>2518</td>\n",
              "      <td>Sorgho</td>\n",
              "      <td>Milliers de tonnes</td>\n",
              "      <td>2351.0</td>\n",
              "      <td>235100.0</td>\n",
              "    </tr>\n",
              "    <tr>\n",
              "      <th>5002</th>\n",
              "      <td>2520</td>\n",
              "      <td>Céréales, Autres</td>\n",
              "      <td>Milliers de tonnes</td>\n",
              "      <td>77.0</td>\n",
              "      <td>7700.0</td>\n",
              "    </tr>\n",
              "  </tbody>\n",
              "</table>\n",
              "</div>"
            ],
            "text/plain": [
              "     Code Produit           Produit               Unité    Valeur  \\\n",
              "4902         2511               Blé  Milliers de tonnes    6196.0   \n",
              "4930         2513              Orge  Milliers de tonnes    1440.0   \n",
              "4944         2514              Maïs  Milliers de tonnes  128024.0   \n",
              "4958         2515            Seigle  Milliers de tonnes     184.0   \n",
              "4971         2516            Avoine  Milliers de tonnes    1430.0   \n",
              "4982         2517            Millet  Milliers de tonnes     394.0   \n",
              "4989         2518            Sorgho  Milliers de tonnes    2351.0   \n",
              "5002         2520  Céréales, Autres  Milliers de tonnes      77.0   \n",
              "\n",
              "      Valeur_10_tonne  \n",
              "4902         619600.0  \n",
              "4930         144000.0  \n",
              "4944       12802400.0  \n",
              "4958          18400.0  \n",
              "4971         143000.0  \n",
              "4982          39400.0  \n",
              "4989         235100.0  \n",
              "5002           7700.0  "
            ]
          },
          "execution_count": 151,
          "metadata": {},
          "output_type": "execute_result"
        }
      ],
      "source": [
        "usa=FAOSTAT_2013_cereal\n",
        "usa=usa.loc[(usa['Pays']==\"États-Unis d'Amérique\")&(usa['Élément']==\"Aliments pour animaux\")]\n",
        "usa=usa[['Code Produit', 'Produit', 'Unité', 'Valeur']]\n",
        "usa=usa.assign(Valeur_10_tonne=(usa['Valeur']*0.1)*1000)\n",
        "print(f\"10% de la production de produits animaux est: {usa['Valeur_10_tonne'].sum().round(2) } Tonnes\")\n",
        "usa"
      ]
    },
    {
      "cell_type": "code",
      "execution_count": 152,
      "metadata": {},
      "outputs": [
        {
          "data": {
            "application/vnd.plotly.v1+json": {
              "config": {
                "plotlyServerURL": "https://plot.ly"
              },
              "data": [
                {
                  "alignmentgroup": "True",
                  "hovertemplate": "x=%{x}<br>y=%{y}<extra></extra>",
                  "legendgroup": "",
                  "marker": {
                    "color": "#636efa",
                    "pattern": {
                      "shape": ""
                    }
                  },
                  "name": "",
                  "offsetgroup": "",
                  "orientation": "v",
                  "showlegend": false,
                  "textposition": "auto",
                  "type": "bar",
                  "x": [
                    "Maïs",
                    "Blé",
                    "Sorgho",
                    "Orge",
                    "Avoine",
                    "Millet",
                    "Seigle",
                    "Céréales, Autres"
                  ],
                  "xaxis": "x",
                  "y": [
                    12802400.000000002,
                    619600,
                    235100.00000000003,
                    144000,
                    143000,
                    39400.00000000001,
                    18400.000000000004,
                    7700
                  ],
                  "yaxis": "y"
                }
              ],
              "layout": {
                "barmode": "relative",
                "height": 1000,
                "legend": {
                  "tracegroupgap": 0
                },
                "margin": {
                  "t": 60
                },
                "template": {
                  "data": {
                    "bar": [
                      {
                        "error_x": {
                          "color": "#2a3f5f"
                        },
                        "error_y": {
                          "color": "#2a3f5f"
                        },
                        "marker": {
                          "line": {
                            "color": "#E5ECF6",
                            "width": 0.5
                          },
                          "pattern": {
                            "fillmode": "overlay",
                            "size": 10,
                            "solidity": 0.2
                          }
                        },
                        "type": "bar"
                      }
                    ],
                    "barpolar": [
                      {
                        "marker": {
                          "line": {
                            "color": "#E5ECF6",
                            "width": 0.5
                          },
                          "pattern": {
                            "fillmode": "overlay",
                            "size": 10,
                            "solidity": 0.2
                          }
                        },
                        "type": "barpolar"
                      }
                    ],
                    "carpet": [
                      {
                        "aaxis": {
                          "endlinecolor": "#2a3f5f",
                          "gridcolor": "white",
                          "linecolor": "white",
                          "minorgridcolor": "white",
                          "startlinecolor": "#2a3f5f"
                        },
                        "baxis": {
                          "endlinecolor": "#2a3f5f",
                          "gridcolor": "white",
                          "linecolor": "white",
                          "minorgridcolor": "white",
                          "startlinecolor": "#2a3f5f"
                        },
                        "type": "carpet"
                      }
                    ],
                    "choropleth": [
                      {
                        "colorbar": {
                          "outlinewidth": 0,
                          "ticks": ""
                        },
                        "type": "choropleth"
                      }
                    ],
                    "contour": [
                      {
                        "colorbar": {
                          "outlinewidth": 0,
                          "ticks": ""
                        },
                        "colorscale": [
                          [
                            0,
                            "#0d0887"
                          ],
                          [
                            0.1111111111111111,
                            "#46039f"
                          ],
                          [
                            0.2222222222222222,
                            "#7201a8"
                          ],
                          [
                            0.3333333333333333,
                            "#9c179e"
                          ],
                          [
                            0.4444444444444444,
                            "#bd3786"
                          ],
                          [
                            0.5555555555555556,
                            "#d8576b"
                          ],
                          [
                            0.6666666666666666,
                            "#ed7953"
                          ],
                          [
                            0.7777777777777778,
                            "#fb9f3a"
                          ],
                          [
                            0.8888888888888888,
                            "#fdca26"
                          ],
                          [
                            1,
                            "#f0f921"
                          ]
                        ],
                        "type": "contour"
                      }
                    ],
                    "contourcarpet": [
                      {
                        "colorbar": {
                          "outlinewidth": 0,
                          "ticks": ""
                        },
                        "type": "contourcarpet"
                      }
                    ],
                    "heatmap": [
                      {
                        "colorbar": {
                          "outlinewidth": 0,
                          "ticks": ""
                        },
                        "colorscale": [
                          [
                            0,
                            "#0d0887"
                          ],
                          [
                            0.1111111111111111,
                            "#46039f"
                          ],
                          [
                            0.2222222222222222,
                            "#7201a8"
                          ],
                          [
                            0.3333333333333333,
                            "#9c179e"
                          ],
                          [
                            0.4444444444444444,
                            "#bd3786"
                          ],
                          [
                            0.5555555555555556,
                            "#d8576b"
                          ],
                          [
                            0.6666666666666666,
                            "#ed7953"
                          ],
                          [
                            0.7777777777777778,
                            "#fb9f3a"
                          ],
                          [
                            0.8888888888888888,
                            "#fdca26"
                          ],
                          [
                            1,
                            "#f0f921"
                          ]
                        ],
                        "type": "heatmap"
                      }
                    ],
                    "heatmapgl": [
                      {
                        "colorbar": {
                          "outlinewidth": 0,
                          "ticks": ""
                        },
                        "colorscale": [
                          [
                            0,
                            "#0d0887"
                          ],
                          [
                            0.1111111111111111,
                            "#46039f"
                          ],
                          [
                            0.2222222222222222,
                            "#7201a8"
                          ],
                          [
                            0.3333333333333333,
                            "#9c179e"
                          ],
                          [
                            0.4444444444444444,
                            "#bd3786"
                          ],
                          [
                            0.5555555555555556,
                            "#d8576b"
                          ],
                          [
                            0.6666666666666666,
                            "#ed7953"
                          ],
                          [
                            0.7777777777777778,
                            "#fb9f3a"
                          ],
                          [
                            0.8888888888888888,
                            "#fdca26"
                          ],
                          [
                            1,
                            "#f0f921"
                          ]
                        ],
                        "type": "heatmapgl"
                      }
                    ],
                    "histogram": [
                      {
                        "marker": {
                          "pattern": {
                            "fillmode": "overlay",
                            "size": 10,
                            "solidity": 0.2
                          }
                        },
                        "type": "histogram"
                      }
                    ],
                    "histogram2d": [
                      {
                        "colorbar": {
                          "outlinewidth": 0,
                          "ticks": ""
                        },
                        "colorscale": [
                          [
                            0,
                            "#0d0887"
                          ],
                          [
                            0.1111111111111111,
                            "#46039f"
                          ],
                          [
                            0.2222222222222222,
                            "#7201a8"
                          ],
                          [
                            0.3333333333333333,
                            "#9c179e"
                          ],
                          [
                            0.4444444444444444,
                            "#bd3786"
                          ],
                          [
                            0.5555555555555556,
                            "#d8576b"
                          ],
                          [
                            0.6666666666666666,
                            "#ed7953"
                          ],
                          [
                            0.7777777777777778,
                            "#fb9f3a"
                          ],
                          [
                            0.8888888888888888,
                            "#fdca26"
                          ],
                          [
                            1,
                            "#f0f921"
                          ]
                        ],
                        "type": "histogram2d"
                      }
                    ],
                    "histogram2dcontour": [
                      {
                        "colorbar": {
                          "outlinewidth": 0,
                          "ticks": ""
                        },
                        "colorscale": [
                          [
                            0,
                            "#0d0887"
                          ],
                          [
                            0.1111111111111111,
                            "#46039f"
                          ],
                          [
                            0.2222222222222222,
                            "#7201a8"
                          ],
                          [
                            0.3333333333333333,
                            "#9c179e"
                          ],
                          [
                            0.4444444444444444,
                            "#bd3786"
                          ],
                          [
                            0.5555555555555556,
                            "#d8576b"
                          ],
                          [
                            0.6666666666666666,
                            "#ed7953"
                          ],
                          [
                            0.7777777777777778,
                            "#fb9f3a"
                          ],
                          [
                            0.8888888888888888,
                            "#fdca26"
                          ],
                          [
                            1,
                            "#f0f921"
                          ]
                        ],
                        "type": "histogram2dcontour"
                      }
                    ],
                    "mesh3d": [
                      {
                        "colorbar": {
                          "outlinewidth": 0,
                          "ticks": ""
                        },
                        "type": "mesh3d"
                      }
                    ],
                    "parcoords": [
                      {
                        "line": {
                          "colorbar": {
                            "outlinewidth": 0,
                            "ticks": ""
                          }
                        },
                        "type": "parcoords"
                      }
                    ],
                    "pie": [
                      {
                        "automargin": true,
                        "type": "pie"
                      }
                    ],
                    "scatter": [
                      {
                        "fillpattern": {
                          "fillmode": "overlay",
                          "size": 10,
                          "solidity": 0.2
                        },
                        "type": "scatter"
                      }
                    ],
                    "scatter3d": [
                      {
                        "line": {
                          "colorbar": {
                            "outlinewidth": 0,
                            "ticks": ""
                          }
                        },
                        "marker": {
                          "colorbar": {
                            "outlinewidth": 0,
                            "ticks": ""
                          }
                        },
                        "type": "scatter3d"
                      }
                    ],
                    "scattercarpet": [
                      {
                        "marker": {
                          "colorbar": {
                            "outlinewidth": 0,
                            "ticks": ""
                          }
                        },
                        "type": "scattercarpet"
                      }
                    ],
                    "scattergeo": [
                      {
                        "marker": {
                          "colorbar": {
                            "outlinewidth": 0,
                            "ticks": ""
                          }
                        },
                        "type": "scattergeo"
                      }
                    ],
                    "scattergl": [
                      {
                        "marker": {
                          "colorbar": {
                            "outlinewidth": 0,
                            "ticks": ""
                          }
                        },
                        "type": "scattergl"
                      }
                    ],
                    "scattermapbox": [
                      {
                        "marker": {
                          "colorbar": {
                            "outlinewidth": 0,
                            "ticks": ""
                          }
                        },
                        "type": "scattermapbox"
                      }
                    ],
                    "scatterpolar": [
                      {
                        "marker": {
                          "colorbar": {
                            "outlinewidth": 0,
                            "ticks": ""
                          }
                        },
                        "type": "scatterpolar"
                      }
                    ],
                    "scatterpolargl": [
                      {
                        "marker": {
                          "colorbar": {
                            "outlinewidth": 0,
                            "ticks": ""
                          }
                        },
                        "type": "scatterpolargl"
                      }
                    ],
                    "scatterternary": [
                      {
                        "marker": {
                          "colorbar": {
                            "outlinewidth": 0,
                            "ticks": ""
                          }
                        },
                        "type": "scatterternary"
                      }
                    ],
                    "surface": [
                      {
                        "colorbar": {
                          "outlinewidth": 0,
                          "ticks": ""
                        },
                        "colorscale": [
                          [
                            0,
                            "#0d0887"
                          ],
                          [
                            0.1111111111111111,
                            "#46039f"
                          ],
                          [
                            0.2222222222222222,
                            "#7201a8"
                          ],
                          [
                            0.3333333333333333,
                            "#9c179e"
                          ],
                          [
                            0.4444444444444444,
                            "#bd3786"
                          ],
                          [
                            0.5555555555555556,
                            "#d8576b"
                          ],
                          [
                            0.6666666666666666,
                            "#ed7953"
                          ],
                          [
                            0.7777777777777778,
                            "#fb9f3a"
                          ],
                          [
                            0.8888888888888888,
                            "#fdca26"
                          ],
                          [
                            1,
                            "#f0f921"
                          ]
                        ],
                        "type": "surface"
                      }
                    ],
                    "table": [
                      {
                        "cells": {
                          "fill": {
                            "color": "#EBF0F8"
                          },
                          "line": {
                            "color": "white"
                          }
                        },
                        "header": {
                          "fill": {
                            "color": "#C8D4E3"
                          },
                          "line": {
                            "color": "white"
                          }
                        },
                        "type": "table"
                      }
                    ]
                  },
                  "layout": {
                    "annotationdefaults": {
                      "arrowcolor": "#2a3f5f",
                      "arrowhead": 0,
                      "arrowwidth": 1
                    },
                    "autotypenumbers": "strict",
                    "coloraxis": {
                      "colorbar": {
                        "outlinewidth": 0,
                        "ticks": ""
                      }
                    },
                    "colorscale": {
                      "diverging": [
                        [
                          0,
                          "#8e0152"
                        ],
                        [
                          0.1,
                          "#c51b7d"
                        ],
                        [
                          0.2,
                          "#de77ae"
                        ],
                        [
                          0.3,
                          "#f1b6da"
                        ],
                        [
                          0.4,
                          "#fde0ef"
                        ],
                        [
                          0.5,
                          "#f7f7f7"
                        ],
                        [
                          0.6,
                          "#e6f5d0"
                        ],
                        [
                          0.7,
                          "#b8e186"
                        ],
                        [
                          0.8,
                          "#7fbc41"
                        ],
                        [
                          0.9,
                          "#4d9221"
                        ],
                        [
                          1,
                          "#276419"
                        ]
                      ],
                      "sequential": [
                        [
                          0,
                          "#0d0887"
                        ],
                        [
                          0.1111111111111111,
                          "#46039f"
                        ],
                        [
                          0.2222222222222222,
                          "#7201a8"
                        ],
                        [
                          0.3333333333333333,
                          "#9c179e"
                        ],
                        [
                          0.4444444444444444,
                          "#bd3786"
                        ],
                        [
                          0.5555555555555556,
                          "#d8576b"
                        ],
                        [
                          0.6666666666666666,
                          "#ed7953"
                        ],
                        [
                          0.7777777777777778,
                          "#fb9f3a"
                        ],
                        [
                          0.8888888888888888,
                          "#fdca26"
                        ],
                        [
                          1,
                          "#f0f921"
                        ]
                      ],
                      "sequentialminus": [
                        [
                          0,
                          "#0d0887"
                        ],
                        [
                          0.1111111111111111,
                          "#46039f"
                        ],
                        [
                          0.2222222222222222,
                          "#7201a8"
                        ],
                        [
                          0.3333333333333333,
                          "#9c179e"
                        ],
                        [
                          0.4444444444444444,
                          "#bd3786"
                        ],
                        [
                          0.5555555555555556,
                          "#d8576b"
                        ],
                        [
                          0.6666666666666666,
                          "#ed7953"
                        ],
                        [
                          0.7777777777777778,
                          "#fb9f3a"
                        ],
                        [
                          0.8888888888888888,
                          "#fdca26"
                        ],
                        [
                          1,
                          "#f0f921"
                        ]
                      ]
                    },
                    "colorway": [
                      "#636efa",
                      "#EF553B",
                      "#00cc96",
                      "#ab63fa",
                      "#FFA15A",
                      "#19d3f3",
                      "#FF6692",
                      "#B6E880",
                      "#FF97FF",
                      "#FECB52"
                    ],
                    "font": {
                      "color": "#2a3f5f"
                    },
                    "geo": {
                      "bgcolor": "white",
                      "lakecolor": "white",
                      "landcolor": "#E5ECF6",
                      "showlakes": true,
                      "showland": true,
                      "subunitcolor": "white"
                    },
                    "hoverlabel": {
                      "align": "left"
                    },
                    "hovermode": "closest",
                    "mapbox": {
                      "style": "light"
                    },
                    "paper_bgcolor": "white",
                    "plot_bgcolor": "#E5ECF6",
                    "polar": {
                      "angularaxis": {
                        "gridcolor": "white",
                        "linecolor": "white",
                        "ticks": ""
                      },
                      "bgcolor": "#E5ECF6",
                      "radialaxis": {
                        "gridcolor": "white",
                        "linecolor": "white",
                        "ticks": ""
                      }
                    },
                    "scene": {
                      "xaxis": {
                        "backgroundcolor": "#E5ECF6",
                        "gridcolor": "white",
                        "gridwidth": 2,
                        "linecolor": "white",
                        "showbackground": true,
                        "ticks": "",
                        "zerolinecolor": "white"
                      },
                      "yaxis": {
                        "backgroundcolor": "#E5ECF6",
                        "gridcolor": "white",
                        "gridwidth": 2,
                        "linecolor": "white",
                        "showbackground": true,
                        "ticks": "",
                        "zerolinecolor": "white"
                      },
                      "zaxis": {
                        "backgroundcolor": "#E5ECF6",
                        "gridcolor": "white",
                        "gridwidth": 2,
                        "linecolor": "white",
                        "showbackground": true,
                        "ticks": "",
                        "zerolinecolor": "white"
                      }
                    },
                    "shapedefaults": {
                      "line": {
                        "color": "#2a3f5f"
                      }
                    },
                    "ternary": {
                      "aaxis": {
                        "gridcolor": "white",
                        "linecolor": "white",
                        "ticks": ""
                      },
                      "baxis": {
                        "gridcolor": "white",
                        "linecolor": "white",
                        "ticks": ""
                      },
                      "bgcolor": "#E5ECF6",
                      "caxis": {
                        "gridcolor": "white",
                        "linecolor": "white",
                        "ticks": ""
                      }
                    },
                    "title": {
                      "x": 0.05
                    },
                    "xaxis": {
                      "automargin": true,
                      "gridcolor": "white",
                      "linecolor": "white",
                      "ticks": "",
                      "title": {
                        "standoff": 15
                      },
                      "zerolinecolor": "white",
                      "zerolinewidth": 2
                    },
                    "yaxis": {
                      "automargin": true,
                      "gridcolor": "white",
                      "linecolor": "white",
                      "ticks": "",
                      "title": {
                        "standoff": 15
                      },
                      "zerolinecolor": "white",
                      "zerolinewidth": 2
                    }
                  }
                },
                "xaxis": {
                  "anchor": "y",
                  "domain": [
                    0,
                    1
                  ],
                  "title": {
                    "text": "x"
                  }
                },
                "yaxis": {
                  "anchor": "x",
                  "domain": [
                    0,
                    1
                  ],
                  "title": {
                    "text": "y"
                  }
                }
              }
            }
          },
          "metadata": {},
          "output_type": "display_data"
        }
      ],
      "source": [
        "usa.sort_values(by='Valeur_10_tonne', ascending=False, inplace=True )\n",
        "fig = px.bar(x=usa.Produit, y=usa.Valeur_10_tonne, height=1000)\n",
        "fig.show()"
      ]
    },
    {
      "cell_type": "markdown",
      "metadata": {
        "id": "A8lVRTZcZtwL"
      },
      "source": [
        "#### Question 14 : Thaïlande\n",
        "En Thaïlande, quelle proportion de manioc est exportée ? Quelle est la proportion de personnes en sous-nutrition?"
      ]
    },
    {
      "cell_type": "code",
      "execution_count": 163,
      "metadata": {
        "id": "W5ueGBdEZmHg"
      },
      "outputs": [
        {
          "name": "stdout",
          "output_type": "stream",
          "text": [
            "la Proportion de manioc exportée est 83.41 %\n",
            "la proportion de personnes en sous-nutrition est: 9.1 %\n"
          ]
        },
        {
          "data": {
            "text/html": [
              "<div>\n",
              "<style scoped>\n",
              "    .dataframe tbody tr th:only-of-type {\n",
              "        vertical-align: middle;\n",
              "    }\n",
              "\n",
              "    .dataframe tbody tr th {\n",
              "        vertical-align: top;\n",
              "    }\n",
              "\n",
              "    .dataframe thead th {\n",
              "        text-align: right;\n",
              "    }\n",
              "</style>\n",
              "<table border=\"1\" class=\"dataframe\">\n",
              "  <thead>\n",
              "    <tr style=\"text-align: right;\">\n",
              "      <th></th>\n",
              "      <th>Code zone</th>\n",
              "      <th>Zone</th>\n",
              "      <th>Valeur</th>\n",
              "      <th>Symbole</th>\n",
              "      <th>Description du Symbole</th>\n",
              "      <th>Population</th>\n",
              "      <th>proportion</th>\n",
              "    </tr>\n",
              "  </thead>\n",
              "  <tbody>\n",
              "    <tr>\n",
              "      <th>151</th>\n",
              "      <td>216</td>\n",
              "      <td>Thaïlande</td>\n",
              "      <td>6.1</td>\n",
              "      <td>F</td>\n",
              "      <td>Estimation FAO</td>\n",
              "      <td>67011000</td>\n",
              "      <td>9.102983</td>\n",
              "    </tr>\n",
              "  </tbody>\n",
              "</table>\n",
              "</div>"
            ],
            "text/plain": [
              "    Code zone       Zone  Valeur Symbole Description du Symbole  Population  \\\n",
              "151       216  Thaïlande     6.1       F         Estimation FAO    67011000   \n",
              "\n",
              "     proportion  \n",
              "151    9.102983  "
            ]
          },
          "execution_count": 163,
          "metadata": {},
          "output_type": "execute_result"
        }
      ],
      "source": [
        "Tai=FAOSTAT_2013_vegetal\n",
        "Tai=Tai.loc[(Tai['Pays']==\"Thaïlande\")&(Tai['Produit']==\"Manioc\")]\n",
        "export=Tai[Tai['Élément']==\"Exportations - Quantité\"].Valeur.sum()*1000\n",
        "production=Tai[Tai['Élément']==\"Production\"].Valeur.sum()*1000\n",
        "print(f\"la Proportion de manioc exportée est {(export/(production)*100).round(2)} %\")\n",
        "\n",
        "sous_nutrition=Sous_alimentation.loc[Sous_alimentation['Zone']==\"Thaïlande\", 'proportion'].values[0]\n",
        "population_tai=Sous_alimentation.loc[Sous_alimentation['Zone']==\"Thaïlande\", 'Population'].values[0]\n",
        "print(f\"la proportion de personnes en sous-nutrition est: {sous_nutrition.round(2)} %\")\n",
        "Sous_alimentation[Sous_alimentation['Zone']==\"Thaïlande\"]"
      ]
    },
    {
      "cell_type": "code",
      "execution_count": 160,
      "metadata": {},
      "outputs": [
        {
          "data": {
            "image/png": "[encoded data removed]",
            "text/plain": [
              "<Figure size 640x480 with 1 Axes>"
            ]
          },
          "metadata": {},
          "output_type": "display_data"
        }
      ],
      "source": [
        "# Vos données\n",
        "\n",
        "\n",
        "# Création des labels et des valeurs\n",
        "labels = ['manioc exportée', '']\n",
        "sizes = [export, production-export]\n",
        "\n",
        "# Création du graphique\n",
        "fig1, ax1 = plt.subplots()\n",
        "ax1.pie(sizes, labels=labels, autopct='%1.1f%%', startangle=90)\n",
        "\n",
        "# Assure que le graphique est dessiné en cercle.\n",
        "ax1.axis('equal')\n",
        "\n",
        "plt.show()"
      ]
    },
    {
      "cell_type": "code",
      "execution_count": 170,
      "metadata": {},
      "outputs": [
        {
          "data": {
            "image/png": "[encoded data removed]",
            "text/plain": [
              "<Figure size 640x480 with 1 Axes>"
            ]
          },
          "metadata": {},
          "output_type": "display_data"
        }
      ],
      "source": [
        "# Vos données\n",
        "\n",
        "# Création des labels et des valeurs\n",
        "labels = ['la proportion en sous-nutrition', '']\n",
        "sizes = [sous_nutrition, 100]\n",
        "\n",
        "# Création du graphique\n",
        "fig1, ax1 = plt.subplots()\n",
        "ax1.pie(sizes, labels=labels, autopct='%1.1f%%', startangle=90)\n",
        "\n",
        "# Assure que le graphique est dessiné en cercle.\n",
        "ax1.axis('equal')\n",
        "\n",
        "plt.show()"
      ]
    },
    {
      "cell_type": "markdown",
      "metadata": {
        "id": "FUW1pFjca11r"
      },
      "source": []
    },
    {
      "cell_type": "markdown",
      "metadata": {
        "id": "b3RaTavFDqOY"
      },
      "source": [
        "### 2 - Etude guidée n°2"
      ]
    },
    {
      "cell_type": "markdown",
      "metadata": {
        "id": "qlW56DtHD1lk"
      },
      "source": [
        "Il s’agit ici d’intégrer toutes les données dans une base de données relationnelle puis de répondre à toutes les questions ci-dessous.\n",
        "La base de données contiendra 4 tables : population, dispo_alim, equilibre_prod, sous_nutrition."
      ]
    },
    {
      "cell_type": "markdown",
      "metadata": {
        "id": "RHq8CB_CZHI5"
      },
      "source": [
        "#### Question 15 : Table population\n",
        "Définir une clé primaire pertinente pour la table population. Intégrer la table dans la base de données relationnelle."
      ]
    },
    {
      "cell_type": "code",
      "execution_count": null,
      "metadata": {
        "id": "1BJd-AIqZlZM"
      },
      "outputs": [],
      "source": []
    },
    {
      "cell_type": "markdown",
      "metadata": {
        "id": "gZFqs9R3ZgOu"
      },
      "source": [
        "#### Question 16 : Table dispo_alim\n",
        "La table appelée dispo_alim contient pour chaque pays, pour chaque produit, sur l'année 2013, les informations suivantes:\n",
        "- la nature du produit (deux valeurs possibles“animal” ou “végétal”)\n",
        "- disponibilité alimentaire en tonnes\n",
        "- disponibilité alimentaire en Kcal/personne/jour\n",
        "- disponibilité alimentaire de protéines en g/personne/jour\n",
        "- disponibilité alimentaire de matières grasses en g/personne/jour\n",
        "La table contient ces colonnes : pays, code_pays, année, produit, code_produit, origin, dispo_alim_tonnes, dispo_alim_kcal_p_j, dispo_prot, dispo_mat_gr .\n",
        "Définir une clé primaire pertinente pour la table dispo_alim. Intégrer la table dans la base de données relationnelle."
      ]
    },
    {
      "cell_type": "code",
      "execution_count": null,
      "metadata": {
        "id": "zaQT09kIZk2y"
      },
      "outputs": [],
      "source": []
    },
    {
      "cell_type": "markdown",
      "metadata": {
        "id": "v6zLu0GVZbxU"
      },
      "source": [
        "#### Question 17 : Table equilibre_prod\n",
        "La table appelée equilibre_prod contient pour chaque pays, pour chaque produit, et pour l'année disponible 2013, les quantités suivantes :\n",
        "- disponibilité intérieure\n",
        "- aliments pour animaux\n",
        "- semences\n",
        "- pertes\n",
        "- transformés\n",
        "- nourriture\n",
        "- autres utilisations\n",
        "Elle contient ces colonnes : pays, code_pays, année, produit, code_produit, dispo_int, alim_ani, semences, pertes, transfo, nourriture, autres_utilisations.\n",
        "Définir une clé primaire pertinente pour la table equilibre_prod. Intégrer la table dans la base de données relationnelle."
      ]
    },
    {
      "cell_type": "code",
      "execution_count": null,
      "metadata": {
        "id": "ugM0Q_l7ZjxR"
      },
      "outputs": [],
      "source": []
    },
    {
      "cell_type": "markdown",
      "metadata": {
        "id": "SKindtOJZYXY"
      },
      "source": [
        "#### Question 18 : Table sous_nutrition\n",
        "La table appelée sous_nutrition, contient le nombre de personnes en sous-alimentation pour chaque pays et pour chaque année. Elle contient 4 colonnes : pays, code_pays, année, nb_personnes.\n",
        "Définir une clé primaire pertinente pour la table sous_nutrition. Intégrer la table dans la base de données relationnelle."
      ]
    },
    {
      "cell_type": "code",
      "execution_count": null,
      "metadata": {
        "id": "HUcuhgklZVbX"
      },
      "outputs": [],
      "source": []
    },
    {
      "cell_type": "markdown",
      "metadata": {
        "id": "_lHWO4wTZWHY"
      },
      "source": [
        "#### Question 19 : Requêtes SQL\n",
        "Formuler les requêtes SQL pour répondre aux questions suivantes :\n",
        "    • Quels sont les 10 pays ayant le plus haut ratio disponibilité alimentaire/habitant en termes de protéines (en kg) par habitant, puis en termes de kcal par habitant ?\n",
        "    • Quels sont les 10 pays ayant le plus faible ratio disponibilité alimentaire/habitant en termes de protéines (en kg) par habitant ?\n",
        "    • Quelle est la quantité totale (en kg) de produits perdus par pays?\n",
        "    • Quels sont les 10 pays pour lesquels la proportion de personnes sous-alimentées est la plus forte ?\n",
        "    • Quels sont les 10 produits pour lesquels le ratio Autres utilisations/Disponibilité intérieure est le plus élevé ?"
      ]
    },
    {
      "cell_type": "code",
      "execution_count": null,
      "metadata": {
        "id": "61BOSvDUZips"
      },
      "outputs": [],
      "source": []
    },
    {
      "cell_type": "markdown",
      "metadata": {
        "id": "sYtYZ_uvZK9r"
      },
      "source": [
        "#### Question 20 : Autres utilisations des produits\n",
        "Pour quelques-uns des produits identifiés dans cette dernière requête SQL, supposez quelles sont ces \"autres utilisations\" possibles (recherchez sur internet !)."
      ]
    },
    {
      "cell_type": "code",
      "execution_count": null,
      "metadata": {
        "id": "LCJ3PxDhZjG-"
      },
      "outputs": [],
      "source": []
    },
    {
      "cell_type": "markdown",
      "metadata": {
        "id": "4oVN2zheD-A_"
      },
      "source": [
        "### 3 - Analyses complémentaire"
      ]
    },
    {
      "cell_type": "markdown",
      "metadata": {
        "id": "igoMHlNrEBYZ"
      },
      "source": [
        "Fort de votre expérience de Data Analyst, il s’agit maintenant de réaliser vos propres analyses et exploration."
      ]
    }
  ],
  "metadata": {
    "colab": {
      "provenance": [],
      "toc_visible": true
    },
    "kernelspec": {
      "display_name": "Python 3",
      "name": "python3"
    },
    "language_info": {
      "codemirror_mode": {
        "name": "ipython",
        "version": 3
      },
      "file_extension": ".py",
      "mimetype": "text/x-python",
      "name": "python",
      "nbconvert_exporter": "python",
      "pygments_lexer": "ipython3",
      "version": "3.11.5"
    }
  },
  "nbformat": 4,
  "nbformat_minor": 0
}
