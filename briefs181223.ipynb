{
  "cells": [
    {
      "cell_type": "markdown",
      "metadata": {
        "id": "dDYnD_yh-skJ"
      },
      "source": [
        "# Data Analyst au sein de la FAO"
      ]
    },
    {
      "cell_type": "markdown",
      "metadata": {
        "id": "Bhgi21K2-nFa"
      },
      "source": [
        "lien du brief : https://simplonline.co/briefs/688fc302-e4d4-4324-8904-f22316c31713\n",
        "\n"
      ]
    },
    {
      "cell_type": "markdown",
      "metadata": {
        "id": "31doXc7fFxKl"
      },
      "source": [
        "lien du dossier git : https://github.com/data-IA-2023/Groupe-3\n"
      ]
    },
    {
      "cell_type": "markdown",
      "metadata": {
        "id": "8mrHC_I5-ykk"
      },
      "source": [
        "Vous venez d'intégrer la FAO (Food and Agriculture Organization of the United Nations). BRAVO !!!!!!\n",
        "Vous allez mener votre première mission en analysant les données mondiales de production agricole, d'alimentation et de nutrition."
      ]
    },
    {
      "cell_type": "markdown",
      "metadata": {
        "id": "FUVcknHlAIC_"
      },
      "source": [
        "**Livrables**\n",
        "\n",
        "* Un dépôt Github\n",
        "* Un notebook **fonctionnel, documenté et commenté**\n",
        "* Une présentation écrite et orale résumant vos travaux, votre analyse et vos recommandations"
      ]
    },
    {
      "cell_type": "markdown",
      "metadata": {
        "id": "fcBxpeFXAkMg"
      },
      "source": [
        "**Contexte du projet**\n",
        "\n",
        "* Au sein du service Data Analytics and Prospective de la FAO, vous êtes en charge d'analyser les données produites par les Nations Unies.\n",
        "\n",
        "* Ces analyses conduisent à des rapports de synthèse à destination des décideurs.\n",
        "\n",
        "* Pour êtes également en charge de la partie Prospective, c'est à dire donner des tendances et des évolutions probables quant à la production agricole, à l'alimentation et la nutrition mondiales.\n"
      ]
    },
    {
      "cell_type": "markdown",
      "metadata": {
        "id": "wICIZAqLAonV"
      },
      "source": [
        "**Ressource(s)**\n",
        "\n",
        "FAO - Wikipedia : https://fr.wikipedia.org/wiki/Organisation_des_Nations_unies_pour_l'alimentation_et_l'agriculture\n",
        "\n",
        "FAOSTAT : https://www.fao.org/faostat/fr/#home\n",
        "\n",
        "Les données FAO 2013 : https://github.com/remijul/dataset/tree/master/fao_2013"
      ]
    },
    {
      "cell_type": "markdown",
      "metadata": {
        "id": "WXU-1nrKBtDC"
      },
      "source": [
        "## Partie traitement des données"
      ]
    },
    {
      "cell_type": "code",
      "execution_count": 606,
      "metadata": {},
      "outputs": [],
      "source": [
        "import pandas as pd\n",
        "import numpy as np\n",
        "import matplotlib.pyplot as plt\n",
        "import seaborn as sns\n",
        "import plotly.express as px\n",
        "\n",
        "#Chargement des données avec définition de l'index et changement des types des  dimensions\n",
        "url_bd=\"https://github.com/remijul/dataset/raw/4156ed0c38c1f5e81b3bf8e6458a245c5fa6c35a/\"\n",
        "url_bd=\"\"\n",
        "\n",
        "chemein_BD_vegetal = url_bd+\"fao_2013/FAOSTAT_2013_vegetal.csv\"\n",
        "FAOSTAT_2013_vegetal = pd.read_csv(chemein_BD_vegetal, sep=',',on_bad_lines='skip',dtype={'Code Pays': str,'Code Élément': str,'Code Produit':str, 'Année':str, 'Code Année':str})\n",
        "\n",
        "chemein_BD = url_bd+\"fao_2013/FAOSTAT_2013_animal.csv\"\n",
        "FAOSTAT_2013_animal = pd.read_csv(chemein_BD, sep=',',on_bad_lines='skip',dtype={'Code Pays': str,'Code Élément': str,'Code Produit':str, 'Code année':str, 'Année':str})\n",
        "\n",
        "chemein_BD = url_bd+\"fao_2013/FAOSTAT_2013_cereal.csv\"\n",
        "FAOSTAT_2013_cereal = pd.read_csv(chemein_BD, sep=',',on_bad_lines='skip',dtype={'Code Pays': str,'Code Élément': str,'Code Produit': str,'Code Année': str,'Année': str})\n",
        "\n",
        "chemein_BD = url_bd+\"fao_2013/FAOSTAT_2013_population.csv\"\n",
        "FAOSTAT_2013_population = pd.read_csv(chemein_BD, sep=',',on_bad_lines='skip',dtype={'Country Code': str,'Element Code': str,'Item Code': str,'Year Code': str,'Year': str})\n",
        "\n",
        "chemein_BD = url_bd+\"fao_2013/FAOSTAT_2013_sous_alimentation.csv\"\n",
        "FAOSTAT_2013_sous_alimentation = pd.read_csv(chemein_BD, sep=',',on_bad_lines='skip',dtype={'Code zone': str,'Code Élément': str,'Code Produit': str,'Code année': str,'Année': str})\n",
        "\n"
      ]
    },
    {
      "cell_type": "code",
      "execution_count": 607,
      "metadata": {},
      "outputs": [],
      "source": [
        "color_list_bar = ['#039be5', '#ffeb38', '#8bc34a']\n",
        "#color_discrete_sequence=color_list_bar => dans fig = px.bar( ... )\n",
        "color_list_pie = ['#ffeb38', '#039be5', '#8bc34a']\n",
        "#colors=color_list_pie => ax1.pie( ... )"
      ]
    },
    {
      "cell_type": "markdown",
      "metadata": {
        "id": "1nt2-WIKCb1J"
      },
      "source": [
        "### 1 - Etude guidée n°1"
      ]
    },
    {
      "cell_type": "markdown",
      "metadata": {
        "id": "aaX0yzLvD6n9"
      },
      "source": [
        "Il s’agit ici de répondre à toutes les questions ci-dessous."
      ]
    },
    {
      "cell_type": "markdown",
      "metadata": {
        "id": "otDngoRdZ-OO"
      },
      "source": [
        "#### Question 1 : Nombre d'humains sur la planète\n",
        "Calculez le nombre total d’humains sur la planète.\n",
        "Critiquez votre résultat. En cas d’anomalie, analysez et effectuer les corrections nécessaires.\n",
        "Donnez le résultat de votre calcul pour l'année 2013."
      ]
    },
    {
      "cell_type": "code",
      "execution_count": 608,
      "metadata": {
        "id": "F7mUOOxHZ_9_"
      },
      "outputs": [
        {
          "name": "stdout",
          "output_type": "stream",
          "text": [
            "Le nombre d'humains sur la planète est: 8413993000\n"
          ]
        }
      ],
      "source": [
        "\n",
        "Totalpopulation=FAOSTAT_2013_population['Value'].sum()*1000\n",
        "print(f\"Le nombre d'humains sur la planète est: {Totalpopulation}\")"
      ]
    },
    {
      "cell_type": "code",
      "execution_count": 609,
      "metadata": {},
      "outputs": [
        {
          "name": "stdout",
          "output_type": "stream",
          "text": [
            "Le nombre d'humains sur la planète est: 6997326000\n"
          ]
        }
      ],
      "source": [
        "FAOSTAT_2013_population.drop(FAOSTAT_2013_population[FAOSTAT_2013_population['Flag']=='A'].index, inplace=True)\n",
        "Totalpopulation=FAOSTAT_2013_population['Value'].sum()*1000\n",
        "print(f\"Le nombre d'humains sur la planète est: {Totalpopulation}\")"
      ]
    },
    {
      "cell_type": "code",
      "execution_count": 610,
      "metadata": {},
      "outputs": [
        {
          "data": {
            "application/vnd.plotly.v1+json": {
              "config": {
                "plotlyServerURL": "https://plot.ly"
              },
              "data": [
                {
                  "alignmentgroup": "True",
                  "hovertemplate": "x=%{x}<br>y=%{y}<extra></extra>",
                  "legendgroup": "",
                  "marker": {
                    "color": "#636efa",
                    "pattern": {
                      "shape": ""
                    }
                  },
                  "name": "",
                  "offsetgroup": "",
                  "orientation": "v",
                  "showlegend": false,
                  "textposition": "auto",
                  "type": "bar",
                  "x": [
                    "China, mainland",
                    "India",
                    "United States of America",
                    "Indonesia",
                    "Brazil",
                    "Pakistan",
                    "Nigeria",
                    "Bangladesh",
                    "Russian Federation",
                    "Japan",
                    "Mexico",
                    "Philippines",
                    "Ethiopia",
                    "Viet Nam",
                    "Germany",
                    "Egypt",
                    "Iran (Islamic Republic of)",
                    "Turkey",
                    "Thailand",
                    "France"
                  ],
                  "xaxis": "x",
                  "y": [
                    1385567,
                    1252140,
                    320051,
                    249866,
                    200362,
                    182143,
                    173615,
                    156595,
                    142834,
                    127144,
                    122332,
                    98394,
                    94101,
                    91680,
                    82727,
                    82056,
                    77447,
                    74933,
                    67011,
                    64291
                  ],
                  "yaxis": "y"
                }
              ],
              "layout": {
                "barmode": "relative",
                "height": 1000,
                "legend": {
                  "tracegroupgap": 0
                },
                "margin": {
                  "t": 60
                },
                "template": {
                  "data": {
                    "bar": [
                      {
                        "error_x": {
                          "color": "#2a3f5f"
                        },
                        "error_y": {
                          "color": "#2a3f5f"
                        },
                        "marker": {
                          "line": {
                            "color": "#E5ECF6",
                            "width": 0.5
                          },
                          "pattern": {
                            "fillmode": "overlay",
                            "size": 10,
                            "solidity": 0.2
                          }
                        },
                        "type": "bar"
                      }
                    ],
                    "barpolar": [
                      {
                        "marker": {
                          "line": {
                            "color": "#E5ECF6",
                            "width": 0.5
                          },
                          "pattern": {
                            "fillmode": "overlay",
                            "size": 10,
                            "solidity": 0.2
                          }
                        },
                        "type": "barpolar"
                      }
                    ],
                    "carpet": [
                      {
                        "aaxis": {
                          "endlinecolor": "#2a3f5f",
                          "gridcolor": "white",
                          "linecolor": "white",
                          "minorgridcolor": "white",
                          "startlinecolor": "#2a3f5f"
                        },
                        "baxis": {
                          "endlinecolor": "#2a3f5f",
                          "gridcolor": "white",
                          "linecolor": "white",
                          "minorgridcolor": "white",
                          "startlinecolor": "#2a3f5f"
                        },
                        "type": "carpet"
                      }
                    ],
                    "choropleth": [
                      {
                        "colorbar": {
                          "outlinewidth": 0,
                          "ticks": ""
                        },
                        "type": "choropleth"
                      }
                    ],
                    "contour": [
                      {
                        "colorbar": {
                          "outlinewidth": 0,
                          "ticks": ""
                        },
                        "colorscale": [
                          [
                            0,
                            "#0d0887"
                          ],
                          [
                            0.1111111111111111,
                            "#46039f"
                          ],
                          [
                            0.2222222222222222,
                            "#7201a8"
                          ],
                          [
                            0.3333333333333333,
                            "#9c179e"
                          ],
                          [
                            0.4444444444444444,
                            "#bd3786"
                          ],
                          [
                            0.5555555555555556,
                            "#d8576b"
                          ],
                          [
                            0.6666666666666666,
                            "#ed7953"
                          ],
                          [
                            0.7777777777777778,
                            "#fb9f3a"
                          ],
                          [
                            0.8888888888888888,
                            "#fdca26"
                          ],
                          [
                            1,
                            "#f0f921"
                          ]
                        ],
                        "type": "contour"
                      }
                    ],
                    "contourcarpet": [
                      {
                        "colorbar": {
                          "outlinewidth": 0,
                          "ticks": ""
                        },
                        "type": "contourcarpet"
                      }
                    ],
                    "heatmap": [
                      {
                        "colorbar": {
                          "outlinewidth": 0,
                          "ticks": ""
                        },
                        "colorscale": [
                          [
                            0,
                            "#0d0887"
                          ],
                          [
                            0.1111111111111111,
                            "#46039f"
                          ],
                          [
                            0.2222222222222222,
                            "#7201a8"
                          ],
                          [
                            0.3333333333333333,
                            "#9c179e"
                          ],
                          [
                            0.4444444444444444,
                            "#bd3786"
                          ],
                          [
                            0.5555555555555556,
                            "#d8576b"
                          ],
                          [
                            0.6666666666666666,
                            "#ed7953"
                          ],
                          [
                            0.7777777777777778,
                            "#fb9f3a"
                          ],
                          [
                            0.8888888888888888,
                            "#fdca26"
                          ],
                          [
                            1,
                            "#f0f921"
                          ]
                        ],
                        "type": "heatmap"
                      }
                    ],
                    "heatmapgl": [
                      {
                        "colorbar": {
                          "outlinewidth": 0,
                          "ticks": ""
                        },
                        "colorscale": [
                          [
                            0,
                            "#0d0887"
                          ],
                          [
                            0.1111111111111111,
                            "#46039f"
                          ],
                          [
                            0.2222222222222222,
                            "#7201a8"
                          ],
                          [
                            0.3333333333333333,
                            "#9c179e"
                          ],
                          [
                            0.4444444444444444,
                            "#bd3786"
                          ],
                          [
                            0.5555555555555556,
                            "#d8576b"
                          ],
                          [
                            0.6666666666666666,
                            "#ed7953"
                          ],
                          [
                            0.7777777777777778,
                            "#fb9f3a"
                          ],
                          [
                            0.8888888888888888,
                            "#fdca26"
                          ],
                          [
                            1,
                            "#f0f921"
                          ]
                        ],
                        "type": "heatmapgl"
                      }
                    ],
                    "histogram": [
                      {
                        "marker": {
                          "pattern": {
                            "fillmode": "overlay",
                            "size": 10,
                            "solidity": 0.2
                          }
                        },
                        "type": "histogram"
                      }
                    ],
                    "histogram2d": [
                      {
                        "colorbar": {
                          "outlinewidth": 0,
                          "ticks": ""
                        },
                        "colorscale": [
                          [
                            0,
                            "#0d0887"
                          ],
                          [
                            0.1111111111111111,
                            "#46039f"
                          ],
                          [
                            0.2222222222222222,
                            "#7201a8"
                          ],
                          [
                            0.3333333333333333,
                            "#9c179e"
                          ],
                          [
                            0.4444444444444444,
                            "#bd3786"
                          ],
                          [
                            0.5555555555555556,
                            "#d8576b"
                          ],
                          [
                            0.6666666666666666,
                            "#ed7953"
                          ],
                          [
                            0.7777777777777778,
                            "#fb9f3a"
                          ],
                          [
                            0.8888888888888888,
                            "#fdca26"
                          ],
                          [
                            1,
                            "#f0f921"
                          ]
                        ],
                        "type": "histogram2d"
                      }
                    ],
                    "histogram2dcontour": [
                      {
                        "colorbar": {
                          "outlinewidth": 0,
                          "ticks": ""
                        },
                        "colorscale": [
                          [
                            0,
                            "#0d0887"
                          ],
                          [
                            0.1111111111111111,
                            "#46039f"
                          ],
                          [
                            0.2222222222222222,
                            "#7201a8"
                          ],
                          [
                            0.3333333333333333,
                            "#9c179e"
                          ],
                          [
                            0.4444444444444444,
                            "#bd3786"
                          ],
                          [
                            0.5555555555555556,
                            "#d8576b"
                          ],
                          [
                            0.6666666666666666,
                            "#ed7953"
                          ],
                          [
                            0.7777777777777778,
                            "#fb9f3a"
                          ],
                          [
                            0.8888888888888888,
                            "#fdca26"
                          ],
                          [
                            1,
                            "#f0f921"
                          ]
                        ],
                        "type": "histogram2dcontour"
                      }
                    ],
                    "mesh3d": [
                      {
                        "colorbar": {
                          "outlinewidth": 0,
                          "ticks": ""
                        },
                        "type": "mesh3d"
                      }
                    ],
                    "parcoords": [
                      {
                        "line": {
                          "colorbar": {
                            "outlinewidth": 0,
                            "ticks": ""
                          }
                        },
                        "type": "parcoords"
                      }
                    ],
                    "pie": [
                      {
                        "automargin": true,
                        "type": "pie"
                      }
                    ],
                    "scatter": [
                      {
                        "fillpattern": {
                          "fillmode": "overlay",
                          "size": 10,
                          "solidity": 0.2
                        },
                        "type": "scatter"
                      }
                    ],
                    "scatter3d": [
                      {
                        "line": {
                          "colorbar": {
                            "outlinewidth": 0,
                            "ticks": ""
                          }
                        },
                        "marker": {
                          "colorbar": {
                            "outlinewidth": 0,
                            "ticks": ""
                          }
                        },
                        "type": "scatter3d"
                      }
                    ],
                    "scattercarpet": [
                      {
                        "marker": {
                          "colorbar": {
                            "outlinewidth": 0,
                            "ticks": ""
                          }
                        },
                        "type": "scattercarpet"
                      }
                    ],
                    "scattergeo": [
                      {
                        "marker": {
                          "colorbar": {
                            "outlinewidth": 0,
                            "ticks": ""
                          }
                        },
                        "type": "scattergeo"
                      }
                    ],
                    "scattergl": [
                      {
                        "marker": {
                          "colorbar": {
                            "outlinewidth": 0,
                            "ticks": ""
                          }
                        },
                        "type": "scattergl"
                      }
                    ],
                    "scattermapbox": [
                      {
                        "marker": {
                          "colorbar": {
                            "outlinewidth": 0,
                            "ticks": ""
                          }
                        },
                        "type": "scattermapbox"
                      }
                    ],
                    "scatterpolar": [
                      {
                        "marker": {
                          "colorbar": {
                            "outlinewidth": 0,
                            "ticks": ""
                          }
                        },
                        "type": "scatterpolar"
                      }
                    ],
                    "scatterpolargl": [
                      {
                        "marker": {
                          "colorbar": {
                            "outlinewidth": 0,
                            "ticks": ""
                          }
                        },
                        "type": "scatterpolargl"
                      }
                    ],
                    "scatterternary": [
                      {
                        "marker": {
                          "colorbar": {
                            "outlinewidth": 0,
                            "ticks": ""
                          }
                        },
                        "type": "scatterternary"
                      }
                    ],
                    "surface": [
                      {
                        "colorbar": {
                          "outlinewidth": 0,
                          "ticks": ""
                        },
                        "colorscale": [
                          [
                            0,
                            "#0d0887"
                          ],
                          [
                            0.1111111111111111,
                            "#46039f"
                          ],
                          [
                            0.2222222222222222,
                            "#7201a8"
                          ],
                          [
                            0.3333333333333333,
                            "#9c179e"
                          ],
                          [
                            0.4444444444444444,
                            "#bd3786"
                          ],
                          [
                            0.5555555555555556,
                            "#d8576b"
                          ],
                          [
                            0.6666666666666666,
                            "#ed7953"
                          ],
                          [
                            0.7777777777777778,
                            "#fb9f3a"
                          ],
                          [
                            0.8888888888888888,
                            "#fdca26"
                          ],
                          [
                            1,
                            "#f0f921"
                          ]
                        ],
                        "type": "surface"
                      }
                    ],
                    "table": [
                      {
                        "cells": {
                          "fill": {
                            "color": "#EBF0F8"
                          },
                          "line": {
                            "color": "white"
                          }
                        },
                        "header": {
                          "fill": {
                            "color": "#C8D4E3"
                          },
                          "line": {
                            "color": "white"
                          }
                        },
                        "type": "table"
                      }
                    ]
                  },
                  "layout": {
                    "annotationdefaults": {
                      "arrowcolor": "#2a3f5f",
                      "arrowhead": 0,
                      "arrowwidth": 1
                    },
                    "autotypenumbers": "strict",
                    "coloraxis": {
                      "colorbar": {
                        "outlinewidth": 0,
                        "ticks": ""
                      }
                    },
                    "colorscale": {
                      "diverging": [
                        [
                          0,
                          "#8e0152"
                        ],
                        [
                          0.1,
                          "#c51b7d"
                        ],
                        [
                          0.2,
                          "#de77ae"
                        ],
                        [
                          0.3,
                          "#f1b6da"
                        ],
                        [
                          0.4,
                          "#fde0ef"
                        ],
                        [
                          0.5,
                          "#f7f7f7"
                        ],
                        [
                          0.6,
                          "#e6f5d0"
                        ],
                        [
                          0.7,
                          "#b8e186"
                        ],
                        [
                          0.8,
                          "#7fbc41"
                        ],
                        [
                          0.9,
                          "#4d9221"
                        ],
                        [
                          1,
                          "#276419"
                        ]
                      ],
                      "sequential": [
                        [
                          0,
                          "#0d0887"
                        ],
                        [
                          0.1111111111111111,
                          "#46039f"
                        ],
                        [
                          0.2222222222222222,
                          "#7201a8"
                        ],
                        [
                          0.3333333333333333,
                          "#9c179e"
                        ],
                        [
                          0.4444444444444444,
                          "#bd3786"
                        ],
                        [
                          0.5555555555555556,
                          "#d8576b"
                        ],
                        [
                          0.6666666666666666,
                          "#ed7953"
                        ],
                        [
                          0.7777777777777778,
                          "#fb9f3a"
                        ],
                        [
                          0.8888888888888888,
                          "#fdca26"
                        ],
                        [
                          1,
                          "#f0f921"
                        ]
                      ],
                      "sequentialminus": [
                        [
                          0,
                          "#0d0887"
                        ],
                        [
                          0.1111111111111111,
                          "#46039f"
                        ],
                        [
                          0.2222222222222222,
                          "#7201a8"
                        ],
                        [
                          0.3333333333333333,
                          "#9c179e"
                        ],
                        [
                          0.4444444444444444,
                          "#bd3786"
                        ],
                        [
                          0.5555555555555556,
                          "#d8576b"
                        ],
                        [
                          0.6666666666666666,
                          "#ed7953"
                        ],
                        [
                          0.7777777777777778,
                          "#fb9f3a"
                        ],
                        [
                          0.8888888888888888,
                          "#fdca26"
                        ],
                        [
                          1,
                          "#f0f921"
                        ]
                      ]
                    },
                    "colorway": [
                      "#636efa",
                      "#EF553B",
                      "#00cc96",
                      "#ab63fa",
                      "#FFA15A",
                      "#19d3f3",
                      "#FF6692",
                      "#B6E880",
                      "#FF97FF",
                      "#FECB52"
                    ],
                    "font": {
                      "color": "#2a3f5f"
                    },
                    "geo": {
                      "bgcolor": "white",
                      "lakecolor": "white",
                      "landcolor": "#E5ECF6",
                      "showlakes": true,
                      "showland": true,
                      "subunitcolor": "white"
                    },
                    "hoverlabel": {
                      "align": "left"
                    },
                    "hovermode": "closest",
                    "mapbox": {
                      "style": "light"
                    },
                    "paper_bgcolor": "white",
                    "plot_bgcolor": "#E5ECF6",
                    "polar": {
                      "angularaxis": {
                        "gridcolor": "white",
                        "linecolor": "white",
                        "ticks": ""
                      },
                      "bgcolor": "#E5ECF6",
                      "radialaxis": {
                        "gridcolor": "white",
                        "linecolor": "white",
                        "ticks": ""
                      }
                    },
                    "scene": {
                      "xaxis": {
                        "backgroundcolor": "#E5ECF6",
                        "gridcolor": "white",
                        "gridwidth": 2,
                        "linecolor": "white",
                        "showbackground": true,
                        "ticks": "",
                        "zerolinecolor": "white"
                      },
                      "yaxis": {
                        "backgroundcolor": "#E5ECF6",
                        "gridcolor": "white",
                        "gridwidth": 2,
                        "linecolor": "white",
                        "showbackground": true,
                        "ticks": "",
                        "zerolinecolor": "white"
                      },
                      "zaxis": {
                        "backgroundcolor": "#E5ECF6",
                        "gridcolor": "white",
                        "gridwidth": 2,
                        "linecolor": "white",
                        "showbackground": true,
                        "ticks": "",
                        "zerolinecolor": "white"
                      }
                    },
                    "shapedefaults": {
                      "line": {
                        "color": "#2a3f5f"
                      }
                    },
                    "ternary": {
                      "aaxis": {
                        "gridcolor": "white",
                        "linecolor": "white",
                        "ticks": ""
                      },
                      "baxis": {
                        "gridcolor": "white",
                        "linecolor": "white",
                        "ticks": ""
                      },
                      "bgcolor": "#E5ECF6",
                      "caxis": {
                        "gridcolor": "white",
                        "linecolor": "white",
                        "ticks": ""
                      }
                    },
                    "title": {
                      "x": 0.05
                    },
                    "xaxis": {
                      "automargin": true,
                      "gridcolor": "white",
                      "linecolor": "white",
                      "ticks": "",
                      "title": {
                        "standoff": 15
                      },
                      "zerolinecolor": "white",
                      "zerolinewidth": 2
                    },
                    "yaxis": {
                      "automargin": true,
                      "gridcolor": "white",
                      "linecolor": "white",
                      "ticks": "",
                      "title": {
                        "standoff": 15
                      },
                      "zerolinecolor": "white",
                      "zerolinewidth": 2
                    }
                  }
                },
                "xaxis": {
                  "anchor": "y",
                  "domain": [
                    0,
                    1
                  ],
                  "title": {
                    "text": "x"
                  }
                },
                "yaxis": {
                  "anchor": "x",
                  "domain": [
                    0,
                    1
                  ],
                  "title": {
                    "text": "y"
                  }
                }
              }
            }
          },
          "metadata": {},
          "output_type": "display_data"
        }
      ],
      "source": [
        "FAOSTAT_2013_population.sort_values(by='Value', ascending=False, inplace=True )\n",
        "fig = px.bar(x=FAOSTAT_2013_population.head(20).Country, y=FAOSTAT_2013_population.head(20).Value, height=1000)\n",
        "fig.show()\n"
      ]
    },
    {
      "cell_type": "code",
      "execution_count": 611,
      "metadata": {},
      "outputs": [],
      "source": [
        "#Supprimer les agrégats\n",
        "\n",
        "FAOSTAT_2013_animal.drop(FAOSTAT_2013_animal[FAOSTAT_2013_animal['Symbole']=='A'].index, inplace=True)\n",
        "FAOSTAT_2013_cereal.drop(FAOSTAT_2013_cereal[FAOSTAT_2013_cereal['Symbole']=='A'].index, inplace=True)\n",
        "FAOSTAT_2013_population.drop(FAOSTAT_2013_population[FAOSTAT_2013_population['Flag']=='A'].index, inplace=True)\n",
        "FAOSTAT_2013_vegetal.drop(FAOSTAT_2013_vegetal[FAOSTAT_2013_vegetal['Symbole']=='A'].index, inplace=True)\n",
        "\n",
        "#Pour sous population il n'y a pas de symbole alors en utilise Zone\n",
        "FAOSTAT_2013_sous_alimentation.drop(FAOSTAT_2013_sous_alimentation[FAOSTAT_2013_sous_alimentation['Zone']=='Chine'].index, inplace=True)"
      ]
    },
    {
      "cell_type": "markdown",
      "metadata": {
        "id": "_hAXW1I3aA2G"
      },
      "source": [
        "#### Question 2 : Redondances\n",
        "Identifiez ces redondances, en donnant votre réponse sous forme de formule mathématique (pas besoin de coder ici).\n",
        "C'est une équation à 3 termes de type (a_1 + a2 + [...] = b_1 + b_2 + [...] = c_1 + c_2 + [...]) ) faisant intervenir chacune des 11 quantités données ci dessus.\n",
        "Illustrez cette équation avec l'exemple du blé en France."
      ]
    },
    {
      "cell_type": "markdown",
      "metadata": {},
      "source": [
        "-Pour Les Data Animal, Cereal, Vegetal :\n",
        "\n",
        "    Production + 'Importations - Quantité' + Variation de stock = 'Aliments pour animaux' + 'Autres Utilisations' + Nourriture + Pertes + Semences + Traitement + 'Exportations - Quantité'\n",
        "\n",
        "    'Aliments pour animaux' + 'Autres Utilisations' + Nourriture + Pertes + Semences + Traitement = 'Disponibilité intérieure'\n",
        "\n",
        "    'Disponibilité intérieure' + 'Exportations - Quantité' = Production + 'Importations - Quantité' + Variation de stock\n",
        "    Production + Importations - Exportations + Variation de stock= Disponibilité intérieure"
      ]
    },
    {
      "cell_type": "code",
      "execution_count": 612,
      "metadata": {
        "id": "Ey3iQvJ1aDRG"
      },
      "outputs": [
        {
          "name": "stdout",
          "output_type": "stream",
          "text": [
            "la somme de Production + Importations - Quantité' + Variation de stock est 41800.0\n",
            "la somme de 'Aliments pour animaux' + 'Autres Utilisations' + Nourriture + Pertes + Semences + Traitement + 'Exportations - Quantité' est 41800.0\n",
            "Production + Importations - Exportations + Variation de stock= 20298.0\n",
            "Disponibilité = 20298.0\n"
          ]
        }
      ],
      "source": [
        "df_france=FAOSTAT_2013_cereal[FAOSTAT_2013_cereal['Pays']=='France']\n",
        "df_france=df_france[df_france['Symbole']=='S']\n",
        "df_france=df_france[df_france['Produit']=='Blé']\n",
        "\n",
        "\n",
        "Production=df_france[df_france['Élément']=='Production']['Valeur'].sum()\n",
        "Importations=df_france[df_france['Élément']=='Importations - Quantité']['Valeur'].sum()\n",
        "Variation=df_france[df_france['Élément']=='Variation de stock']['Valeur'].sum()\n",
        "\n",
        "\n",
        "Aliments_animaux=df_france[df_france['Élément']=='Aliments pour animaux']['Valeur'].sum()\n",
        "Autres_Utilisations=df_france[df_france['Élément']=='Autres Utilisations']['Valeur'].sum()\n",
        "Nourriture=df_france[df_france['Élément']=='Nourriture']['Valeur'].sum()\n",
        "Pertes=df_france[df_france['Élément']=='Pertes']['Valeur'].sum()\n",
        "Semences=df_france[df_france['Élément']=='Semences']['Valeur'].sum()\n",
        "Traitement=df_france[df_france['Élément']=='Traitement']['Valeur'].sum()\n",
        "Exportations=df_france[df_france['Élément']=='Exportations - Quantité']['Valeur'].sum()\n",
        "Disponibilité=df_france[df_france['Élément']=='Disponibilité intérieure']['Valeur'].sum()\n",
        "\n",
        "print(f\"la somme de Production + Importations - Quantité' + Variation de stock est {Production+Importations+Variation}\")\n",
        "print(f\"la somme de 'Aliments pour animaux' + 'Autres Utilisations' + Nourriture + Pertes + Semences + Traitement + 'Exportations - Quantité' est {Aliments_animaux+Autres_Utilisations+Nourriture+Pertes+Semences+Traitement+Exportations}\")\n",
        "\n",
        "print(f\"Production + Importations - Exportations + Variation de stock= {Production+Importations-Exportations+Variation }\")\n",
        "print(f\"Disponibilité = {Disponibilité}\")"
      ]
    },
    {
      "cell_type": "markdown",
      "metadata": {
        "id": "5HCFKjr7aDxk"
      },
      "source": [
        "#### Question 3 : Disponibilité alimentaire (calories, protéines)\n",
        "Calculez (pour chaque pays et chaque produit) la disponibilité alimentaire en kcal puis en kg de protéines. Vous ferez cela à partir de ces informations :\n",
        "- Population de chaque pays\n",
        "- Disponibilité alimentaire donnée pour chaque produit et pour chaque pays en kcal/personne/jour, -\n",
        "- Disponibilité alimentaire en protéines donnée pour chaque produit et pour chaque pays en g/personne/jour.\n",
        "Pour cette étape vous avez besoin de constituer une seule et même table à partir des tables animaux et végétaux."
      ]
    },
    {
      "cell_type": "code",
      "execution_count": 613,
      "metadata": {
        "id": "B4jG5kWJaKj5"
      },
      "outputs": [
        {
          "name": "stderr",
          "output_type": "stream",
          "text": [
            "C:\\Users\\MOHAM\\AppData\\Local\\Temp\\ipykernel_12664\\1840451088.py:8: SettingWithCopyWarning:\n",
            "\n",
            "\n",
            "A value is trying to be set on a copy of a slice from a DataFrame\n",
            "\n",
            "See the caveats in the documentation: https://pandas.pydata.org/pandas-docs/stable/user_guide/indexing.html#returning-a-view-versus-a-copy\n",
            "\n"
          ]
        },
        {
          "data": {
            "application/vnd.plotly.v1+json": {
              "config": {
                "plotlyServerURL": "https://plot.ly"
              },
              "data": [
                {
                  "alignmentgroup": "True",
                  "hovertemplate": "x=%{x}<br>y=%{y}<extra></extra>",
                  "legendgroup": "",
                  "marker": {
                    "color": "#039be5",
                    "pattern": {
                      "shape": ""
                    }
                  },
                  "name": "",
                  "offsetgroup": "",
                  "orientation": "v",
                  "showlegend": false,
                  "textposition": "auto",
                  "type": "bar",
                  "x": [
                    "China, mainland",
                    "India",
                    "United States of America",
                    "Indonesia",
                    "Brazil",
                    "Pakistan",
                    "Nigeria",
                    "Bangladesh",
                    "Russian Federation",
                    "Japan"
                  ],
                  "xaxis": "x",
                  "y": [
                    1385567000,
                    1252140000,
                    320051000,
                    249866000,
                    200362000,
                    182143000,
                    173615000,
                    156595000,
                    142834000,
                    127144000
                  ],
                  "yaxis": "y"
                }
              ],
              "layout": {
                "barmode": "relative",
                "height": 1000,
                "legend": {
                  "tracegroupgap": 0
                },
                "margin": {
                  "t": 60
                },
                "template": {
                  "data": {
                    "bar": [
                      {
                        "error_x": {
                          "color": "#2a3f5f"
                        },
                        "error_y": {
                          "color": "#2a3f5f"
                        },
                        "marker": {
                          "line": {
                            "color": "#E5ECF6",
                            "width": 0.5
                          },
                          "pattern": {
                            "fillmode": "overlay",
                            "size": 10,
                            "solidity": 0.2
                          }
                        },
                        "type": "bar"
                      }
                    ],
                    "barpolar": [
                      {
                        "marker": {
                          "line": {
                            "color": "#E5ECF6",
                            "width": 0.5
                          },
                          "pattern": {
                            "fillmode": "overlay",
                            "size": 10,
                            "solidity": 0.2
                          }
                        },
                        "type": "barpolar"
                      }
                    ],
                    "carpet": [
                      {
                        "aaxis": {
                          "endlinecolor": "#2a3f5f",
                          "gridcolor": "white",
                          "linecolor": "white",
                          "minorgridcolor": "white",
                          "startlinecolor": "#2a3f5f"
                        },
                        "baxis": {
                          "endlinecolor": "#2a3f5f",
                          "gridcolor": "white",
                          "linecolor": "white",
                          "minorgridcolor": "white",
                          "startlinecolor": "#2a3f5f"
                        },
                        "type": "carpet"
                      }
                    ],
                    "choropleth": [
                      {
                        "colorbar": {
                          "outlinewidth": 0,
                          "ticks": ""
                        },
                        "type": "choropleth"
                      }
                    ],
                    "contour": [
                      {
                        "colorbar": {
                          "outlinewidth": 0,
                          "ticks": ""
                        },
                        "colorscale": [
                          [
                            0,
                            "#0d0887"
                          ],
                          [
                            0.1111111111111111,
                            "#46039f"
                          ],
                          [
                            0.2222222222222222,
                            "#7201a8"
                          ],
                          [
                            0.3333333333333333,
                            "#9c179e"
                          ],
                          [
                            0.4444444444444444,
                            "#bd3786"
                          ],
                          [
                            0.5555555555555556,
                            "#d8576b"
                          ],
                          [
                            0.6666666666666666,
                            "#ed7953"
                          ],
                          [
                            0.7777777777777778,
                            "#fb9f3a"
                          ],
                          [
                            0.8888888888888888,
                            "#fdca26"
                          ],
                          [
                            1,
                            "#f0f921"
                          ]
                        ],
                        "type": "contour"
                      }
                    ],
                    "contourcarpet": [
                      {
                        "colorbar": {
                          "outlinewidth": 0,
                          "ticks": ""
                        },
                        "type": "contourcarpet"
                      }
                    ],
                    "heatmap": [
                      {
                        "colorbar": {
                          "outlinewidth": 0,
                          "ticks": ""
                        },
                        "colorscale": [
                          [
                            0,
                            "#0d0887"
                          ],
                          [
                            0.1111111111111111,
                            "#46039f"
                          ],
                          [
                            0.2222222222222222,
                            "#7201a8"
                          ],
                          [
                            0.3333333333333333,
                            "#9c179e"
                          ],
                          [
                            0.4444444444444444,
                            "#bd3786"
                          ],
                          [
                            0.5555555555555556,
                            "#d8576b"
                          ],
                          [
                            0.6666666666666666,
                            "#ed7953"
                          ],
                          [
                            0.7777777777777778,
                            "#fb9f3a"
                          ],
                          [
                            0.8888888888888888,
                            "#fdca26"
                          ],
                          [
                            1,
                            "#f0f921"
                          ]
                        ],
                        "type": "heatmap"
                      }
                    ],
                    "heatmapgl": [
                      {
                        "colorbar": {
                          "outlinewidth": 0,
                          "ticks": ""
                        },
                        "colorscale": [
                          [
                            0,
                            "#0d0887"
                          ],
                          [
                            0.1111111111111111,
                            "#46039f"
                          ],
                          [
                            0.2222222222222222,
                            "#7201a8"
                          ],
                          [
                            0.3333333333333333,
                            "#9c179e"
                          ],
                          [
                            0.4444444444444444,
                            "#bd3786"
                          ],
                          [
                            0.5555555555555556,
                            "#d8576b"
                          ],
                          [
                            0.6666666666666666,
                            "#ed7953"
                          ],
                          [
                            0.7777777777777778,
                            "#fb9f3a"
                          ],
                          [
                            0.8888888888888888,
                            "#fdca26"
                          ],
                          [
                            1,
                            "#f0f921"
                          ]
                        ],
                        "type": "heatmapgl"
                      }
                    ],
                    "histogram": [
                      {
                        "marker": {
                          "pattern": {
                            "fillmode": "overlay",
                            "size": 10,
                            "solidity": 0.2
                          }
                        },
                        "type": "histogram"
                      }
                    ],
                    "histogram2d": [
                      {
                        "colorbar": {
                          "outlinewidth": 0,
                          "ticks": ""
                        },
                        "colorscale": [
                          [
                            0,
                            "#0d0887"
                          ],
                          [
                            0.1111111111111111,
                            "#46039f"
                          ],
                          [
                            0.2222222222222222,
                            "#7201a8"
                          ],
                          [
                            0.3333333333333333,
                            "#9c179e"
                          ],
                          [
                            0.4444444444444444,
                            "#bd3786"
                          ],
                          [
                            0.5555555555555556,
                            "#d8576b"
                          ],
                          [
                            0.6666666666666666,
                            "#ed7953"
                          ],
                          [
                            0.7777777777777778,
                            "#fb9f3a"
                          ],
                          [
                            0.8888888888888888,
                            "#fdca26"
                          ],
                          [
                            1,
                            "#f0f921"
                          ]
                        ],
                        "type": "histogram2d"
                      }
                    ],
                    "histogram2dcontour": [
                      {
                        "colorbar": {
                          "outlinewidth": 0,
                          "ticks": ""
                        },
                        "colorscale": [
                          [
                            0,
                            "#0d0887"
                          ],
                          [
                            0.1111111111111111,
                            "#46039f"
                          ],
                          [
                            0.2222222222222222,
                            "#7201a8"
                          ],
                          [
                            0.3333333333333333,
                            "#9c179e"
                          ],
                          [
                            0.4444444444444444,
                            "#bd3786"
                          ],
                          [
                            0.5555555555555556,
                            "#d8576b"
                          ],
                          [
                            0.6666666666666666,
                            "#ed7953"
                          ],
                          [
                            0.7777777777777778,
                            "#fb9f3a"
                          ],
                          [
                            0.8888888888888888,
                            "#fdca26"
                          ],
                          [
                            1,
                            "#f0f921"
                          ]
                        ],
                        "type": "histogram2dcontour"
                      }
                    ],
                    "mesh3d": [
                      {
                        "colorbar": {
                          "outlinewidth": 0,
                          "ticks": ""
                        },
                        "type": "mesh3d"
                      }
                    ],
                    "parcoords": [
                      {
                        "line": {
                          "colorbar": {
                            "outlinewidth": 0,
                            "ticks": ""
                          }
                        },
                        "type": "parcoords"
                      }
                    ],
                    "pie": [
                      {
                        "automargin": true,
                        "type": "pie"
                      }
                    ],
                    "scatter": [
                      {
                        "fillpattern": {
                          "fillmode": "overlay",
                          "size": 10,
                          "solidity": 0.2
                        },
                        "type": "scatter"
                      }
                    ],
                    "scatter3d": [
                      {
                        "line": {
                          "colorbar": {
                            "outlinewidth": 0,
                            "ticks": ""
                          }
                        },
                        "marker": {
                          "colorbar": {
                            "outlinewidth": 0,
                            "ticks": ""
                          }
                        },
                        "type": "scatter3d"
                      }
                    ],
                    "scattercarpet": [
                      {
                        "marker": {
                          "colorbar": {
                            "outlinewidth": 0,
                            "ticks": ""
                          }
                        },
                        "type": "scattercarpet"
                      }
                    ],
                    "scattergeo": [
                      {
                        "marker": {
                          "colorbar": {
                            "outlinewidth": 0,
                            "ticks": ""
                          }
                        },
                        "type": "scattergeo"
                      }
                    ],
                    "scattergl": [
                      {
                        "marker": {
                          "colorbar": {
                            "outlinewidth": 0,
                            "ticks": ""
                          }
                        },
                        "type": "scattergl"
                      }
                    ],
                    "scattermapbox": [
                      {
                        "marker": {
                          "colorbar": {
                            "outlinewidth": 0,
                            "ticks": ""
                          }
                        },
                        "type": "scattermapbox"
                      }
                    ],
                    "scatterpolar": [
                      {
                        "marker": {
                          "colorbar": {
                            "outlinewidth": 0,
                            "ticks": ""
                          }
                        },
                        "type": "scatterpolar"
                      }
                    ],
                    "scatterpolargl": [
                      {
                        "marker": {
                          "colorbar": {
                            "outlinewidth": 0,
                            "ticks": ""
                          }
                        },
                        "type": "scatterpolargl"
                      }
                    ],
                    "scatterternary": [
                      {
                        "marker": {
                          "colorbar": {
                            "outlinewidth": 0,
                            "ticks": ""
                          }
                        },
                        "type": "scatterternary"
                      }
                    ],
                    "surface": [
                      {
                        "colorbar": {
                          "outlinewidth": 0,
                          "ticks": ""
                        },
                        "colorscale": [
                          [
                            0,
                            "#0d0887"
                          ],
                          [
                            0.1111111111111111,
                            "#46039f"
                          ],
                          [
                            0.2222222222222222,
                            "#7201a8"
                          ],
                          [
                            0.3333333333333333,
                            "#9c179e"
                          ],
                          [
                            0.4444444444444444,
                            "#bd3786"
                          ],
                          [
                            0.5555555555555556,
                            "#d8576b"
                          ],
                          [
                            0.6666666666666666,
                            "#ed7953"
                          ],
                          [
                            0.7777777777777778,
                            "#fb9f3a"
                          ],
                          [
                            0.8888888888888888,
                            "#fdca26"
                          ],
                          [
                            1,
                            "#f0f921"
                          ]
                        ],
                        "type": "surface"
                      }
                    ],
                    "table": [
                      {
                        "cells": {
                          "fill": {
                            "color": "#EBF0F8"
                          },
                          "line": {
                            "color": "white"
                          }
                        },
                        "header": {
                          "fill": {
                            "color": "#C8D4E3"
                          },
                          "line": {
                            "color": "white"
                          }
                        },
                        "type": "table"
                      }
                    ]
                  },
                  "layout": {
                    "annotationdefaults": {
                      "arrowcolor": "#2a3f5f",
                      "arrowhead": 0,
                      "arrowwidth": 1
                    },
                    "autotypenumbers": "strict",
                    "coloraxis": {
                      "colorbar": {
                        "outlinewidth": 0,
                        "ticks": ""
                      }
                    },
                    "colorscale": {
                      "diverging": [
                        [
                          0,
                          "#8e0152"
                        ],
                        [
                          0.1,
                          "#c51b7d"
                        ],
                        [
                          0.2,
                          "#de77ae"
                        ],
                        [
                          0.3,
                          "#f1b6da"
                        ],
                        [
                          0.4,
                          "#fde0ef"
                        ],
                        [
                          0.5,
                          "#f7f7f7"
                        ],
                        [
                          0.6,
                          "#e6f5d0"
                        ],
                        [
                          0.7,
                          "#b8e186"
                        ],
                        [
                          0.8,
                          "#7fbc41"
                        ],
                        [
                          0.9,
                          "#4d9221"
                        ],
                        [
                          1,
                          "#276419"
                        ]
                      ],
                      "sequential": [
                        [
                          0,
                          "#0d0887"
                        ],
                        [
                          0.1111111111111111,
                          "#46039f"
                        ],
                        [
                          0.2222222222222222,
                          "#7201a8"
                        ],
                        [
                          0.3333333333333333,
                          "#9c179e"
                        ],
                        [
                          0.4444444444444444,
                          "#bd3786"
                        ],
                        [
                          0.5555555555555556,
                          "#d8576b"
                        ],
                        [
                          0.6666666666666666,
                          "#ed7953"
                        ],
                        [
                          0.7777777777777778,
                          "#fb9f3a"
                        ],
                        [
                          0.8888888888888888,
                          "#fdca26"
                        ],
                        [
                          1,
                          "#f0f921"
                        ]
                      ],
                      "sequentialminus": [
                        [
                          0,
                          "#0d0887"
                        ],
                        [
                          0.1111111111111111,
                          "#46039f"
                        ],
                        [
                          0.2222222222222222,
                          "#7201a8"
                        ],
                        [
                          0.3333333333333333,
                          "#9c179e"
                        ],
                        [
                          0.4444444444444444,
                          "#bd3786"
                        ],
                        [
                          0.5555555555555556,
                          "#d8576b"
                        ],
                        [
                          0.6666666666666666,
                          "#ed7953"
                        ],
                        [
                          0.7777777777777778,
                          "#fb9f3a"
                        ],
                        [
                          0.8888888888888888,
                          "#fdca26"
                        ],
                        [
                          1,
                          "#f0f921"
                        ]
                      ]
                    },
                    "colorway": [
                      "#636efa",
                      "#EF553B",
                      "#00cc96",
                      "#ab63fa",
                      "#FFA15A",
                      "#19d3f3",
                      "#FF6692",
                      "#B6E880",
                      "#FF97FF",
                      "#FECB52"
                    ],
                    "font": {
                      "color": "#2a3f5f"
                    },
                    "geo": {
                      "bgcolor": "white",
                      "lakecolor": "white",
                      "landcolor": "#E5ECF6",
                      "showlakes": true,
                      "showland": true,
                      "subunitcolor": "white"
                    },
                    "hoverlabel": {
                      "align": "left"
                    },
                    "hovermode": "closest",
                    "mapbox": {
                      "style": "light"
                    },
                    "paper_bgcolor": "white",
                    "plot_bgcolor": "#E5ECF6",
                    "polar": {
                      "angularaxis": {
                        "gridcolor": "white",
                        "linecolor": "white",
                        "ticks": ""
                      },
                      "bgcolor": "#E5ECF6",
                      "radialaxis": {
                        "gridcolor": "white",
                        "linecolor": "white",
                        "ticks": ""
                      }
                    },
                    "scene": {
                      "xaxis": {
                        "backgroundcolor": "#E5ECF6",
                        "gridcolor": "white",
                        "gridwidth": 2,
                        "linecolor": "white",
                        "showbackground": true,
                        "ticks": "",
                        "zerolinecolor": "white"
                      },
                      "yaxis": {
                        "backgroundcolor": "#E5ECF6",
                        "gridcolor": "white",
                        "gridwidth": 2,
                        "linecolor": "white",
                        "showbackground": true,
                        "ticks": "",
                        "zerolinecolor": "white"
                      },
                      "zaxis": {
                        "backgroundcolor": "#E5ECF6",
                        "gridcolor": "white",
                        "gridwidth": 2,
                        "linecolor": "white",
                        "showbackground": true,
                        "ticks": "",
                        "zerolinecolor": "white"
                      }
                    },
                    "shapedefaults": {
                      "line": {
                        "color": "#2a3f5f"
                      }
                    },
                    "ternary": {
                      "aaxis": {
                        "gridcolor": "white",
                        "linecolor": "white",
                        "ticks": ""
                      },
                      "baxis": {
                        "gridcolor": "white",
                        "linecolor": "white",
                        "ticks": ""
                      },
                      "bgcolor": "#E5ECF6",
                      "caxis": {
                        "gridcolor": "white",
                        "linecolor": "white",
                        "ticks": ""
                      }
                    },
                    "title": {
                      "x": 0.05
                    },
                    "xaxis": {
                      "automargin": true,
                      "gridcolor": "white",
                      "linecolor": "white",
                      "ticks": "",
                      "title": {
                        "standoff": 15
                      },
                      "zerolinecolor": "white",
                      "zerolinewidth": 2
                    },
                    "yaxis": {
                      "automargin": true,
                      "gridcolor": "white",
                      "linecolor": "white",
                      "ticks": "",
                      "title": {
                        "standoff": 15
                      },
                      "zerolinecolor": "white",
                      "zerolinewidth": 2
                    }
                  }
                },
                "xaxis": {
                  "anchor": "y",
                  "domain": [
                    0,
                    1
                  ],
                  "title": {
                    "text": "x"
                  }
                },
                "yaxis": {
                  "anchor": "x",
                  "domain": [
                    0,
                    1
                  ],
                  "title": {
                    "text": "y"
                  }
                }
              }
            }
          },
          "metadata": {},
          "output_type": "display_data"
        }
      ],
      "source": [
        "#Population de chaque pays\n",
        "dPopulation=FAOSTAT_2013_population\n",
        "dPopulation=dPopulation[['Country Code', 'Country', 'Value']]\n",
        "dPopulation.loc[:,'Value']=FAOSTAT_2013_population['Value']*1000 \n",
        "\n",
        "dPopulation\n",
        "\n",
        "dPopulation.sort_values(by='Value', ascending=False, inplace=True )\n",
        "fig = px.bar(x=dPopulation.head(10).Country,color_discrete_sequence=color_list_bar,y=dPopulation.head(10).Value,height=1000)\n",
        "fig.show()"
      ]
    },
    {
      "cell_type": "code",
      "execution_count": 614,
      "metadata": {},
      "outputs": [
        {
          "data": {
            "text/html": [
              "<div>\n",
              "<style scoped>\n",
              "    .dataframe tbody tr th:only-of-type {\n",
              "        vertical-align: middle;\n",
              "    }\n",
              "\n",
              "    .dataframe tbody tr th {\n",
              "        vertical-align: top;\n",
              "    }\n",
              "\n",
              "    .dataframe thead th {\n",
              "        text-align: right;\n",
              "    }\n",
              "</style>\n",
              "<table border=\"1\" class=\"dataframe\">\n",
              "  <thead>\n",
              "    <tr style=\"text-align: right;\">\n",
              "      <th></th>\n",
              "      <th>Code Pays</th>\n",
              "      <th>Pays</th>\n",
              "      <th>Population</th>\n",
              "      <th>Élément</th>\n",
              "      <th>Code Produit</th>\n",
              "      <th>Produit</th>\n",
              "      <th>Valeur</th>\n",
              "      <th>Kcal</th>\n",
              "    </tr>\n",
              "  </thead>\n",
              "  <tbody>\n",
              "    <tr>\n",
              "      <th>0</th>\n",
              "      <td>2</td>\n",
              "      <td>Afghanistan</td>\n",
              "      <td>30552000</td>\n",
              "      <td>Disponibilité alimentaire (Kcal/personne/jour)</td>\n",
              "      <td>2511</td>\n",
              "      <td>Blé</td>\n",
              "      <td>1369.0</td>\n",
              "      <td>1.526638e+13</td>\n",
              "    </tr>\n",
              "    <tr>\n",
              "      <th>1</th>\n",
              "      <td>2</td>\n",
              "      <td>Afghanistan</td>\n",
              "      <td>30552000</td>\n",
              "      <td>Disponibilité alimentaire (Kcal/personne/jour)</td>\n",
              "      <td>2805</td>\n",
              "      <td>Riz (Eq Blanchi)</td>\n",
              "      <td>141.0</td>\n",
              "      <td>1.572359e+12</td>\n",
              "    </tr>\n",
              "    <tr>\n",
              "      <th>2</th>\n",
              "      <td>2</td>\n",
              "      <td>Afghanistan</td>\n",
              "      <td>30552000</td>\n",
              "      <td>Disponibilité alimentaire (Kcal/personne/jour)</td>\n",
              "      <td>2513</td>\n",
              "      <td>Orge</td>\n",
              "      <td>26.0</td>\n",
              "      <td>2.899385e+11</td>\n",
              "    </tr>\n",
              "    <tr>\n",
              "      <th>3</th>\n",
              "      <td>2</td>\n",
              "      <td>Afghanistan</td>\n",
              "      <td>30552000</td>\n",
              "      <td>Disponibilité alimentaire (Kcal/personne/jour)</td>\n",
              "      <td>2514</td>\n",
              "      <td>Maïs</td>\n",
              "      <td>21.0</td>\n",
              "      <td>2.341811e+11</td>\n",
              "    </tr>\n",
              "    <tr>\n",
              "      <th>4</th>\n",
              "      <td>2</td>\n",
              "      <td>Afghanistan</td>\n",
              "      <td>30552000</td>\n",
              "      <td>Disponibilité alimentaire (Kcal/personne/jour)</td>\n",
              "      <td>2517</td>\n",
              "      <td>Millet</td>\n",
              "      <td>3.0</td>\n",
              "      <td>3.345444e+10</td>\n",
              "    </tr>\n",
              "    <tr>\n",
              "      <th>...</th>\n",
              "      <td>...</td>\n",
              "      <td>...</td>\n",
              "      <td>...</td>\n",
              "      <td>...</td>\n",
              "      <td>...</td>\n",
              "      <td>...</td>\n",
              "      <td>...</td>\n",
              "      <td>...</td>\n",
              "    </tr>\n",
              "    <tr>\n",
              "      <th>14236</th>\n",
              "      <td>181</td>\n",
              "      <td>Zimbabwe</td>\n",
              "      <td>14150000</td>\n",
              "      <td>Disponibilité alimentaire (Kcal/personne/jour)</td>\n",
              "      <td>2764</td>\n",
              "      <td>Poissons Marins, Autres</td>\n",
              "      <td>0.0</td>\n",
              "      <td>0.000000e+00</td>\n",
              "    </tr>\n",
              "    <tr>\n",
              "      <th>14237</th>\n",
              "      <td>181</td>\n",
              "      <td>Zimbabwe</td>\n",
              "      <td>14150000</td>\n",
              "      <td>Disponibilité alimentaire (Kcal/personne/jour)</td>\n",
              "      <td>2765</td>\n",
              "      <td>Crustacés</td>\n",
              "      <td>0.0</td>\n",
              "      <td>0.000000e+00</td>\n",
              "    </tr>\n",
              "    <tr>\n",
              "      <th>14238</th>\n",
              "      <td>181</td>\n",
              "      <td>Zimbabwe</td>\n",
              "      <td>14150000</td>\n",
              "      <td>Disponibilité alimentaire (Kcal/personne/jour)</td>\n",
              "      <td>2766</td>\n",
              "      <td>Cephalopodes</td>\n",
              "      <td>0.0</td>\n",
              "      <td>0.000000e+00</td>\n",
              "    </tr>\n",
              "    <tr>\n",
              "      <th>14239</th>\n",
              "      <td>181</td>\n",
              "      <td>Zimbabwe</td>\n",
              "      <td>14150000</td>\n",
              "      <td>Disponibilité alimentaire (Kcal/personne/jour)</td>\n",
              "      <td>2767</td>\n",
              "      <td>Mollusques, Autres</td>\n",
              "      <td>0.0</td>\n",
              "      <td>0.000000e+00</td>\n",
              "    </tr>\n",
              "    <tr>\n",
              "      <th>14240</th>\n",
              "      <td>181</td>\n",
              "      <td>Zimbabwe</td>\n",
              "      <td>14150000</td>\n",
              "      <td>Disponibilité alimentaire (Kcal/personne/jour)</td>\n",
              "      <td>2775</td>\n",
              "      <td>Plantes Aquatiques</td>\n",
              "      <td>0.0</td>\n",
              "      <td>0.000000e+00</td>\n",
              "    </tr>\n",
              "  </tbody>\n",
              "</table>\n",
              "<p>14241 rows × 8 columns</p>\n",
              "</div>"
            ],
            "text/plain": [
              "      Code Pays         Pays  Population  \\\n",
              "0             2  Afghanistan    30552000   \n",
              "1             2  Afghanistan    30552000   \n",
              "2             2  Afghanistan    30552000   \n",
              "3             2  Afghanistan    30552000   \n",
              "4             2  Afghanistan    30552000   \n",
              "...         ...          ...         ...   \n",
              "14236       181     Zimbabwe    14150000   \n",
              "14237       181     Zimbabwe    14150000   \n",
              "14238       181     Zimbabwe    14150000   \n",
              "14239       181     Zimbabwe    14150000   \n",
              "14240       181     Zimbabwe    14150000   \n",
              "\n",
              "                                              Élément Code Produit  \\\n",
              "0      Disponibilité alimentaire (Kcal/personne/jour)         2511   \n",
              "1      Disponibilité alimentaire (Kcal/personne/jour)         2805   \n",
              "2      Disponibilité alimentaire (Kcal/personne/jour)         2513   \n",
              "3      Disponibilité alimentaire (Kcal/personne/jour)         2514   \n",
              "4      Disponibilité alimentaire (Kcal/personne/jour)         2517   \n",
              "...                                               ...          ...   \n",
              "14236  Disponibilité alimentaire (Kcal/personne/jour)         2764   \n",
              "14237  Disponibilité alimentaire (Kcal/personne/jour)         2765   \n",
              "14238  Disponibilité alimentaire (Kcal/personne/jour)         2766   \n",
              "14239  Disponibilité alimentaire (Kcal/personne/jour)         2767   \n",
              "14240  Disponibilité alimentaire (Kcal/personne/jour)         2775   \n",
              "\n",
              "                       Produit  Valeur          Kcal  \n",
              "0                          Blé  1369.0  1.526638e+13  \n",
              "1             Riz (Eq Blanchi)   141.0  1.572359e+12  \n",
              "2                         Orge    26.0  2.899385e+11  \n",
              "3                         Maïs    21.0  2.341811e+11  \n",
              "4                       Millet     3.0  3.345444e+10  \n",
              "...                        ...     ...           ...  \n",
              "14236  Poissons Marins, Autres     0.0  0.000000e+00  \n",
              "14237                Crustacés     0.0  0.000000e+00  \n",
              "14238             Cephalopodes     0.0  0.000000e+00  \n",
              "14239       Mollusques, Autres     0.0  0.000000e+00  \n",
              "14240       Plantes Aquatiques     0.0  0.000000e+00  \n",
              "\n",
              "[14241 rows x 8 columns]"
            ]
          },
          "execution_count": 614,
          "metadata": {},
          "output_type": "execute_result"
        }
      ],
      "source": [
        "df = pd.concat([FAOSTAT_2013_vegetal, FAOSTAT_2013_animal])\n",
        "df = df[['Code Pays', 'Pays', 'Élément', 'Code Produit', 'Produit', 'Valeur']]\n",
        "df = df[df['Élément']=='Disponibilité alimentaire (Kcal/personne/jour)']\n",
        "\n",
        "merged_df = df.merge(dPopulation, left_on='Code Pays', right_on='Country Code')\n",
        "merged_df= merged_df[['Code Pays', 'Pays', 'Value','Élément', 'Code Produit', 'Produit', 'Valeur']]\n",
        "merged_df.rename(columns={'Value': 'Population'}, inplace=True)\n",
        "\n",
        "merged_df = merged_df.assign(Kcal=merged_df['Valeur']*merged_df['Population']*365)\n",
        "\n",
        "m_df_kcal=merged_df\n",
        "m_df_kcal\n"
      ]
    },
    {
      "cell_type": "code",
      "execution_count": 615,
      "metadata": {},
      "outputs": [
        {
          "name": "stderr",
          "output_type": "stream",
          "text": [
            "C:\\Users\\MOHAM\\AppData\\Local\\Temp\\ipykernel_12664\\70058195.py:5: SettingWithCopyWarning:\n",
            "\n",
            "\n",
            "A value is trying to be set on a copy of a slice from a DataFrame\n",
            "\n",
            "See the caveats in the documentation: https://pandas.pydata.org/pandas-docs/stable/user_guide/indexing.html#returning-a-view-versus-a-copy\n",
            "\n"
          ]
        },
        {
          "data": {
            "application/vnd.plotly.v1+json": {
              "config": {
                "plotlyServerURL": "https://plot.ly"
              },
              "data": [
                {
                  "alignmentgroup": "True",
                  "hovertemplate": "x=%{x}<br>y=%{y}<extra></extra>",
                  "legendgroup": "",
                  "marker": {
                    "color": "#039be5",
                    "pattern": {
                      "shape": ""
                    }
                  },
                  "name": "",
                  "offsetgroup": "",
                  "orientation": "v",
                  "showlegend": false,
                  "textposition": "auto",
                  "type": "bar",
                  "x": [
                    "Chine, continentale",
                    "Inde",
                    "États-Unis d'Amérique",
                    "Pakistan",
                    "Fédération de Russie",
                    "Égypte",
                    "Turquie",
                    "Iran (République islamique d')",
                    "Brésil",
                    "Italie"
                  ],
                  "xaxis": "x",
                  "y": [
                    277646843295000,
                    236285078700000,
                    69974350385000,
                    60033422085000,
                    53281367020000,
                    35191767000000,
                    35145450325000,
                    35109048510000,
                    28082737920000,
                    23174065350000
                  ],
                  "yaxis": "y"
                }
              ],
              "layout": {
                "barmode": "relative",
                "height": 1000,
                "legend": {
                  "tracegroupgap": 0
                },
                "margin": {
                  "t": 60
                },
                "template": {
                  "data": {
                    "bar": [
                      {
                        "error_x": {
                          "color": "#2a3f5f"
                        },
                        "error_y": {
                          "color": "#2a3f5f"
                        },
                        "marker": {
                          "line": {
                            "color": "#E5ECF6",
                            "width": 0.5
                          },
                          "pattern": {
                            "fillmode": "overlay",
                            "size": 10,
                            "solidity": 0.2
                          }
                        },
                        "type": "bar"
                      }
                    ],
                    "barpolar": [
                      {
                        "marker": {
                          "line": {
                            "color": "#E5ECF6",
                            "width": 0.5
                          },
                          "pattern": {
                            "fillmode": "overlay",
                            "size": 10,
                            "solidity": 0.2
                          }
                        },
                        "type": "barpolar"
                      }
                    ],
                    "carpet": [
                      {
                        "aaxis": {
                          "endlinecolor": "#2a3f5f",
                          "gridcolor": "white",
                          "linecolor": "white",
                          "minorgridcolor": "white",
                          "startlinecolor": "#2a3f5f"
                        },
                        "baxis": {
                          "endlinecolor": "#2a3f5f",
                          "gridcolor": "white",
                          "linecolor": "white",
                          "minorgridcolor": "white",
                          "startlinecolor": "#2a3f5f"
                        },
                        "type": "carpet"
                      }
                    ],
                    "choropleth": [
                      {
                        "colorbar": {
                          "outlinewidth": 0,
                          "ticks": ""
                        },
                        "type": "choropleth"
                      }
                    ],
                    "contour": [
                      {
                        "colorbar": {
                          "outlinewidth": 0,
                          "ticks": ""
                        },
                        "colorscale": [
                          [
                            0,
                            "#0d0887"
                          ],
                          [
                            0.1111111111111111,
                            "#46039f"
                          ],
                          [
                            0.2222222222222222,
                            "#7201a8"
                          ],
                          [
                            0.3333333333333333,
                            "#9c179e"
                          ],
                          [
                            0.4444444444444444,
                            "#bd3786"
                          ],
                          [
                            0.5555555555555556,
                            "#d8576b"
                          ],
                          [
                            0.6666666666666666,
                            "#ed7953"
                          ],
                          [
                            0.7777777777777778,
                            "#fb9f3a"
                          ],
                          [
                            0.8888888888888888,
                            "#fdca26"
                          ],
                          [
                            1,
                            "#f0f921"
                          ]
                        ],
                        "type": "contour"
                      }
                    ],
                    "contourcarpet": [
                      {
                        "colorbar": {
                          "outlinewidth": 0,
                          "ticks": ""
                        },
                        "type": "contourcarpet"
                      }
                    ],
                    "heatmap": [
                      {
                        "colorbar": {
                          "outlinewidth": 0,
                          "ticks": ""
                        },
                        "colorscale": [
                          [
                            0,
                            "#0d0887"
                          ],
                          [
                            0.1111111111111111,
                            "#46039f"
                          ],
                          [
                            0.2222222222222222,
                            "#7201a8"
                          ],
                          [
                            0.3333333333333333,
                            "#9c179e"
                          ],
                          [
                            0.4444444444444444,
                            "#bd3786"
                          ],
                          [
                            0.5555555555555556,
                            "#d8576b"
                          ],
                          [
                            0.6666666666666666,
                            "#ed7953"
                          ],
                          [
                            0.7777777777777778,
                            "#fb9f3a"
                          ],
                          [
                            0.8888888888888888,
                            "#fdca26"
                          ],
                          [
                            1,
                            "#f0f921"
                          ]
                        ],
                        "type": "heatmap"
                      }
                    ],
                    "heatmapgl": [
                      {
                        "colorbar": {
                          "outlinewidth": 0,
                          "ticks": ""
                        },
                        "colorscale": [
                          [
                            0,
                            "#0d0887"
                          ],
                          [
                            0.1111111111111111,
                            "#46039f"
                          ],
                          [
                            0.2222222222222222,
                            "#7201a8"
                          ],
                          [
                            0.3333333333333333,
                            "#9c179e"
                          ],
                          [
                            0.4444444444444444,
                            "#bd3786"
                          ],
                          [
                            0.5555555555555556,
                            "#d8576b"
                          ],
                          [
                            0.6666666666666666,
                            "#ed7953"
                          ],
                          [
                            0.7777777777777778,
                            "#fb9f3a"
                          ],
                          [
                            0.8888888888888888,
                            "#fdca26"
                          ],
                          [
                            1,
                            "#f0f921"
                          ]
                        ],
                        "type": "heatmapgl"
                      }
                    ],
                    "histogram": [
                      {
                        "marker": {
                          "pattern": {
                            "fillmode": "overlay",
                            "size": 10,
                            "solidity": 0.2
                          }
                        },
                        "type": "histogram"
                      }
                    ],
                    "histogram2d": [
                      {
                        "colorbar": {
                          "outlinewidth": 0,
                          "ticks": ""
                        },
                        "colorscale": [
                          [
                            0,
                            "#0d0887"
                          ],
                          [
                            0.1111111111111111,
                            "#46039f"
                          ],
                          [
                            0.2222222222222222,
                            "#7201a8"
                          ],
                          [
                            0.3333333333333333,
                            "#9c179e"
                          ],
                          [
                            0.4444444444444444,
                            "#bd3786"
                          ],
                          [
                            0.5555555555555556,
                            "#d8576b"
                          ],
                          [
                            0.6666666666666666,
                            "#ed7953"
                          ],
                          [
                            0.7777777777777778,
                            "#fb9f3a"
                          ],
                          [
                            0.8888888888888888,
                            "#fdca26"
                          ],
                          [
                            1,
                            "#f0f921"
                          ]
                        ],
                        "type": "histogram2d"
                      }
                    ],
                    "histogram2dcontour": [
                      {
                        "colorbar": {
                          "outlinewidth": 0,
                          "ticks": ""
                        },
                        "colorscale": [
                          [
                            0,
                            "#0d0887"
                          ],
                          [
                            0.1111111111111111,
                            "#46039f"
                          ],
                          [
                            0.2222222222222222,
                            "#7201a8"
                          ],
                          [
                            0.3333333333333333,
                            "#9c179e"
                          ],
                          [
                            0.4444444444444444,
                            "#bd3786"
                          ],
                          [
                            0.5555555555555556,
                            "#d8576b"
                          ],
                          [
                            0.6666666666666666,
                            "#ed7953"
                          ],
                          [
                            0.7777777777777778,
                            "#fb9f3a"
                          ],
                          [
                            0.8888888888888888,
                            "#fdca26"
                          ],
                          [
                            1,
                            "#f0f921"
                          ]
                        ],
                        "type": "histogram2dcontour"
                      }
                    ],
                    "mesh3d": [
                      {
                        "colorbar": {
                          "outlinewidth": 0,
                          "ticks": ""
                        },
                        "type": "mesh3d"
                      }
                    ],
                    "parcoords": [
                      {
                        "line": {
                          "colorbar": {
                            "outlinewidth": 0,
                            "ticks": ""
                          }
                        },
                        "type": "parcoords"
                      }
                    ],
                    "pie": [
                      {
                        "automargin": true,
                        "type": "pie"
                      }
                    ],
                    "scatter": [
                      {
                        "fillpattern": {
                          "fillmode": "overlay",
                          "size": 10,
                          "solidity": 0.2
                        },
                        "type": "scatter"
                      }
                    ],
                    "scatter3d": [
                      {
                        "line": {
                          "colorbar": {
                            "outlinewidth": 0,
                            "ticks": ""
                          }
                        },
                        "marker": {
                          "colorbar": {
                            "outlinewidth": 0,
                            "ticks": ""
                          }
                        },
                        "type": "scatter3d"
                      }
                    ],
                    "scattercarpet": [
                      {
                        "marker": {
                          "colorbar": {
                            "outlinewidth": 0,
                            "ticks": ""
                          }
                        },
                        "type": "scattercarpet"
                      }
                    ],
                    "scattergeo": [
                      {
                        "marker": {
                          "colorbar": {
                            "outlinewidth": 0,
                            "ticks": ""
                          }
                        },
                        "type": "scattergeo"
                      }
                    ],
                    "scattergl": [
                      {
                        "marker": {
                          "colorbar": {
                            "outlinewidth": 0,
                            "ticks": ""
                          }
                        },
                        "type": "scattergl"
                      }
                    ],
                    "scattermapbox": [
                      {
                        "marker": {
                          "colorbar": {
                            "outlinewidth": 0,
                            "ticks": ""
                          }
                        },
                        "type": "scattermapbox"
                      }
                    ],
                    "scatterpolar": [
                      {
                        "marker": {
                          "colorbar": {
                            "outlinewidth": 0,
                            "ticks": ""
                          }
                        },
                        "type": "scatterpolar"
                      }
                    ],
                    "scatterpolargl": [
                      {
                        "marker": {
                          "colorbar": {
                            "outlinewidth": 0,
                            "ticks": ""
                          }
                        },
                        "type": "scatterpolargl"
                      }
                    ],
                    "scatterternary": [
                      {
                        "marker": {
                          "colorbar": {
                            "outlinewidth": 0,
                            "ticks": ""
                          }
                        },
                        "type": "scatterternary"
                      }
                    ],
                    "surface": [
                      {
                        "colorbar": {
                          "outlinewidth": 0,
                          "ticks": ""
                        },
                        "colorscale": [
                          [
                            0,
                            "#0d0887"
                          ],
                          [
                            0.1111111111111111,
                            "#46039f"
                          ],
                          [
                            0.2222222222222222,
                            "#7201a8"
                          ],
                          [
                            0.3333333333333333,
                            "#9c179e"
                          ],
                          [
                            0.4444444444444444,
                            "#bd3786"
                          ],
                          [
                            0.5555555555555556,
                            "#d8576b"
                          ],
                          [
                            0.6666666666666666,
                            "#ed7953"
                          ],
                          [
                            0.7777777777777778,
                            "#fb9f3a"
                          ],
                          [
                            0.8888888888888888,
                            "#fdca26"
                          ],
                          [
                            1,
                            "#f0f921"
                          ]
                        ],
                        "type": "surface"
                      }
                    ],
                    "table": [
                      {
                        "cells": {
                          "fill": {
                            "color": "#EBF0F8"
                          },
                          "line": {
                            "color": "white"
                          }
                        },
                        "header": {
                          "fill": {
                            "color": "#C8D4E3"
                          },
                          "line": {
                            "color": "white"
                          }
                        },
                        "type": "table"
                      }
                    ]
                  },
                  "layout": {
                    "annotationdefaults": {
                      "arrowcolor": "#2a3f5f",
                      "arrowhead": 0,
                      "arrowwidth": 1
                    },
                    "autotypenumbers": "strict",
                    "coloraxis": {
                      "colorbar": {
                        "outlinewidth": 0,
                        "ticks": ""
                      }
                    },
                    "colorscale": {
                      "diverging": [
                        [
                          0,
                          "#8e0152"
                        ],
                        [
                          0.1,
                          "#c51b7d"
                        ],
                        [
                          0.2,
                          "#de77ae"
                        ],
                        [
                          0.3,
                          "#f1b6da"
                        ],
                        [
                          0.4,
                          "#fde0ef"
                        ],
                        [
                          0.5,
                          "#f7f7f7"
                        ],
                        [
                          0.6,
                          "#e6f5d0"
                        ],
                        [
                          0.7,
                          "#b8e186"
                        ],
                        [
                          0.8,
                          "#7fbc41"
                        ],
                        [
                          0.9,
                          "#4d9221"
                        ],
                        [
                          1,
                          "#276419"
                        ]
                      ],
                      "sequential": [
                        [
                          0,
                          "#0d0887"
                        ],
                        [
                          0.1111111111111111,
                          "#46039f"
                        ],
                        [
                          0.2222222222222222,
                          "#7201a8"
                        ],
                        [
                          0.3333333333333333,
                          "#9c179e"
                        ],
                        [
                          0.4444444444444444,
                          "#bd3786"
                        ],
                        [
                          0.5555555555555556,
                          "#d8576b"
                        ],
                        [
                          0.6666666666666666,
                          "#ed7953"
                        ],
                        [
                          0.7777777777777778,
                          "#fb9f3a"
                        ],
                        [
                          0.8888888888888888,
                          "#fdca26"
                        ],
                        [
                          1,
                          "#f0f921"
                        ]
                      ],
                      "sequentialminus": [
                        [
                          0,
                          "#0d0887"
                        ],
                        [
                          0.1111111111111111,
                          "#46039f"
                        ],
                        [
                          0.2222222222222222,
                          "#7201a8"
                        ],
                        [
                          0.3333333333333333,
                          "#9c179e"
                        ],
                        [
                          0.4444444444444444,
                          "#bd3786"
                        ],
                        [
                          0.5555555555555556,
                          "#d8576b"
                        ],
                        [
                          0.6666666666666666,
                          "#ed7953"
                        ],
                        [
                          0.7777777777777778,
                          "#fb9f3a"
                        ],
                        [
                          0.8888888888888888,
                          "#fdca26"
                        ],
                        [
                          1,
                          "#f0f921"
                        ]
                      ]
                    },
                    "colorway": [
                      "#636efa",
                      "#EF553B",
                      "#00cc96",
                      "#ab63fa",
                      "#FFA15A",
                      "#19d3f3",
                      "#FF6692",
                      "#B6E880",
                      "#FF97FF",
                      "#FECB52"
                    ],
                    "font": {
                      "color": "#2a3f5f"
                    },
                    "geo": {
                      "bgcolor": "white",
                      "lakecolor": "white",
                      "landcolor": "#E5ECF6",
                      "showlakes": true,
                      "showland": true,
                      "subunitcolor": "white"
                    },
                    "hoverlabel": {
                      "align": "left"
                    },
                    "hovermode": "closest",
                    "mapbox": {
                      "style": "light"
                    },
                    "paper_bgcolor": "white",
                    "plot_bgcolor": "#E5ECF6",
                    "polar": {
                      "angularaxis": {
                        "gridcolor": "white",
                        "linecolor": "white",
                        "ticks": ""
                      },
                      "bgcolor": "#E5ECF6",
                      "radialaxis": {
                        "gridcolor": "white",
                        "linecolor": "white",
                        "ticks": ""
                      }
                    },
                    "scene": {
                      "xaxis": {
                        "backgroundcolor": "#E5ECF6",
                        "gridcolor": "white",
                        "gridwidth": 2,
                        "linecolor": "white",
                        "showbackground": true,
                        "ticks": "",
                        "zerolinecolor": "white"
                      },
                      "yaxis": {
                        "backgroundcolor": "#E5ECF6",
                        "gridcolor": "white",
                        "gridwidth": 2,
                        "linecolor": "white",
                        "showbackground": true,
                        "ticks": "",
                        "zerolinecolor": "white"
                      },
                      "zaxis": {
                        "backgroundcolor": "#E5ECF6",
                        "gridcolor": "white",
                        "gridwidth": 2,
                        "linecolor": "white",
                        "showbackground": true,
                        "ticks": "",
                        "zerolinecolor": "white"
                      }
                    },
                    "shapedefaults": {
                      "line": {
                        "color": "#2a3f5f"
                      }
                    },
                    "ternary": {
                      "aaxis": {
                        "gridcolor": "white",
                        "linecolor": "white",
                        "ticks": ""
                      },
                      "baxis": {
                        "gridcolor": "white",
                        "linecolor": "white",
                        "ticks": ""
                      },
                      "bgcolor": "#E5ECF6",
                      "caxis": {
                        "gridcolor": "white",
                        "linecolor": "white",
                        "ticks": ""
                      }
                    },
                    "title": {
                      "x": 0.05
                    },
                    "xaxis": {
                      "automargin": true,
                      "gridcolor": "white",
                      "linecolor": "white",
                      "ticks": "",
                      "title": {
                        "standoff": 15
                      },
                      "zerolinecolor": "white",
                      "zerolinewidth": 2
                    },
                    "yaxis": {
                      "automargin": true,
                      "gridcolor": "white",
                      "linecolor": "white",
                      "ticks": "",
                      "title": {
                        "standoff": 15
                      },
                      "zerolinecolor": "white",
                      "zerolinewidth": 2
                    }
                  }
                },
                "xaxis": {
                  "anchor": "y",
                  "domain": [
                    0,
                    1
                  ],
                  "title": {
                    "text": "x"
                  }
                },
                "yaxis": {
                  "anchor": "x",
                  "domain": [
                    0,
                    1
                  ],
                  "title": {
                    "text": "y"
                  }
                }
              }
            }
          },
          "metadata": {},
          "output_type": "display_data"
        }
      ],
      "source": [
        "\n",
        "\n",
        "\n",
        "\n",
        "#m_df_kcal=merged_df[['Code Pays', \"Pays\", 'Population', 'Code Produit', 'Produit', \"Kcal\"]]\n",
        "\n",
        "df=m_df_kcal[m_df_kcal['Produit']=='Blé']\n",
        "\n",
        "df.sort_values(by='Kcal', ascending=False, inplace=True )\n",
        "df.head(10)\n",
        "fig = px.bar(x=df.head(10).Pays,y=df.head(10).Kcal, height=1000,color_discrete_sequence=color_list_bar)\n",
        "fig.show()\n",
        "\n",
        "#m_df_kcal[m_df_kcal['Code Produit']=='2511']\n",
        "#m_df_kcal_group=m_df_kcal.groupby([\"Code Pays\", \"Pays\", 'Produit']).sum()\n",
        "#m_df_kcal_group"
      ]
    },
    {
      "cell_type": "code",
      "execution_count": 616,
      "metadata": {},
      "outputs": [
        {
          "data": {
            "text/html": [
              "<div>\n",
              "<style scoped>\n",
              "    .dataframe tbody tr th:only-of-type {\n",
              "        vertical-align: middle;\n",
              "    }\n",
              "\n",
              "    .dataframe tbody tr th {\n",
              "        vertical-align: top;\n",
              "    }\n",
              "\n",
              "    .dataframe thead th {\n",
              "        text-align: right;\n",
              "    }\n",
              "</style>\n",
              "<table border=\"1\" class=\"dataframe\">\n",
              "  <thead>\n",
              "    <tr style=\"text-align: right;\">\n",
              "      <th></th>\n",
              "      <th>Code Pays</th>\n",
              "      <th>Pays</th>\n",
              "      <th>Population</th>\n",
              "      <th>Élément</th>\n",
              "      <th>Code Produit</th>\n",
              "      <th>Produit</th>\n",
              "      <th>Valeur</th>\n",
              "      <th>Kcal</th>\n",
              "    </tr>\n",
              "  </thead>\n",
              "  <tbody>\n",
              "    <tr>\n",
              "      <th>0</th>\n",
              "      <td>2</td>\n",
              "      <td>Afghanistan</td>\n",
              "      <td>30552000</td>\n",
              "      <td>Disponibilité alimentaire (Kcal/personne/jour)</td>\n",
              "      <td>2511</td>\n",
              "      <td>Blé</td>\n",
              "      <td>1369.0</td>\n",
              "      <td>1.526638e+13</td>\n",
              "    </tr>\n",
              "    <tr>\n",
              "      <th>1</th>\n",
              "      <td>2</td>\n",
              "      <td>Afghanistan</td>\n",
              "      <td>30552000</td>\n",
              "      <td>Disponibilité alimentaire (Kcal/personne/jour)</td>\n",
              "      <td>2805</td>\n",
              "      <td>Riz (Eq Blanchi)</td>\n",
              "      <td>141.0</td>\n",
              "      <td>1.572359e+12</td>\n",
              "    </tr>\n",
              "    <tr>\n",
              "      <th>2</th>\n",
              "      <td>2</td>\n",
              "      <td>Afghanistan</td>\n",
              "      <td>30552000</td>\n",
              "      <td>Disponibilité alimentaire (Kcal/personne/jour)</td>\n",
              "      <td>2513</td>\n",
              "      <td>Orge</td>\n",
              "      <td>26.0</td>\n",
              "      <td>2.899385e+11</td>\n",
              "    </tr>\n",
              "    <tr>\n",
              "      <th>3</th>\n",
              "      <td>2</td>\n",
              "      <td>Afghanistan</td>\n",
              "      <td>30552000</td>\n",
              "      <td>Disponibilité alimentaire (Kcal/personne/jour)</td>\n",
              "      <td>2514</td>\n",
              "      <td>Maïs</td>\n",
              "      <td>21.0</td>\n",
              "      <td>2.341811e+11</td>\n",
              "    </tr>\n",
              "    <tr>\n",
              "      <th>4</th>\n",
              "      <td>2</td>\n",
              "      <td>Afghanistan</td>\n",
              "      <td>30552000</td>\n",
              "      <td>Disponibilité alimentaire (Kcal/personne/jour)</td>\n",
              "      <td>2517</td>\n",
              "      <td>Millet</td>\n",
              "      <td>3.0</td>\n",
              "      <td>3.345444e+10</td>\n",
              "    </tr>\n",
              "    <tr>\n",
              "      <th>...</th>\n",
              "      <td>...</td>\n",
              "      <td>...</td>\n",
              "      <td>...</td>\n",
              "      <td>...</td>\n",
              "      <td>...</td>\n",
              "      <td>...</td>\n",
              "      <td>...</td>\n",
              "      <td>...</td>\n",
              "    </tr>\n",
              "    <tr>\n",
              "      <th>14236</th>\n",
              "      <td>181</td>\n",
              "      <td>Zimbabwe</td>\n",
              "      <td>14150000</td>\n",
              "      <td>Disponibilité alimentaire (Kcal/personne/jour)</td>\n",
              "      <td>2764</td>\n",
              "      <td>Poissons Marins, Autres</td>\n",
              "      <td>0.0</td>\n",
              "      <td>0.000000e+00</td>\n",
              "    </tr>\n",
              "    <tr>\n",
              "      <th>14237</th>\n",
              "      <td>181</td>\n",
              "      <td>Zimbabwe</td>\n",
              "      <td>14150000</td>\n",
              "      <td>Disponibilité alimentaire (Kcal/personne/jour)</td>\n",
              "      <td>2765</td>\n",
              "      <td>Crustacés</td>\n",
              "      <td>0.0</td>\n",
              "      <td>0.000000e+00</td>\n",
              "    </tr>\n",
              "    <tr>\n",
              "      <th>14238</th>\n",
              "      <td>181</td>\n",
              "      <td>Zimbabwe</td>\n",
              "      <td>14150000</td>\n",
              "      <td>Disponibilité alimentaire (Kcal/personne/jour)</td>\n",
              "      <td>2766</td>\n",
              "      <td>Cephalopodes</td>\n",
              "      <td>0.0</td>\n",
              "      <td>0.000000e+00</td>\n",
              "    </tr>\n",
              "    <tr>\n",
              "      <th>14239</th>\n",
              "      <td>181</td>\n",
              "      <td>Zimbabwe</td>\n",
              "      <td>14150000</td>\n",
              "      <td>Disponibilité alimentaire (Kcal/personne/jour)</td>\n",
              "      <td>2767</td>\n",
              "      <td>Mollusques, Autres</td>\n",
              "      <td>0.0</td>\n",
              "      <td>0.000000e+00</td>\n",
              "    </tr>\n",
              "    <tr>\n",
              "      <th>14240</th>\n",
              "      <td>181</td>\n",
              "      <td>Zimbabwe</td>\n",
              "      <td>14150000</td>\n",
              "      <td>Disponibilité alimentaire (Kcal/personne/jour)</td>\n",
              "      <td>2775</td>\n",
              "      <td>Plantes Aquatiques</td>\n",
              "      <td>0.0</td>\n",
              "      <td>0.000000e+00</td>\n",
              "    </tr>\n",
              "  </tbody>\n",
              "</table>\n",
              "<p>14241 rows × 8 columns</p>\n",
              "</div>"
            ],
            "text/plain": [
              "      Code Pays         Pays  Population  \\\n",
              "0             2  Afghanistan    30552000   \n",
              "1             2  Afghanistan    30552000   \n",
              "2             2  Afghanistan    30552000   \n",
              "3             2  Afghanistan    30552000   \n",
              "4             2  Afghanistan    30552000   \n",
              "...         ...          ...         ...   \n",
              "14236       181     Zimbabwe    14150000   \n",
              "14237       181     Zimbabwe    14150000   \n",
              "14238       181     Zimbabwe    14150000   \n",
              "14239       181     Zimbabwe    14150000   \n",
              "14240       181     Zimbabwe    14150000   \n",
              "\n",
              "                                              Élément Code Produit  \\\n",
              "0      Disponibilité alimentaire (Kcal/personne/jour)         2511   \n",
              "1      Disponibilité alimentaire (Kcal/personne/jour)         2805   \n",
              "2      Disponibilité alimentaire (Kcal/personne/jour)         2513   \n",
              "3      Disponibilité alimentaire (Kcal/personne/jour)         2514   \n",
              "4      Disponibilité alimentaire (Kcal/personne/jour)         2517   \n",
              "...                                               ...          ...   \n",
              "14236  Disponibilité alimentaire (Kcal/personne/jour)         2764   \n",
              "14237  Disponibilité alimentaire (Kcal/personne/jour)         2765   \n",
              "14238  Disponibilité alimentaire (Kcal/personne/jour)         2766   \n",
              "14239  Disponibilité alimentaire (Kcal/personne/jour)         2767   \n",
              "14240  Disponibilité alimentaire (Kcal/personne/jour)         2775   \n",
              "\n",
              "                       Produit  Valeur          Kcal  \n",
              "0                          Blé  1369.0  1.526638e+13  \n",
              "1             Riz (Eq Blanchi)   141.0  1.572359e+12  \n",
              "2                         Orge    26.0  2.899385e+11  \n",
              "3                         Maïs    21.0  2.341811e+11  \n",
              "4                       Millet     3.0  3.345444e+10  \n",
              "...                        ...     ...           ...  \n",
              "14236  Poissons Marins, Autres     0.0  0.000000e+00  \n",
              "14237                Crustacés     0.0  0.000000e+00  \n",
              "14238             Cephalopodes     0.0  0.000000e+00  \n",
              "14239       Mollusques, Autres     0.0  0.000000e+00  \n",
              "14240       Plantes Aquatiques     0.0  0.000000e+00  \n",
              "\n",
              "[14241 rows x 8 columns]"
            ]
          },
          "execution_count": 616,
          "metadata": {},
          "output_type": "execute_result"
        }
      ],
      "source": [
        "m_df_kcal"
      ]
    },
    {
      "cell_type": "code",
      "execution_count": 617,
      "metadata": {},
      "outputs": [
        {
          "data": {
            "application/vnd.plotly.v1+json": {
              "config": {
                "plotlyServerURL": "https://plot.ly"
              },
              "data": [
                {
                  "alignmentgroup": "True",
                  "hovertemplate": "x=%{x}<br>y=%{y}<extra></extra>",
                  "legendgroup": "",
                  "marker": {
                    "color": "#039be5",
                    "pattern": {
                      "shape": ""
                    }
                  },
                  "name": "",
                  "offsetgroup": "",
                  "orientation": "v",
                  "showlegend": false,
                  "textposition": "auto",
                  "type": "bar",
                  "x": [
                    "Blé",
                    "Sucre Eq Brut",
                    "Lait - Excl Beurre",
                    "Viande de Suides",
                    "Beurre, Ghee",
                    "Huile de Tournesol",
                    "Viande de Volailles",
                    "Huile de Soja",
                    "Pommes de Terre",
                    "Maïs"
                  ],
                  "xaxis": "x",
                  "y": [
                    19031100365000,
                    8400904970000,
                    8001979315000,
                    5819621320000,
                    3684195755000,
                    3449533605000,
                    2276222855000,
                    2252756640000,
                    2229290425000,
                    1806898555000
                  ],
                  "yaxis": "y"
                }
              ],
              "layout": {
                "barmode": "relative",
                "height": 1000,
                "legend": {
                  "tracegroupgap": 0
                },
                "margin": {
                  "t": 60
                },
                "template": {
                  "data": {
                    "bar": [
                      {
                        "error_x": {
                          "color": "#2a3f5f"
                        },
                        "error_y": {
                          "color": "#2a3f5f"
                        },
                        "marker": {
                          "line": {
                            "color": "#E5ECF6",
                            "width": 0.5
                          },
                          "pattern": {
                            "fillmode": "overlay",
                            "size": 10,
                            "solidity": 0.2
                          }
                        },
                        "type": "bar"
                      }
                    ],
                    "barpolar": [
                      {
                        "marker": {
                          "line": {
                            "color": "#E5ECF6",
                            "width": 0.5
                          },
                          "pattern": {
                            "fillmode": "overlay",
                            "size": 10,
                            "solidity": 0.2
                          }
                        },
                        "type": "barpolar"
                      }
                    ],
                    "carpet": [
                      {
                        "aaxis": {
                          "endlinecolor": "#2a3f5f",
                          "gridcolor": "white",
                          "linecolor": "white",
                          "minorgridcolor": "white",
                          "startlinecolor": "#2a3f5f"
                        },
                        "baxis": {
                          "endlinecolor": "#2a3f5f",
                          "gridcolor": "white",
                          "linecolor": "white",
                          "minorgridcolor": "white",
                          "startlinecolor": "#2a3f5f"
                        },
                        "type": "carpet"
                      }
                    ],
                    "choropleth": [
                      {
                        "colorbar": {
                          "outlinewidth": 0,
                          "ticks": ""
                        },
                        "type": "choropleth"
                      }
                    ],
                    "contour": [
                      {
                        "colorbar": {
                          "outlinewidth": 0,
                          "ticks": ""
                        },
                        "colorscale": [
                          [
                            0,
                            "#0d0887"
                          ],
                          [
                            0.1111111111111111,
                            "#46039f"
                          ],
                          [
                            0.2222222222222222,
                            "#7201a8"
                          ],
                          [
                            0.3333333333333333,
                            "#9c179e"
                          ],
                          [
                            0.4444444444444444,
                            "#bd3786"
                          ],
                          [
                            0.5555555555555556,
                            "#d8576b"
                          ],
                          [
                            0.6666666666666666,
                            "#ed7953"
                          ],
                          [
                            0.7777777777777778,
                            "#fb9f3a"
                          ],
                          [
                            0.8888888888888888,
                            "#fdca26"
                          ],
                          [
                            1,
                            "#f0f921"
                          ]
                        ],
                        "type": "contour"
                      }
                    ],
                    "contourcarpet": [
                      {
                        "colorbar": {
                          "outlinewidth": 0,
                          "ticks": ""
                        },
                        "type": "contourcarpet"
                      }
                    ],
                    "heatmap": [
                      {
                        "colorbar": {
                          "outlinewidth": 0,
                          "ticks": ""
                        },
                        "colorscale": [
                          [
                            0,
                            "#0d0887"
                          ],
                          [
                            0.1111111111111111,
                            "#46039f"
                          ],
                          [
                            0.2222222222222222,
                            "#7201a8"
                          ],
                          [
                            0.3333333333333333,
                            "#9c179e"
                          ],
                          [
                            0.4444444444444444,
                            "#bd3786"
                          ],
                          [
                            0.5555555555555556,
                            "#d8576b"
                          ],
                          [
                            0.6666666666666666,
                            "#ed7953"
                          ],
                          [
                            0.7777777777777778,
                            "#fb9f3a"
                          ],
                          [
                            0.8888888888888888,
                            "#fdca26"
                          ],
                          [
                            1,
                            "#f0f921"
                          ]
                        ],
                        "type": "heatmap"
                      }
                    ],
                    "heatmapgl": [
                      {
                        "colorbar": {
                          "outlinewidth": 0,
                          "ticks": ""
                        },
                        "colorscale": [
                          [
                            0,
                            "#0d0887"
                          ],
                          [
                            0.1111111111111111,
                            "#46039f"
                          ],
                          [
                            0.2222222222222222,
                            "#7201a8"
                          ],
                          [
                            0.3333333333333333,
                            "#9c179e"
                          ],
                          [
                            0.4444444444444444,
                            "#bd3786"
                          ],
                          [
                            0.5555555555555556,
                            "#d8576b"
                          ],
                          [
                            0.6666666666666666,
                            "#ed7953"
                          ],
                          [
                            0.7777777777777778,
                            "#fb9f3a"
                          ],
                          [
                            0.8888888888888888,
                            "#fdca26"
                          ],
                          [
                            1,
                            "#f0f921"
                          ]
                        ],
                        "type": "heatmapgl"
                      }
                    ],
                    "histogram": [
                      {
                        "marker": {
                          "pattern": {
                            "fillmode": "overlay",
                            "size": 10,
                            "solidity": 0.2
                          }
                        },
                        "type": "histogram"
                      }
                    ],
                    "histogram2d": [
                      {
                        "colorbar": {
                          "outlinewidth": 0,
                          "ticks": ""
                        },
                        "colorscale": [
                          [
                            0,
                            "#0d0887"
                          ],
                          [
                            0.1111111111111111,
                            "#46039f"
                          ],
                          [
                            0.2222222222222222,
                            "#7201a8"
                          ],
                          [
                            0.3333333333333333,
                            "#9c179e"
                          ],
                          [
                            0.4444444444444444,
                            "#bd3786"
                          ],
                          [
                            0.5555555555555556,
                            "#d8576b"
                          ],
                          [
                            0.6666666666666666,
                            "#ed7953"
                          ],
                          [
                            0.7777777777777778,
                            "#fb9f3a"
                          ],
                          [
                            0.8888888888888888,
                            "#fdca26"
                          ],
                          [
                            1,
                            "#f0f921"
                          ]
                        ],
                        "type": "histogram2d"
                      }
                    ],
                    "histogram2dcontour": [
                      {
                        "colorbar": {
                          "outlinewidth": 0,
                          "ticks": ""
                        },
                        "colorscale": [
                          [
                            0,
                            "#0d0887"
                          ],
                          [
                            0.1111111111111111,
                            "#46039f"
                          ],
                          [
                            0.2222222222222222,
                            "#7201a8"
                          ],
                          [
                            0.3333333333333333,
                            "#9c179e"
                          ],
                          [
                            0.4444444444444444,
                            "#bd3786"
                          ],
                          [
                            0.5555555555555556,
                            "#d8576b"
                          ],
                          [
                            0.6666666666666666,
                            "#ed7953"
                          ],
                          [
                            0.7777777777777778,
                            "#fb9f3a"
                          ],
                          [
                            0.8888888888888888,
                            "#fdca26"
                          ],
                          [
                            1,
                            "#f0f921"
                          ]
                        ],
                        "type": "histogram2dcontour"
                      }
                    ],
                    "mesh3d": [
                      {
                        "colorbar": {
                          "outlinewidth": 0,
                          "ticks": ""
                        },
                        "type": "mesh3d"
                      }
                    ],
                    "parcoords": [
                      {
                        "line": {
                          "colorbar": {
                            "outlinewidth": 0,
                            "ticks": ""
                          }
                        },
                        "type": "parcoords"
                      }
                    ],
                    "pie": [
                      {
                        "automargin": true,
                        "type": "pie"
                      }
                    ],
                    "scatter": [
                      {
                        "fillpattern": {
                          "fillmode": "overlay",
                          "size": 10,
                          "solidity": 0.2
                        },
                        "type": "scatter"
                      }
                    ],
                    "scatter3d": [
                      {
                        "line": {
                          "colorbar": {
                            "outlinewidth": 0,
                            "ticks": ""
                          }
                        },
                        "marker": {
                          "colorbar": {
                            "outlinewidth": 0,
                            "ticks": ""
                          }
                        },
                        "type": "scatter3d"
                      }
                    ],
                    "scattercarpet": [
                      {
                        "marker": {
                          "colorbar": {
                            "outlinewidth": 0,
                            "ticks": ""
                          }
                        },
                        "type": "scattercarpet"
                      }
                    ],
                    "scattergeo": [
                      {
                        "marker": {
                          "colorbar": {
                            "outlinewidth": 0,
                            "ticks": ""
                          }
                        },
                        "type": "scattergeo"
                      }
                    ],
                    "scattergl": [
                      {
                        "marker": {
                          "colorbar": {
                            "outlinewidth": 0,
                            "ticks": ""
                          }
                        },
                        "type": "scattergl"
                      }
                    ],
                    "scattermapbox": [
                      {
                        "marker": {
                          "colorbar": {
                            "outlinewidth": 0,
                            "ticks": ""
                          }
                        },
                        "type": "scattermapbox"
                      }
                    ],
                    "scatterpolar": [
                      {
                        "marker": {
                          "colorbar": {
                            "outlinewidth": 0,
                            "ticks": ""
                          }
                        },
                        "type": "scatterpolar"
                      }
                    ],
                    "scatterpolargl": [
                      {
                        "marker": {
                          "colorbar": {
                            "outlinewidth": 0,
                            "ticks": ""
                          }
                        },
                        "type": "scatterpolargl"
                      }
                    ],
                    "scatterternary": [
                      {
                        "marker": {
                          "colorbar": {
                            "outlinewidth": 0,
                            "ticks": ""
                          }
                        },
                        "type": "scatterternary"
                      }
                    ],
                    "surface": [
                      {
                        "colorbar": {
                          "outlinewidth": 0,
                          "ticks": ""
                        },
                        "colorscale": [
                          [
                            0,
                            "#0d0887"
                          ],
                          [
                            0.1111111111111111,
                            "#46039f"
                          ],
                          [
                            0.2222222222222222,
                            "#7201a8"
                          ],
                          [
                            0.3333333333333333,
                            "#9c179e"
                          ],
                          [
                            0.4444444444444444,
                            "#bd3786"
                          ],
                          [
                            0.5555555555555556,
                            "#d8576b"
                          ],
                          [
                            0.6666666666666666,
                            "#ed7953"
                          ],
                          [
                            0.7777777777777778,
                            "#fb9f3a"
                          ],
                          [
                            0.8888888888888888,
                            "#fdca26"
                          ],
                          [
                            1,
                            "#f0f921"
                          ]
                        ],
                        "type": "surface"
                      }
                    ],
                    "table": [
                      {
                        "cells": {
                          "fill": {
                            "color": "#EBF0F8"
                          },
                          "line": {
                            "color": "white"
                          }
                        },
                        "header": {
                          "fill": {
                            "color": "#C8D4E3"
                          },
                          "line": {
                            "color": "white"
                          }
                        },
                        "type": "table"
                      }
                    ]
                  },
                  "layout": {
                    "annotationdefaults": {
                      "arrowcolor": "#2a3f5f",
                      "arrowhead": 0,
                      "arrowwidth": 1
                    },
                    "autotypenumbers": "strict",
                    "coloraxis": {
                      "colorbar": {
                        "outlinewidth": 0,
                        "ticks": ""
                      }
                    },
                    "colorscale": {
                      "diverging": [
                        [
                          0,
                          "#8e0152"
                        ],
                        [
                          0.1,
                          "#c51b7d"
                        ],
                        [
                          0.2,
                          "#de77ae"
                        ],
                        [
                          0.3,
                          "#f1b6da"
                        ],
                        [
                          0.4,
                          "#fde0ef"
                        ],
                        [
                          0.5,
                          "#f7f7f7"
                        ],
                        [
                          0.6,
                          "#e6f5d0"
                        ],
                        [
                          0.7,
                          "#b8e186"
                        ],
                        [
                          0.8,
                          "#7fbc41"
                        ],
                        [
                          0.9,
                          "#4d9221"
                        ],
                        [
                          1,
                          "#276419"
                        ]
                      ],
                      "sequential": [
                        [
                          0,
                          "#0d0887"
                        ],
                        [
                          0.1111111111111111,
                          "#46039f"
                        ],
                        [
                          0.2222222222222222,
                          "#7201a8"
                        ],
                        [
                          0.3333333333333333,
                          "#9c179e"
                        ],
                        [
                          0.4444444444444444,
                          "#bd3786"
                        ],
                        [
                          0.5555555555555556,
                          "#d8576b"
                        ],
                        [
                          0.6666666666666666,
                          "#ed7953"
                        ],
                        [
                          0.7777777777777778,
                          "#fb9f3a"
                        ],
                        [
                          0.8888888888888888,
                          "#fdca26"
                        ],
                        [
                          1,
                          "#f0f921"
                        ]
                      ],
                      "sequentialminus": [
                        [
                          0,
                          "#0d0887"
                        ],
                        [
                          0.1111111111111111,
                          "#46039f"
                        ],
                        [
                          0.2222222222222222,
                          "#7201a8"
                        ],
                        [
                          0.3333333333333333,
                          "#9c179e"
                        ],
                        [
                          0.4444444444444444,
                          "#bd3786"
                        ],
                        [
                          0.5555555555555556,
                          "#d8576b"
                        ],
                        [
                          0.6666666666666666,
                          "#ed7953"
                        ],
                        [
                          0.7777777777777778,
                          "#fb9f3a"
                        ],
                        [
                          0.8888888888888888,
                          "#fdca26"
                        ],
                        [
                          1,
                          "#f0f921"
                        ]
                      ]
                    },
                    "colorway": [
                      "#636efa",
                      "#EF553B",
                      "#00cc96",
                      "#ab63fa",
                      "#FFA15A",
                      "#19d3f3",
                      "#FF6692",
                      "#B6E880",
                      "#FF97FF",
                      "#FECB52"
                    ],
                    "font": {
                      "color": "#2a3f5f"
                    },
                    "geo": {
                      "bgcolor": "white",
                      "lakecolor": "white",
                      "landcolor": "#E5ECF6",
                      "showlakes": true,
                      "showland": true,
                      "subunitcolor": "white"
                    },
                    "hoverlabel": {
                      "align": "left"
                    },
                    "hovermode": "closest",
                    "mapbox": {
                      "style": "light"
                    },
                    "paper_bgcolor": "white",
                    "plot_bgcolor": "#E5ECF6",
                    "polar": {
                      "angularaxis": {
                        "gridcolor": "white",
                        "linecolor": "white",
                        "ticks": ""
                      },
                      "bgcolor": "#E5ECF6",
                      "radialaxis": {
                        "gridcolor": "white",
                        "linecolor": "white",
                        "ticks": ""
                      }
                    },
                    "scene": {
                      "xaxis": {
                        "backgroundcolor": "#E5ECF6",
                        "gridcolor": "white",
                        "gridwidth": 2,
                        "linecolor": "white",
                        "showbackground": true,
                        "ticks": "",
                        "zerolinecolor": "white"
                      },
                      "yaxis": {
                        "backgroundcolor": "#E5ECF6",
                        "gridcolor": "white",
                        "gridwidth": 2,
                        "linecolor": "white",
                        "showbackground": true,
                        "ticks": "",
                        "zerolinecolor": "white"
                      },
                      "zaxis": {
                        "backgroundcolor": "#E5ECF6",
                        "gridcolor": "white",
                        "gridwidth": 2,
                        "linecolor": "white",
                        "showbackground": true,
                        "ticks": "",
                        "zerolinecolor": "white"
                      }
                    },
                    "shapedefaults": {
                      "line": {
                        "color": "#2a3f5f"
                      }
                    },
                    "ternary": {
                      "aaxis": {
                        "gridcolor": "white",
                        "linecolor": "white",
                        "ticks": ""
                      },
                      "baxis": {
                        "gridcolor": "white",
                        "linecolor": "white",
                        "ticks": ""
                      },
                      "bgcolor": "#E5ECF6",
                      "caxis": {
                        "gridcolor": "white",
                        "linecolor": "white",
                        "ticks": ""
                      }
                    },
                    "title": {
                      "x": 0.05
                    },
                    "xaxis": {
                      "automargin": true,
                      "gridcolor": "white",
                      "linecolor": "white",
                      "ticks": "",
                      "title": {
                        "standoff": 15
                      },
                      "zerolinecolor": "white",
                      "zerolinewidth": 2
                    },
                    "yaxis": {
                      "automargin": true,
                      "gridcolor": "white",
                      "linecolor": "white",
                      "ticks": "",
                      "title": {
                        "standoff": 15
                      },
                      "zerolinecolor": "white",
                      "zerolinewidth": 2
                    }
                  }
                },
                "xaxis": {
                  "anchor": "y",
                  "domain": [
                    0,
                    1
                  ],
                  "title": {
                    "text": "x"
                  }
                },
                "yaxis": {
                  "anchor": "x",
                  "domain": [
                    0,
                    1
                  ],
                  "title": {
                    "text": "y"
                  }
                }
              }
            }
          },
          "metadata": {},
          "output_type": "display_data"
        }
      ],
      "source": [
        "df_kcal=merged_df[['Code Pays', \"Pays\", 'Population', 'Code Produit', 'Produit', \"Kcal\"]]\n",
        "df_kcal=df_kcal[df_kcal['Pays']=='France']\n",
        "\n",
        "df_kcal.sort_values(by='Kcal', ascending=False, inplace=True )\n",
        "df_kcal.head(10)\n",
        "fig = px.bar(x=df_kcal.head(10).Produit,y=df_kcal.head(10).Kcal, height=1000, color_discrete_sequence=color_list_bar)\n",
        "fig.show()\n"
      ]
    },
    {
      "cell_type": "code",
      "execution_count": 618,
      "metadata": {},
      "outputs": [
        {
          "data": {
            "text/html": [
              "<div>\n",
              "<style scoped>\n",
              "    .dataframe tbody tr th:only-of-type {\n",
              "        vertical-align: middle;\n",
              "    }\n",
              "\n",
              "    .dataframe tbody tr th {\n",
              "        vertical-align: top;\n",
              "    }\n",
              "\n",
              "    .dataframe thead th {\n",
              "        text-align: right;\n",
              "    }\n",
              "</style>\n",
              "<table border=\"1\" class=\"dataframe\">\n",
              "  <thead>\n",
              "    <tr style=\"text-align: right;\">\n",
              "      <th></th>\n",
              "      <th>Code Pays</th>\n",
              "      <th>Pays</th>\n",
              "      <th>Code Produit</th>\n",
              "      <th>Produit</th>\n",
              "      <th>protéinesKg</th>\n",
              "      <th>protéinesg</th>\n",
              "    </tr>\n",
              "  </thead>\n",
              "  <tbody>\n",
              "    <tr>\n",
              "      <th>0</th>\n",
              "      <td>2</td>\n",
              "      <td>Afghanistan</td>\n",
              "      <td>2511</td>\n",
              "      <td>Blé</td>\n",
              "      <td>411601126.8</td>\n",
              "      <td>4.116011e+11</td>\n",
              "    </tr>\n",
              "    <tr>\n",
              "      <th>1</th>\n",
              "      <td>2</td>\n",
              "      <td>Afghanistan</td>\n",
              "      <td>2805</td>\n",
              "      <td>Riz (Eq Blanchi)</td>\n",
              "      <td>30108996.0</td>\n",
              "      <td>3.010900e+10</td>\n",
              "    </tr>\n",
              "    <tr>\n",
              "      <th>2</th>\n",
              "      <td>2</td>\n",
              "      <td>Afghanistan</td>\n",
              "      <td>2513</td>\n",
              "      <td>Orge</td>\n",
              "      <td>8809669.2</td>\n",
              "      <td>8.809669e+09</td>\n",
              "    </tr>\n",
              "    <tr>\n",
              "      <th>3</th>\n",
              "      <td>2</td>\n",
              "      <td>Afghanistan</td>\n",
              "      <td>2514</td>\n",
              "      <td>Maïs</td>\n",
              "      <td>6244828.8</td>\n",
              "      <td>6.244829e+09</td>\n",
              "    </tr>\n",
              "    <tr>\n",
              "      <th>4</th>\n",
              "      <td>2</td>\n",
              "      <td>Afghanistan</td>\n",
              "      <td>2517</td>\n",
              "      <td>Millet</td>\n",
              "      <td>892118.4</td>\n",
              "      <td>8.921184e+08</td>\n",
              "    </tr>\n",
              "    <tr>\n",
              "      <th>...</th>\n",
              "      <td>...</td>\n",
              "      <td>...</td>\n",
              "      <td>...</td>\n",
              "      <td>...</td>\n",
              "      <td>...</td>\n",
              "      <td>...</td>\n",
              "    </tr>\n",
              "    <tr>\n",
              "      <th>11556</th>\n",
              "      <td>181</td>\n",
              "      <td>Zimbabwe</td>\n",
              "      <td>2764</td>\n",
              "      <td>Poissons Marins, Autres</td>\n",
              "      <td>154942.5</td>\n",
              "      <td>1.549425e+08</td>\n",
              "    </tr>\n",
              "    <tr>\n",
              "      <th>11557</th>\n",
              "      <td>181</td>\n",
              "      <td>Zimbabwe</td>\n",
              "      <td>2765</td>\n",
              "      <td>Crustacés</td>\n",
              "      <td>0.0</td>\n",
              "      <td>0.000000e+00</td>\n",
              "    </tr>\n",
              "    <tr>\n",
              "      <th>11558</th>\n",
              "      <td>181</td>\n",
              "      <td>Zimbabwe</td>\n",
              "      <td>2766</td>\n",
              "      <td>Cephalopodes</td>\n",
              "      <td>0.0</td>\n",
              "      <td>0.000000e+00</td>\n",
              "    </tr>\n",
              "    <tr>\n",
              "      <th>11559</th>\n",
              "      <td>181</td>\n",
              "      <td>Zimbabwe</td>\n",
              "      <td>2767</td>\n",
              "      <td>Mollusques, Autres</td>\n",
              "      <td>0.0</td>\n",
              "      <td>0.000000e+00</td>\n",
              "    </tr>\n",
              "    <tr>\n",
              "      <th>11560</th>\n",
              "      <td>181</td>\n",
              "      <td>Zimbabwe</td>\n",
              "      <td>2775</td>\n",
              "      <td>Plantes Aquatiques</td>\n",
              "      <td>0.0</td>\n",
              "      <td>0.000000e+00</td>\n",
              "    </tr>\n",
              "  </tbody>\n",
              "</table>\n",
              "<p>11561 rows × 6 columns</p>\n",
              "</div>"
            ],
            "text/plain": [
              "      Code Pays         Pays Code Produit                  Produit  \\\n",
              "0             2  Afghanistan         2511                      Blé   \n",
              "1             2  Afghanistan         2805         Riz (Eq Blanchi)   \n",
              "2             2  Afghanistan         2513                     Orge   \n",
              "3             2  Afghanistan         2514                     Maïs   \n",
              "4             2  Afghanistan         2517                   Millet   \n",
              "...         ...          ...          ...                      ...   \n",
              "11556       181     Zimbabwe         2764  Poissons Marins, Autres   \n",
              "11557       181     Zimbabwe         2765                Crustacés   \n",
              "11558       181     Zimbabwe         2766             Cephalopodes   \n",
              "11559       181     Zimbabwe         2767       Mollusques, Autres   \n",
              "11560       181     Zimbabwe         2775       Plantes Aquatiques   \n",
              "\n",
              "       protéinesKg    protéinesg  \n",
              "0      411601126.8  4.116011e+11  \n",
              "1       30108996.0  3.010900e+10  \n",
              "2        8809669.2  8.809669e+09  \n",
              "3        6244828.8  6.244829e+09  \n",
              "4         892118.4  8.921184e+08  \n",
              "...            ...           ...  \n",
              "11556     154942.5  1.549425e+08  \n",
              "11557          0.0  0.000000e+00  \n",
              "11558          0.0  0.000000e+00  \n",
              "11559          0.0  0.000000e+00  \n",
              "11560          0.0  0.000000e+00  \n",
              "\n",
              "[11561 rows x 6 columns]"
            ]
          },
          "execution_count": 618,
          "metadata": {},
          "output_type": "execute_result"
        }
      ],
      "source": [
        "df = pd.concat([FAOSTAT_2013_vegetal, FAOSTAT_2013_animal])\n",
        "df = df[['Code Pays', 'Pays', 'Élément', 'Code Produit', 'Produit', 'Valeur']]\n",
        "df = df[df['Élément']=='Disponibilité de protéines en quantité (g/personne/jour)']\n",
        "\n",
        "merged_df = df.merge(dPopulation, left_on='Code Pays', right_on='Country Code')\n",
        "merged_df= merged_df[['Code Pays', 'Pays', 'Value','Élément', 'Code Produit', 'Produit', 'Valeur']]\n",
        "merged_df.rename(columns={'Value': 'Population'}, inplace=True)\n",
        "\n",
        "merged_df = merged_df.assign(protéinesKg=(merged_df['Valeur']/1000)*merged_df['Population']*365)\n",
        "merged_df = merged_df.assign(protéinesg=(merged_df['Valeur'])*merged_df['Population']*365)\n",
        "merged_df\n",
        "\n",
        "m_df_protéinesKg=merged_df[['Code Pays', \"Pays\", 'Code Produit', 'Produit', \"protéinesKg\", \"protéinesg\"]]\n",
        "\n",
        "m_df_protéinesKg\n",
        "\n",
        "\n",
        "#m_df_Kg_group=m_df_Kg.groupby([\"Code Pays\", \"Pays\", 'Produit']).sum()\n",
        "\n",
        "#m_df_Kg_group"
      ]
    },
    {
      "cell_type": "code",
      "execution_count": 619,
      "metadata": {},
      "outputs": [
        {
          "name": "stderr",
          "output_type": "stream",
          "text": [
            "C:\\Users\\MOHAM\\AppData\\Local\\Temp\\ipykernel_12664\\2336516093.py:4: SettingWithCopyWarning:\n",
            "\n",
            "\n",
            "A value is trying to be set on a copy of a slice from a DataFrame\n",
            "\n",
            "See the caveats in the documentation: https://pandas.pydata.org/pandas-docs/stable/user_guide/indexing.html#returning-a-view-versus-a-copy\n",
            "\n"
          ]
        },
        {
          "data": {
            "application/vnd.plotly.v1+json": {
              "config": {
                "plotlyServerURL": "https://plot.ly"
              },
              "data": [
                {
                  "alignmentgroup": "True",
                  "hovertemplate": "x=%{x}<br>y=%{y}<extra></extra>",
                  "legendgroup": "",
                  "marker": {
                    "color": "#039be5",
                    "pattern": {
                      "shape": ""
                    }
                  },
                  "name": "",
                  "offsetgroup": "",
                  "orientation": "v",
                  "showlegend": false,
                  "textposition": "auto",
                  "type": "bar",
                  "x": [
                    "Chine, continentale",
                    "Inde",
                    "États-Unis d'Amérique",
                    "Fédération de Russie",
                    "Pakistan",
                    "Turquie",
                    "Égypte",
                    "Iran (République islamique d')",
                    "Brésil",
                    "Italie"
                  ],
                  "xaxis": "x",
                  "y": [
                    8865481171150,
                    6896599299000,
                    2260440200250,
                    1591142193200,
                    1566320514200,
                    1156654548050,
                    1066834672800,
                    1063165309550,
                    745947725999.9999,
                    730172279999.9999
                  ],
                  "yaxis": "y"
                }
              ],
              "layout": {
                "barmode": "relative",
                "height": 1000,
                "legend": {
                  "tracegroupgap": 0
                },
                "margin": {
                  "t": 60
                },
                "template": {
                  "data": {
                    "bar": [
                      {
                        "error_x": {
                          "color": "#2a3f5f"
                        },
                        "error_y": {
                          "color": "#2a3f5f"
                        },
                        "marker": {
                          "line": {
                            "color": "#E5ECF6",
                            "width": 0.5
                          },
                          "pattern": {
                            "fillmode": "overlay",
                            "size": 10,
                            "solidity": 0.2
                          }
                        },
                        "type": "bar"
                      }
                    ],
                    "barpolar": [
                      {
                        "marker": {
                          "line": {
                            "color": "#E5ECF6",
                            "width": 0.5
                          },
                          "pattern": {
                            "fillmode": "overlay",
                            "size": 10,
                            "solidity": 0.2
                          }
                        },
                        "type": "barpolar"
                      }
                    ],
                    "carpet": [
                      {
                        "aaxis": {
                          "endlinecolor": "#2a3f5f",
                          "gridcolor": "white",
                          "linecolor": "white",
                          "minorgridcolor": "white",
                          "startlinecolor": "#2a3f5f"
                        },
                        "baxis": {
                          "endlinecolor": "#2a3f5f",
                          "gridcolor": "white",
                          "linecolor": "white",
                          "minorgridcolor": "white",
                          "startlinecolor": "#2a3f5f"
                        },
                        "type": "carpet"
                      }
                    ],
                    "choropleth": [
                      {
                        "colorbar": {
                          "outlinewidth": 0,
                          "ticks": ""
                        },
                        "type": "choropleth"
                      }
                    ],
                    "contour": [
                      {
                        "colorbar": {
                          "outlinewidth": 0,
                          "ticks": ""
                        },
                        "colorscale": [
                          [
                            0,
                            "#0d0887"
                          ],
                          [
                            0.1111111111111111,
                            "#46039f"
                          ],
                          [
                            0.2222222222222222,
                            "#7201a8"
                          ],
                          [
                            0.3333333333333333,
                            "#9c179e"
                          ],
                          [
                            0.4444444444444444,
                            "#bd3786"
                          ],
                          [
                            0.5555555555555556,
                            "#d8576b"
                          ],
                          [
                            0.6666666666666666,
                            "#ed7953"
                          ],
                          [
                            0.7777777777777778,
                            "#fb9f3a"
                          ],
                          [
                            0.8888888888888888,
                            "#fdca26"
                          ],
                          [
                            1,
                            "#f0f921"
                          ]
                        ],
                        "type": "contour"
                      }
                    ],
                    "contourcarpet": [
                      {
                        "colorbar": {
                          "outlinewidth": 0,
                          "ticks": ""
                        },
                        "type": "contourcarpet"
                      }
                    ],
                    "heatmap": [
                      {
                        "colorbar": {
                          "outlinewidth": 0,
                          "ticks": ""
                        },
                        "colorscale": [
                          [
                            0,
                            "#0d0887"
                          ],
                          [
                            0.1111111111111111,
                            "#46039f"
                          ],
                          [
                            0.2222222222222222,
                            "#7201a8"
                          ],
                          [
                            0.3333333333333333,
                            "#9c179e"
                          ],
                          [
                            0.4444444444444444,
                            "#bd3786"
                          ],
                          [
                            0.5555555555555556,
                            "#d8576b"
                          ],
                          [
                            0.6666666666666666,
                            "#ed7953"
                          ],
                          [
                            0.7777777777777778,
                            "#fb9f3a"
                          ],
                          [
                            0.8888888888888888,
                            "#fdca26"
                          ],
                          [
                            1,
                            "#f0f921"
                          ]
                        ],
                        "type": "heatmap"
                      }
                    ],
                    "heatmapgl": [
                      {
                        "colorbar": {
                          "outlinewidth": 0,
                          "ticks": ""
                        },
                        "colorscale": [
                          [
                            0,
                            "#0d0887"
                          ],
                          [
                            0.1111111111111111,
                            "#46039f"
                          ],
                          [
                            0.2222222222222222,
                            "#7201a8"
                          ],
                          [
                            0.3333333333333333,
                            "#9c179e"
                          ],
                          [
                            0.4444444444444444,
                            "#bd3786"
                          ],
                          [
                            0.5555555555555556,
                            "#d8576b"
                          ],
                          [
                            0.6666666666666666,
                            "#ed7953"
                          ],
                          [
                            0.7777777777777778,
                            "#fb9f3a"
                          ],
                          [
                            0.8888888888888888,
                            "#fdca26"
                          ],
                          [
                            1,
                            "#f0f921"
                          ]
                        ],
                        "type": "heatmapgl"
                      }
                    ],
                    "histogram": [
                      {
                        "marker": {
                          "pattern": {
                            "fillmode": "overlay",
                            "size": 10,
                            "solidity": 0.2
                          }
                        },
                        "type": "histogram"
                      }
                    ],
                    "histogram2d": [
                      {
                        "colorbar": {
                          "outlinewidth": 0,
                          "ticks": ""
                        },
                        "colorscale": [
                          [
                            0,
                            "#0d0887"
                          ],
                          [
                            0.1111111111111111,
                            "#46039f"
                          ],
                          [
                            0.2222222222222222,
                            "#7201a8"
                          ],
                          [
                            0.3333333333333333,
                            "#9c179e"
                          ],
                          [
                            0.4444444444444444,
                            "#bd3786"
                          ],
                          [
                            0.5555555555555556,
                            "#d8576b"
                          ],
                          [
                            0.6666666666666666,
                            "#ed7953"
                          ],
                          [
                            0.7777777777777778,
                            "#fb9f3a"
                          ],
                          [
                            0.8888888888888888,
                            "#fdca26"
                          ],
                          [
                            1,
                            "#f0f921"
                          ]
                        ],
                        "type": "histogram2d"
                      }
                    ],
                    "histogram2dcontour": [
                      {
                        "colorbar": {
                          "outlinewidth": 0,
                          "ticks": ""
                        },
                        "colorscale": [
                          [
                            0,
                            "#0d0887"
                          ],
                          [
                            0.1111111111111111,
                            "#46039f"
                          ],
                          [
                            0.2222222222222222,
                            "#7201a8"
                          ],
                          [
                            0.3333333333333333,
                            "#9c179e"
                          ],
                          [
                            0.4444444444444444,
                            "#bd3786"
                          ],
                          [
                            0.5555555555555556,
                            "#d8576b"
                          ],
                          [
                            0.6666666666666666,
                            "#ed7953"
                          ],
                          [
                            0.7777777777777778,
                            "#fb9f3a"
                          ],
                          [
                            0.8888888888888888,
                            "#fdca26"
                          ],
                          [
                            1,
                            "#f0f921"
                          ]
                        ],
                        "type": "histogram2dcontour"
                      }
                    ],
                    "mesh3d": [
                      {
                        "colorbar": {
                          "outlinewidth": 0,
                          "ticks": ""
                        },
                        "type": "mesh3d"
                      }
                    ],
                    "parcoords": [
                      {
                        "line": {
                          "colorbar": {
                            "outlinewidth": 0,
                            "ticks": ""
                          }
                        },
                        "type": "parcoords"
                      }
                    ],
                    "pie": [
                      {
                        "automargin": true,
                        "type": "pie"
                      }
                    ],
                    "scatter": [
                      {
                        "fillpattern": {
                          "fillmode": "overlay",
                          "size": 10,
                          "solidity": 0.2
                        },
                        "type": "scatter"
                      }
                    ],
                    "scatter3d": [
                      {
                        "line": {
                          "colorbar": {
                            "outlinewidth": 0,
                            "ticks": ""
                          }
                        },
                        "marker": {
                          "colorbar": {
                            "outlinewidth": 0,
                            "ticks": ""
                          }
                        },
                        "type": "scatter3d"
                      }
                    ],
                    "scattercarpet": [
                      {
                        "marker": {
                          "colorbar": {
                            "outlinewidth": 0,
                            "ticks": ""
                          }
                        },
                        "type": "scattercarpet"
                      }
                    ],
                    "scattergeo": [
                      {
                        "marker": {
                          "colorbar": {
                            "outlinewidth": 0,
                            "ticks": ""
                          }
                        },
                        "type": "scattergeo"
                      }
                    ],
                    "scattergl": [
                      {
                        "marker": {
                          "colorbar": {
                            "outlinewidth": 0,
                            "ticks": ""
                          }
                        },
                        "type": "scattergl"
                      }
                    ],
                    "scattermapbox": [
                      {
                        "marker": {
                          "colorbar": {
                            "outlinewidth": 0,
                            "ticks": ""
                          }
                        },
                        "type": "scattermapbox"
                      }
                    ],
                    "scatterpolar": [
                      {
                        "marker": {
                          "colorbar": {
                            "outlinewidth": 0,
                            "ticks": ""
                          }
                        },
                        "type": "scatterpolar"
                      }
                    ],
                    "scatterpolargl": [
                      {
                        "marker": {
                          "colorbar": {
                            "outlinewidth": 0,
                            "ticks": ""
                          }
                        },
                        "type": "scatterpolargl"
                      }
                    ],
                    "scatterternary": [
                      {
                        "marker": {
                          "colorbar": {
                            "outlinewidth": 0,
                            "ticks": ""
                          }
                        },
                        "type": "scatterternary"
                      }
                    ],
                    "surface": [
                      {
                        "colorbar": {
                          "outlinewidth": 0,
                          "ticks": ""
                        },
                        "colorscale": [
                          [
                            0,
                            "#0d0887"
                          ],
                          [
                            0.1111111111111111,
                            "#46039f"
                          ],
                          [
                            0.2222222222222222,
                            "#7201a8"
                          ],
                          [
                            0.3333333333333333,
                            "#9c179e"
                          ],
                          [
                            0.4444444444444444,
                            "#bd3786"
                          ],
                          [
                            0.5555555555555556,
                            "#d8576b"
                          ],
                          [
                            0.6666666666666666,
                            "#ed7953"
                          ],
                          [
                            0.7777777777777778,
                            "#fb9f3a"
                          ],
                          [
                            0.8888888888888888,
                            "#fdca26"
                          ],
                          [
                            1,
                            "#f0f921"
                          ]
                        ],
                        "type": "surface"
                      }
                    ],
                    "table": [
                      {
                        "cells": {
                          "fill": {
                            "color": "#EBF0F8"
                          },
                          "line": {
                            "color": "white"
                          }
                        },
                        "header": {
                          "fill": {
                            "color": "#C8D4E3"
                          },
                          "line": {
                            "color": "white"
                          }
                        },
                        "type": "table"
                      }
                    ]
                  },
                  "layout": {
                    "annotationdefaults": {
                      "arrowcolor": "#2a3f5f",
                      "arrowhead": 0,
                      "arrowwidth": 1
                    },
                    "autotypenumbers": "strict",
                    "coloraxis": {
                      "colorbar": {
                        "outlinewidth": 0,
                        "ticks": ""
                      }
                    },
                    "colorscale": {
                      "diverging": [
                        [
                          0,
                          "#8e0152"
                        ],
                        [
                          0.1,
                          "#c51b7d"
                        ],
                        [
                          0.2,
                          "#de77ae"
                        ],
                        [
                          0.3,
                          "#f1b6da"
                        ],
                        [
                          0.4,
                          "#fde0ef"
                        ],
                        [
                          0.5,
                          "#f7f7f7"
                        ],
                        [
                          0.6,
                          "#e6f5d0"
                        ],
                        [
                          0.7,
                          "#b8e186"
                        ],
                        [
                          0.8,
                          "#7fbc41"
                        ],
                        [
                          0.9,
                          "#4d9221"
                        ],
                        [
                          1,
                          "#276419"
                        ]
                      ],
                      "sequential": [
                        [
                          0,
                          "#0d0887"
                        ],
                        [
                          0.1111111111111111,
                          "#46039f"
                        ],
                        [
                          0.2222222222222222,
                          "#7201a8"
                        ],
                        [
                          0.3333333333333333,
                          "#9c179e"
                        ],
                        [
                          0.4444444444444444,
                          "#bd3786"
                        ],
                        [
                          0.5555555555555556,
                          "#d8576b"
                        ],
                        [
                          0.6666666666666666,
                          "#ed7953"
                        ],
                        [
                          0.7777777777777778,
                          "#fb9f3a"
                        ],
                        [
                          0.8888888888888888,
                          "#fdca26"
                        ],
                        [
                          1,
                          "#f0f921"
                        ]
                      ],
                      "sequentialminus": [
                        [
                          0,
                          "#0d0887"
                        ],
                        [
                          0.1111111111111111,
                          "#46039f"
                        ],
                        [
                          0.2222222222222222,
                          "#7201a8"
                        ],
                        [
                          0.3333333333333333,
                          "#9c179e"
                        ],
                        [
                          0.4444444444444444,
                          "#bd3786"
                        ],
                        [
                          0.5555555555555556,
                          "#d8576b"
                        ],
                        [
                          0.6666666666666666,
                          "#ed7953"
                        ],
                        [
                          0.7777777777777778,
                          "#fb9f3a"
                        ],
                        [
                          0.8888888888888888,
                          "#fdca26"
                        ],
                        [
                          1,
                          "#f0f921"
                        ]
                      ]
                    },
                    "colorway": [
                      "#636efa",
                      "#EF553B",
                      "#00cc96",
                      "#ab63fa",
                      "#FFA15A",
                      "#19d3f3",
                      "#FF6692",
                      "#B6E880",
                      "#FF97FF",
                      "#FECB52"
                    ],
                    "font": {
                      "color": "#2a3f5f"
                    },
                    "geo": {
                      "bgcolor": "white",
                      "lakecolor": "white",
                      "landcolor": "#E5ECF6",
                      "showlakes": true,
                      "showland": true,
                      "subunitcolor": "white"
                    },
                    "hoverlabel": {
                      "align": "left"
                    },
                    "hovermode": "closest",
                    "mapbox": {
                      "style": "light"
                    },
                    "paper_bgcolor": "white",
                    "plot_bgcolor": "#E5ECF6",
                    "polar": {
                      "angularaxis": {
                        "gridcolor": "white",
                        "linecolor": "white",
                        "ticks": ""
                      },
                      "bgcolor": "#E5ECF6",
                      "radialaxis": {
                        "gridcolor": "white",
                        "linecolor": "white",
                        "ticks": ""
                      }
                    },
                    "scene": {
                      "xaxis": {
                        "backgroundcolor": "#E5ECF6",
                        "gridcolor": "white",
                        "gridwidth": 2,
                        "linecolor": "white",
                        "showbackground": true,
                        "ticks": "",
                        "zerolinecolor": "white"
                      },
                      "yaxis": {
                        "backgroundcolor": "#E5ECF6",
                        "gridcolor": "white",
                        "gridwidth": 2,
                        "linecolor": "white",
                        "showbackground": true,
                        "ticks": "",
                        "zerolinecolor": "white"
                      },
                      "zaxis": {
                        "backgroundcolor": "#E5ECF6",
                        "gridcolor": "white",
                        "gridwidth": 2,
                        "linecolor": "white",
                        "showbackground": true,
                        "ticks": "",
                        "zerolinecolor": "white"
                      }
                    },
                    "shapedefaults": {
                      "line": {
                        "color": "#2a3f5f"
                      }
                    },
                    "ternary": {
                      "aaxis": {
                        "gridcolor": "white",
                        "linecolor": "white",
                        "ticks": ""
                      },
                      "baxis": {
                        "gridcolor": "white",
                        "linecolor": "white",
                        "ticks": ""
                      },
                      "bgcolor": "#E5ECF6",
                      "caxis": {
                        "gridcolor": "white",
                        "linecolor": "white",
                        "ticks": ""
                      }
                    },
                    "title": {
                      "x": 0.05
                    },
                    "xaxis": {
                      "automargin": true,
                      "gridcolor": "white",
                      "linecolor": "white",
                      "ticks": "",
                      "title": {
                        "standoff": 15
                      },
                      "zerolinecolor": "white",
                      "zerolinewidth": 2
                    },
                    "yaxis": {
                      "automargin": true,
                      "gridcolor": "white",
                      "linecolor": "white",
                      "ticks": "",
                      "title": {
                        "standoff": 15
                      },
                      "zerolinecolor": "white",
                      "zerolinewidth": 2
                    }
                  }
                },
                "xaxis": {
                  "anchor": "y",
                  "domain": [
                    0,
                    1
                  ],
                  "title": {
                    "text": "x"
                  }
                },
                "yaxis": {
                  "anchor": "x",
                  "domain": [
                    0,
                    1
                  ],
                  "title": {
                    "text": "y"
                  }
                }
              }
            }
          },
          "metadata": {},
          "output_type": "display_data"
        }
      ],
      "source": [
        "df=m_df_protéinesKg\n",
        "df=df[df['Produit']=='Blé']\n",
        "\n",
        "df.sort_values(by='protéinesg', ascending=False, inplace=True )\n",
        "df_kcal.head(10)\n",
        "fig = px.bar(x=df.head(10).Pays,y=df.head(10).protéinesg, height=1000, color_discrete_sequence=color_list_bar)\n",
        "fig.show()"
      ]
    },
    {
      "cell_type": "code",
      "execution_count": 620,
      "metadata": {},
      "outputs": [
        {
          "name": "stderr",
          "output_type": "stream",
          "text": [
            "C:\\Users\\MOHAM\\AppData\\Local\\Temp\\ipykernel_12664\\305891807.py:4: SettingWithCopyWarning:\n",
            "\n",
            "\n",
            "A value is trying to be set on a copy of a slice from a DataFrame\n",
            "\n",
            "See the caveats in the documentation: https://pandas.pydata.org/pandas-docs/stable/user_guide/indexing.html#returning-a-view-versus-a-copy\n",
            "\n"
          ]
        },
        {
          "data": {
            "application/vnd.plotly.v1+json": {
              "config": {
                "plotlyServerURL": "https://plot.ly"
              },
              "data": [
                {
                  "alignmentgroup": "True",
                  "hovertemplate": "x=%{x}<br>y=%{y}<extra></extra>",
                  "legendgroup": "",
                  "marker": {
                    "color": "#039be5",
                    "pattern": {
                      "shape": ""
                    }
                  },
                  "name": "",
                  "offsetgroup": "",
                  "orientation": "v",
                  "showlegend": false,
                  "textposition": "auto",
                  "type": "bar",
                  "x": [
                    "Blé",
                    "Lait - Excl Beurre",
                    "Viande de Bovins",
                    "Viande de Volailles",
                    "Viande de Suides",
                    "Oeufs",
                    "Perciform",
                    "Abats Comestible",
                    "Légumes, Autres",
                    "Pommes de Terre"
                  ],
                  "xaxis": "x",
                  "y": [
                    609886927850,
                    537610985650,
                    220582421000,
                    205564043400,
                    203921408350,
                    96211481499.99998,
                    89640941300,
                    68756009950,
                    66409388450,
                    51625673000
                  ],
                  "yaxis": "y"
                }
              ],
              "layout": {
                "barmode": "relative",
                "height": 1000,
                "legend": {
                  "tracegroupgap": 0
                },
                "margin": {
                  "t": 60
                },
                "template": {
                  "data": {
                    "bar": [
                      {
                        "error_x": {
                          "color": "#2a3f5f"
                        },
                        "error_y": {
                          "color": "#2a3f5f"
                        },
                        "marker": {
                          "line": {
                            "color": "#E5ECF6",
                            "width": 0.5
                          },
                          "pattern": {
                            "fillmode": "overlay",
                            "size": 10,
                            "solidity": 0.2
                          }
                        },
                        "type": "bar"
                      }
                    ],
                    "barpolar": [
                      {
                        "marker": {
                          "line": {
                            "color": "#E5ECF6",
                            "width": 0.5
                          },
                          "pattern": {
                            "fillmode": "overlay",
                            "size": 10,
                            "solidity": 0.2
                          }
                        },
                        "type": "barpolar"
                      }
                    ],
                    "carpet": [
                      {
                        "aaxis": {
                          "endlinecolor": "#2a3f5f",
                          "gridcolor": "white",
                          "linecolor": "white",
                          "minorgridcolor": "white",
                          "startlinecolor": "#2a3f5f"
                        },
                        "baxis": {
                          "endlinecolor": "#2a3f5f",
                          "gridcolor": "white",
                          "linecolor": "white",
                          "minorgridcolor": "white",
                          "startlinecolor": "#2a3f5f"
                        },
                        "type": "carpet"
                      }
                    ],
                    "choropleth": [
                      {
                        "colorbar": {
                          "outlinewidth": 0,
                          "ticks": ""
                        },
                        "type": "choropleth"
                      }
                    ],
                    "contour": [
                      {
                        "colorbar": {
                          "outlinewidth": 0,
                          "ticks": ""
                        },
                        "colorscale": [
                          [
                            0,
                            "#0d0887"
                          ],
                          [
                            0.1111111111111111,
                            "#46039f"
                          ],
                          [
                            0.2222222222222222,
                            "#7201a8"
                          ],
                          [
                            0.3333333333333333,
                            "#9c179e"
                          ],
                          [
                            0.4444444444444444,
                            "#bd3786"
                          ],
                          [
                            0.5555555555555556,
                            "#d8576b"
                          ],
                          [
                            0.6666666666666666,
                            "#ed7953"
                          ],
                          [
                            0.7777777777777778,
                            "#fb9f3a"
                          ],
                          [
                            0.8888888888888888,
                            "#fdca26"
                          ],
                          [
                            1,
                            "#f0f921"
                          ]
                        ],
                        "type": "contour"
                      }
                    ],
                    "contourcarpet": [
                      {
                        "colorbar": {
                          "outlinewidth": 0,
                          "ticks": ""
                        },
                        "type": "contourcarpet"
                      }
                    ],
                    "heatmap": [
                      {
                        "colorbar": {
                          "outlinewidth": 0,
                          "ticks": ""
                        },
                        "colorscale": [
                          [
                            0,
                            "#0d0887"
                          ],
                          [
                            0.1111111111111111,
                            "#46039f"
                          ],
                          [
                            0.2222222222222222,
                            "#7201a8"
                          ],
                          [
                            0.3333333333333333,
                            "#9c179e"
                          ],
                          [
                            0.4444444444444444,
                            "#bd3786"
                          ],
                          [
                            0.5555555555555556,
                            "#d8576b"
                          ],
                          [
                            0.6666666666666666,
                            "#ed7953"
                          ],
                          [
                            0.7777777777777778,
                            "#fb9f3a"
                          ],
                          [
                            0.8888888888888888,
                            "#fdca26"
                          ],
                          [
                            1,
                            "#f0f921"
                          ]
                        ],
                        "type": "heatmap"
                      }
                    ],
                    "heatmapgl": [
                      {
                        "colorbar": {
                          "outlinewidth": 0,
                          "ticks": ""
                        },
                        "colorscale": [
                          [
                            0,
                            "#0d0887"
                          ],
                          [
                            0.1111111111111111,
                            "#46039f"
                          ],
                          [
                            0.2222222222222222,
                            "#7201a8"
                          ],
                          [
                            0.3333333333333333,
                            "#9c179e"
                          ],
                          [
                            0.4444444444444444,
                            "#bd3786"
                          ],
                          [
                            0.5555555555555556,
                            "#d8576b"
                          ],
                          [
                            0.6666666666666666,
                            "#ed7953"
                          ],
                          [
                            0.7777777777777778,
                            "#fb9f3a"
                          ],
                          [
                            0.8888888888888888,
                            "#fdca26"
                          ],
                          [
                            1,
                            "#f0f921"
                          ]
                        ],
                        "type": "heatmapgl"
                      }
                    ],
                    "histogram": [
                      {
                        "marker": {
                          "pattern": {
                            "fillmode": "overlay",
                            "size": 10,
                            "solidity": 0.2
                          }
                        },
                        "type": "histogram"
                      }
                    ],
                    "histogram2d": [
                      {
                        "colorbar": {
                          "outlinewidth": 0,
                          "ticks": ""
                        },
                        "colorscale": [
                          [
                            0,
                            "#0d0887"
                          ],
                          [
                            0.1111111111111111,
                            "#46039f"
                          ],
                          [
                            0.2222222222222222,
                            "#7201a8"
                          ],
                          [
                            0.3333333333333333,
                            "#9c179e"
                          ],
                          [
                            0.4444444444444444,
                            "#bd3786"
                          ],
                          [
                            0.5555555555555556,
                            "#d8576b"
                          ],
                          [
                            0.6666666666666666,
                            "#ed7953"
                          ],
                          [
                            0.7777777777777778,
                            "#fb9f3a"
                          ],
                          [
                            0.8888888888888888,
                            "#fdca26"
                          ],
                          [
                            1,
                            "#f0f921"
                          ]
                        ],
                        "type": "histogram2d"
                      }
                    ],
                    "histogram2dcontour": [
                      {
                        "colorbar": {
                          "outlinewidth": 0,
                          "ticks": ""
                        },
                        "colorscale": [
                          [
                            0,
                            "#0d0887"
                          ],
                          [
                            0.1111111111111111,
                            "#46039f"
                          ],
                          [
                            0.2222222222222222,
                            "#7201a8"
                          ],
                          [
                            0.3333333333333333,
                            "#9c179e"
                          ],
                          [
                            0.4444444444444444,
                            "#bd3786"
                          ],
                          [
                            0.5555555555555556,
                            "#d8576b"
                          ],
                          [
                            0.6666666666666666,
                            "#ed7953"
                          ],
                          [
                            0.7777777777777778,
                            "#fb9f3a"
                          ],
                          [
                            0.8888888888888888,
                            "#fdca26"
                          ],
                          [
                            1,
                            "#f0f921"
                          ]
                        ],
                        "type": "histogram2dcontour"
                      }
                    ],
                    "mesh3d": [
                      {
                        "colorbar": {
                          "outlinewidth": 0,
                          "ticks": ""
                        },
                        "type": "mesh3d"
                      }
                    ],
                    "parcoords": [
                      {
                        "line": {
                          "colorbar": {
                            "outlinewidth": 0,
                            "ticks": ""
                          }
                        },
                        "type": "parcoords"
                      }
                    ],
                    "pie": [
                      {
                        "automargin": true,
                        "type": "pie"
                      }
                    ],
                    "scatter": [
                      {
                        "fillpattern": {
                          "fillmode": "overlay",
                          "size": 10,
                          "solidity": 0.2
                        },
                        "type": "scatter"
                      }
                    ],
                    "scatter3d": [
                      {
                        "line": {
                          "colorbar": {
                            "outlinewidth": 0,
                            "ticks": ""
                          }
                        },
                        "marker": {
                          "colorbar": {
                            "outlinewidth": 0,
                            "ticks": ""
                          }
                        },
                        "type": "scatter3d"
                      }
                    ],
                    "scattercarpet": [
                      {
                        "marker": {
                          "colorbar": {
                            "outlinewidth": 0,
                            "ticks": ""
                          }
                        },
                        "type": "scattercarpet"
                      }
                    ],
                    "scattergeo": [
                      {
                        "marker": {
                          "colorbar": {
                            "outlinewidth": 0,
                            "ticks": ""
                          }
                        },
                        "type": "scattergeo"
                      }
                    ],
                    "scattergl": [
                      {
                        "marker": {
                          "colorbar": {
                            "outlinewidth": 0,
                            "ticks": ""
                          }
                        },
                        "type": "scattergl"
                      }
                    ],
                    "scattermapbox": [
                      {
                        "marker": {
                          "colorbar": {
                            "outlinewidth": 0,
                            "ticks": ""
                          }
                        },
                        "type": "scattermapbox"
                      }
                    ],
                    "scatterpolar": [
                      {
                        "marker": {
                          "colorbar": {
                            "outlinewidth": 0,
                            "ticks": ""
                          }
                        },
                        "type": "scatterpolar"
                      }
                    ],
                    "scatterpolargl": [
                      {
                        "marker": {
                          "colorbar": {
                            "outlinewidth": 0,
                            "ticks": ""
                          }
                        },
                        "type": "scatterpolargl"
                      }
                    ],
                    "scatterternary": [
                      {
                        "marker": {
                          "colorbar": {
                            "outlinewidth": 0,
                            "ticks": ""
                          }
                        },
                        "type": "scatterternary"
                      }
                    ],
                    "surface": [
                      {
                        "colorbar": {
                          "outlinewidth": 0,
                          "ticks": ""
                        },
                        "colorscale": [
                          [
                            0,
                            "#0d0887"
                          ],
                          [
                            0.1111111111111111,
                            "#46039f"
                          ],
                          [
                            0.2222222222222222,
                            "#7201a8"
                          ],
                          [
                            0.3333333333333333,
                            "#9c179e"
                          ],
                          [
                            0.4444444444444444,
                            "#bd3786"
                          ],
                          [
                            0.5555555555555556,
                            "#d8576b"
                          ],
                          [
                            0.6666666666666666,
                            "#ed7953"
                          ],
                          [
                            0.7777777777777778,
                            "#fb9f3a"
                          ],
                          [
                            0.8888888888888888,
                            "#fdca26"
                          ],
                          [
                            1,
                            "#f0f921"
                          ]
                        ],
                        "type": "surface"
                      }
                    ],
                    "table": [
                      {
                        "cells": {
                          "fill": {
                            "color": "#EBF0F8"
                          },
                          "line": {
                            "color": "white"
                          }
                        },
                        "header": {
                          "fill": {
                            "color": "#C8D4E3"
                          },
                          "line": {
                            "color": "white"
                          }
                        },
                        "type": "table"
                      }
                    ]
                  },
                  "layout": {
                    "annotationdefaults": {
                      "arrowcolor": "#2a3f5f",
                      "arrowhead": 0,
                      "arrowwidth": 1
                    },
                    "autotypenumbers": "strict",
                    "coloraxis": {
                      "colorbar": {
                        "outlinewidth": 0,
                        "ticks": ""
                      }
                    },
                    "colorscale": {
                      "diverging": [
                        [
                          0,
                          "#8e0152"
                        ],
                        [
                          0.1,
                          "#c51b7d"
                        ],
                        [
                          0.2,
                          "#de77ae"
                        ],
                        [
                          0.3,
                          "#f1b6da"
                        ],
                        [
                          0.4,
                          "#fde0ef"
                        ],
                        [
                          0.5,
                          "#f7f7f7"
                        ],
                        [
                          0.6,
                          "#e6f5d0"
                        ],
                        [
                          0.7,
                          "#b8e186"
                        ],
                        [
                          0.8,
                          "#7fbc41"
                        ],
                        [
                          0.9,
                          "#4d9221"
                        ],
                        [
                          1,
                          "#276419"
                        ]
                      ],
                      "sequential": [
                        [
                          0,
                          "#0d0887"
                        ],
                        [
                          0.1111111111111111,
                          "#46039f"
                        ],
                        [
                          0.2222222222222222,
                          "#7201a8"
                        ],
                        [
                          0.3333333333333333,
                          "#9c179e"
                        ],
                        [
                          0.4444444444444444,
                          "#bd3786"
                        ],
                        [
                          0.5555555555555556,
                          "#d8576b"
                        ],
                        [
                          0.6666666666666666,
                          "#ed7953"
                        ],
                        [
                          0.7777777777777778,
                          "#fb9f3a"
                        ],
                        [
                          0.8888888888888888,
                          "#fdca26"
                        ],
                        [
                          1,
                          "#f0f921"
                        ]
                      ],
                      "sequentialminus": [
                        [
                          0,
                          "#0d0887"
                        ],
                        [
                          0.1111111111111111,
                          "#46039f"
                        ],
                        [
                          0.2222222222222222,
                          "#7201a8"
                        ],
                        [
                          0.3333333333333333,
                          "#9c179e"
                        ],
                        [
                          0.4444444444444444,
                          "#bd3786"
                        ],
                        [
                          0.5555555555555556,
                          "#d8576b"
                        ],
                        [
                          0.6666666666666666,
                          "#ed7953"
                        ],
                        [
                          0.7777777777777778,
                          "#fb9f3a"
                        ],
                        [
                          0.8888888888888888,
                          "#fdca26"
                        ],
                        [
                          1,
                          "#f0f921"
                        ]
                      ]
                    },
                    "colorway": [
                      "#636efa",
                      "#EF553B",
                      "#00cc96",
                      "#ab63fa",
                      "#FFA15A",
                      "#19d3f3",
                      "#FF6692",
                      "#B6E880",
                      "#FF97FF",
                      "#FECB52"
                    ],
                    "font": {
                      "color": "#2a3f5f"
                    },
                    "geo": {
                      "bgcolor": "white",
                      "lakecolor": "white",
                      "landcolor": "#E5ECF6",
                      "showlakes": true,
                      "showland": true,
                      "subunitcolor": "white"
                    },
                    "hoverlabel": {
                      "align": "left"
                    },
                    "hovermode": "closest",
                    "mapbox": {
                      "style": "light"
                    },
                    "paper_bgcolor": "white",
                    "plot_bgcolor": "#E5ECF6",
                    "polar": {
                      "angularaxis": {
                        "gridcolor": "white",
                        "linecolor": "white",
                        "ticks": ""
                      },
                      "bgcolor": "#E5ECF6",
                      "radialaxis": {
                        "gridcolor": "white",
                        "linecolor": "white",
                        "ticks": ""
                      }
                    },
                    "scene": {
                      "xaxis": {
                        "backgroundcolor": "#E5ECF6",
                        "gridcolor": "white",
                        "gridwidth": 2,
                        "linecolor": "white",
                        "showbackground": true,
                        "ticks": "",
                        "zerolinecolor": "white"
                      },
                      "yaxis": {
                        "backgroundcolor": "#E5ECF6",
                        "gridcolor": "white",
                        "gridwidth": 2,
                        "linecolor": "white",
                        "showbackground": true,
                        "ticks": "",
                        "zerolinecolor": "white"
                      },
                      "zaxis": {
                        "backgroundcolor": "#E5ECF6",
                        "gridcolor": "white",
                        "gridwidth": 2,
                        "linecolor": "white",
                        "showbackground": true,
                        "ticks": "",
                        "zerolinecolor": "white"
                      }
                    },
                    "shapedefaults": {
                      "line": {
                        "color": "#2a3f5f"
                      }
                    },
                    "ternary": {
                      "aaxis": {
                        "gridcolor": "white",
                        "linecolor": "white",
                        "ticks": ""
                      },
                      "baxis": {
                        "gridcolor": "white",
                        "linecolor": "white",
                        "ticks": ""
                      },
                      "bgcolor": "#E5ECF6",
                      "caxis": {
                        "gridcolor": "white",
                        "linecolor": "white",
                        "ticks": ""
                      }
                    },
                    "title": {
                      "x": 0.05
                    },
                    "xaxis": {
                      "automargin": true,
                      "gridcolor": "white",
                      "linecolor": "white",
                      "ticks": "",
                      "title": {
                        "standoff": 15
                      },
                      "zerolinecolor": "white",
                      "zerolinewidth": 2
                    },
                    "yaxis": {
                      "automargin": true,
                      "gridcolor": "white",
                      "linecolor": "white",
                      "ticks": "",
                      "title": {
                        "standoff": 15
                      },
                      "zerolinecolor": "white",
                      "zerolinewidth": 2
                    }
                  }
                },
                "xaxis": {
                  "anchor": "y",
                  "domain": [
                    0,
                    1
                  ],
                  "title": {
                    "text": "x"
                  }
                },
                "yaxis": {
                  "anchor": "x",
                  "domain": [
                    0,
                    1
                  ],
                  "title": {
                    "text": "y"
                  }
                }
              }
            }
          },
          "metadata": {},
          "output_type": "display_data"
        }
      ],
      "source": [
        "df=m_df_protéinesKg\n",
        "df=df[df['Pays']=='France']\n",
        "\n",
        "df.sort_values(by='protéinesg', ascending=False, inplace=True )\n",
        "df_kcal.head(10)\n",
        "fig = px.bar(x=df.head(10).Produit,y=df.head(10).protéinesg, height=1000, color_discrete_sequence=color_list_bar)\n",
        "fig.show()\n",
        "\n",
        "\n"
      ]
    },
    {
      "cell_type": "code",
      "execution_count": 621,
      "metadata": {},
      "outputs": [
        {
          "data": {
            "text/html": [
              "<div>\n",
              "<style scoped>\n",
              "    .dataframe tbody tr th:only-of-type {\n",
              "        vertical-align: middle;\n",
              "    }\n",
              "\n",
              "    .dataframe tbody tr th {\n",
              "        vertical-align: top;\n",
              "    }\n",
              "\n",
              "    .dataframe thead th {\n",
              "        text-align: right;\n",
              "    }\n",
              "</style>\n",
              "<table border=\"1\" class=\"dataframe\">\n",
              "  <thead>\n",
              "    <tr style=\"text-align: right;\">\n",
              "      <th></th>\n",
              "      <th>Code Pays</th>\n",
              "      <th>Pays</th>\n",
              "      <th>Élément</th>\n",
              "      <th>Code Produit</th>\n",
              "      <th>Produit</th>\n",
              "      <th>Kg</th>\n",
              "    </tr>\n",
              "  </thead>\n",
              "  <tbody>\n",
              "    <tr>\n",
              "      <th>0</th>\n",
              "      <td>2</td>\n",
              "      <td>Afghanistan</td>\n",
              "      <td>Disponibilité alimentaire en quantité (kg/pers...</td>\n",
              "      <td>2511</td>\n",
              "      <td>Blé</td>\n",
              "      <td>4.895347e+09</td>\n",
              "    </tr>\n",
              "    <tr>\n",
              "      <th>1</th>\n",
              "      <td>2</td>\n",
              "      <td>Afghanistan</td>\n",
              "      <td>Disponibilité alimentaire en quantité (kg/pers...</td>\n",
              "      <td>2805</td>\n",
              "      <td>Riz (Eq Blanchi)</td>\n",
              "      <td>4.222286e+08</td>\n",
              "    </tr>\n",
              "    <tr>\n",
              "      <th>2</th>\n",
              "      <td>2</td>\n",
              "      <td>Afghanistan</td>\n",
              "      <td>Disponibilité alimentaire en quantité (kg/pers...</td>\n",
              "      <td>2513</td>\n",
              "      <td>Orge</td>\n",
              "      <td>8.921184e+07</td>\n",
              "    </tr>\n",
              "    <tr>\n",
              "      <th>3</th>\n",
              "      <td>2</td>\n",
              "      <td>Afghanistan</td>\n",
              "      <td>Disponibilité alimentaire en quantité (kg/pers...</td>\n",
              "      <td>2514</td>\n",
              "      <td>Maïs</td>\n",
              "      <td>7.638000e+07</td>\n",
              "    </tr>\n",
              "    <tr>\n",
              "      <th>4</th>\n",
              "      <td>2</td>\n",
              "      <td>Afghanistan</td>\n",
              "      <td>Disponibilité alimentaire en quantité (kg/pers...</td>\n",
              "      <td>2517</td>\n",
              "      <td>Millet</td>\n",
              "      <td>1.222080e+07</td>\n",
              "    </tr>\n",
              "    <tr>\n",
              "      <th>...</th>\n",
              "      <td>...</td>\n",
              "      <td>...</td>\n",
              "      <td>...</td>\n",
              "      <td>...</td>\n",
              "      <td>...</td>\n",
              "      <td>...</td>\n",
              "    </tr>\n",
              "    <tr>\n",
              "      <th>14010</th>\n",
              "      <td>181</td>\n",
              "      <td>Zimbabwe</td>\n",
              "      <td>Disponibilité alimentaire en quantité (kg/pers...</td>\n",
              "      <td>2764</td>\n",
              "      <td>Poissons Marins, Autres</td>\n",
              "      <td>1.698000e+06</td>\n",
              "    </tr>\n",
              "    <tr>\n",
              "      <th>14011</th>\n",
              "      <td>181</td>\n",
              "      <td>Zimbabwe</td>\n",
              "      <td>Disponibilité alimentaire en quantité (kg/pers...</td>\n",
              "      <td>2765</td>\n",
              "      <td>Crustacés</td>\n",
              "      <td>0.000000e+00</td>\n",
              "    </tr>\n",
              "    <tr>\n",
              "      <th>14012</th>\n",
              "      <td>181</td>\n",
              "      <td>Zimbabwe</td>\n",
              "      <td>Disponibilité alimentaire en quantité (kg/pers...</td>\n",
              "      <td>2766</td>\n",
              "      <td>Cephalopodes</td>\n",
              "      <td>0.000000e+00</td>\n",
              "    </tr>\n",
              "    <tr>\n",
              "      <th>14013</th>\n",
              "      <td>181</td>\n",
              "      <td>Zimbabwe</td>\n",
              "      <td>Disponibilité alimentaire en quantité (kg/pers...</td>\n",
              "      <td>2767</td>\n",
              "      <td>Mollusques, Autres</td>\n",
              "      <td>1.415000e+05</td>\n",
              "    </tr>\n",
              "    <tr>\n",
              "      <th>14014</th>\n",
              "      <td>181</td>\n",
              "      <td>Zimbabwe</td>\n",
              "      <td>Disponibilité alimentaire en quantité (kg/pers...</td>\n",
              "      <td>2775</td>\n",
              "      <td>Plantes Aquatiques</td>\n",
              "      <td>0.000000e+00</td>\n",
              "    </tr>\n",
              "  </tbody>\n",
              "</table>\n",
              "<p>14015 rows × 6 columns</p>\n",
              "</div>"
            ],
            "text/plain": [
              "      Code Pays         Pays  \\\n",
              "0             2  Afghanistan   \n",
              "1             2  Afghanistan   \n",
              "2             2  Afghanistan   \n",
              "3             2  Afghanistan   \n",
              "4             2  Afghanistan   \n",
              "...         ...          ...   \n",
              "14010       181     Zimbabwe   \n",
              "14011       181     Zimbabwe   \n",
              "14012       181     Zimbabwe   \n",
              "14013       181     Zimbabwe   \n",
              "14014       181     Zimbabwe   \n",
              "\n",
              "                                                 Élément Code Produit  \\\n",
              "0      Disponibilité alimentaire en quantité (kg/pers...         2511   \n",
              "1      Disponibilité alimentaire en quantité (kg/pers...         2805   \n",
              "2      Disponibilité alimentaire en quantité (kg/pers...         2513   \n",
              "3      Disponibilité alimentaire en quantité (kg/pers...         2514   \n",
              "4      Disponibilité alimentaire en quantité (kg/pers...         2517   \n",
              "...                                                  ...          ...   \n",
              "14010  Disponibilité alimentaire en quantité (kg/pers...         2764   \n",
              "14011  Disponibilité alimentaire en quantité (kg/pers...         2765   \n",
              "14012  Disponibilité alimentaire en quantité (kg/pers...         2766   \n",
              "14013  Disponibilité alimentaire en quantité (kg/pers...         2767   \n",
              "14014  Disponibilité alimentaire en quantité (kg/pers...         2775   \n",
              "\n",
              "                       Produit            Kg  \n",
              "0                          Blé  4.895347e+09  \n",
              "1             Riz (Eq Blanchi)  4.222286e+08  \n",
              "2                         Orge  8.921184e+07  \n",
              "3                         Maïs  7.638000e+07  \n",
              "4                       Millet  1.222080e+07  \n",
              "...                        ...           ...  \n",
              "14010  Poissons Marins, Autres  1.698000e+06  \n",
              "14011                Crustacés  0.000000e+00  \n",
              "14012             Cephalopodes  0.000000e+00  \n",
              "14013       Mollusques, Autres  1.415000e+05  \n",
              "14014       Plantes Aquatiques  0.000000e+00  \n",
              "\n",
              "[14015 rows x 6 columns]"
            ]
          },
          "execution_count": 621,
          "metadata": {},
          "output_type": "execute_result"
        }
      ],
      "source": [
        "df = pd.concat([FAOSTAT_2013_vegetal, FAOSTAT_2013_animal])\n",
        "df = df[['Code Pays', 'Pays', 'Élément', 'Code Produit', 'Produit', 'Valeur']]\n",
        "df = df[df['Élément']=='Disponibilité alimentaire en quantité (kg/personne/an)']\n",
        "\n",
        "merged_df = df.merge(dPopulation, left_on='Code Pays', right_on='Country Code')\n",
        "merged_df= merged_df[['Code Pays', 'Pays', 'Value','Élément', 'Code Produit', 'Produit', 'Valeur']]\n",
        "merged_df.rename(columns={'Value': 'Population'}, inplace=True)\n",
        "\n",
        "merged_df = merged_df.assign(Kg=merged_df['Valeur']*merged_df['Population'])\n",
        "merged_df\n",
        "\n",
        "m_df_Kg=merged_df[['Code Pays', \"Pays\", 'Élément', 'Code Produit', 'Produit', \"Kg\"]]\n",
        "m_df_Kg\n",
        "\n",
        "\n",
        "#m_df_Kg_group=m_df_Kg.groupby([\"Code Pays\", \"Pays\", 'Produit']).sum()\n",
        "\n",
        "#m_df_Kg_group"
      ]
    },
    {
      "cell_type": "markdown",
      "metadata": {
        "id": "zu-LYhy7aLR9"
      },
      "source": [
        "#### Question 4 : Ratio énergie/poids\n",
        "A partir de ces dernières informations, et à partir du poids de la disponibilité alimentaire (pour chaque pays et chaque produit), calculez pour chaque produit le ratio \"énergie/poids\", que vous donnerez en kcal/kg. Vous pouvez vérifier la cohérence de votre calcul en comparant ce ratio aux données disponibles sur internet, par exemple en cherchant la valeur calorique d'un oeuf."
      ]
    },
    {
      "cell_type": "code",
      "execution_count": 622,
      "metadata": {
        "id": "3akvxo_iaYrw"
      },
      "outputs": [
        {
          "name": "stdout",
          "output_type": "stream",
          "text": [
            "1364.8177721733787\n"
          ]
        }
      ],
      "source": [
        "df_cal_g = m_df_kcal.merge(m_df_Kg, on=['Code Pays', 'Code Produit'])\n",
        "\n",
        "df_cal_g=df_cal_g[(df_cal_g['Kcal']!=0)&(df_cal_g['Kg']!=0)] #supprimer les lignes avec valeurs = 0\n",
        "\n",
        "df_cal_g= df_cal_g.assign(cal_g=df_cal_g['Kcal']/(df_cal_g['Kg']))\n",
        "df_cal_g=df_cal_g[['Code Pays', 'Pays_x', 'Code Produit', 'Produit_x','Kcal', 'Kg','cal_g']]\n",
        "df_cal_g.rename(columns={'Pays_x': 'Pays', 'Produit_x': 'Produit'}, inplace=True)\n",
        "\n",
        "meancalg=df_cal_g[(df_cal_g['Produit']=='Oeufs')].cal_g.mean()\n",
        "print(meancalg)\n",
        "\n"
      ]
    },
    {
      "cell_type": "code",
      "execution_count": 623,
      "metadata": {},
      "outputs": [
        {
          "data": {
            "text/html": [
              "<div>\n",
              "<style scoped>\n",
              "    .dataframe tbody tr th:only-of-type {\n",
              "        vertical-align: middle;\n",
              "    }\n",
              "\n",
              "    .dataframe tbody tr th {\n",
              "        vertical-align: top;\n",
              "    }\n",
              "\n",
              "    .dataframe thead th {\n",
              "        text-align: right;\n",
              "    }\n",
              "</style>\n",
              "<table border=\"1\" class=\"dataframe\">\n",
              "  <thead>\n",
              "    <tr style=\"text-align: right;\">\n",
              "      <th></th>\n",
              "      <th>Code Pays</th>\n",
              "      <th>Pays</th>\n",
              "      <th>Code Produit</th>\n",
              "      <th>Produit</th>\n",
              "      <th>Kcal</th>\n",
              "      <th>Kg</th>\n",
              "      <th>cal_g</th>\n",
              "    </tr>\n",
              "  </thead>\n",
              "  <tbody>\n",
              "    <tr>\n",
              "      <th>0</th>\n",
              "      <td>2</td>\n",
              "      <td>Afghanistan</td>\n",
              "      <td>2511</td>\n",
              "      <td>Blé</td>\n",
              "      <td>1.526638e+13</td>\n",
              "      <td>4.895347e+09</td>\n",
              "      <td>3118.548337</td>\n",
              "    </tr>\n",
              "    <tr>\n",
              "      <th>1</th>\n",
              "      <td>2</td>\n",
              "      <td>Afghanistan</td>\n",
              "      <td>2805</td>\n",
              "      <td>Riz (Eq Blanchi)</td>\n",
              "      <td>1.572359e+12</td>\n",
              "      <td>4.222286e+08</td>\n",
              "      <td>3723.950796</td>\n",
              "    </tr>\n",
              "    <tr>\n",
              "      <th>2</th>\n",
              "      <td>2</td>\n",
              "      <td>Afghanistan</td>\n",
              "      <td>2513</td>\n",
              "      <td>Orge</td>\n",
              "      <td>2.899385e+11</td>\n",
              "      <td>8.921184e+07</td>\n",
              "      <td>3250.000000</td>\n",
              "    </tr>\n",
              "    <tr>\n",
              "      <th>3</th>\n",
              "      <td>2</td>\n",
              "      <td>Afghanistan</td>\n",
              "      <td>2514</td>\n",
              "      <td>Maïs</td>\n",
              "      <td>2.341811e+11</td>\n",
              "      <td>7.638000e+07</td>\n",
              "      <td>3066.000000</td>\n",
              "    </tr>\n",
              "    <tr>\n",
              "      <th>4</th>\n",
              "      <td>2</td>\n",
              "      <td>Afghanistan</td>\n",
              "      <td>2517</td>\n",
              "      <td>Millet</td>\n",
              "      <td>3.345444e+10</td>\n",
              "      <td>1.222080e+07</td>\n",
              "      <td>2737.500000</td>\n",
              "    </tr>\n",
              "    <tr>\n",
              "      <th>...</th>\n",
              "      <td>...</td>\n",
              "      <td>...</td>\n",
              "      <td>...</td>\n",
              "      <td>...</td>\n",
              "      <td>...</td>\n",
              "      <td>...</td>\n",
              "      <td>...</td>\n",
              "    </tr>\n",
              "    <tr>\n",
              "      <th>13983</th>\n",
              "      <td>181</td>\n",
              "      <td>Zimbabwe</td>\n",
              "      <td>2737</td>\n",
              "      <td>Graisses Animales Crue</td>\n",
              "      <td>1.291188e+11</td>\n",
              "      <td>1.683850e+07</td>\n",
              "      <td>7668.067227</td>\n",
              "    </tr>\n",
              "    <tr>\n",
              "      <th>13986</th>\n",
              "      <td>181</td>\n",
              "      <td>Zimbabwe</td>\n",
              "      <td>2744</td>\n",
              "      <td>Oeufs</td>\n",
              "      <td>3.098850e+10</td>\n",
              "      <td>2.476250e+07</td>\n",
              "      <td>1251.428571</td>\n",
              "    </tr>\n",
              "    <tr>\n",
              "      <th>13987</th>\n",
              "      <td>181</td>\n",
              "      <td>Zimbabwe</td>\n",
              "      <td>2848</td>\n",
              "      <td>Lait - Excl Beurre</td>\n",
              "      <td>2.530728e+11</td>\n",
              "      <td>4.513850e+08</td>\n",
              "      <td>560.658307</td>\n",
              "    </tr>\n",
              "    <tr>\n",
              "      <th>13988</th>\n",
              "      <td>181</td>\n",
              "      <td>Zimbabwe</td>\n",
              "      <td>2761</td>\n",
              "      <td>Poissons Eau Douce</td>\n",
              "      <td>2.065900e+10</td>\n",
              "      <td>2.900750e+07</td>\n",
              "      <td>712.195122</td>\n",
              "    </tr>\n",
              "    <tr>\n",
              "      <th>13990</th>\n",
              "      <td>181</td>\n",
              "      <td>Zimbabwe</td>\n",
              "      <td>2763</td>\n",
              "      <td>Poissons Pelagiques</td>\n",
              "      <td>5.164750e+09</td>\n",
              "      <td>8.773000e+06</td>\n",
              "      <td>588.709677</td>\n",
              "    </tr>\n",
              "  </tbody>\n",
              "</table>\n",
              "<p>9876 rows × 7 columns</p>\n",
              "</div>"
            ],
            "text/plain": [
              "      Code Pays         Pays Code Produit                 Produit  \\\n",
              "0             2  Afghanistan         2511                     Blé   \n",
              "1             2  Afghanistan         2805        Riz (Eq Blanchi)   \n",
              "2             2  Afghanistan         2513                    Orge   \n",
              "3             2  Afghanistan         2514                    Maïs   \n",
              "4             2  Afghanistan         2517                  Millet   \n",
              "...         ...          ...          ...                     ...   \n",
              "13983       181     Zimbabwe         2737  Graisses Animales Crue   \n",
              "13986       181     Zimbabwe         2744                   Oeufs   \n",
              "13987       181     Zimbabwe         2848      Lait - Excl Beurre   \n",
              "13988       181     Zimbabwe         2761      Poissons Eau Douce   \n",
              "13990       181     Zimbabwe         2763     Poissons Pelagiques   \n",
              "\n",
              "               Kcal            Kg        cal_g  \n",
              "0      1.526638e+13  4.895347e+09  3118.548337  \n",
              "1      1.572359e+12  4.222286e+08  3723.950796  \n",
              "2      2.899385e+11  8.921184e+07  3250.000000  \n",
              "3      2.341811e+11  7.638000e+07  3066.000000  \n",
              "4      3.345444e+10  1.222080e+07  2737.500000  \n",
              "...             ...           ...          ...  \n",
              "13983  1.291188e+11  1.683850e+07  7668.067227  \n",
              "13986  3.098850e+10  2.476250e+07  1251.428571  \n",
              "13987  2.530728e+11  4.513850e+08   560.658307  \n",
              "13988  2.065900e+10  2.900750e+07   712.195122  \n",
              "13990  5.164750e+09  8.773000e+06   588.709677  \n",
              "\n",
              "[9876 rows x 7 columns]"
            ]
          },
          "execution_count": 623,
          "metadata": {},
          "output_type": "execute_result"
        }
      ],
      "source": [
        "df_cal_g"
      ]
    },
    {
      "cell_type": "code",
      "execution_count": 624,
      "metadata": {},
      "outputs": [
        {
          "data": {
            "image/png": "[encoded data removed]",
            "text/plain": [
              "<Figure size 640x480 with 1 Axes>"
            ]
          },
          "metadata": {},
          "output_type": "display_data"
        },
        {
          "data": {
            "image/png": "[encoded data removed]",
            "text/plain": [
              "<Figure size 640x480 with 1 Axes>"
            ]
          },
          "metadata": {},
          "output_type": "display_data"
        }
      ],
      "source": [
        "df=df_cal_g[(df_cal_g['Produit']=='Oeufs')]\n",
        "plt.boxplot(df['cal_g'])\n",
        "\n",
        "plt.show()\n",
        "plt.hist(df['cal_g'])\n",
        "plt.show()"
      ]
    },
    {
      "cell_type": "code",
      "execution_count": 625,
      "metadata": {},
      "outputs": [
        {
          "data": {
            "text/html": [
              "<div>\n",
              "<style scoped>\n",
              "    .dataframe tbody tr th:only-of-type {\n",
              "        vertical-align: middle;\n",
              "    }\n",
              "\n",
              "    .dataframe tbody tr th {\n",
              "        vertical-align: top;\n",
              "    }\n",
              "\n",
              "    .dataframe thead th {\n",
              "        text-align: right;\n",
              "    }\n",
              "</style>\n",
              "<table border=\"1\" class=\"dataframe\">\n",
              "  <thead>\n",
              "    <tr style=\"text-align: right;\">\n",
              "      <th></th>\n",
              "      <th>Code Pays</th>\n",
              "      <th>Pays</th>\n",
              "      <th>Code Produit</th>\n",
              "      <th>Produit</th>\n",
              "      <th>protéinesKg</th>\n",
              "      <th>Kg</th>\n",
              "      <th>protéines</th>\n",
              "    </tr>\n",
              "  </thead>\n",
              "  <tbody>\n",
              "    <tr>\n",
              "      <th>3941</th>\n",
              "      <td>68</td>\n",
              "      <td>France</td>\n",
              "      <td>2511</td>\n",
              "      <td>Blé</td>\n",
              "      <td>6.098869e+08</td>\n",
              "      <td>6.971073e+09</td>\n",
              "      <td>0.087488</td>\n",
              "    </tr>\n",
              "  </tbody>\n",
              "</table>\n",
              "</div>"
            ],
            "text/plain": [
              "     Code Pays    Pays Code Produit Produit   protéinesKg            Kg  \\\n",
              "3941        68  France         2511     Blé  6.098869e+08  6.971073e+09   \n",
              "\n",
              "      protéines  \n",
              "3941   0.087488  "
            ]
          },
          "execution_count": 625,
          "metadata": {},
          "output_type": "execute_result"
        },
        {
          "data": {
            "image/png": "[encoded data removed]",
            "text/plain": [
              "<Figure size 640x480 with 1 Axes>"
            ]
          },
          "metadata": {},
          "output_type": "display_data"
        }
      ],
      "source": [
        "#proteineparproduit\n",
        "\n",
        "df_Pro_p = m_df_protéinesKg.merge(m_df_Kg, on=['Code Pays', 'Code Produit'])\n",
        "\n",
        "df_Pro_p=df_Pro_p[(df_Pro_p['protéinesKg']!=0)&(df_Pro_p['Kg']!=0)]\n",
        "\n",
        "df_Pro_p= df_Pro_p.assign(protéines=(df_Pro_p['protéinesKg']/df_Pro_p['Kg'])) #% de proteines\n",
        "df_Pro_p=df_Pro_p[['Code Pays', 'Pays_x', 'Code Produit', 'Produit_x', 'protéinesKg', 'Kg', 'protéines']]\n",
        "df_Pro_p.rename(columns={'Pays_x': 'Pays', 'Produit_x': 'Produit'}, inplace=True)\n",
        "\n",
        "df_Pro_p[df_Pro_p['Produit']=='Blé'].protéines.hist()\n",
        "df_Pro_p[(df_Pro_p['Produit']=='Blé') & (df_Pro_p['Pays']=='France')]"
      ]
    },
    {
      "cell_type": "markdown",
      "metadata": {
        "id": "sPhgBCDhaZC1"
      },
      "source": [
        "#### Question 5 : Aliments les plus caloriques et protéiques\n",
        "En considérant les aliments végétaux et animaux, citez 5 aliments parmi les 20 aliments les plus caloriques, en utilisant le ratio énergie/poids. Citez 5 aliments parmi les 20 aliments les plus riches en protéines."
      ]
    },
    {
      "cell_type": "code",
      "execution_count": 626,
      "metadata": {
        "id": "0V9zjYedabKw"
      },
      "outputs": [
        {
          "data": {
            "application/vnd.plotly.v1+json": {
              "config": {
                "plotlyServerURL": "https://plot.ly"
              },
              "data": [
                {
                  "alignmentgroup": "True",
                  "hovertemplate": "x=%{x}<br>y=%{y}<extra></extra>",
                  "legendgroup": "",
                  "marker": {
                    "color": "#039be5",
                    "pattern": {
                      "shape": ""
                    }
                  },
                  "name": "",
                  "offsetgroup": "",
                  "orientation": "v",
                  "showlegend": false,
                  "textposition": "auto",
                  "type": "bar",
                  "x": [
                    "Huiles de Foie de Poisso",
                    "Huile de Son de Riz",
                    "Huile de Sésame",
                    "Huiles de Poissons",
                    "Huile de Coco",
                    "Huile de Germe de Maïs",
                    "Huile d'Olive",
                    "Huile de Tournesol",
                    "Huile de Soja",
                    "Huile d'Arachide",
                    "Huile de Palme",
                    "Huile Graines de Coton",
                    "Huile de Colza&Moutarde",
                    "Huile de Palmistes",
                    "Huil Plantes Oleif Autr",
                    "Graisses Animales Crue",
                    "Beurre, Ghee",
                    "Sésame",
                    "Arachides Decortiquees",
                    "Palmistes"
                  ],
                  "xaxis": "x",
                  "y": [
                    9866.24649859944,
                    9125,
                    9125,
                    8892.362637362638,
                    8861.778846153846,
                    8848.484848484848,
                    8844.164299242424,
                    8841.39011413063,
                    8841.111111111111,
                    8839.84375,
                    8831.236235263634,
                    8830.645161290322,
                    8828.147100424329,
                    8760,
                    8637.404580152672,
                    7322.188449848024,
                    7242.063492063492,
                    5858.024691358025,
                    5661.3539160652235,
                    5475
                  ],
                  "yaxis": "y"
                }
              ],
              "layout": {
                "barmode": "relative",
                "height": 1000,
                "legend": {
                  "tracegroupgap": 0
                },
                "margin": {
                  "t": 60
                },
                "template": {
                  "data": {
                    "bar": [
                      {
                        "error_x": {
                          "color": "#2a3f5f"
                        },
                        "error_y": {
                          "color": "#2a3f5f"
                        },
                        "marker": {
                          "line": {
                            "color": "#E5ECF6",
                            "width": 0.5
                          },
                          "pattern": {
                            "fillmode": "overlay",
                            "size": 10,
                            "solidity": 0.2
                          }
                        },
                        "type": "bar"
                      }
                    ],
                    "barpolar": [
                      {
                        "marker": {
                          "line": {
                            "color": "#E5ECF6",
                            "width": 0.5
                          },
                          "pattern": {
                            "fillmode": "overlay",
                            "size": 10,
                            "solidity": 0.2
                          }
                        },
                        "type": "barpolar"
                      }
                    ],
                    "carpet": [
                      {
                        "aaxis": {
                          "endlinecolor": "#2a3f5f",
                          "gridcolor": "white",
                          "linecolor": "white",
                          "minorgridcolor": "white",
                          "startlinecolor": "#2a3f5f"
                        },
                        "baxis": {
                          "endlinecolor": "#2a3f5f",
                          "gridcolor": "white",
                          "linecolor": "white",
                          "minorgridcolor": "white",
                          "startlinecolor": "#2a3f5f"
                        },
                        "type": "carpet"
                      }
                    ],
                    "choropleth": [
                      {
                        "colorbar": {
                          "outlinewidth": 0,
                          "ticks": ""
                        },
                        "type": "choropleth"
                      }
                    ],
                    "contour": [
                      {
                        "colorbar": {
                          "outlinewidth": 0,
                          "ticks": ""
                        },
                        "colorscale": [
                          [
                            0,
                            "#0d0887"
                          ],
                          [
                            0.1111111111111111,
                            "#46039f"
                          ],
                          [
                            0.2222222222222222,
                            "#7201a8"
                          ],
                          [
                            0.3333333333333333,
                            "#9c179e"
                          ],
                          [
                            0.4444444444444444,
                            "#bd3786"
                          ],
                          [
                            0.5555555555555556,
                            "#d8576b"
                          ],
                          [
                            0.6666666666666666,
                            "#ed7953"
                          ],
                          [
                            0.7777777777777778,
                            "#fb9f3a"
                          ],
                          [
                            0.8888888888888888,
                            "#fdca26"
                          ],
                          [
                            1,
                            "#f0f921"
                          ]
                        ],
                        "type": "contour"
                      }
                    ],
                    "contourcarpet": [
                      {
                        "colorbar": {
                          "outlinewidth": 0,
                          "ticks": ""
                        },
                        "type": "contourcarpet"
                      }
                    ],
                    "heatmap": [
                      {
                        "colorbar": {
                          "outlinewidth": 0,
                          "ticks": ""
                        },
                        "colorscale": [
                          [
                            0,
                            "#0d0887"
                          ],
                          [
                            0.1111111111111111,
                            "#46039f"
                          ],
                          [
                            0.2222222222222222,
                            "#7201a8"
                          ],
                          [
                            0.3333333333333333,
                            "#9c179e"
                          ],
                          [
                            0.4444444444444444,
                            "#bd3786"
                          ],
                          [
                            0.5555555555555556,
                            "#d8576b"
                          ],
                          [
                            0.6666666666666666,
                            "#ed7953"
                          ],
                          [
                            0.7777777777777778,
                            "#fb9f3a"
                          ],
                          [
                            0.8888888888888888,
                            "#fdca26"
                          ],
                          [
                            1,
                            "#f0f921"
                          ]
                        ],
                        "type": "heatmap"
                      }
                    ],
                    "heatmapgl": [
                      {
                        "colorbar": {
                          "outlinewidth": 0,
                          "ticks": ""
                        },
                        "colorscale": [
                          [
                            0,
                            "#0d0887"
                          ],
                          [
                            0.1111111111111111,
                            "#46039f"
                          ],
                          [
                            0.2222222222222222,
                            "#7201a8"
                          ],
                          [
                            0.3333333333333333,
                            "#9c179e"
                          ],
                          [
                            0.4444444444444444,
                            "#bd3786"
                          ],
                          [
                            0.5555555555555556,
                            "#d8576b"
                          ],
                          [
                            0.6666666666666666,
                            "#ed7953"
                          ],
                          [
                            0.7777777777777778,
                            "#fb9f3a"
                          ],
                          [
                            0.8888888888888888,
                            "#fdca26"
                          ],
                          [
                            1,
                            "#f0f921"
                          ]
                        ],
                        "type": "heatmapgl"
                      }
                    ],
                    "histogram": [
                      {
                        "marker": {
                          "pattern": {
                            "fillmode": "overlay",
                            "size": 10,
                            "solidity": 0.2
                          }
                        },
                        "type": "histogram"
                      }
                    ],
                    "histogram2d": [
                      {
                        "colorbar": {
                          "outlinewidth": 0,
                          "ticks": ""
                        },
                        "colorscale": [
                          [
                            0,
                            "#0d0887"
                          ],
                          [
                            0.1111111111111111,
                            "#46039f"
                          ],
                          [
                            0.2222222222222222,
                            "#7201a8"
                          ],
                          [
                            0.3333333333333333,
                            "#9c179e"
                          ],
                          [
                            0.4444444444444444,
                            "#bd3786"
                          ],
                          [
                            0.5555555555555556,
                            "#d8576b"
                          ],
                          [
                            0.6666666666666666,
                            "#ed7953"
                          ],
                          [
                            0.7777777777777778,
                            "#fb9f3a"
                          ],
                          [
                            0.8888888888888888,
                            "#fdca26"
                          ],
                          [
                            1,
                            "#f0f921"
                          ]
                        ],
                        "type": "histogram2d"
                      }
                    ],
                    "histogram2dcontour": [
                      {
                        "colorbar": {
                          "outlinewidth": 0,
                          "ticks": ""
                        },
                        "colorscale": [
                          [
                            0,
                            "#0d0887"
                          ],
                          [
                            0.1111111111111111,
                            "#46039f"
                          ],
                          [
                            0.2222222222222222,
                            "#7201a8"
                          ],
                          [
                            0.3333333333333333,
                            "#9c179e"
                          ],
                          [
                            0.4444444444444444,
                            "#bd3786"
                          ],
                          [
                            0.5555555555555556,
                            "#d8576b"
                          ],
                          [
                            0.6666666666666666,
                            "#ed7953"
                          ],
                          [
                            0.7777777777777778,
                            "#fb9f3a"
                          ],
                          [
                            0.8888888888888888,
                            "#fdca26"
                          ],
                          [
                            1,
                            "#f0f921"
                          ]
                        ],
                        "type": "histogram2dcontour"
                      }
                    ],
                    "mesh3d": [
                      {
                        "colorbar": {
                          "outlinewidth": 0,
                          "ticks": ""
                        },
                        "type": "mesh3d"
                      }
                    ],
                    "parcoords": [
                      {
                        "line": {
                          "colorbar": {
                            "outlinewidth": 0,
                            "ticks": ""
                          }
                        },
                        "type": "parcoords"
                      }
                    ],
                    "pie": [
                      {
                        "automargin": true,
                        "type": "pie"
                      }
                    ],
                    "scatter": [
                      {
                        "fillpattern": {
                          "fillmode": "overlay",
                          "size": 10,
                          "solidity": 0.2
                        },
                        "type": "scatter"
                      }
                    ],
                    "scatter3d": [
                      {
                        "line": {
                          "colorbar": {
                            "outlinewidth": 0,
                            "ticks": ""
                          }
                        },
                        "marker": {
                          "colorbar": {
                            "outlinewidth": 0,
                            "ticks": ""
                          }
                        },
                        "type": "scatter3d"
                      }
                    ],
                    "scattercarpet": [
                      {
                        "marker": {
                          "colorbar": {
                            "outlinewidth": 0,
                            "ticks": ""
                          }
                        },
                        "type": "scattercarpet"
                      }
                    ],
                    "scattergeo": [
                      {
                        "marker": {
                          "colorbar": {
                            "outlinewidth": 0,
                            "ticks": ""
                          }
                        },
                        "type": "scattergeo"
                      }
                    ],
                    "scattergl": [
                      {
                        "marker": {
                          "colorbar": {
                            "outlinewidth": 0,
                            "ticks": ""
                          }
                        },
                        "type": "scattergl"
                      }
                    ],
                    "scattermapbox": [
                      {
                        "marker": {
                          "colorbar": {
                            "outlinewidth": 0,
                            "ticks": ""
                          }
                        },
                        "type": "scattermapbox"
                      }
                    ],
                    "scatterpolar": [
                      {
                        "marker": {
                          "colorbar": {
                            "outlinewidth": 0,
                            "ticks": ""
                          }
                        },
                        "type": "scatterpolar"
                      }
                    ],
                    "scatterpolargl": [
                      {
                        "marker": {
                          "colorbar": {
                            "outlinewidth": 0,
                            "ticks": ""
                          }
                        },
                        "type": "scatterpolargl"
                      }
                    ],
                    "scatterternary": [
                      {
                        "marker": {
                          "colorbar": {
                            "outlinewidth": 0,
                            "ticks": ""
                          }
                        },
                        "type": "scatterternary"
                      }
                    ],
                    "surface": [
                      {
                        "colorbar": {
                          "outlinewidth": 0,
                          "ticks": ""
                        },
                        "colorscale": [
                          [
                            0,
                            "#0d0887"
                          ],
                          [
                            0.1111111111111111,
                            "#46039f"
                          ],
                          [
                            0.2222222222222222,
                            "#7201a8"
                          ],
                          [
                            0.3333333333333333,
                            "#9c179e"
                          ],
                          [
                            0.4444444444444444,
                            "#bd3786"
                          ],
                          [
                            0.5555555555555556,
                            "#d8576b"
                          ],
                          [
                            0.6666666666666666,
                            "#ed7953"
                          ],
                          [
                            0.7777777777777778,
                            "#fb9f3a"
                          ],
                          [
                            0.8888888888888888,
                            "#fdca26"
                          ],
                          [
                            1,
                            "#f0f921"
                          ]
                        ],
                        "type": "surface"
                      }
                    ],
                    "table": [
                      {
                        "cells": {
                          "fill": {
                            "color": "#EBF0F8"
                          },
                          "line": {
                            "color": "white"
                          }
                        },
                        "header": {
                          "fill": {
                            "color": "#C8D4E3"
                          },
                          "line": {
                            "color": "white"
                          }
                        },
                        "type": "table"
                      }
                    ]
                  },
                  "layout": {
                    "annotationdefaults": {
                      "arrowcolor": "#2a3f5f",
                      "arrowhead": 0,
                      "arrowwidth": 1
                    },
                    "autotypenumbers": "strict",
                    "coloraxis": {
                      "colorbar": {
                        "outlinewidth": 0,
                        "ticks": ""
                      }
                    },
                    "colorscale": {
                      "diverging": [
                        [
                          0,
                          "#8e0152"
                        ],
                        [
                          0.1,
                          "#c51b7d"
                        ],
                        [
                          0.2,
                          "#de77ae"
                        ],
                        [
                          0.3,
                          "#f1b6da"
                        ],
                        [
                          0.4,
                          "#fde0ef"
                        ],
                        [
                          0.5,
                          "#f7f7f7"
                        ],
                        [
                          0.6,
                          "#e6f5d0"
                        ],
                        [
                          0.7,
                          "#b8e186"
                        ],
                        [
                          0.8,
                          "#7fbc41"
                        ],
                        [
                          0.9,
                          "#4d9221"
                        ],
                        [
                          1,
                          "#276419"
                        ]
                      ],
                      "sequential": [
                        [
                          0,
                          "#0d0887"
                        ],
                        [
                          0.1111111111111111,
                          "#46039f"
                        ],
                        [
                          0.2222222222222222,
                          "#7201a8"
                        ],
                        [
                          0.3333333333333333,
                          "#9c179e"
                        ],
                        [
                          0.4444444444444444,
                          "#bd3786"
                        ],
                        [
                          0.5555555555555556,
                          "#d8576b"
                        ],
                        [
                          0.6666666666666666,
                          "#ed7953"
                        ],
                        [
                          0.7777777777777778,
                          "#fb9f3a"
                        ],
                        [
                          0.8888888888888888,
                          "#fdca26"
                        ],
                        [
                          1,
                          "#f0f921"
                        ]
                      ],
                      "sequentialminus": [
                        [
                          0,
                          "#0d0887"
                        ],
                        [
                          0.1111111111111111,
                          "#46039f"
                        ],
                        [
                          0.2222222222222222,
                          "#7201a8"
                        ],
                        [
                          0.3333333333333333,
                          "#9c179e"
                        ],
                        [
                          0.4444444444444444,
                          "#bd3786"
                        ],
                        [
                          0.5555555555555556,
                          "#d8576b"
                        ],
                        [
                          0.6666666666666666,
                          "#ed7953"
                        ],
                        [
                          0.7777777777777778,
                          "#fb9f3a"
                        ],
                        [
                          0.8888888888888888,
                          "#fdca26"
                        ],
                        [
                          1,
                          "#f0f921"
                        ]
                      ]
                    },
                    "colorway": [
                      "#636efa",
                      "#EF553B",
                      "#00cc96",
                      "#ab63fa",
                      "#FFA15A",
                      "#19d3f3",
                      "#FF6692",
                      "#B6E880",
                      "#FF97FF",
                      "#FECB52"
                    ],
                    "font": {
                      "color": "#2a3f5f"
                    },
                    "geo": {
                      "bgcolor": "white",
                      "lakecolor": "white",
                      "landcolor": "#E5ECF6",
                      "showlakes": true,
                      "showland": true,
                      "subunitcolor": "white"
                    },
                    "hoverlabel": {
                      "align": "left"
                    },
                    "hovermode": "closest",
                    "mapbox": {
                      "style": "light"
                    },
                    "paper_bgcolor": "white",
                    "plot_bgcolor": "#E5ECF6",
                    "polar": {
                      "angularaxis": {
                        "gridcolor": "white",
                        "linecolor": "white",
                        "ticks": ""
                      },
                      "bgcolor": "#E5ECF6",
                      "radialaxis": {
                        "gridcolor": "white",
                        "linecolor": "white",
                        "ticks": ""
                      }
                    },
                    "scene": {
                      "xaxis": {
                        "backgroundcolor": "#E5ECF6",
                        "gridcolor": "white",
                        "gridwidth": 2,
                        "linecolor": "white",
                        "showbackground": true,
                        "ticks": "",
                        "zerolinecolor": "white"
                      },
                      "yaxis": {
                        "backgroundcolor": "#E5ECF6",
                        "gridcolor": "white",
                        "gridwidth": 2,
                        "linecolor": "white",
                        "showbackground": true,
                        "ticks": "",
                        "zerolinecolor": "white"
                      },
                      "zaxis": {
                        "backgroundcolor": "#E5ECF6",
                        "gridcolor": "white",
                        "gridwidth": 2,
                        "linecolor": "white",
                        "showbackground": true,
                        "ticks": "",
                        "zerolinecolor": "white"
                      }
                    },
                    "shapedefaults": {
                      "line": {
                        "color": "#2a3f5f"
                      }
                    },
                    "ternary": {
                      "aaxis": {
                        "gridcolor": "white",
                        "linecolor": "white",
                        "ticks": ""
                      },
                      "baxis": {
                        "gridcolor": "white",
                        "linecolor": "white",
                        "ticks": ""
                      },
                      "bgcolor": "#E5ECF6",
                      "caxis": {
                        "gridcolor": "white",
                        "linecolor": "white",
                        "ticks": ""
                      }
                    },
                    "title": {
                      "x": 0.05
                    },
                    "xaxis": {
                      "automargin": true,
                      "gridcolor": "white",
                      "linecolor": "white",
                      "ticks": "",
                      "title": {
                        "standoff": 15
                      },
                      "zerolinecolor": "white",
                      "zerolinewidth": 2
                    },
                    "yaxis": {
                      "automargin": true,
                      "gridcolor": "white",
                      "linecolor": "white",
                      "ticks": "",
                      "title": {
                        "standoff": 15
                      },
                      "zerolinecolor": "white",
                      "zerolinewidth": 2
                    }
                  }
                },
                "xaxis": {
                  "anchor": "y",
                  "domain": [
                    0,
                    1
                  ],
                  "title": {
                    "text": "x"
                  }
                },
                "yaxis": {
                  "anchor": "x",
                  "domain": [
                    0,
                    1
                  ],
                  "title": {
                    "text": "y"
                  }
                }
              }
            }
          },
          "metadata": {},
          "output_type": "display_data"
        },
        {
          "data": {
            "text/html": [
              "<div>\n",
              "<style scoped>\n",
              "    .dataframe tbody tr th:only-of-type {\n",
              "        vertical-align: middle;\n",
              "    }\n",
              "\n",
              "    .dataframe tbody tr th {\n",
              "        vertical-align: top;\n",
              "    }\n",
              "\n",
              "    .dataframe thead th {\n",
              "        text-align: right;\n",
              "    }\n",
              "</style>\n",
              "<table border=\"1\" class=\"dataframe\">\n",
              "  <thead>\n",
              "    <tr style=\"text-align: right;\">\n",
              "      <th></th>\n",
              "      <th>Produit</th>\n",
              "      <th>cal_g</th>\n",
              "    </tr>\n",
              "  </thead>\n",
              "  <tbody>\n",
              "    <tr>\n",
              "      <th>43</th>\n",
              "      <td>Huiles de Foie de Poisso</td>\n",
              "      <td>9866.246499</td>\n",
              "    </tr>\n",
              "    <tr>\n",
              "      <th>40</th>\n",
              "      <td>Huile de Son de Riz</td>\n",
              "      <td>9125.000000</td>\n",
              "    </tr>\n",
              "    <tr>\n",
              "      <th>41</th>\n",
              "      <td>Huile de Sésame</td>\n",
              "      <td>9125.000000</td>\n",
              "    </tr>\n",
              "    <tr>\n",
              "      <th>44</th>\n",
              "      <td>Huiles de Poissons</td>\n",
              "      <td>8892.362637</td>\n",
              "    </tr>\n",
              "    <tr>\n",
              "      <th>34</th>\n",
              "      <td>Huile de Coco</td>\n",
              "      <td>8861.778846</td>\n",
              "    </tr>\n",
              "    <tr>\n",
              "      <th>36</th>\n",
              "      <td>Huile de Germe de Maïs</td>\n",
              "      <td>8848.484848</td>\n",
              "    </tr>\n",
              "    <tr>\n",
              "      <th>33</th>\n",
              "      <td>Huile d'Olive</td>\n",
              "      <td>8844.164299</td>\n",
              "    </tr>\n",
              "    <tr>\n",
              "      <th>42</th>\n",
              "      <td>Huile de Tournesol</td>\n",
              "      <td>8841.390114</td>\n",
              "    </tr>\n",
              "    <tr>\n",
              "      <th>39</th>\n",
              "      <td>Huile de Soja</td>\n",
              "      <td>8841.111111</td>\n",
              "    </tr>\n",
              "    <tr>\n",
              "      <th>32</th>\n",
              "      <td>Huile d'Arachide</td>\n",
              "      <td>8839.843750</td>\n",
              "    </tr>\n",
              "    <tr>\n",
              "      <th>37</th>\n",
              "      <td>Huile de Palme</td>\n",
              "      <td>8831.236235</td>\n",
              "    </tr>\n",
              "    <tr>\n",
              "      <th>31</th>\n",
              "      <td>Huile Graines de Coton</td>\n",
              "      <td>8830.645161</td>\n",
              "    </tr>\n",
              "    <tr>\n",
              "      <th>35</th>\n",
              "      <td>Huile de Colza&amp;Moutarde</td>\n",
              "      <td>8828.147100</td>\n",
              "    </tr>\n",
              "    <tr>\n",
              "      <th>38</th>\n",
              "      <td>Huile de Palmistes</td>\n",
              "      <td>8760.000000</td>\n",
              "    </tr>\n",
              "    <tr>\n",
              "      <th>30</th>\n",
              "      <td>Huil Plantes Oleif Autr</td>\n",
              "      <td>8637.404580</td>\n",
              "    </tr>\n",
              "    <tr>\n",
              "      <th>28</th>\n",
              "      <td>Graisses Animales Crue</td>\n",
              "      <td>7322.188450</td>\n",
              "    </tr>\n",
              "    <tr>\n",
              "      <th>9</th>\n",
              "      <td>Beurre, Ghee</td>\n",
              "      <td>7242.063492</td>\n",
              "    </tr>\n",
              "    <tr>\n",
              "      <th>84</th>\n",
              "      <td>Sésame</td>\n",
              "      <td>5858.024691</td>\n",
              "    </tr>\n",
              "    <tr>\n",
              "      <th>5</th>\n",
              "      <td>Arachides Decortiquees</td>\n",
              "      <td>5661.353916</td>\n",
              "    </tr>\n",
              "    <tr>\n",
              "      <th>60</th>\n",
              "      <td>Palmistes</td>\n",
              "      <td>5475.000000</td>\n",
              "    </tr>\n",
              "  </tbody>\n",
              "</table>\n",
              "</div>"
            ],
            "text/plain": [
              "                     Produit        cal_g\n",
              "43  Huiles de Foie de Poisso  9866.246499\n",
              "40       Huile de Son de Riz  9125.000000\n",
              "41           Huile de Sésame  9125.000000\n",
              "44        Huiles de Poissons  8892.362637\n",
              "34             Huile de Coco  8861.778846\n",
              "36    Huile de Germe de Maïs  8848.484848\n",
              "33             Huile d'Olive  8844.164299\n",
              "42        Huile de Tournesol  8841.390114\n",
              "39             Huile de Soja  8841.111111\n",
              "32          Huile d'Arachide  8839.843750\n",
              "37            Huile de Palme  8831.236235\n",
              "31    Huile Graines de Coton  8830.645161\n",
              "35   Huile de Colza&Moutarde  8828.147100\n",
              "38        Huile de Palmistes  8760.000000\n",
              "30   Huil Plantes Oleif Autr  8637.404580\n",
              "28    Graisses Animales Crue  7322.188450\n",
              "9               Beurre, Ghee  7242.063492\n",
              "84                    Sésame  5858.024691\n",
              "5     Arachides Decortiquees  5661.353916\n",
              "60                 Palmistes  5475.000000"
            ]
          },
          "execution_count": 626,
          "metadata": {},
          "output_type": "execute_result"
        }
      ],
      "source": [
        "df=df_cal_g[[\"Produit\", \"cal_g\"]]\n",
        "df=df.groupby([\"Produit\"]).quantile(0.5)\n",
        "\n",
        "df = df.reset_index()\n",
        "\n",
        "df.sort_values(by='cal_g', ascending=False, inplace=True )\n",
        "fig = px.bar(x=df.head(20).Produit,y=df.head(20).cal_g,height=1000, color_discrete_sequence=color_list_bar)\n",
        "fig.show()\n",
        "df.head(20)"
      ]
    },
    {
      "cell_type": "code",
      "execution_count": 627,
      "metadata": {},
      "outputs": [
        {
          "data": {
            "text/html": [
              "<div>\n",
              "<style scoped>\n",
              "    .dataframe tbody tr th:only-of-type {\n",
              "        vertical-align: middle;\n",
              "    }\n",
              "\n",
              "    .dataframe tbody tr th {\n",
              "        vertical-align: top;\n",
              "    }\n",
              "\n",
              "    .dataframe thead th {\n",
              "        text-align: right;\n",
              "    }\n",
              "</style>\n",
              "<table border=\"1\" class=\"dataframe\">\n",
              "  <thead>\n",
              "    <tr style=\"text-align: right;\">\n",
              "      <th></th>\n",
              "      <th>Code Pays</th>\n",
              "      <th>Pays</th>\n",
              "      <th>Code Produit</th>\n",
              "      <th>Produit</th>\n",
              "      <th>protéinesKg</th>\n",
              "      <th>protéinesg</th>\n",
              "    </tr>\n",
              "  </thead>\n",
              "  <tbody>\n",
              "    <tr>\n",
              "      <th>0</th>\n",
              "      <td>2</td>\n",
              "      <td>Afghanistan</td>\n",
              "      <td>2511</td>\n",
              "      <td>Blé</td>\n",
              "      <td>411601126.8</td>\n",
              "      <td>4.116011e+11</td>\n",
              "    </tr>\n",
              "    <tr>\n",
              "      <th>1</th>\n",
              "      <td>2</td>\n",
              "      <td>Afghanistan</td>\n",
              "      <td>2805</td>\n",
              "      <td>Riz (Eq Blanchi)</td>\n",
              "      <td>30108996.0</td>\n",
              "      <td>3.010900e+10</td>\n",
              "    </tr>\n",
              "    <tr>\n",
              "      <th>2</th>\n",
              "      <td>2</td>\n",
              "      <td>Afghanistan</td>\n",
              "      <td>2513</td>\n",
              "      <td>Orge</td>\n",
              "      <td>8809669.2</td>\n",
              "      <td>8.809669e+09</td>\n",
              "    </tr>\n",
              "    <tr>\n",
              "      <th>3</th>\n",
              "      <td>2</td>\n",
              "      <td>Afghanistan</td>\n",
              "      <td>2514</td>\n",
              "      <td>Maïs</td>\n",
              "      <td>6244828.8</td>\n",
              "      <td>6.244829e+09</td>\n",
              "    </tr>\n",
              "    <tr>\n",
              "      <th>4</th>\n",
              "      <td>2</td>\n",
              "      <td>Afghanistan</td>\n",
              "      <td>2517</td>\n",
              "      <td>Millet</td>\n",
              "      <td>892118.4</td>\n",
              "      <td>8.921184e+08</td>\n",
              "    </tr>\n",
              "    <tr>\n",
              "      <th>...</th>\n",
              "      <td>...</td>\n",
              "      <td>...</td>\n",
              "      <td>...</td>\n",
              "      <td>...</td>\n",
              "      <td>...</td>\n",
              "      <td>...</td>\n",
              "    </tr>\n",
              "    <tr>\n",
              "      <th>11556</th>\n",
              "      <td>181</td>\n",
              "      <td>Zimbabwe</td>\n",
              "      <td>2764</td>\n",
              "      <td>Poissons Marins, Autres</td>\n",
              "      <td>154942.5</td>\n",
              "      <td>1.549425e+08</td>\n",
              "    </tr>\n",
              "    <tr>\n",
              "      <th>11557</th>\n",
              "      <td>181</td>\n",
              "      <td>Zimbabwe</td>\n",
              "      <td>2765</td>\n",
              "      <td>Crustacés</td>\n",
              "      <td>0.0</td>\n",
              "      <td>0.000000e+00</td>\n",
              "    </tr>\n",
              "    <tr>\n",
              "      <th>11558</th>\n",
              "      <td>181</td>\n",
              "      <td>Zimbabwe</td>\n",
              "      <td>2766</td>\n",
              "      <td>Cephalopodes</td>\n",
              "      <td>0.0</td>\n",
              "      <td>0.000000e+00</td>\n",
              "    </tr>\n",
              "    <tr>\n",
              "      <th>11559</th>\n",
              "      <td>181</td>\n",
              "      <td>Zimbabwe</td>\n",
              "      <td>2767</td>\n",
              "      <td>Mollusques, Autres</td>\n",
              "      <td>0.0</td>\n",
              "      <td>0.000000e+00</td>\n",
              "    </tr>\n",
              "    <tr>\n",
              "      <th>11560</th>\n",
              "      <td>181</td>\n",
              "      <td>Zimbabwe</td>\n",
              "      <td>2775</td>\n",
              "      <td>Plantes Aquatiques</td>\n",
              "      <td>0.0</td>\n",
              "      <td>0.000000e+00</td>\n",
              "    </tr>\n",
              "  </tbody>\n",
              "</table>\n",
              "<p>11561 rows × 6 columns</p>\n",
              "</div>"
            ],
            "text/plain": [
              "      Code Pays         Pays Code Produit                  Produit  \\\n",
              "0             2  Afghanistan         2511                      Blé   \n",
              "1             2  Afghanistan         2805         Riz (Eq Blanchi)   \n",
              "2             2  Afghanistan         2513                     Orge   \n",
              "3             2  Afghanistan         2514                     Maïs   \n",
              "4             2  Afghanistan         2517                   Millet   \n",
              "...         ...          ...          ...                      ...   \n",
              "11556       181     Zimbabwe         2764  Poissons Marins, Autres   \n",
              "11557       181     Zimbabwe         2765                Crustacés   \n",
              "11558       181     Zimbabwe         2766             Cephalopodes   \n",
              "11559       181     Zimbabwe         2767       Mollusques, Autres   \n",
              "11560       181     Zimbabwe         2775       Plantes Aquatiques   \n",
              "\n",
              "       protéinesKg    protéinesg  \n",
              "0      411601126.8  4.116011e+11  \n",
              "1       30108996.0  3.010900e+10  \n",
              "2        8809669.2  8.809669e+09  \n",
              "3        6244828.8  6.244829e+09  \n",
              "4         892118.4  8.921184e+08  \n",
              "...            ...           ...  \n",
              "11556     154942.5  1.549425e+08  \n",
              "11557          0.0  0.000000e+00  \n",
              "11558          0.0  0.000000e+00  \n",
              "11559          0.0  0.000000e+00  \n",
              "11560          0.0  0.000000e+00  \n",
              "\n",
              "[11561 rows x 6 columns]"
            ]
          },
          "execution_count": 627,
          "metadata": {},
          "output_type": "execute_result"
        }
      ],
      "source": [
        "m_df_protéinesKg"
      ]
    },
    {
      "cell_type": "code",
      "execution_count": 628,
      "metadata": {},
      "outputs": [
        {
          "data": {
            "application/vnd.plotly.v1+json": {
              "config": {
                "plotlyServerURL": "https://plot.ly"
              },
              "data": [
                {
                  "alignmentgroup": "True",
                  "hovertemplate": "x=%{x}<br>y=%{y}<extra></extra>",
                  "legendgroup": "",
                  "marker": {
                    "color": "#039be5",
                    "pattern": {
                      "shape": ""
                    }
                  },
                  "name": "",
                  "offsetgroup": "",
                  "orientation": "v",
                  "showlegend": false,
                  "textposition": "auto",
                  "type": "bar",
                  "x": [
                    "Blé",
                    "Lait - Excl Beurre",
                    "Viande de Bovins",
                    "Viande de Volailles",
                    "Maïs",
                    "Riz (Eq Blanchi)",
                    "Légumes, Autres",
                    "Oeufs",
                    "Sorgho",
                    "Viande de Suides",
                    "Abats Comestible",
                    "Pommes de Terre",
                    "Poissons Pelagiques",
                    "Haricots",
                    "Millet",
                    "Viande d'Ovins/Caprins",
                    "Légumineuses Autres",
                    "Poissons Eau Douce",
                    "Arachides Decortiquees",
                    "Viande, Autre"
                  ],
                  "xaxis": "x",
                  "y": [
                    35611936.75,
                    23603725.1,
                    10981700.25,
                    10216457.674999999,
                    7710624.999999999,
                    7082397.949999999,
                    5291547.35,
                    4232395.825,
                    3740344.8000000003,
                    3407913.75,
                    2819889.625,
                    2643731.5,
                    2082908.9999999998,
                    1992732.1,
                    1824021.8000000003,
                    1657532.525,
                    1651599.4500000002,
                    1638831.75,
                    1375270.7249999999,
                    1076310.175
                  ],
                  "yaxis": "y"
                }
              ],
              "layout": {
                "barmode": "relative",
                "height": 1000,
                "legend": {
                  "tracegroupgap": 0
                },
                "margin": {
                  "t": 60
                },
                "template": {
                  "data": {
                    "bar": [
                      {
                        "error_x": {
                          "color": "#2a3f5f"
                        },
                        "error_y": {
                          "color": "#2a3f5f"
                        },
                        "marker": {
                          "line": {
                            "color": "#E5ECF6",
                            "width": 0.5
                          },
                          "pattern": {
                            "fillmode": "overlay",
                            "size": 10,
                            "solidity": 0.2
                          }
                        },
                        "type": "bar"
                      }
                    ],
                    "barpolar": [
                      {
                        "marker": {
                          "line": {
                            "color": "#E5ECF6",
                            "width": 0.5
                          },
                          "pattern": {
                            "fillmode": "overlay",
                            "size": 10,
                            "solidity": 0.2
                          }
                        },
                        "type": "barpolar"
                      }
                    ],
                    "carpet": [
                      {
                        "aaxis": {
                          "endlinecolor": "#2a3f5f",
                          "gridcolor": "white",
                          "linecolor": "white",
                          "minorgridcolor": "white",
                          "startlinecolor": "#2a3f5f"
                        },
                        "baxis": {
                          "endlinecolor": "#2a3f5f",
                          "gridcolor": "white",
                          "linecolor": "white",
                          "minorgridcolor": "white",
                          "startlinecolor": "#2a3f5f"
                        },
                        "type": "carpet"
                      }
                    ],
                    "choropleth": [
                      {
                        "colorbar": {
                          "outlinewidth": 0,
                          "ticks": ""
                        },
                        "type": "choropleth"
                      }
                    ],
                    "contour": [
                      {
                        "colorbar": {
                          "outlinewidth": 0,
                          "ticks": ""
                        },
                        "colorscale": [
                          [
                            0,
                            "#0d0887"
                          ],
                          [
                            0.1111111111111111,
                            "#46039f"
                          ],
                          [
                            0.2222222222222222,
                            "#7201a8"
                          ],
                          [
                            0.3333333333333333,
                            "#9c179e"
                          ],
                          [
                            0.4444444444444444,
                            "#bd3786"
                          ],
                          [
                            0.5555555555555556,
                            "#d8576b"
                          ],
                          [
                            0.6666666666666666,
                            "#ed7953"
                          ],
                          [
                            0.7777777777777778,
                            "#fb9f3a"
                          ],
                          [
                            0.8888888888888888,
                            "#fdca26"
                          ],
                          [
                            1,
                            "#f0f921"
                          ]
                        ],
                        "type": "contour"
                      }
                    ],
                    "contourcarpet": [
                      {
                        "colorbar": {
                          "outlinewidth": 0,
                          "ticks": ""
                        },
                        "type": "contourcarpet"
                      }
                    ],
                    "heatmap": [
                      {
                        "colorbar": {
                          "outlinewidth": 0,
                          "ticks": ""
                        },
                        "colorscale": [
                          [
                            0,
                            "#0d0887"
                          ],
                          [
                            0.1111111111111111,
                            "#46039f"
                          ],
                          [
                            0.2222222222222222,
                            "#7201a8"
                          ],
                          [
                            0.3333333333333333,
                            "#9c179e"
                          ],
                          [
                            0.4444444444444444,
                            "#bd3786"
                          ],
                          [
                            0.5555555555555556,
                            "#d8576b"
                          ],
                          [
                            0.6666666666666666,
                            "#ed7953"
                          ],
                          [
                            0.7777777777777778,
                            "#fb9f3a"
                          ],
                          [
                            0.8888888888888888,
                            "#fdca26"
                          ],
                          [
                            1,
                            "#f0f921"
                          ]
                        ],
                        "type": "heatmap"
                      }
                    ],
                    "heatmapgl": [
                      {
                        "colorbar": {
                          "outlinewidth": 0,
                          "ticks": ""
                        },
                        "colorscale": [
                          [
                            0,
                            "#0d0887"
                          ],
                          [
                            0.1111111111111111,
                            "#46039f"
                          ],
                          [
                            0.2222222222222222,
                            "#7201a8"
                          ],
                          [
                            0.3333333333333333,
                            "#9c179e"
                          ],
                          [
                            0.4444444444444444,
                            "#bd3786"
                          ],
                          [
                            0.5555555555555556,
                            "#d8576b"
                          ],
                          [
                            0.6666666666666666,
                            "#ed7953"
                          ],
                          [
                            0.7777777777777778,
                            "#fb9f3a"
                          ],
                          [
                            0.8888888888888888,
                            "#fdca26"
                          ],
                          [
                            1,
                            "#f0f921"
                          ]
                        ],
                        "type": "heatmapgl"
                      }
                    ],
                    "histogram": [
                      {
                        "marker": {
                          "pattern": {
                            "fillmode": "overlay",
                            "size": 10,
                            "solidity": 0.2
                          }
                        },
                        "type": "histogram"
                      }
                    ],
                    "histogram2d": [
                      {
                        "colorbar": {
                          "outlinewidth": 0,
                          "ticks": ""
                        },
                        "colorscale": [
                          [
                            0,
                            "#0d0887"
                          ],
                          [
                            0.1111111111111111,
                            "#46039f"
                          ],
                          [
                            0.2222222222222222,
                            "#7201a8"
                          ],
                          [
                            0.3333333333333333,
                            "#9c179e"
                          ],
                          [
                            0.4444444444444444,
                            "#bd3786"
                          ],
                          [
                            0.5555555555555556,
                            "#d8576b"
                          ],
                          [
                            0.6666666666666666,
                            "#ed7953"
                          ],
                          [
                            0.7777777777777778,
                            "#fb9f3a"
                          ],
                          [
                            0.8888888888888888,
                            "#fdca26"
                          ],
                          [
                            1,
                            "#f0f921"
                          ]
                        ],
                        "type": "histogram2d"
                      }
                    ],
                    "histogram2dcontour": [
                      {
                        "colorbar": {
                          "outlinewidth": 0,
                          "ticks": ""
                        },
                        "colorscale": [
                          [
                            0,
                            "#0d0887"
                          ],
                          [
                            0.1111111111111111,
                            "#46039f"
                          ],
                          [
                            0.2222222222222222,
                            "#7201a8"
                          ],
                          [
                            0.3333333333333333,
                            "#9c179e"
                          ],
                          [
                            0.4444444444444444,
                            "#bd3786"
                          ],
                          [
                            0.5555555555555556,
                            "#d8576b"
                          ],
                          [
                            0.6666666666666666,
                            "#ed7953"
                          ],
                          [
                            0.7777777777777778,
                            "#fb9f3a"
                          ],
                          [
                            0.8888888888888888,
                            "#fdca26"
                          ],
                          [
                            1,
                            "#f0f921"
                          ]
                        ],
                        "type": "histogram2dcontour"
                      }
                    ],
                    "mesh3d": [
                      {
                        "colorbar": {
                          "outlinewidth": 0,
                          "ticks": ""
                        },
                        "type": "mesh3d"
                      }
                    ],
                    "parcoords": [
                      {
                        "line": {
                          "colorbar": {
                            "outlinewidth": 0,
                            "ticks": ""
                          }
                        },
                        "type": "parcoords"
                      }
                    ],
                    "pie": [
                      {
                        "automargin": true,
                        "type": "pie"
                      }
                    ],
                    "scatter": [
                      {
                        "fillpattern": {
                          "fillmode": "overlay",
                          "size": 10,
                          "solidity": 0.2
                        },
                        "type": "scatter"
                      }
                    ],
                    "scatter3d": [
                      {
                        "line": {
                          "colorbar": {
                            "outlinewidth": 0,
                            "ticks": ""
                          }
                        },
                        "marker": {
                          "colorbar": {
                            "outlinewidth": 0,
                            "ticks": ""
                          }
                        },
                        "type": "scatter3d"
                      }
                    ],
                    "scattercarpet": [
                      {
                        "marker": {
                          "colorbar": {
                            "outlinewidth": 0,
                            "ticks": ""
                          }
                        },
                        "type": "scattercarpet"
                      }
                    ],
                    "scattergeo": [
                      {
                        "marker": {
                          "colorbar": {
                            "outlinewidth": 0,
                            "ticks": ""
                          }
                        },
                        "type": "scattergeo"
                      }
                    ],
                    "scattergl": [
                      {
                        "marker": {
                          "colorbar": {
                            "outlinewidth": 0,
                            "ticks": ""
                          }
                        },
                        "type": "scattergl"
                      }
                    ],
                    "scattermapbox": [
                      {
                        "marker": {
                          "colorbar": {
                            "outlinewidth": 0,
                            "ticks": ""
                          }
                        },
                        "type": "scattermapbox"
                      }
                    ],
                    "scatterpolar": [
                      {
                        "marker": {
                          "colorbar": {
                            "outlinewidth": 0,
                            "ticks": ""
                          }
                        },
                        "type": "scatterpolar"
                      }
                    ],
                    "scatterpolargl": [
                      {
                        "marker": {
                          "colorbar": {
                            "outlinewidth": 0,
                            "ticks": ""
                          }
                        },
                        "type": "scatterpolargl"
                      }
                    ],
                    "scatterternary": [
                      {
                        "marker": {
                          "colorbar": {
                            "outlinewidth": 0,
                            "ticks": ""
                          }
                        },
                        "type": "scatterternary"
                      }
                    ],
                    "surface": [
                      {
                        "colorbar": {
                          "outlinewidth": 0,
                          "ticks": ""
                        },
                        "colorscale": [
                          [
                            0,
                            "#0d0887"
                          ],
                          [
                            0.1111111111111111,
                            "#46039f"
                          ],
                          [
                            0.2222222222222222,
                            "#7201a8"
                          ],
                          [
                            0.3333333333333333,
                            "#9c179e"
                          ],
                          [
                            0.4444444444444444,
                            "#bd3786"
                          ],
                          [
                            0.5555555555555556,
                            "#d8576b"
                          ],
                          [
                            0.6666666666666666,
                            "#ed7953"
                          ],
                          [
                            0.7777777777777778,
                            "#fb9f3a"
                          ],
                          [
                            0.8888888888888888,
                            "#fdca26"
                          ],
                          [
                            1,
                            "#f0f921"
                          ]
                        ],
                        "type": "surface"
                      }
                    ],
                    "table": [
                      {
                        "cells": {
                          "fill": {
                            "color": "#EBF0F8"
                          },
                          "line": {
                            "color": "white"
                          }
                        },
                        "header": {
                          "fill": {
                            "color": "#C8D4E3"
                          },
                          "line": {
                            "color": "white"
                          }
                        },
                        "type": "table"
                      }
                    ]
                  },
                  "layout": {
                    "annotationdefaults": {
                      "arrowcolor": "#2a3f5f",
                      "arrowhead": 0,
                      "arrowwidth": 1
                    },
                    "autotypenumbers": "strict",
                    "coloraxis": {
                      "colorbar": {
                        "outlinewidth": 0,
                        "ticks": ""
                      }
                    },
                    "colorscale": {
                      "diverging": [
                        [
                          0,
                          "#8e0152"
                        ],
                        [
                          0.1,
                          "#c51b7d"
                        ],
                        [
                          0.2,
                          "#de77ae"
                        ],
                        [
                          0.3,
                          "#f1b6da"
                        ],
                        [
                          0.4,
                          "#fde0ef"
                        ],
                        [
                          0.5,
                          "#f7f7f7"
                        ],
                        [
                          0.6,
                          "#e6f5d0"
                        ],
                        [
                          0.7,
                          "#b8e186"
                        ],
                        [
                          0.8,
                          "#7fbc41"
                        ],
                        [
                          0.9,
                          "#4d9221"
                        ],
                        [
                          1,
                          "#276419"
                        ]
                      ],
                      "sequential": [
                        [
                          0,
                          "#0d0887"
                        ],
                        [
                          0.1111111111111111,
                          "#46039f"
                        ],
                        [
                          0.2222222222222222,
                          "#7201a8"
                        ],
                        [
                          0.3333333333333333,
                          "#9c179e"
                        ],
                        [
                          0.4444444444444444,
                          "#bd3786"
                        ],
                        [
                          0.5555555555555556,
                          "#d8576b"
                        ],
                        [
                          0.6666666666666666,
                          "#ed7953"
                        ],
                        [
                          0.7777777777777778,
                          "#fb9f3a"
                        ],
                        [
                          0.8888888888888888,
                          "#fdca26"
                        ],
                        [
                          1,
                          "#f0f921"
                        ]
                      ],
                      "sequentialminus": [
                        [
                          0,
                          "#0d0887"
                        ],
                        [
                          0.1111111111111111,
                          "#46039f"
                        ],
                        [
                          0.2222222222222222,
                          "#7201a8"
                        ],
                        [
                          0.3333333333333333,
                          "#9c179e"
                        ],
                        [
                          0.4444444444444444,
                          "#bd3786"
                        ],
                        [
                          0.5555555555555556,
                          "#d8576b"
                        ],
                        [
                          0.6666666666666666,
                          "#ed7953"
                        ],
                        [
                          0.7777777777777778,
                          "#fb9f3a"
                        ],
                        [
                          0.8888888888888888,
                          "#fdca26"
                        ],
                        [
                          1,
                          "#f0f921"
                        ]
                      ]
                    },
                    "colorway": [
                      "#636efa",
                      "#EF553B",
                      "#00cc96",
                      "#ab63fa",
                      "#FFA15A",
                      "#19d3f3",
                      "#FF6692",
                      "#B6E880",
                      "#FF97FF",
                      "#FECB52"
                    ],
                    "font": {
                      "color": "#2a3f5f"
                    },
                    "geo": {
                      "bgcolor": "white",
                      "lakecolor": "white",
                      "landcolor": "#E5ECF6",
                      "showlakes": true,
                      "showland": true,
                      "subunitcolor": "white"
                    },
                    "hoverlabel": {
                      "align": "left"
                    },
                    "hovermode": "closest",
                    "mapbox": {
                      "style": "light"
                    },
                    "paper_bgcolor": "white",
                    "plot_bgcolor": "#E5ECF6",
                    "polar": {
                      "angularaxis": {
                        "gridcolor": "white",
                        "linecolor": "white",
                        "ticks": ""
                      },
                      "bgcolor": "#E5ECF6",
                      "radialaxis": {
                        "gridcolor": "white",
                        "linecolor": "white",
                        "ticks": ""
                      }
                    },
                    "scene": {
                      "xaxis": {
                        "backgroundcolor": "#E5ECF6",
                        "gridcolor": "white",
                        "gridwidth": 2,
                        "linecolor": "white",
                        "showbackground": true,
                        "ticks": "",
                        "zerolinecolor": "white"
                      },
                      "yaxis": {
                        "backgroundcolor": "#E5ECF6",
                        "gridcolor": "white",
                        "gridwidth": 2,
                        "linecolor": "white",
                        "showbackground": true,
                        "ticks": "",
                        "zerolinecolor": "white"
                      },
                      "zaxis": {
                        "backgroundcolor": "#E5ECF6",
                        "gridcolor": "white",
                        "gridwidth": 2,
                        "linecolor": "white",
                        "showbackground": true,
                        "ticks": "",
                        "zerolinecolor": "white"
                      }
                    },
                    "shapedefaults": {
                      "line": {
                        "color": "#2a3f5f"
                      }
                    },
                    "ternary": {
                      "aaxis": {
                        "gridcolor": "white",
                        "linecolor": "white",
                        "ticks": ""
                      },
                      "baxis": {
                        "gridcolor": "white",
                        "linecolor": "white",
                        "ticks": ""
                      },
                      "bgcolor": "#E5ECF6",
                      "caxis": {
                        "gridcolor": "white",
                        "linecolor": "white",
                        "ticks": ""
                      }
                    },
                    "title": {
                      "x": 0.05
                    },
                    "xaxis": {
                      "automargin": true,
                      "gridcolor": "white",
                      "linecolor": "white",
                      "ticks": "",
                      "title": {
                        "standoff": 15
                      },
                      "zerolinecolor": "white",
                      "zerolinewidth": 2
                    },
                    "yaxis": {
                      "automargin": true,
                      "gridcolor": "white",
                      "linecolor": "white",
                      "ticks": "",
                      "title": {
                        "standoff": 15
                      },
                      "zerolinecolor": "white",
                      "zerolinewidth": 2
                    }
                  }
                },
                "xaxis": {
                  "anchor": "y",
                  "domain": [
                    0,
                    1
                  ],
                  "title": {
                    "text": "x"
                  }
                },
                "yaxis": {
                  "anchor": "x",
                  "domain": [
                    0,
                    1
                  ],
                  "title": {
                    "text": "y"
                  }
                }
              }
            }
          },
          "metadata": {},
          "output_type": "display_data"
        },
        {
          "data": {
            "text/html": [
              "<div>\n",
              "<style scoped>\n",
              "    .dataframe tbody tr th:only-of-type {\n",
              "        vertical-align: middle;\n",
              "    }\n",
              "\n",
              "    .dataframe tbody tr th {\n",
              "        vertical-align: top;\n",
              "    }\n",
              "\n",
              "    .dataframe thead th {\n",
              "        text-align: right;\n",
              "    }\n",
              "</style>\n",
              "<table border=\"1\" class=\"dataframe\">\n",
              "  <thead>\n",
              "    <tr style=\"text-align: right;\">\n",
              "      <th></th>\n",
              "      <th>Produit</th>\n",
              "      <th>protéinesKg</th>\n",
              "    </tr>\n",
              "  </thead>\n",
              "  <tbody>\n",
              "    <tr>\n",
              "      <th>11</th>\n",
              "      <td>Blé</td>\n",
              "      <td>3.561194e+07</td>\n",
              "    </tr>\n",
              "    <tr>\n",
              "      <th>47</th>\n",
              "      <td>Lait - Excl Beurre</td>\n",
              "      <td>2.360373e+07</td>\n",
              "    </tr>\n",
              "    <tr>\n",
              "      <th>90</th>\n",
              "      <td>Viande de Bovins</td>\n",
              "      <td>1.098170e+07</td>\n",
              "    </tr>\n",
              "    <tr>\n",
              "      <th>92</th>\n",
              "      <td>Viande de Volailles</td>\n",
              "      <td>1.021646e+07</td>\n",
              "    </tr>\n",
              "    <tr>\n",
              "      <th>51</th>\n",
              "      <td>Maïs</td>\n",
              "      <td>7.710625e+06</td>\n",
              "    </tr>\n",
              "  </tbody>\n",
              "</table>\n",
              "</div>"
            ],
            "text/plain": [
              "                Produit   protéinesKg\n",
              "11                  Blé  3.561194e+07\n",
              "47   Lait - Excl Beurre  2.360373e+07\n",
              "90     Viande de Bovins  1.098170e+07\n",
              "92  Viande de Volailles  1.021646e+07\n",
              "51                 Maïs  7.710625e+06"
            ]
          },
          "execution_count": 628,
          "metadata": {},
          "output_type": "execute_result"
        }
      ],
      "source": [
        "\n",
        "df=m_df_protéinesKg[[\"Produit\", \"protéinesKg\"]]\n",
        "df=df.groupby([\"Produit\"]).quantile(0.5)\n",
        "\n",
        "df = df.reset_index()\n",
        "\n",
        "df.sort_values(by='protéinesKg', ascending=False, inplace=True )\n",
        "fig = px.bar(x=df.head(20).Produit,y=df.head(20).protéinesKg,height=1000, color_discrete_sequence=color_list_bar)\n",
        "fig.show()\n",
        "df.head(5)"
      ]
    },
    {
      "cell_type": "markdown",
      "metadata": {
        "id": "H1lMRHTYabeR"
      },
      "source": [
        "#### Question 6 : Dispo. intérieure mondiale des végétaux\n",
        "Calculez, pour les produits végétaux uniquement, la disponibilité intérieure mondiale exprimée en kcal."
      ]
    },
    {
      "cell_type": "code",
      "execution_count": 629,
      "metadata": {
        "id": "Wzif22s4aeuj"
      },
      "outputs": [
        {
          "data": {
            "text/html": [
              "<div>\n",
              "<style scoped>\n",
              "    .dataframe tbody tr th:only-of-type {\n",
              "        vertical-align: middle;\n",
              "    }\n",
              "\n",
              "    .dataframe tbody tr th {\n",
              "        vertical-align: top;\n",
              "    }\n",
              "\n",
              "    .dataframe thead th {\n",
              "        text-align: right;\n",
              "    }\n",
              "</style>\n",
              "<table border=\"1\" class=\"dataframe\">\n",
              "  <thead>\n",
              "    <tr style=\"text-align: right;\">\n",
              "      <th></th>\n",
              "      <th>Produit</th>\n",
              "      <th>Kcal</th>\n",
              "    </tr>\n",
              "  </thead>\n",
              "  <tbody>\n",
              "    <tr>\n",
              "      <th>0</th>\n",
              "      <td>Riz (Eq Blanchi)</td>\n",
              "      <td>1.381005e+15</td>\n",
              "    </tr>\n",
              "    <tr>\n",
              "      <th>1</th>\n",
              "      <td>Blé</td>\n",
              "      <td>1.345279e+15</td>\n",
              "    </tr>\n",
              "    <tr>\n",
              "      <th>2</th>\n",
              "      <td>Sucre Eq Brut</td>\n",
              "      <td>5.109690e+14</td>\n",
              "    </tr>\n",
              "    <tr>\n",
              "      <th>3</th>\n",
              "      <td>Maïs</td>\n",
              "      <td>3.766566e+14</td>\n",
              "    </tr>\n",
              "    <tr>\n",
              "      <th>4</th>\n",
              "      <td>Huile de Soja</td>\n",
              "      <td>2.103646e+14</td>\n",
              "    </tr>\n",
              "    <tr>\n",
              "      <th>...</th>\n",
              "      <td>...</td>\n",
              "      <td>...</td>\n",
              "    </tr>\n",
              "    <tr>\n",
              "      <th>69</th>\n",
              "      <td>Poivre</td>\n",
              "      <td>7.878098e+11</td>\n",
              "    </tr>\n",
              "    <tr>\n",
              "      <th>70</th>\n",
              "      <td>Girofles</td>\n",
              "      <td>4.482236e+10</td>\n",
              "    </tr>\n",
              "    <tr>\n",
              "      <th>71</th>\n",
              "      <td>Palmistes</td>\n",
              "      <td>3.416035e+10</td>\n",
              "    </tr>\n",
              "    <tr>\n",
              "      <th>72</th>\n",
              "      <td>Sucre, betterave</td>\n",
              "      <td>2.873499e+10</td>\n",
              "    </tr>\n",
              "    <tr>\n",
              "      <th>73</th>\n",
              "      <td>Graines de coton</td>\n",
              "      <td>0.000000e+00</td>\n",
              "    </tr>\n",
              "  </tbody>\n",
              "</table>\n",
              "<p>74 rows × 2 columns</p>\n",
              "</div>"
            ],
            "text/plain": [
              "             Produit          Kcal\n",
              "0   Riz (Eq Blanchi)  1.381005e+15\n",
              "1                Blé  1.345279e+15\n",
              "2      Sucre Eq Brut  5.109690e+14\n",
              "3               Maïs  3.766566e+14\n",
              "4      Huile de Soja  2.103646e+14\n",
              "..               ...           ...\n",
              "69            Poivre  7.878098e+11\n",
              "70          Girofles  4.482236e+10\n",
              "71         Palmistes  3.416035e+10\n",
              "72  Sucre, betterave  2.873499e+10\n",
              "73  Graines de coton  0.000000e+00\n",
              "\n",
              "[74 rows x 2 columns]"
            ]
          },
          "execution_count": 629,
          "metadata": {},
          "output_type": "execute_result"
        }
      ],
      "source": [
        "\n",
        "dfKcal=FAOSTAT_2013_vegetal[FAOSTAT_2013_vegetal['Élément']=='Disponibilité alimentaire (Kcal/personne/jour)']\n",
        "dfKcal = dfKcal.merge(dPopulation, left_on='Code Pays', right_on='Country Code')\n",
        "dfKcal.rename(columns={'Value': 'Population'}, inplace=True)\n",
        "\n",
        "dfKcal=dfKcal.assign(Kcal=dfKcal['Valeur']*dfKcal['Population']*365)\n",
        "\n",
        "dfKcal=dfKcal[['Produit', 'Kcal']]\n",
        "dfKcal=dfKcal.groupby(\"Produit\", group_keys=False).sum()\n",
        "dfKcal.sort_values('Kcal', ascending=False, inplace=True)\n",
        "dfKcal = dfKcal.reset_index()\n",
        "\n",
        "dfKcal"
      ]
    },
    {
      "cell_type": "code",
      "execution_count": 630,
      "metadata": {},
      "outputs": [
        {
          "data": {
            "text/plain": [
              "6051609427075000.0"
            ]
          },
          "execution_count": 630,
          "metadata": {},
          "output_type": "execute_result"
        }
      ],
      "source": [
        "dfKcal['Kcal'].sum()"
      ]
    },
    {
      "cell_type": "code",
      "execution_count": 631,
      "metadata": {},
      "outputs": [
        {
          "data": {
            "application/vnd.plotly.v1+json": {
              "config": {
                "plotlyServerURL": "https://plot.ly"
              },
              "data": [
                {
                  "alignmentgroup": "True",
                  "hovertemplate": "x=%{x}<br>y=%{y}<extra></extra>",
                  "legendgroup": "",
                  "marker": {
                    "color": "#039be5",
                    "pattern": {
                      "shape": ""
                    }
                  },
                  "name": "",
                  "offsetgroup": "",
                  "orientation": "v",
                  "showlegend": false,
                  "textposition": "auto",
                  "type": "bar",
                  "x": [
                    "Riz (Eq Blanchi)",
                    "Blé",
                    "Sucre Eq Brut",
                    "Maïs",
                    "Huile de Soja",
                    "Légumes, Autres",
                    "Pommes de Terre",
                    "Huile de Palme",
                    "Manioc",
                    "Légumineuses Autres"
                  ],
                  "xaxis": "x",
                  "y": [
                    1381005158240000,
                    1345279115190000,
                    510969039605000,
                    376656642190000,
                    210364625600000,
                    187741617175000,
                    162172002805000,
                    132648756250000,
                    95970488060000,
                    94253102470000
                  ],
                  "yaxis": "y"
                }
              ],
              "layout": {
                "barmode": "relative",
                "height": 1000,
                "legend": {
                  "tracegroupgap": 0
                },
                "margin": {
                  "t": 60
                },
                "template": {
                  "data": {
                    "bar": [
                      {
                        "error_x": {
                          "color": "#2a3f5f"
                        },
                        "error_y": {
                          "color": "#2a3f5f"
                        },
                        "marker": {
                          "line": {
                            "color": "#E5ECF6",
                            "width": 0.5
                          },
                          "pattern": {
                            "fillmode": "overlay",
                            "size": 10,
                            "solidity": 0.2
                          }
                        },
                        "type": "bar"
                      }
                    ],
                    "barpolar": [
                      {
                        "marker": {
                          "line": {
                            "color": "#E5ECF6",
                            "width": 0.5
                          },
                          "pattern": {
                            "fillmode": "overlay",
                            "size": 10,
                            "solidity": 0.2
                          }
                        },
                        "type": "barpolar"
                      }
                    ],
                    "carpet": [
                      {
                        "aaxis": {
                          "endlinecolor": "#2a3f5f",
                          "gridcolor": "white",
                          "linecolor": "white",
                          "minorgridcolor": "white",
                          "startlinecolor": "#2a3f5f"
                        },
                        "baxis": {
                          "endlinecolor": "#2a3f5f",
                          "gridcolor": "white",
                          "linecolor": "white",
                          "minorgridcolor": "white",
                          "startlinecolor": "#2a3f5f"
                        },
                        "type": "carpet"
                      }
                    ],
                    "choropleth": [
                      {
                        "colorbar": {
                          "outlinewidth": 0,
                          "ticks": ""
                        },
                        "type": "choropleth"
                      }
                    ],
                    "contour": [
                      {
                        "colorbar": {
                          "outlinewidth": 0,
                          "ticks": ""
                        },
                        "colorscale": [
                          [
                            0,
                            "#0d0887"
                          ],
                          [
                            0.1111111111111111,
                            "#46039f"
                          ],
                          [
                            0.2222222222222222,
                            "#7201a8"
                          ],
                          [
                            0.3333333333333333,
                            "#9c179e"
                          ],
                          [
                            0.4444444444444444,
                            "#bd3786"
                          ],
                          [
                            0.5555555555555556,
                            "#d8576b"
                          ],
                          [
                            0.6666666666666666,
                            "#ed7953"
                          ],
                          [
                            0.7777777777777778,
                            "#fb9f3a"
                          ],
                          [
                            0.8888888888888888,
                            "#fdca26"
                          ],
                          [
                            1,
                            "#f0f921"
                          ]
                        ],
                        "type": "contour"
                      }
                    ],
                    "contourcarpet": [
                      {
                        "colorbar": {
                          "outlinewidth": 0,
                          "ticks": ""
                        },
                        "type": "contourcarpet"
                      }
                    ],
                    "heatmap": [
                      {
                        "colorbar": {
                          "outlinewidth": 0,
                          "ticks": ""
                        },
                        "colorscale": [
                          [
                            0,
                            "#0d0887"
                          ],
                          [
                            0.1111111111111111,
                            "#46039f"
                          ],
                          [
                            0.2222222222222222,
                            "#7201a8"
                          ],
                          [
                            0.3333333333333333,
                            "#9c179e"
                          ],
                          [
                            0.4444444444444444,
                            "#bd3786"
                          ],
                          [
                            0.5555555555555556,
                            "#d8576b"
                          ],
                          [
                            0.6666666666666666,
                            "#ed7953"
                          ],
                          [
                            0.7777777777777778,
                            "#fb9f3a"
                          ],
                          [
                            0.8888888888888888,
                            "#fdca26"
                          ],
                          [
                            1,
                            "#f0f921"
                          ]
                        ],
                        "type": "heatmap"
                      }
                    ],
                    "heatmapgl": [
                      {
                        "colorbar": {
                          "outlinewidth": 0,
                          "ticks": ""
                        },
                        "colorscale": [
                          [
                            0,
                            "#0d0887"
                          ],
                          [
                            0.1111111111111111,
                            "#46039f"
                          ],
                          [
                            0.2222222222222222,
                            "#7201a8"
                          ],
                          [
                            0.3333333333333333,
                            "#9c179e"
                          ],
                          [
                            0.4444444444444444,
                            "#bd3786"
                          ],
                          [
                            0.5555555555555556,
                            "#d8576b"
                          ],
                          [
                            0.6666666666666666,
                            "#ed7953"
                          ],
                          [
                            0.7777777777777778,
                            "#fb9f3a"
                          ],
                          [
                            0.8888888888888888,
                            "#fdca26"
                          ],
                          [
                            1,
                            "#f0f921"
                          ]
                        ],
                        "type": "heatmapgl"
                      }
                    ],
                    "histogram": [
                      {
                        "marker": {
                          "pattern": {
                            "fillmode": "overlay",
                            "size": 10,
                            "solidity": 0.2
                          }
                        },
                        "type": "histogram"
                      }
                    ],
                    "histogram2d": [
                      {
                        "colorbar": {
                          "outlinewidth": 0,
                          "ticks": ""
                        },
                        "colorscale": [
                          [
                            0,
                            "#0d0887"
                          ],
                          [
                            0.1111111111111111,
                            "#46039f"
                          ],
                          [
                            0.2222222222222222,
                            "#7201a8"
                          ],
                          [
                            0.3333333333333333,
                            "#9c179e"
                          ],
                          [
                            0.4444444444444444,
                            "#bd3786"
                          ],
                          [
                            0.5555555555555556,
                            "#d8576b"
                          ],
                          [
                            0.6666666666666666,
                            "#ed7953"
                          ],
                          [
                            0.7777777777777778,
                            "#fb9f3a"
                          ],
                          [
                            0.8888888888888888,
                            "#fdca26"
                          ],
                          [
                            1,
                            "#f0f921"
                          ]
                        ],
                        "type": "histogram2d"
                      }
                    ],
                    "histogram2dcontour": [
                      {
                        "colorbar": {
                          "outlinewidth": 0,
                          "ticks": ""
                        },
                        "colorscale": [
                          [
                            0,
                            "#0d0887"
                          ],
                          [
                            0.1111111111111111,
                            "#46039f"
                          ],
                          [
                            0.2222222222222222,
                            "#7201a8"
                          ],
                          [
                            0.3333333333333333,
                            "#9c179e"
                          ],
                          [
                            0.4444444444444444,
                            "#bd3786"
                          ],
                          [
                            0.5555555555555556,
                            "#d8576b"
                          ],
                          [
                            0.6666666666666666,
                            "#ed7953"
                          ],
                          [
                            0.7777777777777778,
                            "#fb9f3a"
                          ],
                          [
                            0.8888888888888888,
                            "#fdca26"
                          ],
                          [
                            1,
                            "#f0f921"
                          ]
                        ],
                        "type": "histogram2dcontour"
                      }
                    ],
                    "mesh3d": [
                      {
                        "colorbar": {
                          "outlinewidth": 0,
                          "ticks": ""
                        },
                        "type": "mesh3d"
                      }
                    ],
                    "parcoords": [
                      {
                        "line": {
                          "colorbar": {
                            "outlinewidth": 0,
                            "ticks": ""
                          }
                        },
                        "type": "parcoords"
                      }
                    ],
                    "pie": [
                      {
                        "automargin": true,
                        "type": "pie"
                      }
                    ],
                    "scatter": [
                      {
                        "fillpattern": {
                          "fillmode": "overlay",
                          "size": 10,
                          "solidity": 0.2
                        },
                        "type": "scatter"
                      }
                    ],
                    "scatter3d": [
                      {
                        "line": {
                          "colorbar": {
                            "outlinewidth": 0,
                            "ticks": ""
                          }
                        },
                        "marker": {
                          "colorbar": {
                            "outlinewidth": 0,
                            "ticks": ""
                          }
                        },
                        "type": "scatter3d"
                      }
                    ],
                    "scattercarpet": [
                      {
                        "marker": {
                          "colorbar": {
                            "outlinewidth": 0,
                            "ticks": ""
                          }
                        },
                        "type": "scattercarpet"
                      }
                    ],
                    "scattergeo": [
                      {
                        "marker": {
                          "colorbar": {
                            "outlinewidth": 0,
                            "ticks": ""
                          }
                        },
                        "type": "scattergeo"
                      }
                    ],
                    "scattergl": [
                      {
                        "marker": {
                          "colorbar": {
                            "outlinewidth": 0,
                            "ticks": ""
                          }
                        },
                        "type": "scattergl"
                      }
                    ],
                    "scattermapbox": [
                      {
                        "marker": {
                          "colorbar": {
                            "outlinewidth": 0,
                            "ticks": ""
                          }
                        },
                        "type": "scattermapbox"
                      }
                    ],
                    "scatterpolar": [
                      {
                        "marker": {
                          "colorbar": {
                            "outlinewidth": 0,
                            "ticks": ""
                          }
                        },
                        "type": "scatterpolar"
                      }
                    ],
                    "scatterpolargl": [
                      {
                        "marker": {
                          "colorbar": {
                            "outlinewidth": 0,
                            "ticks": ""
                          }
                        },
                        "type": "scatterpolargl"
                      }
                    ],
                    "scatterternary": [
                      {
                        "marker": {
                          "colorbar": {
                            "outlinewidth": 0,
                            "ticks": ""
                          }
                        },
                        "type": "scatterternary"
                      }
                    ],
                    "surface": [
                      {
                        "colorbar": {
                          "outlinewidth": 0,
                          "ticks": ""
                        },
                        "colorscale": [
                          [
                            0,
                            "#0d0887"
                          ],
                          [
                            0.1111111111111111,
                            "#46039f"
                          ],
                          [
                            0.2222222222222222,
                            "#7201a8"
                          ],
                          [
                            0.3333333333333333,
                            "#9c179e"
                          ],
                          [
                            0.4444444444444444,
                            "#bd3786"
                          ],
                          [
                            0.5555555555555556,
                            "#d8576b"
                          ],
                          [
                            0.6666666666666666,
                            "#ed7953"
                          ],
                          [
                            0.7777777777777778,
                            "#fb9f3a"
                          ],
                          [
                            0.8888888888888888,
                            "#fdca26"
                          ],
                          [
                            1,
                            "#f0f921"
                          ]
                        ],
                        "type": "surface"
                      }
                    ],
                    "table": [
                      {
                        "cells": {
                          "fill": {
                            "color": "#EBF0F8"
                          },
                          "line": {
                            "color": "white"
                          }
                        },
                        "header": {
                          "fill": {
                            "color": "#C8D4E3"
                          },
                          "line": {
                            "color": "white"
                          }
                        },
                        "type": "table"
                      }
                    ]
                  },
                  "layout": {
                    "annotationdefaults": {
                      "arrowcolor": "#2a3f5f",
                      "arrowhead": 0,
                      "arrowwidth": 1
                    },
                    "autotypenumbers": "strict",
                    "coloraxis": {
                      "colorbar": {
                        "outlinewidth": 0,
                        "ticks": ""
                      }
                    },
                    "colorscale": {
                      "diverging": [
                        [
                          0,
                          "#8e0152"
                        ],
                        [
                          0.1,
                          "#c51b7d"
                        ],
                        [
                          0.2,
                          "#de77ae"
                        ],
                        [
                          0.3,
                          "#f1b6da"
                        ],
                        [
                          0.4,
                          "#fde0ef"
                        ],
                        [
                          0.5,
                          "#f7f7f7"
                        ],
                        [
                          0.6,
                          "#e6f5d0"
                        ],
                        [
                          0.7,
                          "#b8e186"
                        ],
                        [
                          0.8,
                          "#7fbc41"
                        ],
                        [
                          0.9,
                          "#4d9221"
                        ],
                        [
                          1,
                          "#276419"
                        ]
                      ],
                      "sequential": [
                        [
                          0,
                          "#0d0887"
                        ],
                        [
                          0.1111111111111111,
                          "#46039f"
                        ],
                        [
                          0.2222222222222222,
                          "#7201a8"
                        ],
                        [
                          0.3333333333333333,
                          "#9c179e"
                        ],
                        [
                          0.4444444444444444,
                          "#bd3786"
                        ],
                        [
                          0.5555555555555556,
                          "#d8576b"
                        ],
                        [
                          0.6666666666666666,
                          "#ed7953"
                        ],
                        [
                          0.7777777777777778,
                          "#fb9f3a"
                        ],
                        [
                          0.8888888888888888,
                          "#fdca26"
                        ],
                        [
                          1,
                          "#f0f921"
                        ]
                      ],
                      "sequentialminus": [
                        [
                          0,
                          "#0d0887"
                        ],
                        [
                          0.1111111111111111,
                          "#46039f"
                        ],
                        [
                          0.2222222222222222,
                          "#7201a8"
                        ],
                        [
                          0.3333333333333333,
                          "#9c179e"
                        ],
                        [
                          0.4444444444444444,
                          "#bd3786"
                        ],
                        [
                          0.5555555555555556,
                          "#d8576b"
                        ],
                        [
                          0.6666666666666666,
                          "#ed7953"
                        ],
                        [
                          0.7777777777777778,
                          "#fb9f3a"
                        ],
                        [
                          0.8888888888888888,
                          "#fdca26"
                        ],
                        [
                          1,
                          "#f0f921"
                        ]
                      ]
                    },
                    "colorway": [
                      "#636efa",
                      "#EF553B",
                      "#00cc96",
                      "#ab63fa",
                      "#FFA15A",
                      "#19d3f3",
                      "#FF6692",
                      "#B6E880",
                      "#FF97FF",
                      "#FECB52"
                    ],
                    "font": {
                      "color": "#2a3f5f"
                    },
                    "geo": {
                      "bgcolor": "white",
                      "lakecolor": "white",
                      "landcolor": "#E5ECF6",
                      "showlakes": true,
                      "showland": true,
                      "subunitcolor": "white"
                    },
                    "hoverlabel": {
                      "align": "left"
                    },
                    "hovermode": "closest",
                    "mapbox": {
                      "style": "light"
                    },
                    "paper_bgcolor": "white",
                    "plot_bgcolor": "#E5ECF6",
                    "polar": {
                      "angularaxis": {
                        "gridcolor": "white",
                        "linecolor": "white",
                        "ticks": ""
                      },
                      "bgcolor": "#E5ECF6",
                      "radialaxis": {
                        "gridcolor": "white",
                        "linecolor": "white",
                        "ticks": ""
                      }
                    },
                    "scene": {
                      "xaxis": {
                        "backgroundcolor": "#E5ECF6",
                        "gridcolor": "white",
                        "gridwidth": 2,
                        "linecolor": "white",
                        "showbackground": true,
                        "ticks": "",
                        "zerolinecolor": "white"
                      },
                      "yaxis": {
                        "backgroundcolor": "#E5ECF6",
                        "gridcolor": "white",
                        "gridwidth": 2,
                        "linecolor": "white",
                        "showbackground": true,
                        "ticks": "",
                        "zerolinecolor": "white"
                      },
                      "zaxis": {
                        "backgroundcolor": "#E5ECF6",
                        "gridcolor": "white",
                        "gridwidth": 2,
                        "linecolor": "white",
                        "showbackground": true,
                        "ticks": "",
                        "zerolinecolor": "white"
                      }
                    },
                    "shapedefaults": {
                      "line": {
                        "color": "#2a3f5f"
                      }
                    },
                    "ternary": {
                      "aaxis": {
                        "gridcolor": "white",
                        "linecolor": "white",
                        "ticks": ""
                      },
                      "baxis": {
                        "gridcolor": "white",
                        "linecolor": "white",
                        "ticks": ""
                      },
                      "bgcolor": "#E5ECF6",
                      "caxis": {
                        "gridcolor": "white",
                        "linecolor": "white",
                        "ticks": ""
                      }
                    },
                    "title": {
                      "x": 0.05
                    },
                    "xaxis": {
                      "automargin": true,
                      "gridcolor": "white",
                      "linecolor": "white",
                      "ticks": "",
                      "title": {
                        "standoff": 15
                      },
                      "zerolinecolor": "white",
                      "zerolinewidth": 2
                    },
                    "yaxis": {
                      "automargin": true,
                      "gridcolor": "white",
                      "linecolor": "white",
                      "ticks": "",
                      "title": {
                        "standoff": 15
                      },
                      "zerolinecolor": "white",
                      "zerolinewidth": 2
                    }
                  }
                },
                "xaxis": {
                  "anchor": "y",
                  "domain": [
                    0,
                    1
                  ],
                  "title": {
                    "text": "x"
                  }
                },
                "yaxis": {
                  "anchor": "x",
                  "domain": [
                    0,
                    1
                  ],
                  "title": {
                    "text": "y"
                  }
                }
              }
            }
          },
          "metadata": {},
          "output_type": "display_data"
        }
      ],
      "source": [
        "df=dfKcal\n",
        "\n",
        "df.sort_values(by='Kcal', ascending=False, inplace=True )\n",
        "df_kcal.head(10)\n",
        "fig = px.bar(x=df.head(10).Produit,y=df.head(10).Kcal, height=1000, color_discrete_sequence=color_list_bar)\n",
        "fig.show()"
      ]
    },
    {
      "cell_type": "markdown",
      "metadata": {
        "id": "ApEOgLexafF0"
      },
      "source": [
        "#### Question 7 : Potentiel alimentaire des végétaux\n",
        "Combien d'humains pourraient être nourris si toute la disponibilité intérieure mondiale de produits végétaux était utilisée pour de la nourriture ? Donnez les résultats en termes de calories, puis de protéines, et exprimez ensuite ces 2 résultats en pourcentage de la population mondiale."
      ]
    },
    {
      "cell_type": "code",
      "execution_count": 632,
      "metadata": {},
      "outputs": [
        {
          "data": {
            "text/html": [
              "<div>\n",
              "<style scoped>\n",
              "    .dataframe tbody tr th:only-of-type {\n",
              "        vertical-align: middle;\n",
              "    }\n",
              "\n",
              "    .dataframe tbody tr th {\n",
              "        vertical-align: top;\n",
              "    }\n",
              "\n",
              "    .dataframe thead th {\n",
              "        text-align: right;\n",
              "    }\n",
              "</style>\n",
              "<table border=\"1\" class=\"dataframe\">\n",
              "  <thead>\n",
              "    <tr style=\"text-align: right;\">\n",
              "      <th></th>\n",
              "      <th>Code Pays</th>\n",
              "      <th>Pays</th>\n",
              "      <th>Population</th>\n",
              "      <th>Élément</th>\n",
              "      <th>Code Produit</th>\n",
              "      <th>Produit</th>\n",
              "      <th>Valeur</th>\n",
              "      <th>Kcal</th>\n",
              "    </tr>\n",
              "  </thead>\n",
              "  <tbody>\n",
              "    <tr>\n",
              "      <th>0</th>\n",
              "      <td>2</td>\n",
              "      <td>Afghanistan</td>\n",
              "      <td>30552000</td>\n",
              "      <td>Disponibilité alimentaire (Kcal/personne/jour)</td>\n",
              "      <td>2511</td>\n",
              "      <td>Blé</td>\n",
              "      <td>1369.0</td>\n",
              "      <td>1.526638e+13</td>\n",
              "    </tr>\n",
              "    <tr>\n",
              "      <th>1</th>\n",
              "      <td>2</td>\n",
              "      <td>Afghanistan</td>\n",
              "      <td>30552000</td>\n",
              "      <td>Disponibilité alimentaire (Kcal/personne/jour)</td>\n",
              "      <td>2805</td>\n",
              "      <td>Riz (Eq Blanchi)</td>\n",
              "      <td>141.0</td>\n",
              "      <td>1.572359e+12</td>\n",
              "    </tr>\n",
              "    <tr>\n",
              "      <th>2</th>\n",
              "      <td>2</td>\n",
              "      <td>Afghanistan</td>\n",
              "      <td>30552000</td>\n",
              "      <td>Disponibilité alimentaire (Kcal/personne/jour)</td>\n",
              "      <td>2513</td>\n",
              "      <td>Orge</td>\n",
              "      <td>26.0</td>\n",
              "      <td>2.899385e+11</td>\n",
              "    </tr>\n",
              "    <tr>\n",
              "      <th>3</th>\n",
              "      <td>2</td>\n",
              "      <td>Afghanistan</td>\n",
              "      <td>30552000</td>\n",
              "      <td>Disponibilité alimentaire (Kcal/personne/jour)</td>\n",
              "      <td>2514</td>\n",
              "      <td>Maïs</td>\n",
              "      <td>21.0</td>\n",
              "      <td>2.341811e+11</td>\n",
              "    </tr>\n",
              "    <tr>\n",
              "      <th>4</th>\n",
              "      <td>2</td>\n",
              "      <td>Afghanistan</td>\n",
              "      <td>30552000</td>\n",
              "      <td>Disponibilité alimentaire (Kcal/personne/jour)</td>\n",
              "      <td>2517</td>\n",
              "      <td>Millet</td>\n",
              "      <td>3.0</td>\n",
              "      <td>3.345444e+10</td>\n",
              "    </tr>\n",
              "    <tr>\n",
              "      <th>...</th>\n",
              "      <td>...</td>\n",
              "      <td>...</td>\n",
              "      <td>...</td>\n",
              "      <td>...</td>\n",
              "      <td>...</td>\n",
              "      <td>...</td>\n",
              "      <td>...</td>\n",
              "      <td>...</td>\n",
              "    </tr>\n",
              "    <tr>\n",
              "      <th>14236</th>\n",
              "      <td>181</td>\n",
              "      <td>Zimbabwe</td>\n",
              "      <td>14150000</td>\n",
              "      <td>Disponibilité alimentaire (Kcal/personne/jour)</td>\n",
              "      <td>2764</td>\n",
              "      <td>Poissons Marins, Autres</td>\n",
              "      <td>0.0</td>\n",
              "      <td>0.000000e+00</td>\n",
              "    </tr>\n",
              "    <tr>\n",
              "      <th>14237</th>\n",
              "      <td>181</td>\n",
              "      <td>Zimbabwe</td>\n",
              "      <td>14150000</td>\n",
              "      <td>Disponibilité alimentaire (Kcal/personne/jour)</td>\n",
              "      <td>2765</td>\n",
              "      <td>Crustacés</td>\n",
              "      <td>0.0</td>\n",
              "      <td>0.000000e+00</td>\n",
              "    </tr>\n",
              "    <tr>\n",
              "      <th>14238</th>\n",
              "      <td>181</td>\n",
              "      <td>Zimbabwe</td>\n",
              "      <td>14150000</td>\n",
              "      <td>Disponibilité alimentaire (Kcal/personne/jour)</td>\n",
              "      <td>2766</td>\n",
              "      <td>Cephalopodes</td>\n",
              "      <td>0.0</td>\n",
              "      <td>0.000000e+00</td>\n",
              "    </tr>\n",
              "    <tr>\n",
              "      <th>14239</th>\n",
              "      <td>181</td>\n",
              "      <td>Zimbabwe</td>\n",
              "      <td>14150000</td>\n",
              "      <td>Disponibilité alimentaire (Kcal/personne/jour)</td>\n",
              "      <td>2767</td>\n",
              "      <td>Mollusques, Autres</td>\n",
              "      <td>0.0</td>\n",
              "      <td>0.000000e+00</td>\n",
              "    </tr>\n",
              "    <tr>\n",
              "      <th>14240</th>\n",
              "      <td>181</td>\n",
              "      <td>Zimbabwe</td>\n",
              "      <td>14150000</td>\n",
              "      <td>Disponibilité alimentaire (Kcal/personne/jour)</td>\n",
              "      <td>2775</td>\n",
              "      <td>Plantes Aquatiques</td>\n",
              "      <td>0.0</td>\n",
              "      <td>0.000000e+00</td>\n",
              "    </tr>\n",
              "  </tbody>\n",
              "</table>\n",
              "<p>14241 rows × 8 columns</p>\n",
              "</div>"
            ],
            "text/plain": [
              "      Code Pays         Pays  Population  \\\n",
              "0             2  Afghanistan    30552000   \n",
              "1             2  Afghanistan    30552000   \n",
              "2             2  Afghanistan    30552000   \n",
              "3             2  Afghanistan    30552000   \n",
              "4             2  Afghanistan    30552000   \n",
              "...         ...          ...         ...   \n",
              "14236       181     Zimbabwe    14150000   \n",
              "14237       181     Zimbabwe    14150000   \n",
              "14238       181     Zimbabwe    14150000   \n",
              "14239       181     Zimbabwe    14150000   \n",
              "14240       181     Zimbabwe    14150000   \n",
              "\n",
              "                                              Élément Code Produit  \\\n",
              "0      Disponibilité alimentaire (Kcal/personne/jour)         2511   \n",
              "1      Disponibilité alimentaire (Kcal/personne/jour)         2805   \n",
              "2      Disponibilité alimentaire (Kcal/personne/jour)         2513   \n",
              "3      Disponibilité alimentaire (Kcal/personne/jour)         2514   \n",
              "4      Disponibilité alimentaire (Kcal/personne/jour)         2517   \n",
              "...                                               ...          ...   \n",
              "14236  Disponibilité alimentaire (Kcal/personne/jour)         2764   \n",
              "14237  Disponibilité alimentaire (Kcal/personne/jour)         2765   \n",
              "14238  Disponibilité alimentaire (Kcal/personne/jour)         2766   \n",
              "14239  Disponibilité alimentaire (Kcal/personne/jour)         2767   \n",
              "14240  Disponibilité alimentaire (Kcal/personne/jour)         2775   \n",
              "\n",
              "                       Produit  Valeur          Kcal  \n",
              "0                          Blé  1369.0  1.526638e+13  \n",
              "1             Riz (Eq Blanchi)   141.0  1.572359e+12  \n",
              "2                         Orge    26.0  2.899385e+11  \n",
              "3                         Maïs    21.0  2.341811e+11  \n",
              "4                       Millet     3.0  3.345444e+10  \n",
              "...                        ...     ...           ...  \n",
              "14236  Poissons Marins, Autres     0.0  0.000000e+00  \n",
              "14237                Crustacés     0.0  0.000000e+00  \n",
              "14238             Cephalopodes     0.0  0.000000e+00  \n",
              "14239       Mollusques, Autres     0.0  0.000000e+00  \n",
              "14240       Plantes Aquatiques     0.0  0.000000e+00  \n",
              "\n",
              "[14241 rows x 8 columns]"
            ]
          },
          "execution_count": 632,
          "metadata": {},
          "output_type": "execute_result"
        }
      ],
      "source": [
        "m_df_kcal"
      ]
    },
    {
      "cell_type": "code",
      "execution_count": 633,
      "metadata": {},
      "outputs": [
        {
          "data": {
            "text/html": [
              "<div>\n",
              "<style scoped>\n",
              "    .dataframe tbody tr th:only-of-type {\n",
              "        vertical-align: middle;\n",
              "    }\n",
              "\n",
              "    .dataframe tbody tr th {\n",
              "        vertical-align: top;\n",
              "    }\n",
              "\n",
              "    .dataframe thead th {\n",
              "        text-align: right;\n",
              "    }\n",
              "</style>\n",
              "<table border=\"1\" class=\"dataframe\">\n",
              "  <thead>\n",
              "    <tr style=\"text-align: right;\">\n",
              "      <th></th>\n",
              "      <th>Code Pays</th>\n",
              "      <th>Pays</th>\n",
              "      <th>Code Produit</th>\n",
              "      <th>Produit</th>\n",
              "      <th>protéinesKg</th>\n",
              "      <th>protéinesg</th>\n",
              "    </tr>\n",
              "  </thead>\n",
              "  <tbody>\n",
              "    <tr>\n",
              "      <th>0</th>\n",
              "      <td>2</td>\n",
              "      <td>Afghanistan</td>\n",
              "      <td>2511</td>\n",
              "      <td>Blé</td>\n",
              "      <td>411601126.8</td>\n",
              "      <td>4.116011e+11</td>\n",
              "    </tr>\n",
              "    <tr>\n",
              "      <th>1</th>\n",
              "      <td>2</td>\n",
              "      <td>Afghanistan</td>\n",
              "      <td>2805</td>\n",
              "      <td>Riz (Eq Blanchi)</td>\n",
              "      <td>30108996.0</td>\n",
              "      <td>3.010900e+10</td>\n",
              "    </tr>\n",
              "    <tr>\n",
              "      <th>2</th>\n",
              "      <td>2</td>\n",
              "      <td>Afghanistan</td>\n",
              "      <td>2513</td>\n",
              "      <td>Orge</td>\n",
              "      <td>8809669.2</td>\n",
              "      <td>8.809669e+09</td>\n",
              "    </tr>\n",
              "    <tr>\n",
              "      <th>3</th>\n",
              "      <td>2</td>\n",
              "      <td>Afghanistan</td>\n",
              "      <td>2514</td>\n",
              "      <td>Maïs</td>\n",
              "      <td>6244828.8</td>\n",
              "      <td>6.244829e+09</td>\n",
              "    </tr>\n",
              "    <tr>\n",
              "      <th>4</th>\n",
              "      <td>2</td>\n",
              "      <td>Afghanistan</td>\n",
              "      <td>2517</td>\n",
              "      <td>Millet</td>\n",
              "      <td>892118.4</td>\n",
              "      <td>8.921184e+08</td>\n",
              "    </tr>\n",
              "    <tr>\n",
              "      <th>...</th>\n",
              "      <td>...</td>\n",
              "      <td>...</td>\n",
              "      <td>...</td>\n",
              "      <td>...</td>\n",
              "      <td>...</td>\n",
              "      <td>...</td>\n",
              "    </tr>\n",
              "    <tr>\n",
              "      <th>11556</th>\n",
              "      <td>181</td>\n",
              "      <td>Zimbabwe</td>\n",
              "      <td>2764</td>\n",
              "      <td>Poissons Marins, Autres</td>\n",
              "      <td>154942.5</td>\n",
              "      <td>1.549425e+08</td>\n",
              "    </tr>\n",
              "    <tr>\n",
              "      <th>11557</th>\n",
              "      <td>181</td>\n",
              "      <td>Zimbabwe</td>\n",
              "      <td>2765</td>\n",
              "      <td>Crustacés</td>\n",
              "      <td>0.0</td>\n",
              "      <td>0.000000e+00</td>\n",
              "    </tr>\n",
              "    <tr>\n",
              "      <th>11558</th>\n",
              "      <td>181</td>\n",
              "      <td>Zimbabwe</td>\n",
              "      <td>2766</td>\n",
              "      <td>Cephalopodes</td>\n",
              "      <td>0.0</td>\n",
              "      <td>0.000000e+00</td>\n",
              "    </tr>\n",
              "    <tr>\n",
              "      <th>11559</th>\n",
              "      <td>181</td>\n",
              "      <td>Zimbabwe</td>\n",
              "      <td>2767</td>\n",
              "      <td>Mollusques, Autres</td>\n",
              "      <td>0.0</td>\n",
              "      <td>0.000000e+00</td>\n",
              "    </tr>\n",
              "    <tr>\n",
              "      <th>11560</th>\n",
              "      <td>181</td>\n",
              "      <td>Zimbabwe</td>\n",
              "      <td>2775</td>\n",
              "      <td>Plantes Aquatiques</td>\n",
              "      <td>0.0</td>\n",
              "      <td>0.000000e+00</td>\n",
              "    </tr>\n",
              "  </tbody>\n",
              "</table>\n",
              "<p>11561 rows × 6 columns</p>\n",
              "</div>"
            ],
            "text/plain": [
              "      Code Pays         Pays Code Produit                  Produit  \\\n",
              "0             2  Afghanistan         2511                      Blé   \n",
              "1             2  Afghanistan         2805         Riz (Eq Blanchi)   \n",
              "2             2  Afghanistan         2513                     Orge   \n",
              "3             2  Afghanistan         2514                     Maïs   \n",
              "4             2  Afghanistan         2517                   Millet   \n",
              "...         ...          ...          ...                      ...   \n",
              "11556       181     Zimbabwe         2764  Poissons Marins, Autres   \n",
              "11557       181     Zimbabwe         2765                Crustacés   \n",
              "11558       181     Zimbabwe         2766             Cephalopodes   \n",
              "11559       181     Zimbabwe         2767       Mollusques, Autres   \n",
              "11560       181     Zimbabwe         2775       Plantes Aquatiques   \n",
              "\n",
              "       protéinesKg    protéinesg  \n",
              "0      411601126.8  4.116011e+11  \n",
              "1       30108996.0  3.010900e+10  \n",
              "2        8809669.2  8.809669e+09  \n",
              "3        6244828.8  6.244829e+09  \n",
              "4         892118.4  8.921184e+08  \n",
              "...            ...           ...  \n",
              "11556     154942.5  1.549425e+08  \n",
              "11557          0.0  0.000000e+00  \n",
              "11558          0.0  0.000000e+00  \n",
              "11559          0.0  0.000000e+00  \n",
              "11560          0.0  0.000000e+00  \n",
              "\n",
              "[11561 rows x 6 columns]"
            ]
          },
          "execution_count": 633,
          "metadata": {},
          "output_type": "execute_result"
        }
      ],
      "source": [
        "m_df_protéinesKg"
      ]
    },
    {
      "cell_type": "code",
      "execution_count": 634,
      "metadata": {
        "id": "ZtwIMbFuahrI"
      },
      "outputs": [
        {
          "name": "stdout",
          "output_type": "stream",
          "text": [
            "la valeur energitique vegetale monde est :7363883420185000.0 kcal\n",
            "les protéines vegetale monde est :207259180075.55 kg\n",
            "les besoin humain monde en caloris :5874255177000000.0 kcal\n",
            "les besoin humain monde en protéines :204321919200.0 kg\n",
            "La population mondiale est 6997326000.0\n",
            "Nombre d'humains nourris en caloris :8771749160.434782 humains\n",
            "Nombre d'humains nourris en protéines :7097917125.875 humains\n",
            "la population Kcal :125.36%\n",
            "la population kg :101.44%\n"
          ]
        }
      ],
      "source": [
        "'''\n",
        "Pour un homme : entre 2000 et 3000 Kcal/jour\n",
        "Pour une femme : entre 1600 et 2400 Kcal/jour\n",
        "on retient la moyenne de 2300 kcal/jour\n",
        "https://www.webmd.com/diet/calories-chart\n",
        "\n",
        "Les experts recommandent 60 à 100 grammes de protéines par jour on retient la moyenne de 80 grammes\n",
        "https://www.health.harvard.edu/blog/how-much-protein-do-you-need-every-day-201506188096\n",
        "'''\n",
        "\n",
        "Kcal_monde=m_df_kcal.Kcal.sum()\n",
        "kg_monde=m_df_protéinesKg.protéinesKg.sum()\n",
        "Totalpopulation=float(Totalpopulation)\n",
        "besionKcal=float(2300*365)\n",
        "besion_protéines_kg=(80/1000)*365\n",
        "\n",
        "print(f\"la valeur energitique vegetale monde est :{Kcal_monde.round(2)} kcal\")\n",
        "print(f\"les protéines vegetale monde est :{kg_monde.round(2)} kg\")\n",
        "\n",
        "print(f\"les besoin humain monde en caloris :{Totalpopulation*besionKcal} kcal\")\n",
        "print(f\"les besoin humain monde en protéines :{Totalpopulation*besion_protéines_kg} kg\")\n",
        "\n",
        "\n",
        "\n",
        "population_cal=Kcal_monde/besionKcal\n",
        "population_kg=kg_monde/besion_protéines_kg\n",
        "\n",
        "print(f\"La population mondiale est {Totalpopulation}\")\n",
        "\n",
        "print(f\"Nombre d'humains nourris en caloris :{population_cal} humains\")\n",
        "print(f\"Nombre d'humains nourris en protéines :{population_kg} humains\")\n",
        "\n",
        "cal= (population_cal/Totalpopulation)*100\n",
        "kg= (population_kg/Totalpopulation)*100\n",
        "\n",
        "print(f\"la population Kcal :{cal.round(2)}%\")\n",
        "print(f\"la population kg :{kg.round(2)}%\")\n"
      ]
    },
    {
      "cell_type": "markdown",
      "metadata": {
        "id": "GBWwrg-OaiB2"
      },
      "source": [
        "#### Question 8 : Potentiel alimentaire des végétaux (destinés aux animaux pertes)\n",
        "Combien d'humains pourraient être nourris si toute la disponibilité alimentaire en produits végétaux la nourriture végétale destinée aux animaux et les pertes de produits végétaux étaient utilisés pour de la nourriture ? Donnez les résultats en termes de calories, puis de protéines, et exprimez ensuite ces 2 résultats en pourcentage de la population mondiale."
      ]
    },
    {
      "cell_type": "code",
      "execution_count": 635,
      "metadata": {
        "id": "iF5Im1vEaky4"
      },
      "outputs": [
        {
          "name": "stdout",
          "output_type": "stream",
          "text": [
            "-------------vegetal------------------\n",
            "La production de calories mondiale est : 3119411511488554.0Kcal\n",
            "La production de proteines mondiale est : 77487615668.19154Kg\n",
            "le nombre d'humains avec les calories : 3715796916.6033998 humains\n",
            "le nombre d'humains avec les proteines : 2653685468.088752 humains\n",
            "Les humains qui peuvent vivre avec les calories mondiale est : 53.10309847795286 %\n",
            "Les humains qui peuvent vivre avec les proteines mondiale est : 37.92427947602773 %\n"
          ]
        }
      ],
      "source": [
        "\n",
        "\n",
        "def Calcule_Total(df_filtre):\n",
        "    group_df=df_filtre[['Pays', 'Produit', 'Valeur']].groupby(['Pays', 'Produit'],as_index=False).sum()\n",
        "\n",
        "    group_df=group_df.merge(df_Pro_p, on=[ 'Pays', 'Produit'])\n",
        "    group_df=group_df[['Pays', 'Produit', 'Valeur', 'protéines']]\n",
        "\n",
        "    group_df=group_df.merge(df_cal_g, on=[ 'Pays', 'Produit'])\n",
        "    group_df=group_df[['Pays', 'Produit', 'Valeur', 'protéines', 'cal_g']]\n",
        "\n",
        "    group_df=group_df.assign(totalproteinesKg=(group_df['Valeur']*1000*1000)*group_df['protéines'])\n",
        "\n",
        "    group_df=group_df.assign(totalcalKcal=(group_df['Valeur']*1000*1000)*group_df['cal_g'])\n",
        "\n",
        "    return group_df['totalproteinesKg'].sum(), group_df['totalcalKcal'].sum()\n",
        "\n",
        "\n",
        "def Totalprint (totalproteinesKg_mode, totalcalKcal_mode):\n",
        "    \n",
        "    print(f\"La production de calories mondiale est : {totalcalKcal_mode}Kcal\")\n",
        "\n",
        "    print(f\"La production de proteines mondiale est : {totalproteinesKg_mode}Kg\")\n",
        "    \n",
        "    print(f\"le nombre d'humains avec les calories : {(totalcalKcal_mode/besionKcal)} humains\")\n",
        "\n",
        "    print(f\"le nombre d'humains avec les proteines : {(totalproteinesKg_mode/besion_protéines_kg)} humains\")\n",
        "    \n",
        "\n",
        "    print(f\"Les humains qui peuvent vivre avec les calories mondiale est : {((totalcalKcal_mode/besionKcal)/Totalpopulation)*100} %\")\n",
        "    print(f\"Les humains qui peuvent vivre avec les proteines mondiale est : {((totalproteinesKg_mode/besion_protéines_kg)/Totalpopulation)*100} %\")\n",
        "\n",
        "df=FAOSTAT_2013_vegetal\n",
        "df=df.loc[(df['Élément']==\"Aliments pour animaux\") | (df['Élément']==\"Pertes\")] \n",
        "\n",
        "print(\"-------------vegetal------------------\")\n",
        "totalproteinesKg_mode, totalcalKcal_mode = Calcule_Total(df)\n",
        "Totalprint(totalproteinesKg_mode, totalcalKcal_mode)"
      ]
    },
    {
      "cell_type": "markdown",
      "metadata": {
        "id": "kL0p9FpIalN0"
      },
      "source": [
        "#### Question 9 : Potentiel alimentaire de la dispo. Mondiale\n",
        "Combien d'humains pourraient être nourris avec la disponibilité alimentaire mondiale ? Donnez les résultats en termes de calories, puis de protéines, et exprimez ensuite ces 2 résultats en pourcentage de la population mondiale."
      ]
    },
    {
      "cell_type": "code",
      "execution_count": 636,
      "metadata": {},
      "outputs": [
        {
          "data": {
            "text/html": [
              "<div>\n",
              "<style scoped>\n",
              "    .dataframe tbody tr th:only-of-type {\n",
              "        vertical-align: middle;\n",
              "    }\n",
              "\n",
              "    .dataframe tbody tr th {\n",
              "        vertical-align: top;\n",
              "    }\n",
              "\n",
              "    .dataframe thead th {\n",
              "        text-align: right;\n",
              "    }\n",
              "</style>\n",
              "<table border=\"1\" class=\"dataframe\">\n",
              "  <thead>\n",
              "    <tr style=\"text-align: right;\">\n",
              "      <th></th>\n",
              "      <th>Code Pays</th>\n",
              "      <th>Pays</th>\n",
              "      <th>Population</th>\n",
              "      <th>Élément</th>\n",
              "      <th>Code Produit</th>\n",
              "      <th>Produit</th>\n",
              "      <th>Valeur</th>\n",
              "      <th>Kcal</th>\n",
              "    </tr>\n",
              "  </thead>\n",
              "  <tbody>\n",
              "    <tr>\n",
              "      <th>0</th>\n",
              "      <td>2</td>\n",
              "      <td>Afghanistan</td>\n",
              "      <td>30552000</td>\n",
              "      <td>Disponibilité alimentaire (Kcal/personne/jour)</td>\n",
              "      <td>2511</td>\n",
              "      <td>Blé</td>\n",
              "      <td>1369.0</td>\n",
              "      <td>1.526638e+13</td>\n",
              "    </tr>\n",
              "    <tr>\n",
              "      <th>1</th>\n",
              "      <td>2</td>\n",
              "      <td>Afghanistan</td>\n",
              "      <td>30552000</td>\n",
              "      <td>Disponibilité alimentaire (Kcal/personne/jour)</td>\n",
              "      <td>2805</td>\n",
              "      <td>Riz (Eq Blanchi)</td>\n",
              "      <td>141.0</td>\n",
              "      <td>1.572359e+12</td>\n",
              "    </tr>\n",
              "    <tr>\n",
              "      <th>2</th>\n",
              "      <td>2</td>\n",
              "      <td>Afghanistan</td>\n",
              "      <td>30552000</td>\n",
              "      <td>Disponibilité alimentaire (Kcal/personne/jour)</td>\n",
              "      <td>2513</td>\n",
              "      <td>Orge</td>\n",
              "      <td>26.0</td>\n",
              "      <td>2.899385e+11</td>\n",
              "    </tr>\n",
              "    <tr>\n",
              "      <th>3</th>\n",
              "      <td>2</td>\n",
              "      <td>Afghanistan</td>\n",
              "      <td>30552000</td>\n",
              "      <td>Disponibilité alimentaire (Kcal/personne/jour)</td>\n",
              "      <td>2514</td>\n",
              "      <td>Maïs</td>\n",
              "      <td>21.0</td>\n",
              "      <td>2.341811e+11</td>\n",
              "    </tr>\n",
              "    <tr>\n",
              "      <th>4</th>\n",
              "      <td>2</td>\n",
              "      <td>Afghanistan</td>\n",
              "      <td>30552000</td>\n",
              "      <td>Disponibilité alimentaire (Kcal/personne/jour)</td>\n",
              "      <td>2517</td>\n",
              "      <td>Millet</td>\n",
              "      <td>3.0</td>\n",
              "      <td>3.345444e+10</td>\n",
              "    </tr>\n",
              "    <tr>\n",
              "      <th>...</th>\n",
              "      <td>...</td>\n",
              "      <td>...</td>\n",
              "      <td>...</td>\n",
              "      <td>...</td>\n",
              "      <td>...</td>\n",
              "      <td>...</td>\n",
              "      <td>...</td>\n",
              "      <td>...</td>\n",
              "    </tr>\n",
              "    <tr>\n",
              "      <th>14236</th>\n",
              "      <td>181</td>\n",
              "      <td>Zimbabwe</td>\n",
              "      <td>14150000</td>\n",
              "      <td>Disponibilité alimentaire (Kcal/personne/jour)</td>\n",
              "      <td>2764</td>\n",
              "      <td>Poissons Marins, Autres</td>\n",
              "      <td>0.0</td>\n",
              "      <td>0.000000e+00</td>\n",
              "    </tr>\n",
              "    <tr>\n",
              "      <th>14237</th>\n",
              "      <td>181</td>\n",
              "      <td>Zimbabwe</td>\n",
              "      <td>14150000</td>\n",
              "      <td>Disponibilité alimentaire (Kcal/personne/jour)</td>\n",
              "      <td>2765</td>\n",
              "      <td>Crustacés</td>\n",
              "      <td>0.0</td>\n",
              "      <td>0.000000e+00</td>\n",
              "    </tr>\n",
              "    <tr>\n",
              "      <th>14238</th>\n",
              "      <td>181</td>\n",
              "      <td>Zimbabwe</td>\n",
              "      <td>14150000</td>\n",
              "      <td>Disponibilité alimentaire (Kcal/personne/jour)</td>\n",
              "      <td>2766</td>\n",
              "      <td>Cephalopodes</td>\n",
              "      <td>0.0</td>\n",
              "      <td>0.000000e+00</td>\n",
              "    </tr>\n",
              "    <tr>\n",
              "      <th>14239</th>\n",
              "      <td>181</td>\n",
              "      <td>Zimbabwe</td>\n",
              "      <td>14150000</td>\n",
              "      <td>Disponibilité alimentaire (Kcal/personne/jour)</td>\n",
              "      <td>2767</td>\n",
              "      <td>Mollusques, Autres</td>\n",
              "      <td>0.0</td>\n",
              "      <td>0.000000e+00</td>\n",
              "    </tr>\n",
              "    <tr>\n",
              "      <th>14240</th>\n",
              "      <td>181</td>\n",
              "      <td>Zimbabwe</td>\n",
              "      <td>14150000</td>\n",
              "      <td>Disponibilité alimentaire (Kcal/personne/jour)</td>\n",
              "      <td>2775</td>\n",
              "      <td>Plantes Aquatiques</td>\n",
              "      <td>0.0</td>\n",
              "      <td>0.000000e+00</td>\n",
              "    </tr>\n",
              "  </tbody>\n",
              "</table>\n",
              "<p>14241 rows × 8 columns</p>\n",
              "</div>"
            ],
            "text/plain": [
              "      Code Pays         Pays  Population  \\\n",
              "0             2  Afghanistan    30552000   \n",
              "1             2  Afghanistan    30552000   \n",
              "2             2  Afghanistan    30552000   \n",
              "3             2  Afghanistan    30552000   \n",
              "4             2  Afghanistan    30552000   \n",
              "...         ...          ...         ...   \n",
              "14236       181     Zimbabwe    14150000   \n",
              "14237       181     Zimbabwe    14150000   \n",
              "14238       181     Zimbabwe    14150000   \n",
              "14239       181     Zimbabwe    14150000   \n",
              "14240       181     Zimbabwe    14150000   \n",
              "\n",
              "                                              Élément Code Produit  \\\n",
              "0      Disponibilité alimentaire (Kcal/personne/jour)         2511   \n",
              "1      Disponibilité alimentaire (Kcal/personne/jour)         2805   \n",
              "2      Disponibilité alimentaire (Kcal/personne/jour)         2513   \n",
              "3      Disponibilité alimentaire (Kcal/personne/jour)         2514   \n",
              "4      Disponibilité alimentaire (Kcal/personne/jour)         2517   \n",
              "...                                               ...          ...   \n",
              "14236  Disponibilité alimentaire (Kcal/personne/jour)         2764   \n",
              "14237  Disponibilité alimentaire (Kcal/personne/jour)         2765   \n",
              "14238  Disponibilité alimentaire (Kcal/personne/jour)         2766   \n",
              "14239  Disponibilité alimentaire (Kcal/personne/jour)         2767   \n",
              "14240  Disponibilité alimentaire (Kcal/personne/jour)         2775   \n",
              "\n",
              "                       Produit  Valeur          Kcal  \n",
              "0                          Blé  1369.0  1.526638e+13  \n",
              "1             Riz (Eq Blanchi)   141.0  1.572359e+12  \n",
              "2                         Orge    26.0  2.899385e+11  \n",
              "3                         Maïs    21.0  2.341811e+11  \n",
              "4                       Millet     3.0  3.345444e+10  \n",
              "...                        ...     ...           ...  \n",
              "14236  Poissons Marins, Autres     0.0  0.000000e+00  \n",
              "14237                Crustacés     0.0  0.000000e+00  \n",
              "14238             Cephalopodes     0.0  0.000000e+00  \n",
              "14239       Mollusques, Autres     0.0  0.000000e+00  \n",
              "14240       Plantes Aquatiques     0.0  0.000000e+00  \n",
              "\n",
              "[14241 rows x 8 columns]"
            ]
          },
          "execution_count": 636,
          "metadata": {},
          "output_type": "execute_result"
        }
      ],
      "source": [
        "m_df_kcal"
      ]
    },
    {
      "cell_type": "code",
      "execution_count": 637,
      "metadata": {},
      "outputs": [
        {
          "data": {
            "text/html": [
              "<div>\n",
              "<style scoped>\n",
              "    .dataframe tbody tr th:only-of-type {\n",
              "        vertical-align: middle;\n",
              "    }\n",
              "\n",
              "    .dataframe tbody tr th {\n",
              "        vertical-align: top;\n",
              "    }\n",
              "\n",
              "    .dataframe thead th {\n",
              "        text-align: right;\n",
              "    }\n",
              "</style>\n",
              "<table border=\"1\" class=\"dataframe\">\n",
              "  <thead>\n",
              "    <tr style=\"text-align: right;\">\n",
              "      <th></th>\n",
              "      <th>Code Pays</th>\n",
              "      <th>Pays</th>\n",
              "      <th>Code Produit</th>\n",
              "      <th>Produit</th>\n",
              "      <th>protéinesKg</th>\n",
              "      <th>protéinesg</th>\n",
              "    </tr>\n",
              "  </thead>\n",
              "  <tbody>\n",
              "    <tr>\n",
              "      <th>0</th>\n",
              "      <td>2</td>\n",
              "      <td>Afghanistan</td>\n",
              "      <td>2511</td>\n",
              "      <td>Blé</td>\n",
              "      <td>411601126.8</td>\n",
              "      <td>4.116011e+11</td>\n",
              "    </tr>\n",
              "    <tr>\n",
              "      <th>1</th>\n",
              "      <td>2</td>\n",
              "      <td>Afghanistan</td>\n",
              "      <td>2805</td>\n",
              "      <td>Riz (Eq Blanchi)</td>\n",
              "      <td>30108996.0</td>\n",
              "      <td>3.010900e+10</td>\n",
              "    </tr>\n",
              "    <tr>\n",
              "      <th>2</th>\n",
              "      <td>2</td>\n",
              "      <td>Afghanistan</td>\n",
              "      <td>2513</td>\n",
              "      <td>Orge</td>\n",
              "      <td>8809669.2</td>\n",
              "      <td>8.809669e+09</td>\n",
              "    </tr>\n",
              "    <tr>\n",
              "      <th>3</th>\n",
              "      <td>2</td>\n",
              "      <td>Afghanistan</td>\n",
              "      <td>2514</td>\n",
              "      <td>Maïs</td>\n",
              "      <td>6244828.8</td>\n",
              "      <td>6.244829e+09</td>\n",
              "    </tr>\n",
              "    <tr>\n",
              "      <th>4</th>\n",
              "      <td>2</td>\n",
              "      <td>Afghanistan</td>\n",
              "      <td>2517</td>\n",
              "      <td>Millet</td>\n",
              "      <td>892118.4</td>\n",
              "      <td>8.921184e+08</td>\n",
              "    </tr>\n",
              "    <tr>\n",
              "      <th>...</th>\n",
              "      <td>...</td>\n",
              "      <td>...</td>\n",
              "      <td>...</td>\n",
              "      <td>...</td>\n",
              "      <td>...</td>\n",
              "      <td>...</td>\n",
              "    </tr>\n",
              "    <tr>\n",
              "      <th>11556</th>\n",
              "      <td>181</td>\n",
              "      <td>Zimbabwe</td>\n",
              "      <td>2764</td>\n",
              "      <td>Poissons Marins, Autres</td>\n",
              "      <td>154942.5</td>\n",
              "      <td>1.549425e+08</td>\n",
              "    </tr>\n",
              "    <tr>\n",
              "      <th>11557</th>\n",
              "      <td>181</td>\n",
              "      <td>Zimbabwe</td>\n",
              "      <td>2765</td>\n",
              "      <td>Crustacés</td>\n",
              "      <td>0.0</td>\n",
              "      <td>0.000000e+00</td>\n",
              "    </tr>\n",
              "    <tr>\n",
              "      <th>11558</th>\n",
              "      <td>181</td>\n",
              "      <td>Zimbabwe</td>\n",
              "      <td>2766</td>\n",
              "      <td>Cephalopodes</td>\n",
              "      <td>0.0</td>\n",
              "      <td>0.000000e+00</td>\n",
              "    </tr>\n",
              "    <tr>\n",
              "      <th>11559</th>\n",
              "      <td>181</td>\n",
              "      <td>Zimbabwe</td>\n",
              "      <td>2767</td>\n",
              "      <td>Mollusques, Autres</td>\n",
              "      <td>0.0</td>\n",
              "      <td>0.000000e+00</td>\n",
              "    </tr>\n",
              "    <tr>\n",
              "      <th>11560</th>\n",
              "      <td>181</td>\n",
              "      <td>Zimbabwe</td>\n",
              "      <td>2775</td>\n",
              "      <td>Plantes Aquatiques</td>\n",
              "      <td>0.0</td>\n",
              "      <td>0.000000e+00</td>\n",
              "    </tr>\n",
              "  </tbody>\n",
              "</table>\n",
              "<p>11561 rows × 6 columns</p>\n",
              "</div>"
            ],
            "text/plain": [
              "      Code Pays         Pays Code Produit                  Produit  \\\n",
              "0             2  Afghanistan         2511                      Blé   \n",
              "1             2  Afghanistan         2805         Riz (Eq Blanchi)   \n",
              "2             2  Afghanistan         2513                     Orge   \n",
              "3             2  Afghanistan         2514                     Maïs   \n",
              "4             2  Afghanistan         2517                   Millet   \n",
              "...         ...          ...          ...                      ...   \n",
              "11556       181     Zimbabwe         2764  Poissons Marins, Autres   \n",
              "11557       181     Zimbabwe         2765                Crustacés   \n",
              "11558       181     Zimbabwe         2766             Cephalopodes   \n",
              "11559       181     Zimbabwe         2767       Mollusques, Autres   \n",
              "11560       181     Zimbabwe         2775       Plantes Aquatiques   \n",
              "\n",
              "       protéinesKg    protéinesg  \n",
              "0      411601126.8  4.116011e+11  \n",
              "1       30108996.0  3.010900e+10  \n",
              "2        8809669.2  8.809669e+09  \n",
              "3        6244828.8  6.244829e+09  \n",
              "4         892118.4  8.921184e+08  \n",
              "...            ...           ...  \n",
              "11556     154942.5  1.549425e+08  \n",
              "11557          0.0  0.000000e+00  \n",
              "11558          0.0  0.000000e+00  \n",
              "11559          0.0  0.000000e+00  \n",
              "11560          0.0  0.000000e+00  \n",
              "\n",
              "[11561 rows x 6 columns]"
            ]
          },
          "execution_count": 637,
          "metadata": {},
          "output_type": "execute_result"
        }
      ],
      "source": [
        "m_df_protéinesKg"
      ]
    },
    {
      "cell_type": "code",
      "execution_count": 638,
      "metadata": {},
      "outputs": [
        {
          "name": "stdout",
          "output_type": "stream",
          "text": [
            "7363883420185000.0\n",
            "207259180075.55\n",
            "8771749160.434782\n",
            "7097917125.875\n"
          ]
        }
      ],
      "source": [
        "sum_kcal=m_df_kcal.Kcal.sum()\n",
        "print(sum_kcal)\n",
        "sum_kg=m_df_protéinesKg.protéinesKg.sum()\n",
        "print(sum_kg)\n",
        "\n",
        "person_cal=sum_kcal/besionKcal\n",
        "person_prot=sum_kg/besion_protéines_kg\n",
        "print(f\"{person_cal}\")\n",
        "print(f\"{person_prot}\")\n",
        "\n"
      ]
    },
    {
      "cell_type": "code",
      "execution_count": 639,
      "metadata": {},
      "outputs": [
        {
          "name": "stdout",
          "output_type": "stream",
          "text": [
            "Les humains qui peuvent vivre avec les calories mondiale est : 125.35858927302776 %\n",
            "Les humains qui peuvent vivre avec les proteines mondiale est : 101.4375652338479 %\n"
          ]
        }
      ],
      "source": [
        "print(f\"Les humains qui peuvent vivre avec les calories mondiale est : {((person_cal)/Totalpopulation)*100} %\")\n",
        "print(f\"Les humains qui peuvent vivre avec les proteines mondiale est : {((person_prot)/Totalpopulation)*100} %\")"
      ]
    },
    {
      "cell_type": "code",
      "execution_count": 640,
      "metadata": {},
      "outputs": [],
      "source": [
        "# df = pd.concat([FAOSTAT_2013_vegetal, FAOSTAT_2013_animal])\n",
        "# df = df[['Code Pays', 'Pays', 'Élément', 'Code Produit', 'Produit', 'Valeur']]\n",
        "# df = df[df['Élément']=='Nourriture']\n",
        "# print(\"-------------Disponibilité alimentaire------------------\")\n",
        "# totalproteinesKg_mode, totalcalKcal_mode = Calcule_Total(df)\n",
        "# Totalprint(totalproteinesKg_mode, totalcalKcal_mode)"
      ]
    },
    {
      "cell_type": "markdown",
      "metadata": {
        "id": "P8yMAZWqaolA"
      },
      "source": [
        "#### Question 10 : Proportion de la sous-nutrition mondiale\n",
        "A partir des données téléchargées qui concernent la sous-nutrition, répondez à cette question : Quelle proportion de la population mondiale est considérée comme étant en sous-nutrition ?"
      ]
    },
    {
      "cell_type": "code",
      "execution_count": 641,
      "metadata": {},
      "outputs": [
        {
          "name": "stdout",
          "output_type": "stream",
          "text": [
            "6997326000.0\n",
            "la proportion de la population mondiale considérée comme en sous-nutrition est 10.57%\n"
          ]
        },
        {
          "data": {
            "text/html": [
              "<div>\n",
              "<style scoped>\n",
              "    .dataframe tbody tr th:only-of-type {\n",
              "        vertical-align: middle;\n",
              "    }\n",
              "\n",
              "    .dataframe tbody tr th {\n",
              "        vertical-align: top;\n",
              "    }\n",
              "\n",
              "    .dataframe thead th {\n",
              "        text-align: right;\n",
              "    }\n",
              "</style>\n",
              "<table border=\"1\" class=\"dataframe\">\n",
              "  <thead>\n",
              "    <tr style=\"text-align: right;\">\n",
              "      <th></th>\n",
              "      <th>Code zone</th>\n",
              "      <th>Zone</th>\n",
              "      <th>Valeur</th>\n",
              "      <th>Symbole</th>\n",
              "      <th>Description du Symbole</th>\n",
              "      <th>Population</th>\n",
              "      <th>proportion</th>\n",
              "    </tr>\n",
              "  </thead>\n",
              "  <tbody>\n",
              "    <tr>\n",
              "      <th>0</th>\n",
              "      <td>2</td>\n",
              "      <td>Afghanistan</td>\n",
              "      <td>8.1</td>\n",
              "      <td>F</td>\n",
              "      <td>Estimation FAO</td>\n",
              "      <td>30552000</td>\n",
              "      <td>0.001158</td>\n",
              "    </tr>\n",
              "    <tr>\n",
              "      <th>1</th>\n",
              "      <td>202</td>\n",
              "      <td>Afrique du Sud</td>\n",
              "      <td>2.6</td>\n",
              "      <td>F</td>\n",
              "      <td>Estimation FAO</td>\n",
              "      <td>52776000</td>\n",
              "      <td>0.000372</td>\n",
              "    </tr>\n",
              "    <tr>\n",
              "      <th>2</th>\n",
              "      <td>3</td>\n",
              "      <td>Albanie</td>\n",
              "      <td>0.2</td>\n",
              "      <td>F</td>\n",
              "      <td>Estimation FAO</td>\n",
              "      <td>3173000</td>\n",
              "      <td>0.000029</td>\n",
              "    </tr>\n",
              "    <tr>\n",
              "      <th>3</th>\n",
              "      <td>4</td>\n",
              "      <td>Algérie</td>\n",
              "      <td>1.8</td>\n",
              "      <td>F</td>\n",
              "      <td>Estimation FAO</td>\n",
              "      <td>39208000</td>\n",
              "      <td>0.000257</td>\n",
              "    </tr>\n",
              "    <tr>\n",
              "      <th>4</th>\n",
              "      <td>79</td>\n",
              "      <td>Allemagne</td>\n",
              "      <td>0.0</td>\n",
              "      <td>&lt;2</td>\n",
              "      <td>Moins de 2 millions de personnes sont sous-ali...</td>\n",
              "      <td>82727000</td>\n",
              "      <td>0.000000</td>\n",
              "    </tr>\n",
              "    <tr>\n",
              "      <th>...</th>\n",
              "      <td>...</td>\n",
              "      <td>...</td>\n",
              "      <td>...</td>\n",
              "      <td>...</td>\n",
              "      <td>...</td>\n",
              "      <td>...</td>\n",
              "      <td>...</td>\n",
              "    </tr>\n",
              "    <tr>\n",
              "      <th>161</th>\n",
              "      <td>236</td>\n",
              "      <td>Venezuela (République bolivarienne du)</td>\n",
              "      <td>1.8</td>\n",
              "      <td>F</td>\n",
              "      <td>Estimation FAO</td>\n",
              "      <td>30405000</td>\n",
              "      <td>0.000257</td>\n",
              "    </tr>\n",
              "    <tr>\n",
              "      <th>162</th>\n",
              "      <td>237</td>\n",
              "      <td>Viet Nam</td>\n",
              "      <td>11.1</td>\n",
              "      <td>F</td>\n",
              "      <td>Estimation FAO</td>\n",
              "      <td>91680000</td>\n",
              "      <td>0.001586</td>\n",
              "    </tr>\n",
              "    <tr>\n",
              "      <th>163</th>\n",
              "      <td>249</td>\n",
              "      <td>Yémen</td>\n",
              "      <td>7.1</td>\n",
              "      <td>F</td>\n",
              "      <td>Estimation FAO</td>\n",
              "      <td>24407000</td>\n",
              "      <td>0.001015</td>\n",
              "    </tr>\n",
              "    <tr>\n",
              "      <th>164</th>\n",
              "      <td>251</td>\n",
              "      <td>Zambie</td>\n",
              "      <td>7.0</td>\n",
              "      <td>F</td>\n",
              "      <td>Estimation FAO</td>\n",
              "      <td>14539000</td>\n",
              "      <td>0.001000</td>\n",
              "    </tr>\n",
              "    <tr>\n",
              "      <th>165</th>\n",
              "      <td>181</td>\n",
              "      <td>Zimbabwe</td>\n",
              "      <td>6.7</td>\n",
              "      <td>F</td>\n",
              "      <td>Estimation FAO</td>\n",
              "      <td>14150000</td>\n",
              "      <td>0.000958</td>\n",
              "    </tr>\n",
              "  </tbody>\n",
              "</table>\n",
              "<p>166 rows × 7 columns</p>\n",
              "</div>"
            ],
            "text/plain": [
              "    Code zone                                    Zone  Valeur Symbole  \\\n",
              "0           2                             Afghanistan     8.1       F   \n",
              "1         202                          Afrique du Sud     2.6       F   \n",
              "2           3                                 Albanie     0.2       F   \n",
              "3           4                                 Algérie     1.8       F   \n",
              "4          79                               Allemagne     0.0      <2   \n",
              "..        ...                                     ...     ...     ...   \n",
              "161       236  Venezuela (République bolivarienne du)     1.8       F   \n",
              "162       237                                Viet Nam    11.1       F   \n",
              "163       249                                   Yémen     7.1       F   \n",
              "164       251                                  Zambie     7.0       F   \n",
              "165       181                                Zimbabwe     6.7       F   \n",
              "\n",
              "                                Description du Symbole  Population  proportion  \n",
              "0                                       Estimation FAO    30552000    0.001158  \n",
              "1                                       Estimation FAO    52776000    0.000372  \n",
              "2                                       Estimation FAO     3173000    0.000029  \n",
              "3                                       Estimation FAO    39208000    0.000257  \n",
              "4    Moins de 2 millions de personnes sont sous-ali...    82727000    0.000000  \n",
              "..                                                 ...         ...         ...  \n",
              "161                                     Estimation FAO    30405000    0.000257  \n",
              "162                                     Estimation FAO    91680000    0.001586  \n",
              "163                                     Estimation FAO    24407000    0.001015  \n",
              "164                                     Estimation FAO    14539000    0.001000  \n",
              "165                                     Estimation FAO    14150000    0.000958  \n",
              "\n",
              "[166 rows x 7 columns]"
            ]
          },
          "execution_count": 641,
          "metadata": {},
          "output_type": "execute_result"
        }
      ],
      "source": [
        "# Cleaning sous_alimentation\n",
        "FAOSTAT_2013_sous_alimentation = FAOSTAT_2013_sous_alimentation.query(\"Symbole != 'NV'\")\n",
        "df=FAOSTAT_2013_sous_alimentation\n",
        "\n",
        "dPopulation=FAOSTAT_2013_population\n",
        "dPopulation=dPopulation[['Country Code', 'Country', 'Value']]\n",
        "dPopulation.loc[:,'Value']=FAOSTAT_2013_population['Value']*1000\n",
        "\n",
        "\n",
        "\n",
        "\n",
        "df = FAOSTAT_2013_sous_alimentation.merge(dPopulation, left_on='Code zone', right_on='Country Code')\n",
        "\n",
        "df['Valeur'].fillna(0, inplace=True)\n",
        "\n",
        "df.rename(columns={'Value': 'Population'}, inplace=True)\n",
        "df=df[['Code zone', 'Zone', 'Valeur', 'Symbole', 'Description du Symbole', 'Population']]\n",
        "\n",
        "      \n",
        "df=df.assign(proportion=df['Valeur']*1e6/Totalpopulation)\n",
        "proportion_mondiale=(df['Valeur'].sum()*1e6/Totalpopulation)*100\n",
        "print(Totalpopulation)\n",
        "print(f'la proportion de la population mondiale considérée comme en sous-nutrition est {proportion_mondiale.round(2)}%')\n",
        "Sous_alimentation=df\n",
        "Sous_alimentation\n"
      ]
    },
    {
      "cell_type": "code",
      "execution_count": 642,
      "metadata": {},
      "outputs": [
        {
          "data": {
            "image/png": "[encoded data removed]",
            "text/plain": [
              "<Figure size 640x480 with 1 Axes>"
            ]
          },
          "metadata": {},
          "output_type": "display_data"
        }
      ],
      "source": [
        "# Vos données\n",
        "proportion_mondiale=(df['Valeur'].sum()*1e6/df['Population'].sum())*100\n",
        "\n",
        "\n",
        "\n",
        "population_sous_nutri = df['Valeur'].sum() * 1e6\n",
        "population_total =Totalpopulation\n",
        "\n",
        "# Création des labels et des valeurs\n",
        "labels = ['Population sous-nutri', 'Population total']\n",
        "sizes = [population_sous_nutri, population_total-population_sous_nutri]\n",
        "\n",
        "# Création du graphique\n",
        "fig1, ax1 = plt.subplots()\n",
        "ax1.pie(sizes, labels=labels, autopct='%1.1f%%', startangle=90, colors=color_list_pie)\n",
        "\n",
        "# Assure que le graphique est dessiné en cercle.\n",
        "ax1.axis('equal')\n",
        "\n",
        "plt.show()"
      ]
    },
    {
      "cell_type": "code",
      "execution_count": 643,
      "metadata": {
        "id": "BUHyqcKOarGi"
      },
      "outputs": [
        {
          "name": "stdout",
          "output_type": "stream",
          "text": [
            "Le nombre d'humains sur la planète est: 6997326000\n",
            "la proportion de la population mondiale considérée comme en sous-nutrition est 10.59%\n"
          ]
        },
        {
          "data": {
            "text/html": [
              "<div>\n",
              "<style scoped>\n",
              "    .dataframe tbody tr th:only-of-type {\n",
              "        vertical-align: middle;\n",
              "    }\n",
              "\n",
              "    .dataframe tbody tr th {\n",
              "        vertical-align: top;\n",
              "    }\n",
              "\n",
              "    .dataframe thead th {\n",
              "        text-align: right;\n",
              "    }\n",
              "</style>\n",
              "<table border=\"1\" class=\"dataframe\">\n",
              "  <thead>\n",
              "    <tr style=\"text-align: right;\">\n",
              "      <th></th>\n",
              "      <th>Code zone</th>\n",
              "      <th>Zone</th>\n",
              "      <th>Valeur</th>\n",
              "      <th>Symbole</th>\n",
              "      <th>Description du Symbole</th>\n",
              "      <th>Population</th>\n",
              "      <th>proportion</th>\n",
              "    </tr>\n",
              "  </thead>\n",
              "  <tbody>\n",
              "    <tr>\n",
              "      <th>0</th>\n",
              "      <td>2</td>\n",
              "      <td>Afghanistan</td>\n",
              "      <td>8.1</td>\n",
              "      <td>F</td>\n",
              "      <td>Estimation FAO</td>\n",
              "      <td>30552000</td>\n",
              "      <td>26.512176</td>\n",
              "    </tr>\n",
              "    <tr>\n",
              "      <th>1</th>\n",
              "      <td>202</td>\n",
              "      <td>Afrique du Sud</td>\n",
              "      <td>2.6</td>\n",
              "      <td>F</td>\n",
              "      <td>Estimation FAO</td>\n",
              "      <td>52776000</td>\n",
              "      <td>4.926482</td>\n",
              "    </tr>\n",
              "    <tr>\n",
              "      <th>2</th>\n",
              "      <td>3</td>\n",
              "      <td>Albanie</td>\n",
              "      <td>0.2</td>\n",
              "      <td>F</td>\n",
              "      <td>Estimation FAO</td>\n",
              "      <td>3173000</td>\n",
              "      <td>6.303183</td>\n",
              "    </tr>\n",
              "    <tr>\n",
              "      <th>3</th>\n",
              "      <td>4</td>\n",
              "      <td>Algérie</td>\n",
              "      <td>1.8</td>\n",
              "      <td>F</td>\n",
              "      <td>Estimation FAO</td>\n",
              "      <td>39208000</td>\n",
              "      <td>4.590900</td>\n",
              "    </tr>\n",
              "    <tr>\n",
              "      <th>4</th>\n",
              "      <td>79</td>\n",
              "      <td>Allemagne</td>\n",
              "      <td>NaN</td>\n",
              "      <td>&lt;2</td>\n",
              "      <td>Moins de 2 millions de personnes sont sous-ali...</td>\n",
              "      <td>82727000</td>\n",
              "      <td>NaN</td>\n",
              "    </tr>\n",
              "    <tr>\n",
              "      <th>...</th>\n",
              "      <td>...</td>\n",
              "      <td>...</td>\n",
              "      <td>...</td>\n",
              "      <td>...</td>\n",
              "      <td>...</td>\n",
              "      <td>...</td>\n",
              "      <td>...</td>\n",
              "    </tr>\n",
              "    <tr>\n",
              "      <th>161</th>\n",
              "      <td>236</td>\n",
              "      <td>Venezuela (République bolivarienne du)</td>\n",
              "      <td>1.8</td>\n",
              "      <td>F</td>\n",
              "      <td>Estimation FAO</td>\n",
              "      <td>30405000</td>\n",
              "      <td>5.920079</td>\n",
              "    </tr>\n",
              "    <tr>\n",
              "      <th>162</th>\n",
              "      <td>237</td>\n",
              "      <td>Viet Nam</td>\n",
              "      <td>11.1</td>\n",
              "      <td>F</td>\n",
              "      <td>Estimation FAO</td>\n",
              "      <td>91680000</td>\n",
              "      <td>12.107330</td>\n",
              "    </tr>\n",
              "    <tr>\n",
              "      <th>163</th>\n",
              "      <td>249</td>\n",
              "      <td>Yémen</td>\n",
              "      <td>7.1</td>\n",
              "      <td>F</td>\n",
              "      <td>Estimation FAO</td>\n",
              "      <td>24407000</td>\n",
              "      <td>29.090015</td>\n",
              "    </tr>\n",
              "    <tr>\n",
              "      <th>164</th>\n",
              "      <td>251</td>\n",
              "      <td>Zambie</td>\n",
              "      <td>7.0</td>\n",
              "      <td>F</td>\n",
              "      <td>Estimation FAO</td>\n",
              "      <td>14539000</td>\n",
              "      <td>48.146365</td>\n",
              "    </tr>\n",
              "    <tr>\n",
              "      <th>165</th>\n",
              "      <td>181</td>\n",
              "      <td>Zimbabwe</td>\n",
              "      <td>6.7</td>\n",
              "      <td>F</td>\n",
              "      <td>Estimation FAO</td>\n",
              "      <td>14150000</td>\n",
              "      <td>47.349823</td>\n",
              "    </tr>\n",
              "  </tbody>\n",
              "</table>\n",
              "<p>166 rows × 7 columns</p>\n",
              "</div>"
            ],
            "text/plain": [
              "    Code zone                                    Zone  Valeur Symbole  \\\n",
              "0           2                             Afghanistan     8.1       F   \n",
              "1         202                          Afrique du Sud     2.6       F   \n",
              "2           3                                 Albanie     0.2       F   \n",
              "3           4                                 Algérie     1.8       F   \n",
              "4          79                               Allemagne     NaN      <2   \n",
              "..        ...                                     ...     ...     ...   \n",
              "161       236  Venezuela (République bolivarienne du)     1.8       F   \n",
              "162       237                                Viet Nam    11.1       F   \n",
              "163       249                                   Yémen     7.1       F   \n",
              "164       251                                  Zambie     7.0       F   \n",
              "165       181                                Zimbabwe     6.7       F   \n",
              "\n",
              "                                Description du Symbole  Population  proportion  \n",
              "0                                       Estimation FAO    30552000   26.512176  \n",
              "1                                       Estimation FAO    52776000    4.926482  \n",
              "2                                       Estimation FAO     3173000    6.303183  \n",
              "3                                       Estimation FAO    39208000    4.590900  \n",
              "4    Moins de 2 millions de personnes sont sous-ali...    82727000         NaN  \n",
              "..                                                 ...         ...         ...  \n",
              "161                                     Estimation FAO    30405000    5.920079  \n",
              "162                                     Estimation FAO    91680000   12.107330  \n",
              "163                                     Estimation FAO    24407000   29.090015  \n",
              "164                                     Estimation FAO    14539000   48.146365  \n",
              "165                                     Estimation FAO    14150000   47.349823  \n",
              "\n",
              "[166 rows x 7 columns]"
            ]
          },
          "execution_count": 643,
          "metadata": {},
          "output_type": "execute_result"
        }
      ],
      "source": [
        "# Cleaning sous_alimentation\n",
        "FAOSTAT_2013_sous_alimentation = FAOSTAT_2013_sous_alimentation.query(\"Symbole != 'NV'\")\n",
        "df=FAOSTAT_2013_sous_alimentation.copy()\n",
        "mask = df['Symbole'].str.contains('<')\n",
        "df.loc[mask, 'Valeur'] = df.loc[mask, 'Symbole'].str.replace('<', '').astype(float)\n",
        "\n",
        "Totalpopulation=FAOSTAT_2013_population['Value'].sum()*1000\n",
        "print(f\"Le nombre d'humains sur la planète est: {Totalpopulation}\")\n",
        "\n",
        "dPopulation=FAOSTAT_2013_population\n",
        "dPopulation=dPopulation[['Country Code', 'Country', 'Value']]\n",
        "dPopulation.loc[:,'Value']=FAOSTAT_2013_population['Value']*1000\n",
        "\n",
        "\n",
        "df = FAOSTAT_2013_sous_alimentation.merge(dPopulation, left_on='Code zone', right_on='Country Code')\n",
        "#df=df.dropna()\n",
        "df.rename(columns={'Value': 'Population'}, inplace=True)\n",
        "df=df[['Code zone', 'Zone', 'Valeur', 'Symbole', 'Description du Symbole', 'Population']]\n",
        "\n",
        "      \n",
        "df=df.assign(proportion=df['Valeur']*1e6/df['Population']*100)\n",
        "proportion_mondiale=(df['Valeur'].sum()*1e6/df['Population'].sum())*100\n",
        "\n",
        "print(f'la proportion de la population mondiale considérée comme en sous-nutrition est {proportion_mondiale.round(2)}%')\n",
        "Sous_alimentation=df\n",
        "Sous_alimentation"
      ]
    },
    {
      "cell_type": "code",
      "execution_count": 644,
      "metadata": {},
      "outputs": [
        {
          "data": {
            "image/png": "[encoded data removed]",
            "text/plain": [
              "<Figure size 640x480 with 1 Axes>"
            ]
          },
          "metadata": {},
          "output_type": "display_data"
        }
      ],
      "source": [
        "# Vos données\n",
        "proportion_mondiale=(df['Valeur'].sum()*1e6/df['Population'].sum())*100\n",
        "\n",
        "\n",
        "population_sous_nutri = df['Valeur'].sum() * 1e6\n",
        "population_total =df['Population'].sum()\n",
        "\n",
        "# Création des labels et des valeurs\n",
        "labels = ['Population sous-nutri', 'Population total']\n",
        "sizes = [population_sous_nutri, population_total-population_sous_nutri]\n",
        "\n",
        "# Création du graphique\n",
        "fig1, ax1 = plt.subplots()\n",
        "ax1.pie(sizes, labels=labels, autopct='%1.1f%%', startangle=90, colors=color_list_pie)\n",
        "\n",
        "# Assure que le graphique est dessiné en cercle.\n",
        "ax1.axis('equal')\n",
        "\n",
        "plt.show()"
      ]
    },
    {
      "cell_type": "markdown",
      "metadata": {
        "id": "JOB7I9fDarj7"
      },
      "source": [
        "#### Question 11 : Céréales\n",
        "Établissez la liste des produits (ainsi que leur code) considéré comme des céréales selon la FAO. En ne prenant en compte que les céréales destinées à l'alimentation (humaine et animale), quelle proportion (en termes de poids) est destinée à l'alimentation animale ?"
      ]
    },
    {
      "cell_type": "code",
      "execution_count": 645,
      "metadata": {
        "id": "OkJK7gp_au3k"
      },
      "outputs": [
        {
          "data": {
            "text/html": [
              "<div>\n",
              "<style scoped>\n",
              "    .dataframe tbody tr th:only-of-type {\n",
              "        vertical-align: middle;\n",
              "    }\n",
              "\n",
              "    .dataframe tbody tr th {\n",
              "        vertical-align: top;\n",
              "    }\n",
              "\n",
              "    .dataframe thead th {\n",
              "        text-align: right;\n",
              "    }\n",
              "</style>\n",
              "<table border=\"1\" class=\"dataframe\">\n",
              "  <thead>\n",
              "    <tr style=\"text-align: right;\">\n",
              "      <th>Élément</th>\n",
              "      <th>Code Produit</th>\n",
              "      <th>Produit</th>\n",
              "      <th>Aliments pour animaux</th>\n",
              "      <th>Nourriture</th>\n",
              "      <th>proportion_animale</th>\n",
              "    </tr>\n",
              "  </thead>\n",
              "  <tbody>\n",
              "    <tr>\n",
              "      <th>0</th>\n",
              "      <td>2511</td>\n",
              "      <td>Blé</td>\n",
              "      <td>129668.0</td>\n",
              "      <td>457824.0</td>\n",
              "      <td>22.071449</td>\n",
              "    </tr>\n",
              "    <tr>\n",
              "      <th>1</th>\n",
              "      <td>2513</td>\n",
              "      <td>Orge</td>\n",
              "      <td>92658.0</td>\n",
              "      <td>6794.0</td>\n",
              "      <td>93.168564</td>\n",
              "    </tr>\n",
              "    <tr>\n",
              "      <th>2</th>\n",
              "      <td>2514</td>\n",
              "      <td>Maïs</td>\n",
              "      <td>546116.0</td>\n",
              "      <td>125184.0</td>\n",
              "      <td>81.352004</td>\n",
              "    </tr>\n",
              "    <tr>\n",
              "      <th>3</th>\n",
              "      <td>2515</td>\n",
              "      <td>Seigle</td>\n",
              "      <td>8099.0</td>\n",
              "      <td>5502.0</td>\n",
              "      <td>59.547092</td>\n",
              "    </tr>\n",
              "    <tr>\n",
              "      <th>4</th>\n",
              "      <td>2516</td>\n",
              "      <td>Avoine</td>\n",
              "      <td>16251.0</td>\n",
              "      <td>3903.0</td>\n",
              "      <td>80.634117</td>\n",
              "    </tr>\n",
              "    <tr>\n",
              "      <th>5</th>\n",
              "      <td>2517</td>\n",
              "      <td>Millet</td>\n",
              "      <td>3306.0</td>\n",
              "      <td>23040.0</td>\n",
              "      <td>12.548394</td>\n",
              "    </tr>\n",
              "    <tr>\n",
              "      <th>6</th>\n",
              "      <td>2518</td>\n",
              "      <td>Sorgho</td>\n",
              "      <td>24808.0</td>\n",
              "      <td>24153.0</td>\n",
              "      <td>50.668900</td>\n",
              "    </tr>\n",
              "    <tr>\n",
              "      <th>7</th>\n",
              "      <td>2520</td>\n",
              "      <td>Céréales, Autres</td>\n",
              "      <td>19035.0</td>\n",
              "      <td>5324.0</td>\n",
              "      <td>78.143602</td>\n",
              "    </tr>\n",
              "    <tr>\n",
              "      <th>8</th>\n",
              "      <td>2805</td>\n",
              "      <td>Riz (Eq Blanchi)</td>\n",
              "      <td>33594.0</td>\n",
              "      <td>377286.0</td>\n",
              "      <td>8.176110</td>\n",
              "    </tr>\n",
              "  </tbody>\n",
              "</table>\n",
              "</div>"
            ],
            "text/plain": [
              "Élément Code Produit           Produit  Aliments pour animaux  Nourriture  \\\n",
              "0               2511               Blé               129668.0    457824.0   \n",
              "1               2513              Orge                92658.0      6794.0   \n",
              "2               2514              Maïs               546116.0    125184.0   \n",
              "3               2515            Seigle                 8099.0      5502.0   \n",
              "4               2516            Avoine                16251.0      3903.0   \n",
              "5               2517            Millet                 3306.0     23040.0   \n",
              "6               2518            Sorgho                24808.0     24153.0   \n",
              "7               2520  Céréales, Autres                19035.0      5324.0   \n",
              "8               2805  Riz (Eq Blanchi)                33594.0    377286.0   \n",
              "\n",
              "Élément  proportion_animale  \n",
              "0                 22.071449  \n",
              "1                 93.168564  \n",
              "2                 81.352004  \n",
              "3                 59.547092  \n",
              "4                 80.634117  \n",
              "5                 12.548394  \n",
              "6                 50.668900  \n",
              "7                 78.143602  \n",
              "8                  8.176110  "
            ]
          },
          "execution_count": 645,
          "metadata": {},
          "output_type": "execute_result"
        }
      ],
      "source": [
        "cereal=FAOSTAT_2013_cereal\n",
        " \n",
        "cereal=cereal.loc[(cereal['Élément']=='Aliments pour animaux') | (cereal['Élément']=='Nourriture')]\n",
        "cereal=cereal[['Code Produit', 'Produit', 'Élément','Valeur']]\n",
        "groupe_cereal=cereal.groupby(['Code Produit','Produit', 'Élément'],as_index=False).sum()\n",
        "\n",
        "g_cereal = groupe_cereal.pivot(index=['Code Produit', 'Produit'], columns='Élément', values='Valeur').reset_index()\n",
        "g_cereal=g_cereal.assign(proportion_animale=g_cereal['Aliments pour animaux']/(g_cereal['Aliments pour animaux']+g_cereal['Nourriture'])*100)\n",
        "g_cereal\n",
        "\n",
        "\n"
      ]
    },
    {
      "cell_type": "code",
      "execution_count": 646,
      "metadata": {},
      "outputs": [
        {
          "name": "stdout",
          "output_type": "stream",
          "text": [
            "la proportion est : 45.91%\n"
          ]
        }
      ],
      "source": [
        "proportion_animale=g_cereal['Aliments pour animaux'].sum()/(g_cereal['Aliments pour animaux'].sum()+g_cereal['Nourriture'].sum())*100\n",
        "print(f\"la proportion est : {proportion_animale.round(2)}%\")"
      ]
    },
    {
      "cell_type": "code",
      "execution_count": 647,
      "metadata": {},
      "outputs": [
        {
          "data": {
            "application/vnd.plotly.v1+json": {
              "config": {
                "plotlyServerURL": "https://plot.ly"
              },
              "data": [
                {
                  "alignmentgroup": "True",
                  "hovertemplate": "x=%{x}<br>y=%{y}<extra></extra>",
                  "legendgroup": "",
                  "marker": {
                    "color": "#039be5",
                    "pattern": {
                      "shape": ""
                    }
                  },
                  "name": "",
                  "offsetgroup": "",
                  "orientation": "v",
                  "showlegend": false,
                  "textposition": "auto",
                  "type": "bar",
                  "x": [
                    "Orge",
                    "Maïs",
                    "Avoine",
                    "Céréales, Autres",
                    "Seigle",
                    "Sorgho",
                    "Blé",
                    "Millet",
                    "Riz (Eq Blanchi)"
                  ],
                  "xaxis": "x",
                  "y": [
                    93.16856372923621,
                    81.3520035751527,
                    80.63411729681454,
                    78.1436019541032,
                    59.547092125579006,
                    50.668899736524985,
                    22.071449483567434,
                    12.54839444317923,
                    8.176109813084112
                  ],
                  "yaxis": "y"
                }
              ],
              "layout": {
                "barmode": "relative",
                "height": 1000,
                "legend": {
                  "tracegroupgap": 0
                },
                "margin": {
                  "t": 60
                },
                "template": {
                  "data": {
                    "bar": [
                      {
                        "error_x": {
                          "color": "#2a3f5f"
                        },
                        "error_y": {
                          "color": "#2a3f5f"
                        },
                        "marker": {
                          "line": {
                            "color": "#E5ECF6",
                            "width": 0.5
                          },
                          "pattern": {
                            "fillmode": "overlay",
                            "size": 10,
                            "solidity": 0.2
                          }
                        },
                        "type": "bar"
                      }
                    ],
                    "barpolar": [
                      {
                        "marker": {
                          "line": {
                            "color": "#E5ECF6",
                            "width": 0.5
                          },
                          "pattern": {
                            "fillmode": "overlay",
                            "size": 10,
                            "solidity": 0.2
                          }
                        },
                        "type": "barpolar"
                      }
                    ],
                    "carpet": [
                      {
                        "aaxis": {
                          "endlinecolor": "#2a3f5f",
                          "gridcolor": "white",
                          "linecolor": "white",
                          "minorgridcolor": "white",
                          "startlinecolor": "#2a3f5f"
                        },
                        "baxis": {
                          "endlinecolor": "#2a3f5f",
                          "gridcolor": "white",
                          "linecolor": "white",
                          "minorgridcolor": "white",
                          "startlinecolor": "#2a3f5f"
                        },
                        "type": "carpet"
                      }
                    ],
                    "choropleth": [
                      {
                        "colorbar": {
                          "outlinewidth": 0,
                          "ticks": ""
                        },
                        "type": "choropleth"
                      }
                    ],
                    "contour": [
                      {
                        "colorbar": {
                          "outlinewidth": 0,
                          "ticks": ""
                        },
                        "colorscale": [
                          [
                            0,
                            "#0d0887"
                          ],
                          [
                            0.1111111111111111,
                            "#46039f"
                          ],
                          [
                            0.2222222222222222,
                            "#7201a8"
                          ],
                          [
                            0.3333333333333333,
                            "#9c179e"
                          ],
                          [
                            0.4444444444444444,
                            "#bd3786"
                          ],
                          [
                            0.5555555555555556,
                            "#d8576b"
                          ],
                          [
                            0.6666666666666666,
                            "#ed7953"
                          ],
                          [
                            0.7777777777777778,
                            "#fb9f3a"
                          ],
                          [
                            0.8888888888888888,
                            "#fdca26"
                          ],
                          [
                            1,
                            "#f0f921"
                          ]
                        ],
                        "type": "contour"
                      }
                    ],
                    "contourcarpet": [
                      {
                        "colorbar": {
                          "outlinewidth": 0,
                          "ticks": ""
                        },
                        "type": "contourcarpet"
                      }
                    ],
                    "heatmap": [
                      {
                        "colorbar": {
                          "outlinewidth": 0,
                          "ticks": ""
                        },
                        "colorscale": [
                          [
                            0,
                            "#0d0887"
                          ],
                          [
                            0.1111111111111111,
                            "#46039f"
                          ],
                          [
                            0.2222222222222222,
                            "#7201a8"
                          ],
                          [
                            0.3333333333333333,
                            "#9c179e"
                          ],
                          [
                            0.4444444444444444,
                            "#bd3786"
                          ],
                          [
                            0.5555555555555556,
                            "#d8576b"
                          ],
                          [
                            0.6666666666666666,
                            "#ed7953"
                          ],
                          [
                            0.7777777777777778,
                            "#fb9f3a"
                          ],
                          [
                            0.8888888888888888,
                            "#fdca26"
                          ],
                          [
                            1,
                            "#f0f921"
                          ]
                        ],
                        "type": "heatmap"
                      }
                    ],
                    "heatmapgl": [
                      {
                        "colorbar": {
                          "outlinewidth": 0,
                          "ticks": ""
                        },
                        "colorscale": [
                          [
                            0,
                            "#0d0887"
                          ],
                          [
                            0.1111111111111111,
                            "#46039f"
                          ],
                          [
                            0.2222222222222222,
                            "#7201a8"
                          ],
                          [
                            0.3333333333333333,
                            "#9c179e"
                          ],
                          [
                            0.4444444444444444,
                            "#bd3786"
                          ],
                          [
                            0.5555555555555556,
                            "#d8576b"
                          ],
                          [
                            0.6666666666666666,
                            "#ed7953"
                          ],
                          [
                            0.7777777777777778,
                            "#fb9f3a"
                          ],
                          [
                            0.8888888888888888,
                            "#fdca26"
                          ],
                          [
                            1,
                            "#f0f921"
                          ]
                        ],
                        "type": "heatmapgl"
                      }
                    ],
                    "histogram": [
                      {
                        "marker": {
                          "pattern": {
                            "fillmode": "overlay",
                            "size": 10,
                            "solidity": 0.2
                          }
                        },
                        "type": "histogram"
                      }
                    ],
                    "histogram2d": [
                      {
                        "colorbar": {
                          "outlinewidth": 0,
                          "ticks": ""
                        },
                        "colorscale": [
                          [
                            0,
                            "#0d0887"
                          ],
                          [
                            0.1111111111111111,
                            "#46039f"
                          ],
                          [
                            0.2222222222222222,
                            "#7201a8"
                          ],
                          [
                            0.3333333333333333,
                            "#9c179e"
                          ],
                          [
                            0.4444444444444444,
                            "#bd3786"
                          ],
                          [
                            0.5555555555555556,
                            "#d8576b"
                          ],
                          [
                            0.6666666666666666,
                            "#ed7953"
                          ],
                          [
                            0.7777777777777778,
                            "#fb9f3a"
                          ],
                          [
                            0.8888888888888888,
                            "#fdca26"
                          ],
                          [
                            1,
                            "#f0f921"
                          ]
                        ],
                        "type": "histogram2d"
                      }
                    ],
                    "histogram2dcontour": [
                      {
                        "colorbar": {
                          "outlinewidth": 0,
                          "ticks": ""
                        },
                        "colorscale": [
                          [
                            0,
                            "#0d0887"
                          ],
                          [
                            0.1111111111111111,
                            "#46039f"
                          ],
                          [
                            0.2222222222222222,
                            "#7201a8"
                          ],
                          [
                            0.3333333333333333,
                            "#9c179e"
                          ],
                          [
                            0.4444444444444444,
                            "#bd3786"
                          ],
                          [
                            0.5555555555555556,
                            "#d8576b"
                          ],
                          [
                            0.6666666666666666,
                            "#ed7953"
                          ],
                          [
                            0.7777777777777778,
                            "#fb9f3a"
                          ],
                          [
                            0.8888888888888888,
                            "#fdca26"
                          ],
                          [
                            1,
                            "#f0f921"
                          ]
                        ],
                        "type": "histogram2dcontour"
                      }
                    ],
                    "mesh3d": [
                      {
                        "colorbar": {
                          "outlinewidth": 0,
                          "ticks": ""
                        },
                        "type": "mesh3d"
                      }
                    ],
                    "parcoords": [
                      {
                        "line": {
                          "colorbar": {
                            "outlinewidth": 0,
                            "ticks": ""
                          }
                        },
                        "type": "parcoords"
                      }
                    ],
                    "pie": [
                      {
                        "automargin": true,
                        "type": "pie"
                      }
                    ],
                    "scatter": [
                      {
                        "fillpattern": {
                          "fillmode": "overlay",
                          "size": 10,
                          "solidity": 0.2
                        },
                        "type": "scatter"
                      }
                    ],
                    "scatter3d": [
                      {
                        "line": {
                          "colorbar": {
                            "outlinewidth": 0,
                            "ticks": ""
                          }
                        },
                        "marker": {
                          "colorbar": {
                            "outlinewidth": 0,
                            "ticks": ""
                          }
                        },
                        "type": "scatter3d"
                      }
                    ],
                    "scattercarpet": [
                      {
                        "marker": {
                          "colorbar": {
                            "outlinewidth": 0,
                            "ticks": ""
                          }
                        },
                        "type": "scattercarpet"
                      }
                    ],
                    "scattergeo": [
                      {
                        "marker": {
                          "colorbar": {
                            "outlinewidth": 0,
                            "ticks": ""
                          }
                        },
                        "type": "scattergeo"
                      }
                    ],
                    "scattergl": [
                      {
                        "marker": {
                          "colorbar": {
                            "outlinewidth": 0,
                            "ticks": ""
                          }
                        },
                        "type": "scattergl"
                      }
                    ],
                    "scattermapbox": [
                      {
                        "marker": {
                          "colorbar": {
                            "outlinewidth": 0,
                            "ticks": ""
                          }
                        },
                        "type": "scattermapbox"
                      }
                    ],
                    "scatterpolar": [
                      {
                        "marker": {
                          "colorbar": {
                            "outlinewidth": 0,
                            "ticks": ""
                          }
                        },
                        "type": "scatterpolar"
                      }
                    ],
                    "scatterpolargl": [
                      {
                        "marker": {
                          "colorbar": {
                            "outlinewidth": 0,
                            "ticks": ""
                          }
                        },
                        "type": "scatterpolargl"
                      }
                    ],
                    "scatterternary": [
                      {
                        "marker": {
                          "colorbar": {
                            "outlinewidth": 0,
                            "ticks": ""
                          }
                        },
                        "type": "scatterternary"
                      }
                    ],
                    "surface": [
                      {
                        "colorbar": {
                          "outlinewidth": 0,
                          "ticks": ""
                        },
                        "colorscale": [
                          [
                            0,
                            "#0d0887"
                          ],
                          [
                            0.1111111111111111,
                            "#46039f"
                          ],
                          [
                            0.2222222222222222,
                            "#7201a8"
                          ],
                          [
                            0.3333333333333333,
                            "#9c179e"
                          ],
                          [
                            0.4444444444444444,
                            "#bd3786"
                          ],
                          [
                            0.5555555555555556,
                            "#d8576b"
                          ],
                          [
                            0.6666666666666666,
                            "#ed7953"
                          ],
                          [
                            0.7777777777777778,
                            "#fb9f3a"
                          ],
                          [
                            0.8888888888888888,
                            "#fdca26"
                          ],
                          [
                            1,
                            "#f0f921"
                          ]
                        ],
                        "type": "surface"
                      }
                    ],
                    "table": [
                      {
                        "cells": {
                          "fill": {
                            "color": "#EBF0F8"
                          },
                          "line": {
                            "color": "white"
                          }
                        },
                        "header": {
                          "fill": {
                            "color": "#C8D4E3"
                          },
                          "line": {
                            "color": "white"
                          }
                        },
                        "type": "table"
                      }
                    ]
                  },
                  "layout": {
                    "annotationdefaults": {
                      "arrowcolor": "#2a3f5f",
                      "arrowhead": 0,
                      "arrowwidth": 1
                    },
                    "autotypenumbers": "strict",
                    "coloraxis": {
                      "colorbar": {
                        "outlinewidth": 0,
                        "ticks": ""
                      }
                    },
                    "colorscale": {
                      "diverging": [
                        [
                          0,
                          "#8e0152"
                        ],
                        [
                          0.1,
                          "#c51b7d"
                        ],
                        [
                          0.2,
                          "#de77ae"
                        ],
                        [
                          0.3,
                          "#f1b6da"
                        ],
                        [
                          0.4,
                          "#fde0ef"
                        ],
                        [
                          0.5,
                          "#f7f7f7"
                        ],
                        [
                          0.6,
                          "#e6f5d0"
                        ],
                        [
                          0.7,
                          "#b8e186"
                        ],
                        [
                          0.8,
                          "#7fbc41"
                        ],
                        [
                          0.9,
                          "#4d9221"
                        ],
                        [
                          1,
                          "#276419"
                        ]
                      ],
                      "sequential": [
                        [
                          0,
                          "#0d0887"
                        ],
                        [
                          0.1111111111111111,
                          "#46039f"
                        ],
                        [
                          0.2222222222222222,
                          "#7201a8"
                        ],
                        [
                          0.3333333333333333,
                          "#9c179e"
                        ],
                        [
                          0.4444444444444444,
                          "#bd3786"
                        ],
                        [
                          0.5555555555555556,
                          "#d8576b"
                        ],
                        [
                          0.6666666666666666,
                          "#ed7953"
                        ],
                        [
                          0.7777777777777778,
                          "#fb9f3a"
                        ],
                        [
                          0.8888888888888888,
                          "#fdca26"
                        ],
                        [
                          1,
                          "#f0f921"
                        ]
                      ],
                      "sequentialminus": [
                        [
                          0,
                          "#0d0887"
                        ],
                        [
                          0.1111111111111111,
                          "#46039f"
                        ],
                        [
                          0.2222222222222222,
                          "#7201a8"
                        ],
                        [
                          0.3333333333333333,
                          "#9c179e"
                        ],
                        [
                          0.4444444444444444,
                          "#bd3786"
                        ],
                        [
                          0.5555555555555556,
                          "#d8576b"
                        ],
                        [
                          0.6666666666666666,
                          "#ed7953"
                        ],
                        [
                          0.7777777777777778,
                          "#fb9f3a"
                        ],
                        [
                          0.8888888888888888,
                          "#fdca26"
                        ],
                        [
                          1,
                          "#f0f921"
                        ]
                      ]
                    },
                    "colorway": [
                      "#636efa",
                      "#EF553B",
                      "#00cc96",
                      "#ab63fa",
                      "#FFA15A",
                      "#19d3f3",
                      "#FF6692",
                      "#B6E880",
                      "#FF97FF",
                      "#FECB52"
                    ],
                    "font": {
                      "color": "#2a3f5f"
                    },
                    "geo": {
                      "bgcolor": "white",
                      "lakecolor": "white",
                      "landcolor": "#E5ECF6",
                      "showlakes": true,
                      "showland": true,
                      "subunitcolor": "white"
                    },
                    "hoverlabel": {
                      "align": "left"
                    },
                    "hovermode": "closest",
                    "mapbox": {
                      "style": "light"
                    },
                    "paper_bgcolor": "white",
                    "plot_bgcolor": "#E5ECF6",
                    "polar": {
                      "angularaxis": {
                        "gridcolor": "white",
                        "linecolor": "white",
                        "ticks": ""
                      },
                      "bgcolor": "#E5ECF6",
                      "radialaxis": {
                        "gridcolor": "white",
                        "linecolor": "white",
                        "ticks": ""
                      }
                    },
                    "scene": {
                      "xaxis": {
                        "backgroundcolor": "#E5ECF6",
                        "gridcolor": "white",
                        "gridwidth": 2,
                        "linecolor": "white",
                        "showbackground": true,
                        "ticks": "",
                        "zerolinecolor": "white"
                      },
                      "yaxis": {
                        "backgroundcolor": "#E5ECF6",
                        "gridcolor": "white",
                        "gridwidth": 2,
                        "linecolor": "white",
                        "showbackground": true,
                        "ticks": "",
                        "zerolinecolor": "white"
                      },
                      "zaxis": {
                        "backgroundcolor": "#E5ECF6",
                        "gridcolor": "white",
                        "gridwidth": 2,
                        "linecolor": "white",
                        "showbackground": true,
                        "ticks": "",
                        "zerolinecolor": "white"
                      }
                    },
                    "shapedefaults": {
                      "line": {
                        "color": "#2a3f5f"
                      }
                    },
                    "ternary": {
                      "aaxis": {
                        "gridcolor": "white",
                        "linecolor": "white",
                        "ticks": ""
                      },
                      "baxis": {
                        "gridcolor": "white",
                        "linecolor": "white",
                        "ticks": ""
                      },
                      "bgcolor": "#E5ECF6",
                      "caxis": {
                        "gridcolor": "white",
                        "linecolor": "white",
                        "ticks": ""
                      }
                    },
                    "title": {
                      "x": 0.05
                    },
                    "xaxis": {
                      "automargin": true,
                      "gridcolor": "white",
                      "linecolor": "white",
                      "ticks": "",
                      "title": {
                        "standoff": 15
                      },
                      "zerolinecolor": "white",
                      "zerolinewidth": 2
                    },
                    "yaxis": {
                      "automargin": true,
                      "gridcolor": "white",
                      "linecolor": "white",
                      "ticks": "",
                      "title": {
                        "standoff": 15
                      },
                      "zerolinecolor": "white",
                      "zerolinewidth": 2
                    }
                  }
                },
                "xaxis": {
                  "anchor": "y",
                  "domain": [
                    0,
                    1
                  ],
                  "title": {
                    "text": "x"
                  }
                },
                "yaxis": {
                  "anchor": "x",
                  "domain": [
                    0,
                    1
                  ],
                  "title": {
                    "text": "y"
                  }
                }
              }
            }
          },
          "metadata": {},
          "output_type": "display_data"
        }
      ],
      "source": [
        "g_cereal.sort_values(by='proportion_animale', ascending=False, inplace=True )\n",
        "fig = px.bar(x=g_cereal.Produit, y=g_cereal.proportion_animale, height=1000, color_discrete_sequence=color_list_bar)\n",
        "fig.show()"
      ]
    },
    {
      "cell_type": "markdown",
      "metadata": {
        "id": "1s2qNH1savTW"
      },
      "source": [
        "#### Question 12 : Sous-nutrition\n",
        "Sélectionnez parmi les données des bilans alimentaires les informations relatives aux pays dans lesquels la FAO recense des personnes en sous-nutrition.\n",
        "Repérez les 15 produits les plus exportés par ce groupe de pays.\n",
        "Parmi les données des bilans alimentaires au niveau mondial, sélectionnez les 200 plus grandes importations de ces produits (1 importation = une quantité d'un produit donné importée par un pays donné).\n",
        "Groupez ces importations par produit, afin d'avoir une table contenant 1 ligne pour chacun des 15 produits. Ensuite, calculez pour chaque produit les 2 quantités suivantes :\n",
        "\n",
        "    • le ratio entre la quantité destinés aux \"Autres utilisations\" (Other uses) et la disponibilité intérieure.\n",
        "    • le ratio entre la quantité destinée à la nourriture animale et la quantité destinée à la nourriture (animale + humaine)\n",
        "    \n",
        "Donnez les 3 produits qui ont la plus grande valeur pour chacun des 2 ratios (vous aurez donc 6 produits à citer)"
      ]
    },
    {
      "cell_type": "code",
      "execution_count": 686,
      "metadata": {
        "id": "cBVydeGyay3c"
      },
      "outputs": [
        {
          "data": {
            "text/html": [
              "<div>\n",
              "<style scoped>\n",
              "    .dataframe tbody tr th:only-of-type {\n",
              "        vertical-align: middle;\n",
              "    }\n",
              "\n",
              "    .dataframe tbody tr th {\n",
              "        vertical-align: top;\n",
              "    }\n",
              "\n",
              "    .dataframe thead th {\n",
              "        text-align: right;\n",
              "    }\n",
              "</style>\n",
              "<table border=\"1\" class=\"dataframe\">\n",
              "  <thead>\n",
              "    <tr style=\"text-align: right;\">\n",
              "      <th></th>\n",
              "      <th>Code zone</th>\n",
              "      <th>Zone</th>\n",
              "      <th>Valeur</th>\n",
              "      <th>Symbole</th>\n",
              "      <th>Description du Symbole</th>\n",
              "      <th>Population</th>\n",
              "      <th>proportion</th>\n",
              "    </tr>\n",
              "  </thead>\n",
              "  <tbody>\n",
              "    <tr>\n",
              "      <th>66</th>\n",
              "      <td>93</td>\n",
              "      <td>Haïti</td>\n",
              "      <td>5.2</td>\n",
              "      <td>F</td>\n",
              "      <td>Estimation FAO</td>\n",
              "      <td>10317000</td>\n",
              "      <td>50.402249</td>\n",
              "    </tr>\n",
              "    <tr>\n",
              "      <th>164</th>\n",
              "      <td>251</td>\n",
              "      <td>Zambie</td>\n",
              "      <td>7.0</td>\n",
              "      <td>F</td>\n",
              "      <td>Estimation FAO</td>\n",
              "      <td>14539000</td>\n",
              "      <td>48.146365</td>\n",
              "    </tr>\n",
              "    <tr>\n",
              "      <th>165</th>\n",
              "      <td>181</td>\n",
              "      <td>Zimbabwe</td>\n",
              "      <td>6.7</td>\n",
              "      <td>F</td>\n",
              "      <td>Estimation FAO</td>\n",
              "      <td>14150000</td>\n",
              "      <td>47.349823</td>\n",
              "    </tr>\n",
              "    <tr>\n",
              "      <th>127</th>\n",
              "      <td>37</td>\n",
              "      <td>République centrafricaine</td>\n",
              "      <td>2.1</td>\n",
              "      <td>F</td>\n",
              "      <td>Estimation FAO</td>\n",
              "      <td>4616000</td>\n",
              "      <td>45.493934</td>\n",
              "    </tr>\n",
              "    <tr>\n",
              "      <th>131</th>\n",
              "      <td>116</td>\n",
              "      <td>République populaire démocratique de Corée</td>\n",
              "      <td>10.4</td>\n",
              "      <td>F</td>\n",
              "      <td>Estimation FAO</td>\n",
              "      <td>24895000</td>\n",
              "      <td>41.775457</td>\n",
              "    </tr>\n",
              "    <tr>\n",
              "      <th>...</th>\n",
              "      <td>...</td>\n",
              "      <td>...</td>\n",
              "      <td>...</td>\n",
              "      <td>...</td>\n",
              "      <td>...</td>\n",
              "      <td>...</td>\n",
              "      <td>...</td>\n",
              "    </tr>\n",
              "    <tr>\n",
              "      <th>142</th>\n",
              "      <td>199</td>\n",
              "      <td>Slovaquie</td>\n",
              "      <td>0.2</td>\n",
              "      <td>F</td>\n",
              "      <td>Estimation FAO</td>\n",
              "      <td>5450000</td>\n",
              "      <td>3.669725</td>\n",
              "    </tr>\n",
              "    <tr>\n",
              "      <th>7</th>\n",
              "      <td>9</td>\n",
              "      <td>Argentine</td>\n",
              "      <td>1.5</td>\n",
              "      <td>F</td>\n",
              "      <td>Estimation FAO</td>\n",
              "      <td>41446000</td>\n",
              "      <td>3.619167</td>\n",
              "    </tr>\n",
              "    <tr>\n",
              "      <th>29</th>\n",
              "      <td>40</td>\n",
              "      <td>Chili</td>\n",
              "      <td>0.6</td>\n",
              "      <td>F</td>\n",
              "      <td>Estimation FAO</td>\n",
              "      <td>17620000</td>\n",
              "      <td>3.405221</td>\n",
              "    </tr>\n",
              "    <tr>\n",
              "      <th>94</th>\n",
              "      <td>131</td>\n",
              "      <td>Malaisie</td>\n",
              "      <td>1.0</td>\n",
              "      <td>F</td>\n",
              "      <td>Estimation FAO</td>\n",
              "      <td>29717000</td>\n",
              "      <td>3.365077</td>\n",
              "    </tr>\n",
              "    <tr>\n",
              "      <th>8</th>\n",
              "      <td>1</td>\n",
              "      <td>Arménie</td>\n",
              "      <td>0.1</td>\n",
              "      <td>F</td>\n",
              "      <td>Estimation FAO</td>\n",
              "      <td>2977000</td>\n",
              "      <td>3.359086</td>\n",
              "    </tr>\n",
              "  </tbody>\n",
              "</table>\n",
              "<p>96 rows × 7 columns</p>\n",
              "</div>"
            ],
            "text/plain": [
              "    Code zone                                        Zone  Valeur Symbole  \\\n",
              "66         93                                       Haïti     5.2       F   \n",
              "164       251                                      Zambie     7.0       F   \n",
              "165       181                                    Zimbabwe     6.7       F   \n",
              "127        37                   République centrafricaine     2.1       F   \n",
              "131       116  République populaire démocratique de Corée    10.4       F   \n",
              "..        ...                                         ...     ...     ...   \n",
              "142       199                                   Slovaquie     0.2       F   \n",
              "7           9                                   Argentine     1.5       F   \n",
              "29         40                                       Chili     0.6       F   \n",
              "94        131                                    Malaisie     1.0       F   \n",
              "8           1                                     Arménie     0.1       F   \n",
              "\n",
              "    Description du Symbole  Population  proportion  \n",
              "66          Estimation FAO    10317000   50.402249  \n",
              "164         Estimation FAO    14539000   48.146365  \n",
              "165         Estimation FAO    14150000   47.349823  \n",
              "127         Estimation FAO     4616000   45.493934  \n",
              "131         Estimation FAO    24895000   41.775457  \n",
              "..                     ...         ...         ...  \n",
              "142         Estimation FAO     5450000    3.669725  \n",
              "7           Estimation FAO    41446000    3.619167  \n",
              "29          Estimation FAO    17620000    3.405221  \n",
              "94          Estimation FAO    29717000    3.365077  \n",
              "8           Estimation FAO     2977000    3.359086  \n",
              "\n",
              "[96 rows x 7 columns]"
            ]
          },
          "execution_count": 686,
          "metadata": {},
          "output_type": "execute_result"
        }
      ],
      "source": [
        "Sous_alimentation=Sous_alimentation.sort_values('proportion', ascending=False)\n",
        "Sous_alimentation=Sous_alimentation[Sous_alimentation['Valeur']>0]\n",
        "Sous_alimentation"
      ]
    },
    {
      "cell_type": "code",
      "execution_count": 687,
      "metadata": {},
      "outputs": [
        {
          "data": {
            "text/html": [
              "<div>\n",
              "<style scoped>\n",
              "    .dataframe tbody tr th:only-of-type {\n",
              "        vertical-align: middle;\n",
              "    }\n",
              "\n",
              "    .dataframe tbody tr th {\n",
              "        vertical-align: top;\n",
              "    }\n",
              "\n",
              "    .dataframe thead th {\n",
              "        text-align: right;\n",
              "    }\n",
              "</style>\n",
              "<table border=\"1\" class=\"dataframe\">\n",
              "  <thead>\n",
              "    <tr style=\"text-align: right;\">\n",
              "      <th></th>\n",
              "      <th>Produit</th>\n",
              "      <th>Valeur_y</th>\n",
              "    </tr>\n",
              "  </thead>\n",
              "  <tbody>\n",
              "    <tr>\n",
              "      <th>0</th>\n",
              "      <td>Huile de Palme</td>\n",
              "      <td>46285.0</td>\n",
              "    </tr>\n",
              "    <tr>\n",
              "      <th>1</th>\n",
              "      <td>Maïs</td>\n",
              "      <td>37888.0</td>\n",
              "    </tr>\n",
              "    <tr>\n",
              "      <th>2</th>\n",
              "      <td>Manioc</td>\n",
              "      <td>35843.0</td>\n",
              "    </tr>\n",
              "    <tr>\n",
              "      <th>3</th>\n",
              "      <td>Riz (Eq Blanchi)</td>\n",
              "      <td>32787.0</td>\n",
              "    </tr>\n",
              "    <tr>\n",
              "      <th>4</th>\n",
              "      <td>Sucre Eq Brut</td>\n",
              "      <td>25237.0</td>\n",
              "    </tr>\n",
              "    <tr>\n",
              "      <th>5</th>\n",
              "      <td>Blé</td>\n",
              "      <td>24841.0</td>\n",
              "    </tr>\n",
              "    <tr>\n",
              "      <th>6</th>\n",
              "      <td>Légumes, Autres</td>\n",
              "      <td>19948.0</td>\n",
              "    </tr>\n",
              "    <tr>\n",
              "      <th>7</th>\n",
              "      <td>Bananes</td>\n",
              "      <td>17805.0</td>\n",
              "    </tr>\n",
              "    <tr>\n",
              "      <th>8</th>\n",
              "      <td>Fruits, Autres</td>\n",
              "      <td>14590.0</td>\n",
              "    </tr>\n",
              "    <tr>\n",
              "      <th>9</th>\n",
              "      <td>Lait - Excl Beurre</td>\n",
              "      <td>14486.0</td>\n",
              "    </tr>\n",
              "    <tr>\n",
              "      <th>10</th>\n",
              "      <td>Soja</td>\n",
              "      <td>14389.0</td>\n",
              "    </tr>\n",
              "    <tr>\n",
              "      <th>11</th>\n",
              "      <td>Poissons Pelagiques</td>\n",
              "      <td>13680.0</td>\n",
              "    </tr>\n",
              "    <tr>\n",
              "      <th>12</th>\n",
              "      <td>Tomates</td>\n",
              "      <td>8901.0</td>\n",
              "    </tr>\n",
              "    <tr>\n",
              "      <th>13</th>\n",
              "      <td>Pommes</td>\n",
              "      <td>7786.0</td>\n",
              "    </tr>\n",
              "    <tr>\n",
              "      <th>14</th>\n",
              "      <td>Oranges, Mandarines</td>\n",
              "      <td>6838.0</td>\n",
              "    </tr>\n",
              "  </tbody>\n",
              "</table>\n",
              "</div>"
            ],
            "text/plain": [
              "                Produit  Valeur_y\n",
              "0        Huile de Palme   46285.0\n",
              "1                  Maïs   37888.0\n",
              "2                Manioc   35843.0\n",
              "3      Riz (Eq Blanchi)   32787.0\n",
              "4         Sucre Eq Brut   25237.0\n",
              "5                   Blé   24841.0\n",
              "6       Légumes, Autres   19948.0\n",
              "7               Bananes   17805.0\n",
              "8        Fruits, Autres   14590.0\n",
              "9    Lait - Excl Beurre   14486.0\n",
              "10                 Soja   14389.0\n",
              "11  Poissons Pelagiques   13680.0\n",
              "12              Tomates    8901.0\n",
              "13               Pommes    7786.0\n",
              "14  Oranges, Mandarines    6838.0"
            ]
          },
          "execution_count": 687,
          "metadata": {},
          "output_type": "execute_result"
        }
      ],
      "source": [
        "df = pd.concat([FAOSTAT_2013_vegetal, FAOSTAT_2013_animal])\n",
        "df = df[['Code Pays', 'Pays', 'Élément', 'Code Produit', 'Produit', 'Valeur']]\n",
        "#df = df[df['Élément']=='Nourriture']\n",
        "df_Sous_alimentation = Sous_alimentation.merge(df, left_on='Code zone', right_on='Code Pays')\n",
        "\n",
        "df_Sous_alimentation=df_Sous_alimentation[['Code Pays', 'Pays', 'Élément', 'Produit', 'Valeur_y']]\n",
        "df_expot=df_Sous_alimentation[df_Sous_alimentation['Élément']=='Exportations - Quantité']\n",
        "\n",
        "df_expot=df_expot.sort_values('Valeur_y', ascending=False)\n",
        "df_expot=df_expot[['Produit', 'Valeur_y']]\n",
        "df_expot_group=df_expot.groupby(['Produit']).sum()\n",
        "df_expot_group=df_expot_group.sort_values('Valeur_y', ascending=False).reset_index()\n",
        "df_expot_group=df_expot_group.head(15)\n",
        "df_expot_group"
      ]
    },
    {
      "cell_type": "code",
      "execution_count": 688,
      "metadata": {},
      "outputs": [
        {
          "data": {
            "text/html": [
              "<div>\n",
              "<style scoped>\n",
              "    .dataframe tbody tr th:only-of-type {\n",
              "        vertical-align: middle;\n",
              "    }\n",
              "\n",
              "    .dataframe tbody tr th {\n",
              "        vertical-align: top;\n",
              "    }\n",
              "\n",
              "    .dataframe thead th {\n",
              "        text-align: right;\n",
              "    }\n",
              "</style>\n",
              "<table border=\"1\" class=\"dataframe\">\n",
              "  <thead>\n",
              "    <tr style=\"text-align: right;\">\n",
              "      <th></th>\n",
              "      <th>Pays</th>\n",
              "      <th>Produit</th>\n",
              "      <th>Valeur</th>\n",
              "      <th>Valeur_y</th>\n",
              "    </tr>\n",
              "  </thead>\n",
              "  <tbody>\n",
              "    <tr>\n",
              "      <th>0</th>\n",
              "      <td>Afghanistan</td>\n",
              "      <td>Blé</td>\n",
              "      <td>1173.0</td>\n",
              "      <td>24841.0</td>\n",
              "    </tr>\n",
              "    <tr>\n",
              "      <th>1</th>\n",
              "      <td>Afrique du Sud</td>\n",
              "      <td>Blé</td>\n",
              "      <td>1490.0</td>\n",
              "      <td>24841.0</td>\n",
              "    </tr>\n",
              "    <tr>\n",
              "      <th>2</th>\n",
              "      <td>Albanie</td>\n",
              "      <td>Blé</td>\n",
              "      <td>360.0</td>\n",
              "      <td>24841.0</td>\n",
              "    </tr>\n",
              "    <tr>\n",
              "      <th>3</th>\n",
              "      <td>Algérie</td>\n",
              "      <td>Blé</td>\n",
              "      <td>6343.0</td>\n",
              "      <td>24841.0</td>\n",
              "    </tr>\n",
              "    <tr>\n",
              "      <th>4</th>\n",
              "      <td>Allemagne</td>\n",
              "      <td>Blé</td>\n",
              "      <td>5421.0</td>\n",
              "      <td>24841.0</td>\n",
              "    </tr>\n",
              "    <tr>\n",
              "      <th>...</th>\n",
              "      <td>...</td>\n",
              "      <td>...</td>\n",
              "      <td>...</td>\n",
              "      <td>...</td>\n",
              "    </tr>\n",
              "    <tr>\n",
              "      <th>2532</th>\n",
              "      <td>Venezuela (République bolivarienne du)</td>\n",
              "      <td>Poissons Pelagiques</td>\n",
              "      <td>71.0</td>\n",
              "      <td>13680.0</td>\n",
              "    </tr>\n",
              "    <tr>\n",
              "      <th>2533</th>\n",
              "      <td>Viet Nam</td>\n",
              "      <td>Poissons Pelagiques</td>\n",
              "      <td>102.0</td>\n",
              "      <td>13680.0</td>\n",
              "    </tr>\n",
              "    <tr>\n",
              "      <th>2534</th>\n",
              "      <td>Yémen</td>\n",
              "      <td>Poissons Pelagiques</td>\n",
              "      <td>23.0</td>\n",
              "      <td>13680.0</td>\n",
              "    </tr>\n",
              "    <tr>\n",
              "      <th>2535</th>\n",
              "      <td>Zambie</td>\n",
              "      <td>Poissons Pelagiques</td>\n",
              "      <td>8.0</td>\n",
              "      <td>13680.0</td>\n",
              "    </tr>\n",
              "    <tr>\n",
              "      <th>2536</th>\n",
              "      <td>Zimbabwe</td>\n",
              "      <td>Poissons Pelagiques</td>\n",
              "      <td>24.0</td>\n",
              "      <td>13680.0</td>\n",
              "    </tr>\n",
              "  </tbody>\n",
              "</table>\n",
              "<p>2537 rows × 4 columns</p>\n",
              "</div>"
            ],
            "text/plain": [
              "                                        Pays              Produit  Valeur  \\\n",
              "0                                Afghanistan                  Blé  1173.0   \n",
              "1                             Afrique du Sud                  Blé  1490.0   \n",
              "2                                    Albanie                  Blé   360.0   \n",
              "3                                    Algérie                  Blé  6343.0   \n",
              "4                                  Allemagne                  Blé  5421.0   \n",
              "...                                      ...                  ...     ...   \n",
              "2532  Venezuela (République bolivarienne du)  Poissons Pelagiques    71.0   \n",
              "2533                                Viet Nam  Poissons Pelagiques   102.0   \n",
              "2534                                   Yémen  Poissons Pelagiques    23.0   \n",
              "2535                                  Zambie  Poissons Pelagiques     8.0   \n",
              "2536                                Zimbabwe  Poissons Pelagiques    24.0   \n",
              "\n",
              "      Valeur_y  \n",
              "0      24841.0  \n",
              "1      24841.0  \n",
              "2      24841.0  \n",
              "3      24841.0  \n",
              "4      24841.0  \n",
              "...        ...  \n",
              "2532   13680.0  \n",
              "2533   13680.0  \n",
              "2534   13680.0  \n",
              "2535   13680.0  \n",
              "2536   13680.0  \n",
              "\n",
              "[2537 rows x 4 columns]"
            ]
          },
          "execution_count": 688,
          "metadata": {},
          "output_type": "execute_result"
        }
      ],
      "source": [
        "\n",
        "df_import = df[df['Élément']=='Importations - Quantité']\n",
        "df_import=df_import[['Pays', 'Produit', 'Valeur']]\n",
        "\n",
        "merge_df_import = df_import.merge(df_expot_group, left_on='Produit', right_on='Produit')\n",
        "merge_df_import\n"
      ]
    },
    {
      "cell_type": "code",
      "execution_count": 689,
      "metadata": {},
      "outputs": [
        {
          "data": {
            "text/html": [
              "<div>\n",
              "<style scoped>\n",
              "    .dataframe tbody tr th:only-of-type {\n",
              "        vertical-align: middle;\n",
              "    }\n",
              "\n",
              "    .dataframe tbody tr th {\n",
              "        vertical-align: top;\n",
              "    }\n",
              "\n",
              "    .dataframe thead th {\n",
              "        text-align: right;\n",
              "    }\n",
              "</style>\n",
              "<table border=\"1\" class=\"dataframe\">\n",
              "  <thead>\n",
              "    <tr style=\"text-align: right;\">\n",
              "      <th></th>\n",
              "      <th>Pays</th>\n",
              "      <th>Valeur</th>\n",
              "    </tr>\n",
              "  </thead>\n",
              "  <tbody>\n",
              "    <tr>\n",
              "      <th>36</th>\n",
              "      <td>Chine, continentale</td>\n",
              "      <td>133243.0</td>\n",
              "    </tr>\n",
              "    <tr>\n",
              "      <th>171</th>\n",
              "      <td>États-Unis d'Amérique</td>\n",
              "      <td>44692.0</td>\n",
              "    </tr>\n",
              "    <tr>\n",
              "      <th>4</th>\n",
              "      <td>Allemagne</td>\n",
              "      <td>38157.0</td>\n",
              "    </tr>\n",
              "    <tr>\n",
              "      <th>77</th>\n",
              "      <td>Japon</td>\n",
              "      <td>37263.0</td>\n",
              "    </tr>\n",
              "    <tr>\n",
              "      <th>118</th>\n",
              "      <td>Pays-Bas</td>\n",
              "      <td>31137.0</td>\n",
              "    </tr>\n",
              "    <tr>\n",
              "      <th>125</th>\n",
              "      <td>Royaume-Uni</td>\n",
              "      <td>27329.0</td>\n",
              "    </tr>\n",
              "    <tr>\n",
              "      <th>75</th>\n",
              "      <td>Italie</td>\n",
              "      <td>27089.0</td>\n",
              "    </tr>\n",
              "    <tr>\n",
              "      <th>128</th>\n",
              "      <td>République de Corée</td>\n",
              "      <td>23575.0</td>\n",
              "    </tr>\n",
              "    <tr>\n",
              "      <th>48</th>\n",
              "      <td>Espagne</td>\n",
              "      <td>23213.0</td>\n",
              "    </tr>\n",
              "    <tr>\n",
              "      <th>99</th>\n",
              "      <td>Mexique</td>\n",
              "      <td>21911.0</td>\n",
              "    </tr>\n",
              "    <tr>\n",
              "      <th>69</th>\n",
              "      <td>Indonésie</td>\n",
              "      <td>21820.0</td>\n",
              "    </tr>\n",
              "    <tr>\n",
              "      <th>168</th>\n",
              "      <td>Égypte</td>\n",
              "      <td>21404.0</td>\n",
              "    </tr>\n",
              "    <tr>\n",
              "      <th>16</th>\n",
              "      <td>Belgique</td>\n",
              "      <td>20920.0</td>\n",
              "    </tr>\n",
              "    <tr>\n",
              "      <th>54</th>\n",
              "      <td>Fédération de Russie</td>\n",
              "      <td>20686.0</td>\n",
              "    </tr>\n",
              "    <tr>\n",
              "      <th>53</th>\n",
              "      <td>France</td>\n",
              "      <td>19592.0</td>\n",
              "    </tr>\n",
              "    <tr>\n",
              "      <th>3</th>\n",
              "      <td>Algérie</td>\n",
              "      <td>15029.0</td>\n",
              "    </tr>\n",
              "    <tr>\n",
              "      <th>91</th>\n",
              "      <td>Malaisie</td>\n",
              "      <td>14054.0</td>\n",
              "    </tr>\n",
              "    <tr>\n",
              "      <th>70</th>\n",
              "      <td>Iran (République islamique d')</td>\n",
              "      <td>13730.0</td>\n",
              "    </tr>\n",
              "    <tr>\n",
              "      <th>7</th>\n",
              "      <td>Arabie saoudite</td>\n",
              "      <td>13405.0</td>\n",
              "    </tr>\n",
              "    <tr>\n",
              "      <th>107</th>\n",
              "      <td>Nigéria</td>\n",
              "      <td>12695.0</td>\n",
              "    </tr>\n",
              "  </tbody>\n",
              "</table>\n",
              "</div>"
            ],
            "text/plain": [
              "                               Pays    Valeur\n",
              "36              Chine, continentale  133243.0\n",
              "171           États-Unis d'Amérique   44692.0\n",
              "4                         Allemagne   38157.0\n",
              "77                            Japon   37263.0\n",
              "118                        Pays-Bas   31137.0\n",
              "125                     Royaume-Uni   27329.0\n",
              "75                           Italie   27089.0\n",
              "128             République de Corée   23575.0\n",
              "48                          Espagne   23213.0\n",
              "99                          Mexique   21911.0\n",
              "69                        Indonésie   21820.0\n",
              "168                          Égypte   21404.0\n",
              "16                         Belgique   20920.0\n",
              "54             Fédération de Russie   20686.0\n",
              "53                           France   19592.0\n",
              "3                           Algérie   15029.0\n",
              "91                         Malaisie   14054.0\n",
              "70   Iran (République islamique d')   13730.0\n",
              "7                   Arabie saoudite   13405.0\n",
              "107                         Nigéria   12695.0"
            ]
          },
          "execution_count": 689,
          "metadata": {},
          "output_type": "execute_result"
        }
      ],
      "source": [
        "dfpays=merge_df_import[['Pays', 'Valeur']]\n",
        "\n",
        "df_import_pays = dfpays.groupby(['Pays'],as_index=False).sum()\n",
        "\n",
        "df_import_pays=df_import_pays.sort_values('Valeur', ascending=False)\n",
        "df_import_pays=df_import_pays.head(20)\n",
        "df_import_pays"
      ]
    },
    {
      "cell_type": "code",
      "execution_count": 690,
      "metadata": {},
      "outputs": [
        {
          "data": {
            "text/html": [
              "<div>\n",
              "<style scoped>\n",
              "    .dataframe tbody tr th:only-of-type {\n",
              "        vertical-align: middle;\n",
              "    }\n",
              "\n",
              "    .dataframe tbody tr th {\n",
              "        vertical-align: top;\n",
              "    }\n",
              "\n",
              "    .dataframe thead th {\n",
              "        text-align: right;\n",
              "    }\n",
              "</style>\n",
              "<table border=\"1\" class=\"dataframe\">\n",
              "  <thead>\n",
              "    <tr style=\"text-align: right;\">\n",
              "      <th></th>\n",
              "      <th>Produit</th>\n",
              "      <th>Valeur</th>\n",
              "    </tr>\n",
              "  </thead>\n",
              "  <tbody>\n",
              "    <tr>\n",
              "      <th>1</th>\n",
              "      <td>Blé</td>\n",
              "      <td>185377.0</td>\n",
              "    </tr>\n",
              "    <tr>\n",
              "      <th>7</th>\n",
              "      <td>Maïs</td>\n",
              "      <td>122691.0</td>\n",
              "    </tr>\n",
              "    <tr>\n",
              "      <th>4</th>\n",
              "      <td>Lait - Excl Beurre</td>\n",
              "      <td>116806.0</td>\n",
              "    </tr>\n",
              "    <tr>\n",
              "      <th>12</th>\n",
              "      <td>Soja</td>\n",
              "      <td>102082.0</td>\n",
              "    </tr>\n",
              "    <tr>\n",
              "      <th>13</th>\n",
              "      <td>Sucre Eq Brut</td>\n",
              "      <td>61615.0</td>\n",
              "    </tr>\n",
              "    <tr>\n",
              "      <th>3</th>\n",
              "      <td>Huile de Palme</td>\n",
              "      <td>48858.0</td>\n",
              "    </tr>\n",
              "    <tr>\n",
              "      <th>5</th>\n",
              "      <td>Légumes, Autres</td>\n",
              "      <td>43333.0</td>\n",
              "    </tr>\n",
              "    <tr>\n",
              "      <th>6</th>\n",
              "      <td>Manioc</td>\n",
              "      <td>38370.0</td>\n",
              "    </tr>\n",
              "    <tr>\n",
              "      <th>11</th>\n",
              "      <td>Riz (Eq Blanchi)</td>\n",
              "      <td>37618.0</td>\n",
              "    </tr>\n",
              "    <tr>\n",
              "      <th>8</th>\n",
              "      <td>Oranges, Mandarines</td>\n",
              "      <td>35011.0</td>\n",
              "    </tr>\n",
              "    <tr>\n",
              "      <th>2</th>\n",
              "      <td>Fruits, Autres</td>\n",
              "      <td>31963.0</td>\n",
              "    </tr>\n",
              "    <tr>\n",
              "      <th>9</th>\n",
              "      <td>Poissons Pelagiques</td>\n",
              "      <td>28598.0</td>\n",
              "    </tr>\n",
              "    <tr>\n",
              "      <th>10</th>\n",
              "      <td>Pommes</td>\n",
              "      <td>20025.0</td>\n",
              "    </tr>\n",
              "    <tr>\n",
              "      <th>0</th>\n",
              "      <td>Bananes</td>\n",
              "      <td>19424.0</td>\n",
              "    </tr>\n",
              "    <tr>\n",
              "      <th>14</th>\n",
              "      <td>Tomates</td>\n",
              "      <td>18570.0</td>\n",
              "    </tr>\n",
              "  </tbody>\n",
              "</table>\n",
              "</div>"
            ],
            "text/plain": [
              "                Produit    Valeur\n",
              "1                   Blé  185377.0\n",
              "7                  Maïs  122691.0\n",
              "4    Lait - Excl Beurre  116806.0\n",
              "12                 Soja  102082.0\n",
              "13        Sucre Eq Brut   61615.0\n",
              "3        Huile de Palme   48858.0\n",
              "5       Légumes, Autres   43333.0\n",
              "6                Manioc   38370.0\n",
              "11     Riz (Eq Blanchi)   37618.0\n",
              "8   Oranges, Mandarines   35011.0\n",
              "2        Fruits, Autres   31963.0\n",
              "9   Poissons Pelagiques   28598.0\n",
              "10               Pommes   20025.0\n",
              "0               Bananes   19424.0\n",
              "14              Tomates   18570.0"
            ]
          },
          "execution_count": 690,
          "metadata": {},
          "output_type": "execute_result"
        }
      ],
      "source": [
        "\n",
        "merge_df_import=merge_df_import[['Produit', 'Valeur']]\n",
        "\n",
        "df_import_produit = merge_df_import.groupby(['Produit'],as_index=False).sum()\n",
        "\n",
        "df_import_produit=df_import_produit.sort_values('Valeur', ascending=False)\n",
        "\n",
        "df_import_produit"
      ]
    },
    {
      "cell_type": "code",
      "execution_count": 695,
      "metadata": {},
      "outputs": [
        {
          "data": {
            "text/html": [
              "<div>\n",
              "<style scoped>\n",
              "    .dataframe tbody tr th:only-of-type {\n",
              "        vertical-align: middle;\n",
              "    }\n",
              "\n",
              "    .dataframe tbody tr th {\n",
              "        vertical-align: top;\n",
              "    }\n",
              "\n",
              "    .dataframe thead th {\n",
              "        text-align: right;\n",
              "    }\n",
              "</style>\n",
              "<table border=\"1\" class=\"dataframe\">\n",
              "  <thead>\n",
              "    <tr style=\"text-align: right;\">\n",
              "      <th></th>\n",
              "      <th>Code Pays</th>\n",
              "      <th>Pays</th>\n",
              "      <th>Élément</th>\n",
              "      <th>Code Produit</th>\n",
              "      <th>Produit</th>\n",
              "      <th>Valeur</th>\n",
              "    </tr>\n",
              "  </thead>\n",
              "  <tbody>\n",
              "    <tr>\n",
              "      <th>0</th>\n",
              "      <td>2</td>\n",
              "      <td>Afghanistan</td>\n",
              "      <td>Production</td>\n",
              "      <td>2511</td>\n",
              "      <td>Blé</td>\n",
              "      <td>5169.00</td>\n",
              "    </tr>\n",
              "    <tr>\n",
              "      <th>1</th>\n",
              "      <td>2</td>\n",
              "      <td>Afghanistan</td>\n",
              "      <td>Importations - Quantité</td>\n",
              "      <td>2511</td>\n",
              "      <td>Blé</td>\n",
              "      <td>1173.00</td>\n",
              "    </tr>\n",
              "    <tr>\n",
              "      <th>2</th>\n",
              "      <td>2</td>\n",
              "      <td>Afghanistan</td>\n",
              "      <td>Variation de stock</td>\n",
              "      <td>2511</td>\n",
              "      <td>Blé</td>\n",
              "      <td>-350.00</td>\n",
              "    </tr>\n",
              "    <tr>\n",
              "      <th>3</th>\n",
              "      <td>2</td>\n",
              "      <td>Afghanistan</td>\n",
              "      <td>Disponibilité intérieure</td>\n",
              "      <td>2511</td>\n",
              "      <td>Blé</td>\n",
              "      <td>5992.00</td>\n",
              "    </tr>\n",
              "    <tr>\n",
              "      <th>4</th>\n",
              "      <td>2</td>\n",
              "      <td>Afghanistan</td>\n",
              "      <td>Semences</td>\n",
              "      <td>2511</td>\n",
              "      <td>Blé</td>\n",
              "      <td>322.00</td>\n",
              "    </tr>\n",
              "    <tr>\n",
              "      <th>...</th>\n",
              "      <td>...</td>\n",
              "      <td>...</td>\n",
              "      <td>...</td>\n",
              "      <td>...</td>\n",
              "      <td>...</td>\n",
              "      <td>...</td>\n",
              "    </tr>\n",
              "    <tr>\n",
              "      <th>27664</th>\n",
              "      <td>181</td>\n",
              "      <td>Zimbabwe</td>\n",
              "      <td>Disponibilité de matière grasse en quantité (g...</td>\n",
              "      <td>2763</td>\n",
              "      <td>Poissons Pelagiques</td>\n",
              "      <td>0.06</td>\n",
              "    </tr>\n",
              "    <tr>\n",
              "      <th>27665</th>\n",
              "      <td>351</td>\n",
              "      <td>Chine</td>\n",
              "      <td>Disponibilité alimentaire en quantité (kg/pers...</td>\n",
              "      <td>2763</td>\n",
              "      <td>Poissons Pelagiques</td>\n",
              "      <td>0.39</td>\n",
              "    </tr>\n",
              "    <tr>\n",
              "      <th>27666</th>\n",
              "      <td>351</td>\n",
              "      <td>Chine</td>\n",
              "      <td>Disponibilité alimentaire (Kcal/personne/jour)</td>\n",
              "      <td>2763</td>\n",
              "      <td>Poissons Pelagiques</td>\n",
              "      <td>1.00</td>\n",
              "    </tr>\n",
              "    <tr>\n",
              "      <th>27667</th>\n",
              "      <td>351</td>\n",
              "      <td>Chine</td>\n",
              "      <td>Disponibilité de protéines en quantité (g/pers...</td>\n",
              "      <td>2763</td>\n",
              "      <td>Poissons Pelagiques</td>\n",
              "      <td>0.13</td>\n",
              "    </tr>\n",
              "    <tr>\n",
              "      <th>27668</th>\n",
              "      <td>351</td>\n",
              "      <td>Chine</td>\n",
              "      <td>Disponibilité de matière grasse en quantité (g...</td>\n",
              "      <td>2763</td>\n",
              "      <td>Poissons Pelagiques</td>\n",
              "      <td>0.04</td>\n",
              "    </tr>\n",
              "  </tbody>\n",
              "</table>\n",
              "<p>27669 rows × 6 columns</p>\n",
              "</div>"
            ],
            "text/plain": [
              "      Code Pays         Pays  \\\n",
              "0             2  Afghanistan   \n",
              "1             2  Afghanistan   \n",
              "2             2  Afghanistan   \n",
              "3             2  Afghanistan   \n",
              "4             2  Afghanistan   \n",
              "...         ...          ...   \n",
              "27664       181     Zimbabwe   \n",
              "27665       351        Chine   \n",
              "27666       351        Chine   \n",
              "27667       351        Chine   \n",
              "27668       351        Chine   \n",
              "\n",
              "                                                 Élément Code Produit  \\\n",
              "0                                             Production         2511   \n",
              "1                                Importations - Quantité         2511   \n",
              "2                                     Variation de stock         2511   \n",
              "3                               Disponibilité intérieure         2511   \n",
              "4                                               Semences         2511   \n",
              "...                                                  ...          ...   \n",
              "27664  Disponibilité de matière grasse en quantité (g...         2763   \n",
              "27665  Disponibilité alimentaire en quantité (kg/pers...         2763   \n",
              "27666     Disponibilité alimentaire (Kcal/personne/jour)         2763   \n",
              "27667  Disponibilité de protéines en quantité (g/pers...         2763   \n",
              "27668  Disponibilité de matière grasse en quantité (g...         2763   \n",
              "\n",
              "                   Produit   Valeur  \n",
              "0                      Blé  5169.00  \n",
              "1                      Blé  1173.00  \n",
              "2                      Blé  -350.00  \n",
              "3                      Blé  5992.00  \n",
              "4                      Blé   322.00  \n",
              "...                    ...      ...  \n",
              "27664  Poissons Pelagiques     0.06  \n",
              "27665  Poissons Pelagiques     0.39  \n",
              "27666  Poissons Pelagiques     1.00  \n",
              "27667  Poissons Pelagiques     0.13  \n",
              "27668  Poissons Pelagiques     0.04  \n",
              "\n",
              "[27669 rows x 6 columns]"
            ]
          },
          "execution_count": 695,
          "metadata": {},
          "output_type": "execute_result"
        }
      ],
      "source": [
        "\n",
        "merge_df_produit=df.merge(df_import_produit, left_on='Produit', right_on='Produit')\n",
        "merge_df_produit.drop('Valeur_y',axis=1, inplace=True)\n",
        "\n",
        "merge_df_produit.rename(columns={'Valeur_x':'Valeur'}, inplace=True)\n",
        "merge_df_produit\n"
      ]
    },
    {
      "cell_type": "code",
      "execution_count": 708,
      "metadata": {},
      "outputs": [
        {
          "data": {
            "text/html": [
              "<div>\n",
              "<style scoped>\n",
              "    .dataframe tbody tr th:only-of-type {\n",
              "        vertical-align: middle;\n",
              "    }\n",
              "\n",
              "    .dataframe tbody tr th {\n",
              "        vertical-align: top;\n",
              "    }\n",
              "\n",
              "    .dataframe thead th {\n",
              "        text-align: right;\n",
              "    }\n",
              "</style>\n",
              "<table border=\"1\" class=\"dataframe\">\n",
              "  <thead>\n",
              "    <tr style=\"text-align: right;\">\n",
              "      <th></th>\n",
              "      <th>Code Pays</th>\n",
              "      <th>Pays</th>\n",
              "      <th>Élément</th>\n",
              "      <th>Code Produit</th>\n",
              "      <th>Produit</th>\n",
              "      <th>Valeur</th>\n",
              "    </tr>\n",
              "  </thead>\n",
              "  <tbody>\n",
              "    <tr>\n",
              "      <th>0</th>\n",
              "      <td>4</td>\n",
              "      <td>Algérie</td>\n",
              "      <td>Production</td>\n",
              "      <td>2511</td>\n",
              "      <td>Blé</td>\n",
              "      <td>3299.00</td>\n",
              "    </tr>\n",
              "    <tr>\n",
              "      <th>1</th>\n",
              "      <td>4</td>\n",
              "      <td>Algérie</td>\n",
              "      <td>Importations - Quantité</td>\n",
              "      <td>2511</td>\n",
              "      <td>Blé</td>\n",
              "      <td>6343.00</td>\n",
              "    </tr>\n",
              "    <tr>\n",
              "      <th>2</th>\n",
              "      <td>4</td>\n",
              "      <td>Algérie</td>\n",
              "      <td>Variation de stock</td>\n",
              "      <td>2511</td>\n",
              "      <td>Blé</td>\n",
              "      <td>-180.00</td>\n",
              "    </tr>\n",
              "    <tr>\n",
              "      <th>3</th>\n",
              "      <td>4</td>\n",
              "      <td>Algérie</td>\n",
              "      <td>Exportations - Quantité</td>\n",
              "      <td>2511</td>\n",
              "      <td>Blé</td>\n",
              "      <td>2.00</td>\n",
              "    </tr>\n",
              "    <tr>\n",
              "      <th>4</th>\n",
              "      <td>4</td>\n",
              "      <td>Algérie</td>\n",
              "      <td>Disponibilité intérieure</td>\n",
              "      <td>2511</td>\n",
              "      <td>Blé</td>\n",
              "      <td>9461.00</td>\n",
              "    </tr>\n",
              "    <tr>\n",
              "      <th>...</th>\n",
              "      <td>...</td>\n",
              "      <td>...</td>\n",
              "      <td>...</td>\n",
              "      <td>...</td>\n",
              "      <td>...</td>\n",
              "      <td>...</td>\n",
              "    </tr>\n",
              "    <tr>\n",
              "      <th>3470</th>\n",
              "      <td>229</td>\n",
              "      <td>Royaume-Uni</td>\n",
              "      <td>Nourriture</td>\n",
              "      <td>2763</td>\n",
              "      <td>Poissons Pelagiques</td>\n",
              "      <td>218.00</td>\n",
              "    </tr>\n",
              "    <tr>\n",
              "      <th>3471</th>\n",
              "      <td>229</td>\n",
              "      <td>Royaume-Uni</td>\n",
              "      <td>Disponibilité alimentaire en quantité (kg/pers...</td>\n",
              "      <td>2763</td>\n",
              "      <td>Poissons Pelagiques</td>\n",
              "      <td>3.43</td>\n",
              "    </tr>\n",
              "    <tr>\n",
              "      <th>3472</th>\n",
              "      <td>229</td>\n",
              "      <td>Royaume-Uni</td>\n",
              "      <td>Disponibilité alimentaire (Kcal/personne/jour)</td>\n",
              "      <td>2763</td>\n",
              "      <td>Poissons Pelagiques</td>\n",
              "      <td>13.00</td>\n",
              "    </tr>\n",
              "    <tr>\n",
              "      <th>3473</th>\n",
              "      <td>229</td>\n",
              "      <td>Royaume-Uni</td>\n",
              "      <td>Disponibilité de protéines en quantité (g/pers...</td>\n",
              "      <td>2763</td>\n",
              "      <td>Poissons Pelagiques</td>\n",
              "      <td>1.49</td>\n",
              "    </tr>\n",
              "    <tr>\n",
              "      <th>3474</th>\n",
              "      <td>229</td>\n",
              "      <td>Royaume-Uni</td>\n",
              "      <td>Disponibilité de matière grasse en quantité (g...</td>\n",
              "      <td>2763</td>\n",
              "      <td>Poissons Pelagiques</td>\n",
              "      <td>0.65</td>\n",
              "    </tr>\n",
              "  </tbody>\n",
              "</table>\n",
              "<p>3475 rows × 6 columns</p>\n",
              "</div>"
            ],
            "text/plain": [
              "     Code Pays         Pays  \\\n",
              "0            4      Algérie   \n",
              "1            4      Algérie   \n",
              "2            4      Algérie   \n",
              "3            4      Algérie   \n",
              "4            4      Algérie   \n",
              "...        ...          ...   \n",
              "3470       229  Royaume-Uni   \n",
              "3471       229  Royaume-Uni   \n",
              "3472       229  Royaume-Uni   \n",
              "3473       229  Royaume-Uni   \n",
              "3474       229  Royaume-Uni   \n",
              "\n",
              "                                                Élément Code Produit  \\\n",
              "0                                            Production         2511   \n",
              "1                               Importations - Quantité         2511   \n",
              "2                                    Variation de stock         2511   \n",
              "3                               Exportations - Quantité         2511   \n",
              "4                              Disponibilité intérieure         2511   \n",
              "...                                                 ...          ...   \n",
              "3470                                         Nourriture         2763   \n",
              "3471  Disponibilité alimentaire en quantité (kg/pers...         2763   \n",
              "3472     Disponibilité alimentaire (Kcal/personne/jour)         2763   \n",
              "3473  Disponibilité de protéines en quantité (g/pers...         2763   \n",
              "3474  Disponibilité de matière grasse en quantité (g...         2763   \n",
              "\n",
              "                  Produit   Valeur  \n",
              "0                     Blé  3299.00  \n",
              "1                     Blé  6343.00  \n",
              "2                     Blé  -180.00  \n",
              "3                     Blé     2.00  \n",
              "4                     Blé  9461.00  \n",
              "...                   ...      ...  \n",
              "3470  Poissons Pelagiques   218.00  \n",
              "3471  Poissons Pelagiques     3.43  \n",
              "3472  Poissons Pelagiques    13.00  \n",
              "3473  Poissons Pelagiques     1.49  \n",
              "3474  Poissons Pelagiques     0.65  \n",
              "\n",
              "[3475 rows x 6 columns]"
            ]
          },
          "execution_count": 708,
          "metadata": {},
          "output_type": "execute_result"
        }
      ],
      "source": [
        "merge=merge_df_produit.merge(df_import_pays, left_on='Pays', right_on='Pays')\n",
        "merge.drop('Valeur_y',axis=1, inplace=True)\n",
        "merge.rename(columns={'Valeur_x':'Valeur'}, inplace=True)\n",
        "merge"
      ]
    },
    {
      "cell_type": "code",
      "execution_count": 710,
      "metadata": {},
      "outputs": [],
      "source": [
        "# merge=merge.pivot(index=['Code Produit', 'Produit'], columns='Élément', values='Valeur').reset_index()\n",
        "# merge"
      ]
    },
    {
      "cell_type": "code",
      "execution_count": 720,
      "metadata": {},
      "outputs": [
        {
          "name": "stdout",
          "output_type": "stream",
          "text": [
            "le ratio entre la quantité destinés aux \"Autres utilisations\" (Other uses) et la disponibilité intérieure est 8.59 %\n",
            "le ratio entre la quantité destinée à la nourriture animale et la quantité destinée à la nourriture (animale + humaine) est 26.61 %\n"
          ]
        }
      ],
      "source": [
        "\n",
        "Autres_Utilisations=merge[merge['Élément']=='Autres Utilisations'].Valeur.sum()\n",
        "#print(Autres_Utilisations)\n",
        "disponibilité_intérieure=merge[merge['Élément']=='Disponibilité intérieure'].Valeur.sum()\n",
        "#print(disponibilité_intérieure)\n",
        "radio1=(Autres_Utilisations/disponibilité_intérieure*100).round(2)\n",
        "print(f'le ratio entre la quantité destinés aux \"Autres utilisations\" (Other uses) et la disponibilité intérieure est {radio1} %')\n",
        "\n",
        "Aliments_pour_animaux=merge[merge['Élément']=='Aliments pour animaux'].Valeur.sum()\n",
        "\n",
        "Nourriture=merge[merge['Élément']=='Nourriture'].Valeur.sum()\n",
        "\n",
        "radio2=(Aliments_pour_animaux/(Aliments_pour_animaux+Nourriture)*100).round(2)\n",
        "print(f'le ratio entre la quantité destinée à la nourriture animale et la quantité destinée à la nourriture (animale + humaine) est {radio2} %')\n"
      ]
    },
    {
      "cell_type": "markdown",
      "metadata": {
        "id": "Yl6GPYa4a6ON"
      },
      "source": [
        "#### Question 13 : USA\n",
        "Combien de tonnes de céréales pourraient être libérées si les USA diminuaient leur production de produits animaux de 10% ?"
      ]
    },
    {
      "cell_type": "code",
      "execution_count": 653,
      "metadata": {
        "id": "S6Ywb72ha66u"
      },
      "outputs": [
        {
          "name": "stdout",
          "output_type": "stream",
          "text": [
            "10% de la production de produits animaux est: 14009600.0 Tonnes\n"
          ]
        },
        {
          "data": {
            "text/html": [
              "<div>\n",
              "<style scoped>\n",
              "    .dataframe tbody tr th:only-of-type {\n",
              "        vertical-align: middle;\n",
              "    }\n",
              "\n",
              "    .dataframe tbody tr th {\n",
              "        vertical-align: top;\n",
              "    }\n",
              "\n",
              "    .dataframe thead th {\n",
              "        text-align: right;\n",
              "    }\n",
              "</style>\n",
              "<table border=\"1\" class=\"dataframe\">\n",
              "  <thead>\n",
              "    <tr style=\"text-align: right;\">\n",
              "      <th></th>\n",
              "      <th>Code Produit</th>\n",
              "      <th>Produit</th>\n",
              "      <th>Unité</th>\n",
              "      <th>Valeur</th>\n",
              "      <th>Valeur_10_tonne</th>\n",
              "    </tr>\n",
              "  </thead>\n",
              "  <tbody>\n",
              "    <tr>\n",
              "      <th>4902</th>\n",
              "      <td>2511</td>\n",
              "      <td>Blé</td>\n",
              "      <td>Milliers de tonnes</td>\n",
              "      <td>6196.0</td>\n",
              "      <td>619600.0</td>\n",
              "    </tr>\n",
              "    <tr>\n",
              "      <th>4930</th>\n",
              "      <td>2513</td>\n",
              "      <td>Orge</td>\n",
              "      <td>Milliers de tonnes</td>\n",
              "      <td>1440.0</td>\n",
              "      <td>144000.0</td>\n",
              "    </tr>\n",
              "    <tr>\n",
              "      <th>4944</th>\n",
              "      <td>2514</td>\n",
              "      <td>Maïs</td>\n",
              "      <td>Milliers de tonnes</td>\n",
              "      <td>128024.0</td>\n",
              "      <td>12802400.0</td>\n",
              "    </tr>\n",
              "    <tr>\n",
              "      <th>4958</th>\n",
              "      <td>2515</td>\n",
              "      <td>Seigle</td>\n",
              "      <td>Milliers de tonnes</td>\n",
              "      <td>184.0</td>\n",
              "      <td>18400.0</td>\n",
              "    </tr>\n",
              "    <tr>\n",
              "      <th>4971</th>\n",
              "      <td>2516</td>\n",
              "      <td>Avoine</td>\n",
              "      <td>Milliers de tonnes</td>\n",
              "      <td>1430.0</td>\n",
              "      <td>143000.0</td>\n",
              "    </tr>\n",
              "    <tr>\n",
              "      <th>4982</th>\n",
              "      <td>2517</td>\n",
              "      <td>Millet</td>\n",
              "      <td>Milliers de tonnes</td>\n",
              "      <td>394.0</td>\n",
              "      <td>39400.0</td>\n",
              "    </tr>\n",
              "    <tr>\n",
              "      <th>4989</th>\n",
              "      <td>2518</td>\n",
              "      <td>Sorgho</td>\n",
              "      <td>Milliers de tonnes</td>\n",
              "      <td>2351.0</td>\n",
              "      <td>235100.0</td>\n",
              "    </tr>\n",
              "    <tr>\n",
              "      <th>5002</th>\n",
              "      <td>2520</td>\n",
              "      <td>Céréales, Autres</td>\n",
              "      <td>Milliers de tonnes</td>\n",
              "      <td>77.0</td>\n",
              "      <td>7700.0</td>\n",
              "    </tr>\n",
              "  </tbody>\n",
              "</table>\n",
              "</div>"
            ],
            "text/plain": [
              "     Code Produit           Produit               Unité    Valeur  \\\n",
              "4902         2511               Blé  Milliers de tonnes    6196.0   \n",
              "4930         2513              Orge  Milliers de tonnes    1440.0   \n",
              "4944         2514              Maïs  Milliers de tonnes  128024.0   \n",
              "4958         2515            Seigle  Milliers de tonnes     184.0   \n",
              "4971         2516            Avoine  Milliers de tonnes    1430.0   \n",
              "4982         2517            Millet  Milliers de tonnes     394.0   \n",
              "4989         2518            Sorgho  Milliers de tonnes    2351.0   \n",
              "5002         2520  Céréales, Autres  Milliers de tonnes      77.0   \n",
              "\n",
              "      Valeur_10_tonne  \n",
              "4902         619600.0  \n",
              "4930         144000.0  \n",
              "4944       12802400.0  \n",
              "4958          18400.0  \n",
              "4971         143000.0  \n",
              "4982          39400.0  \n",
              "4989         235100.0  \n",
              "5002           7700.0  "
            ]
          },
          "execution_count": 653,
          "metadata": {},
          "output_type": "execute_result"
        }
      ],
      "source": [
        "usa=FAOSTAT_2013_cereal\n",
        "usa=usa.loc[(usa['Pays']==\"États-Unis d'Amérique\")&(usa['Élément']==\"Aliments pour animaux\")]\n",
        "usa=usa[['Code Produit', 'Produit', 'Unité', 'Valeur']]\n",
        "usa=usa.assign(Valeur_10_tonne=(usa['Valeur']*0.1)*1000)\n",
        "print(f\"10% de la production de produits animaux est: {usa['Valeur_10_tonne'].sum().round(2) } Tonnes\")\n",
        "usa"
      ]
    },
    {
      "cell_type": "code",
      "execution_count": 654,
      "metadata": {},
      "outputs": [
        {
          "data": {
            "application/vnd.plotly.v1+json": {
              "config": {
                "plotlyServerURL": "https://plot.ly"
              },
              "data": [
                {
                  "alignmentgroup": "True",
                  "hovertemplate": "x=%{x}<br>y=%{y}<extra></extra>",
                  "legendgroup": "",
                  "marker": {
                    "color": "#039be5",
                    "pattern": {
                      "shape": ""
                    }
                  },
                  "name": "",
                  "offsetgroup": "",
                  "orientation": "v",
                  "showlegend": false,
                  "textposition": "auto",
                  "type": "bar",
                  "x": [
                    "Maïs",
                    "Blé",
                    "Sorgho",
                    "Orge",
                    "Avoine",
                    "Millet",
                    "Seigle",
                    "Céréales, Autres"
                  ],
                  "xaxis": "x",
                  "y": [
                    12802400.000000002,
                    619600,
                    235100.00000000003,
                    144000,
                    143000,
                    39400.00000000001,
                    18400.000000000004,
                    7700
                  ],
                  "yaxis": "y"
                }
              ],
              "layout": {
                "barmode": "relative",
                "height": 1000,
                "legend": {
                  "tracegroupgap": 0
                },
                "margin": {
                  "t": 60
                },
                "template": {
                  "data": {
                    "bar": [
                      {
                        "error_x": {
                          "color": "#2a3f5f"
                        },
                        "error_y": {
                          "color": "#2a3f5f"
                        },
                        "marker": {
                          "line": {
                            "color": "#E5ECF6",
                            "width": 0.5
                          },
                          "pattern": {
                            "fillmode": "overlay",
                            "size": 10,
                            "solidity": 0.2
                          }
                        },
                        "type": "bar"
                      }
                    ],
                    "barpolar": [
                      {
                        "marker": {
                          "line": {
                            "color": "#E5ECF6",
                            "width": 0.5
                          },
                          "pattern": {
                            "fillmode": "overlay",
                            "size": 10,
                            "solidity": 0.2
                          }
                        },
                        "type": "barpolar"
                      }
                    ],
                    "carpet": [
                      {
                        "aaxis": {
                          "endlinecolor": "#2a3f5f",
                          "gridcolor": "white",
                          "linecolor": "white",
                          "minorgridcolor": "white",
                          "startlinecolor": "#2a3f5f"
                        },
                        "baxis": {
                          "endlinecolor": "#2a3f5f",
                          "gridcolor": "white",
                          "linecolor": "white",
                          "minorgridcolor": "white",
                          "startlinecolor": "#2a3f5f"
                        },
                        "type": "carpet"
                      }
                    ],
                    "choropleth": [
                      {
                        "colorbar": {
                          "outlinewidth": 0,
                          "ticks": ""
                        },
                        "type": "choropleth"
                      }
                    ],
                    "contour": [
                      {
                        "colorbar": {
                          "outlinewidth": 0,
                          "ticks": ""
                        },
                        "colorscale": [
                          [
                            0,
                            "#0d0887"
                          ],
                          [
                            0.1111111111111111,
                            "#46039f"
                          ],
                          [
                            0.2222222222222222,
                            "#7201a8"
                          ],
                          [
                            0.3333333333333333,
                            "#9c179e"
                          ],
                          [
                            0.4444444444444444,
                            "#bd3786"
                          ],
                          [
                            0.5555555555555556,
                            "#d8576b"
                          ],
                          [
                            0.6666666666666666,
                            "#ed7953"
                          ],
                          [
                            0.7777777777777778,
                            "#fb9f3a"
                          ],
                          [
                            0.8888888888888888,
                            "#fdca26"
                          ],
                          [
                            1,
                            "#f0f921"
                          ]
                        ],
                        "type": "contour"
                      }
                    ],
                    "contourcarpet": [
                      {
                        "colorbar": {
                          "outlinewidth": 0,
                          "ticks": ""
                        },
                        "type": "contourcarpet"
                      }
                    ],
                    "heatmap": [
                      {
                        "colorbar": {
                          "outlinewidth": 0,
                          "ticks": ""
                        },
                        "colorscale": [
                          [
                            0,
                            "#0d0887"
                          ],
                          [
                            0.1111111111111111,
                            "#46039f"
                          ],
                          [
                            0.2222222222222222,
                            "#7201a8"
                          ],
                          [
                            0.3333333333333333,
                            "#9c179e"
                          ],
                          [
                            0.4444444444444444,
                            "#bd3786"
                          ],
                          [
                            0.5555555555555556,
                            "#d8576b"
                          ],
                          [
                            0.6666666666666666,
                            "#ed7953"
                          ],
                          [
                            0.7777777777777778,
                            "#fb9f3a"
                          ],
                          [
                            0.8888888888888888,
                            "#fdca26"
                          ],
                          [
                            1,
                            "#f0f921"
                          ]
                        ],
                        "type": "heatmap"
                      }
                    ],
                    "heatmapgl": [
                      {
                        "colorbar": {
                          "outlinewidth": 0,
                          "ticks": ""
                        },
                        "colorscale": [
                          [
                            0,
                            "#0d0887"
                          ],
                          [
                            0.1111111111111111,
                            "#46039f"
                          ],
                          [
                            0.2222222222222222,
                            "#7201a8"
                          ],
                          [
                            0.3333333333333333,
                            "#9c179e"
                          ],
                          [
                            0.4444444444444444,
                            "#bd3786"
                          ],
                          [
                            0.5555555555555556,
                            "#d8576b"
                          ],
                          [
                            0.6666666666666666,
                            "#ed7953"
                          ],
                          [
                            0.7777777777777778,
                            "#fb9f3a"
                          ],
                          [
                            0.8888888888888888,
                            "#fdca26"
                          ],
                          [
                            1,
                            "#f0f921"
                          ]
                        ],
                        "type": "heatmapgl"
                      }
                    ],
                    "histogram": [
                      {
                        "marker": {
                          "pattern": {
                            "fillmode": "overlay",
                            "size": 10,
                            "solidity": 0.2
                          }
                        },
                        "type": "histogram"
                      }
                    ],
                    "histogram2d": [
                      {
                        "colorbar": {
                          "outlinewidth": 0,
                          "ticks": ""
                        },
                        "colorscale": [
                          [
                            0,
                            "#0d0887"
                          ],
                          [
                            0.1111111111111111,
                            "#46039f"
                          ],
                          [
                            0.2222222222222222,
                            "#7201a8"
                          ],
                          [
                            0.3333333333333333,
                            "#9c179e"
                          ],
                          [
                            0.4444444444444444,
                            "#bd3786"
                          ],
                          [
                            0.5555555555555556,
                            "#d8576b"
                          ],
                          [
                            0.6666666666666666,
                            "#ed7953"
                          ],
                          [
                            0.7777777777777778,
                            "#fb9f3a"
                          ],
                          [
                            0.8888888888888888,
                            "#fdca26"
                          ],
                          [
                            1,
                            "#f0f921"
                          ]
                        ],
                        "type": "histogram2d"
                      }
                    ],
                    "histogram2dcontour": [
                      {
                        "colorbar": {
                          "outlinewidth": 0,
                          "ticks": ""
                        },
                        "colorscale": [
                          [
                            0,
                            "#0d0887"
                          ],
                          [
                            0.1111111111111111,
                            "#46039f"
                          ],
                          [
                            0.2222222222222222,
                            "#7201a8"
                          ],
                          [
                            0.3333333333333333,
                            "#9c179e"
                          ],
                          [
                            0.4444444444444444,
                            "#bd3786"
                          ],
                          [
                            0.5555555555555556,
                            "#d8576b"
                          ],
                          [
                            0.6666666666666666,
                            "#ed7953"
                          ],
                          [
                            0.7777777777777778,
                            "#fb9f3a"
                          ],
                          [
                            0.8888888888888888,
                            "#fdca26"
                          ],
                          [
                            1,
                            "#f0f921"
                          ]
                        ],
                        "type": "histogram2dcontour"
                      }
                    ],
                    "mesh3d": [
                      {
                        "colorbar": {
                          "outlinewidth": 0,
                          "ticks": ""
                        },
                        "type": "mesh3d"
                      }
                    ],
                    "parcoords": [
                      {
                        "line": {
                          "colorbar": {
                            "outlinewidth": 0,
                            "ticks": ""
                          }
                        },
                        "type": "parcoords"
                      }
                    ],
                    "pie": [
                      {
                        "automargin": true,
                        "type": "pie"
                      }
                    ],
                    "scatter": [
                      {
                        "fillpattern": {
                          "fillmode": "overlay",
                          "size": 10,
                          "solidity": 0.2
                        },
                        "type": "scatter"
                      }
                    ],
                    "scatter3d": [
                      {
                        "line": {
                          "colorbar": {
                            "outlinewidth": 0,
                            "ticks": ""
                          }
                        },
                        "marker": {
                          "colorbar": {
                            "outlinewidth": 0,
                            "ticks": ""
                          }
                        },
                        "type": "scatter3d"
                      }
                    ],
                    "scattercarpet": [
                      {
                        "marker": {
                          "colorbar": {
                            "outlinewidth": 0,
                            "ticks": ""
                          }
                        },
                        "type": "scattercarpet"
                      }
                    ],
                    "scattergeo": [
                      {
                        "marker": {
                          "colorbar": {
                            "outlinewidth": 0,
                            "ticks": ""
                          }
                        },
                        "type": "scattergeo"
                      }
                    ],
                    "scattergl": [
                      {
                        "marker": {
                          "colorbar": {
                            "outlinewidth": 0,
                            "ticks": ""
                          }
                        },
                        "type": "scattergl"
                      }
                    ],
                    "scattermapbox": [
                      {
                        "marker": {
                          "colorbar": {
                            "outlinewidth": 0,
                            "ticks": ""
                          }
                        },
                        "type": "scattermapbox"
                      }
                    ],
                    "scatterpolar": [
                      {
                        "marker": {
                          "colorbar": {
                            "outlinewidth": 0,
                            "ticks": ""
                          }
                        },
                        "type": "scatterpolar"
                      }
                    ],
                    "scatterpolargl": [
                      {
                        "marker": {
                          "colorbar": {
                            "outlinewidth": 0,
                            "ticks": ""
                          }
                        },
                        "type": "scatterpolargl"
                      }
                    ],
                    "scatterternary": [
                      {
                        "marker": {
                          "colorbar": {
                            "outlinewidth": 0,
                            "ticks": ""
                          }
                        },
                        "type": "scatterternary"
                      }
                    ],
                    "surface": [
                      {
                        "colorbar": {
                          "outlinewidth": 0,
                          "ticks": ""
                        },
                        "colorscale": [
                          [
                            0,
                            "#0d0887"
                          ],
                          [
                            0.1111111111111111,
                            "#46039f"
                          ],
                          [
                            0.2222222222222222,
                            "#7201a8"
                          ],
                          [
                            0.3333333333333333,
                            "#9c179e"
                          ],
                          [
                            0.4444444444444444,
                            "#bd3786"
                          ],
                          [
                            0.5555555555555556,
                            "#d8576b"
                          ],
                          [
                            0.6666666666666666,
                            "#ed7953"
                          ],
                          [
                            0.7777777777777778,
                            "#fb9f3a"
                          ],
                          [
                            0.8888888888888888,
                            "#fdca26"
                          ],
                          [
                            1,
                            "#f0f921"
                          ]
                        ],
                        "type": "surface"
                      }
                    ],
                    "table": [
                      {
                        "cells": {
                          "fill": {
                            "color": "#EBF0F8"
                          },
                          "line": {
                            "color": "white"
                          }
                        },
                        "header": {
                          "fill": {
                            "color": "#C8D4E3"
                          },
                          "line": {
                            "color": "white"
                          }
                        },
                        "type": "table"
                      }
                    ]
                  },
                  "layout": {
                    "annotationdefaults": {
                      "arrowcolor": "#2a3f5f",
                      "arrowhead": 0,
                      "arrowwidth": 1
                    },
                    "autotypenumbers": "strict",
                    "coloraxis": {
                      "colorbar": {
                        "outlinewidth": 0,
                        "ticks": ""
                      }
                    },
                    "colorscale": {
                      "diverging": [
                        [
                          0,
                          "#8e0152"
                        ],
                        [
                          0.1,
                          "#c51b7d"
                        ],
                        [
                          0.2,
                          "#de77ae"
                        ],
                        [
                          0.3,
                          "#f1b6da"
                        ],
                        [
                          0.4,
                          "#fde0ef"
                        ],
                        [
                          0.5,
                          "#f7f7f7"
                        ],
                        [
                          0.6,
                          "#e6f5d0"
                        ],
                        [
                          0.7,
                          "#b8e186"
                        ],
                        [
                          0.8,
                          "#7fbc41"
                        ],
                        [
                          0.9,
                          "#4d9221"
                        ],
                        [
                          1,
                          "#276419"
                        ]
                      ],
                      "sequential": [
                        [
                          0,
                          "#0d0887"
                        ],
                        [
                          0.1111111111111111,
                          "#46039f"
                        ],
                        [
                          0.2222222222222222,
                          "#7201a8"
                        ],
                        [
                          0.3333333333333333,
                          "#9c179e"
                        ],
                        [
                          0.4444444444444444,
                          "#bd3786"
                        ],
                        [
                          0.5555555555555556,
                          "#d8576b"
                        ],
                        [
                          0.6666666666666666,
                          "#ed7953"
                        ],
                        [
                          0.7777777777777778,
                          "#fb9f3a"
                        ],
                        [
                          0.8888888888888888,
                          "#fdca26"
                        ],
                        [
                          1,
                          "#f0f921"
                        ]
                      ],
                      "sequentialminus": [
                        [
                          0,
                          "#0d0887"
                        ],
                        [
                          0.1111111111111111,
                          "#46039f"
                        ],
                        [
                          0.2222222222222222,
                          "#7201a8"
                        ],
                        [
                          0.3333333333333333,
                          "#9c179e"
                        ],
                        [
                          0.4444444444444444,
                          "#bd3786"
                        ],
                        [
                          0.5555555555555556,
                          "#d8576b"
                        ],
                        [
                          0.6666666666666666,
                          "#ed7953"
                        ],
                        [
                          0.7777777777777778,
                          "#fb9f3a"
                        ],
                        [
                          0.8888888888888888,
                          "#fdca26"
                        ],
                        [
                          1,
                          "#f0f921"
                        ]
                      ]
                    },
                    "colorway": [
                      "#636efa",
                      "#EF553B",
                      "#00cc96",
                      "#ab63fa",
                      "#FFA15A",
                      "#19d3f3",
                      "#FF6692",
                      "#B6E880",
                      "#FF97FF",
                      "#FECB52"
                    ],
                    "font": {
                      "color": "#2a3f5f"
                    },
                    "geo": {
                      "bgcolor": "white",
                      "lakecolor": "white",
                      "landcolor": "#E5ECF6",
                      "showlakes": true,
                      "showland": true,
                      "subunitcolor": "white"
                    },
                    "hoverlabel": {
                      "align": "left"
                    },
                    "hovermode": "closest",
                    "mapbox": {
                      "style": "light"
                    },
                    "paper_bgcolor": "white",
                    "plot_bgcolor": "#E5ECF6",
                    "polar": {
                      "angularaxis": {
                        "gridcolor": "white",
                        "linecolor": "white",
                        "ticks": ""
                      },
                      "bgcolor": "#E5ECF6",
                      "radialaxis": {
                        "gridcolor": "white",
                        "linecolor": "white",
                        "ticks": ""
                      }
                    },
                    "scene": {
                      "xaxis": {
                        "backgroundcolor": "#E5ECF6",
                        "gridcolor": "white",
                        "gridwidth": 2,
                        "linecolor": "white",
                        "showbackground": true,
                        "ticks": "",
                        "zerolinecolor": "white"
                      },
                      "yaxis": {
                        "backgroundcolor": "#E5ECF6",
                        "gridcolor": "white",
                        "gridwidth": 2,
                        "linecolor": "white",
                        "showbackground": true,
                        "ticks": "",
                        "zerolinecolor": "white"
                      },
                      "zaxis": {
                        "backgroundcolor": "#E5ECF6",
                        "gridcolor": "white",
                        "gridwidth": 2,
                        "linecolor": "white",
                        "showbackground": true,
                        "ticks": "",
                        "zerolinecolor": "white"
                      }
                    },
                    "shapedefaults": {
                      "line": {
                        "color": "#2a3f5f"
                      }
                    },
                    "ternary": {
                      "aaxis": {
                        "gridcolor": "white",
                        "linecolor": "white",
                        "ticks": ""
                      },
                      "baxis": {
                        "gridcolor": "white",
                        "linecolor": "white",
                        "ticks": ""
                      },
                      "bgcolor": "#E5ECF6",
                      "caxis": {
                        "gridcolor": "white",
                        "linecolor": "white",
                        "ticks": ""
                      }
                    },
                    "title": {
                      "x": 0.05
                    },
                    "xaxis": {
                      "automargin": true,
                      "gridcolor": "white",
                      "linecolor": "white",
                      "ticks": "",
                      "title": {
                        "standoff": 15
                      },
                      "zerolinecolor": "white",
                      "zerolinewidth": 2
                    },
                    "yaxis": {
                      "automargin": true,
                      "gridcolor": "white",
                      "linecolor": "white",
                      "ticks": "",
                      "title": {
                        "standoff": 15
                      },
                      "zerolinecolor": "white",
                      "zerolinewidth": 2
                    }
                  }
                },
                "xaxis": {
                  "anchor": "y",
                  "domain": [
                    0,
                    1
                  ],
                  "title": {
                    "text": "x"
                  }
                },
                "yaxis": {
                  "anchor": "x",
                  "domain": [
                    0,
                    1
                  ],
                  "title": {
                    "text": "y"
                  }
                }
              }
            }
          },
          "metadata": {},
          "output_type": "display_data"
        }
      ],
      "source": [
        "usa.sort_values(by='Valeur_10_tonne', ascending=False, inplace=True )\n",
        "fig = px.bar(x=usa.Produit, y=usa.Valeur_10_tonne, height=1000, color_discrete_sequence=color_list_bar)\n",
        "fig.show()"
      ]
    },
    {
      "cell_type": "markdown",
      "metadata": {
        "id": "A8lVRTZcZtwL"
      },
      "source": [
        "#### Question 14 : Thaïlande\n",
        "En Thaïlande, quelle proportion de manioc est exportée ? Quelle est la proportion de personnes en sous-nutrition?"
      ]
    },
    {
      "cell_type": "code",
      "execution_count": 655,
      "metadata": {
        "id": "W5ueGBdEZmHg"
      },
      "outputs": [
        {
          "name": "stdout",
          "output_type": "stream",
          "text": [
            "la Proportion de manioc exportée est 83.41 %\n",
            "la proportion de personnes en sous-nutrition est: 9.1 %\n"
          ]
        },
        {
          "data": {
            "text/html": [
              "<div>\n",
              "<style scoped>\n",
              "    .dataframe tbody tr th:only-of-type {\n",
              "        vertical-align: middle;\n",
              "    }\n",
              "\n",
              "    .dataframe tbody tr th {\n",
              "        vertical-align: top;\n",
              "    }\n",
              "\n",
              "    .dataframe thead th {\n",
              "        text-align: right;\n",
              "    }\n",
              "</style>\n",
              "<table border=\"1\" class=\"dataframe\">\n",
              "  <thead>\n",
              "    <tr style=\"text-align: right;\">\n",
              "      <th></th>\n",
              "      <th>Code zone</th>\n",
              "      <th>Zone</th>\n",
              "      <th>Valeur</th>\n",
              "      <th>Symbole</th>\n",
              "      <th>Description du Symbole</th>\n",
              "      <th>Population</th>\n",
              "      <th>proportion</th>\n",
              "    </tr>\n",
              "  </thead>\n",
              "  <tbody>\n",
              "    <tr>\n",
              "      <th>151</th>\n",
              "      <td>216</td>\n",
              "      <td>Thaïlande</td>\n",
              "      <td>6.1</td>\n",
              "      <td>F</td>\n",
              "      <td>Estimation FAO</td>\n",
              "      <td>67011000</td>\n",
              "      <td>9.102983</td>\n",
              "    </tr>\n",
              "  </tbody>\n",
              "</table>\n",
              "</div>"
            ],
            "text/plain": [
              "    Code zone       Zone  Valeur Symbole Description du Symbole  Population  \\\n",
              "151       216  Thaïlande     6.1       F         Estimation FAO    67011000   \n",
              "\n",
              "     proportion  \n",
              "151    9.102983  "
            ]
          },
          "execution_count": 655,
          "metadata": {},
          "output_type": "execute_result"
        }
      ],
      "source": [
        "Tai=FAOSTAT_2013_vegetal\n",
        "Tai=Tai.loc[(Tai['Pays']==\"Thaïlande\")&(Tai['Produit']==\"Manioc\")]\n",
        "export=Tai[Tai['Élément']==\"Exportations - Quantité\"].Valeur.sum()*1000\n",
        "production=Tai[Tai['Élément']==\"Production\"].Valeur.sum()*1000\n",
        "print(f\"la Proportion de manioc exportée est {(export/(production)*100).round(2)} %\")\n",
        "\n",
        "sous_nutrition=Sous_alimentation.loc[Sous_alimentation['Zone']==\"Thaïlande\", 'proportion'].values[0]\n",
        "population_tai=Sous_alimentation.loc[Sous_alimentation['Zone']==\"Thaïlande\", 'Population'].values[0]\n",
        "print(f\"la proportion de personnes en sous-nutrition est: {sous_nutrition.round(2)} %\")\n",
        "Sous_alimentation[Sous_alimentation['Zone']==\"Thaïlande\"]"
      ]
    },
    {
      "cell_type": "code",
      "execution_count": 656,
      "metadata": {},
      "outputs": [
        {
          "data": {
            "image/png": "[encoded data removed]",
            "text/plain": [
              "<Figure size 640x480 with 1 Axes>"
            ]
          },
          "metadata": {},
          "output_type": "display_data"
        }
      ],
      "source": [
        "# Vos données\n",
        "\n",
        "\n",
        "# Création des labels et des valeurs\n",
        "labels = ['manioc exportée', '']\n",
        "sizes = [export, production-export]\n",
        "\n",
        "# Création du graphique\n",
        "fig1, ax1 = plt.subplots()\n",
        "ax1.pie(sizes, labels=labels, autopct='%1.1f%%', startangle=90, colors=color_list_pie)\n",
        "\n",
        "# Assure que le graphique est dessiné en cercle.\n",
        "ax1.axis('equal')\n",
        "\n",
        "plt.show()"
      ]
    },
    {
      "cell_type": "code",
      "execution_count": 657,
      "metadata": {},
      "outputs": [
        {
          "data": {
            "image/png": "[encoded data removed]",
            "text/plain": [
              "<Figure size 640x480 with 1 Axes>"
            ]
          },
          "metadata": {},
          "output_type": "display_data"
        }
      ],
      "source": [
        "# Vos données\n",
        "\n",
        "# Création des labels et des valeurs\n",
        "labels = ['la proportion en sous-nutrition', '']\n",
        "sizes = [sous_nutrition, 100]\n",
        "\n",
        "# Création du graphique\n",
        "fig1, ax1 = plt.subplots()\n",
        "ax1.pie(sizes, labels=labels, autopct='%1.1f%%', startangle=90, colors=color_list_pie)\n",
        "\n",
        "# Assure que le graphique est dessiné en cercle.\n",
        "ax1.axis('equal')\n",
        "\n",
        "plt.show()"
      ]
    },
    {
      "cell_type": "markdown",
      "metadata": {
        "id": "FUW1pFjca11r"
      },
      "source": []
    },
    {
      "cell_type": "markdown",
      "metadata": {
        "id": "b3RaTavFDqOY"
      },
      "source": [
        "### 2 - Etude guidée n°2"
      ]
    },
    {
      "cell_type": "markdown",
      "metadata": {
        "id": "qlW56DtHD1lk"
      },
      "source": [
        "Il s’agit ici d’intégrer toutes les données dans une base de données relationnelle puis de répondre à toutes les questions ci-dessous.\n",
        "La base de données contiendra 4 tables : population, dispo_alim, equilibre_prod, sous_nutrition."
      ]
    },
    {
      "cell_type": "markdown",
      "metadata": {
        "id": "RHq8CB_CZHI5"
      },
      "source": [
        "#### Question 15 : Table population\n",
        "Définir une clé primaire pertinente pour la table population. Intégrer la table dans la base de données relationnelle."
      ]
    },
    {
      "cell_type": "code",
      "execution_count": null,
      "metadata": {
        "id": "1BJd-AIqZlZM"
      },
      "outputs": [],
      "source": []
    },
    {
      "cell_type": "markdown",
      "metadata": {
        "id": "gZFqs9R3ZgOu"
      },
      "source": [
        "#### Question 16 : Table dispo_alim\n",
        "La table appelée dispo_alim contient pour chaque pays, pour chaque produit, sur l'année 2013, les informations suivantes:\n",
        "- la nature du produit (deux valeurs possibles“animal” ou “végétal”)\n",
        "- disponibilité alimentaire en tonnes\n",
        "- disponibilité alimentaire en Kcal/personne/jour\n",
        "- disponibilité alimentaire de protéines en g/personne/jour\n",
        "- disponibilité alimentaire de matières grasses en g/personne/jour\n",
        "La table contient ces colonnes : pays, code_pays, année, produit, code_produit, origin, dispo_alim_tonnes, dispo_alim_kcal_p_j, dispo_prot, dispo_mat_gr .\n",
        "Définir une clé primaire pertinente pour la table dispo_alim. Intégrer la table dans la base de données relationnelle."
      ]
    },
    {
      "cell_type": "code",
      "execution_count": null,
      "metadata": {
        "id": "zaQT09kIZk2y"
      },
      "outputs": [],
      "source": []
    },
    {
      "cell_type": "markdown",
      "metadata": {
        "id": "v6zLu0GVZbxU"
      },
      "source": [
        "#### Question 17 : Table equilibre_prod\n",
        "La table appelée equilibre_prod contient pour chaque pays, pour chaque produit, et pour l'année disponible 2013, les quantités suivantes :\n",
        "- disponibilité intérieure\n",
        "- aliments pour animaux\n",
        "- semences\n",
        "- pertes\n",
        "- transformés\n",
        "- nourriture\n",
        "- autres utilisations\n",
        "Elle contient ces colonnes : pays, code_pays, année, produit, code_produit, dispo_int, alim_ani, semences, pertes, transfo, nourriture, autres_utilisations.\n",
        "Définir une clé primaire pertinente pour la table equilibre_prod. Intégrer la table dans la base de données relationnelle."
      ]
    },
    {
      "cell_type": "code",
      "execution_count": null,
      "metadata": {
        "id": "ugM0Q_l7ZjxR"
      },
      "outputs": [],
      "source": []
    },
    {
      "cell_type": "markdown",
      "metadata": {
        "id": "SKindtOJZYXY"
      },
      "source": [
        "#### Question 18 : Table sous_nutrition\n",
        "La table appelée sous_nutrition, contient le nombre de personnes en sous-alimentation pour chaque pays et pour chaque année. Elle contient 4 colonnes : pays, code_pays, année, nb_personnes.\n",
        "Définir une clé primaire pertinente pour la table sous_nutrition. Intégrer la table dans la base de données relationnelle."
      ]
    },
    {
      "cell_type": "code",
      "execution_count": null,
      "metadata": {
        "id": "HUcuhgklZVbX"
      },
      "outputs": [],
      "source": []
    },
    {
      "cell_type": "markdown",
      "metadata": {
        "id": "_lHWO4wTZWHY"
      },
      "source": [
        "#### Question 19 : Requêtes SQL\n",
        "Formuler les requêtes SQL pour répondre aux questions suivantes :\n",
        "    • Quels sont les 10 pays ayant le plus haut ratio disponibilité alimentaire/habitant en termes de protéines (en kg) par habitant, puis en termes de kcal par habitant ?\n",
        "    • Quels sont les 10 pays ayant le plus faible ratio disponibilité alimentaire/habitant en termes de protéines (en kg) par habitant ?\n",
        "    • Quelle est la quantité totale (en kg) de produits perdus par pays?\n",
        "    • Quels sont les 10 pays pour lesquels la proportion de personnes sous-alimentées est la plus forte ?\n",
        "    • Quels sont les 10 produits pour lesquels le ratio Autres utilisations/Disponibilité intérieure est le plus élevé ?"
      ]
    },
    {
      "cell_type": "code",
      "execution_count": null,
      "metadata": {
        "id": "61BOSvDUZips"
      },
      "outputs": [],
      "source": []
    },
    {
      "cell_type": "markdown",
      "metadata": {
        "id": "sYtYZ_uvZK9r"
      },
      "source": [
        "#### Question 20 : Autres utilisations des produits\n",
        "Pour quelques-uns des produits identifiés dans cette dernière requête SQL, supposez quelles sont ces \"autres utilisations\" possibles (recherchez sur internet !)."
      ]
    },
    {
      "cell_type": "code",
      "execution_count": null,
      "metadata": {
        "id": "LCJ3PxDhZjG-"
      },
      "outputs": [],
      "source": []
    },
    {
      "cell_type": "markdown",
      "metadata": {
        "id": "4oVN2zheD-A_"
      },
      "source": [
        "### 3 - Analyses complémentaire"
      ]
    },
    {
      "cell_type": "markdown",
      "metadata": {
        "id": "igoMHlNrEBYZ"
      },
      "source": [
        "Fort de votre expérience de Data Analyst, il s’agit maintenant de réaliser vos propres analyses et exploration."
      ]
    }
  ],
  "metadata": {
    "colab": {
      "provenance": [],
      "toc_visible": true
    },
    "kernelspec": {
      "display_name": "Python 3",
      "name": "python3"
    },
    "language_info": {
      "codemirror_mode": {
        "name": "ipython",
        "version": 3
      },
      "file_extension": ".py",
      "mimetype": "text/x-python",
      "name": "python",
      "nbconvert_exporter": "python",
      "pygments_lexer": "ipython3",
      "version": "3.11.5"
    }
  },
  "nbformat": 4,
  "nbformat_minor": 0
}
